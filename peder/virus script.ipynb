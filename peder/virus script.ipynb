{
 "cells": [
  {
   "cell_type": "code",
   "execution_count": 1,
   "metadata": {},
   "outputs": [],
   "source": [
    "import numpy as np\n",
    "import matplotlib.pyplot as plt\n",
    "import pickle"
   ]
  },
  {
   "cell_type": "code",
   "execution_count": 2,
   "metadata": {},
   "outputs": [
    {
     "output_type": "stream",
     "name": "stdout",
     "text": [
      "[[  0.           0.           0.         ... 717.26931353   0.\n    0.        ]\n [  0.           0.           0.         ... 791.55672823   0.\n    0.        ]\n [  0.           0.           0.         ... 834.59113913   0.\n    0.        ]\n ...\n [  0.           0.           0.         ... 872.20571133   0.\n    0.        ]\n [  0.           0.           0.         ... 760.61051671   0.\n    0.        ]\n [  0.           0.           0.         ... 539.28813966   0.\n    0.        ]]\n"
     ]
    }
   ],
   "source": [
    "pkl_file = open(\"Data/Yerevan_population.pkl\", \"rb\")\n",
    "population = pickle.load(pkl_file)\n",
    "pkl_file.close()\n",
    "print(population)"
   ]
  },
  {
   "cell_type": "code",
   "execution_count": 3,
   "metadata": {},
   "outputs": [
    {
     "output_type": "execute_result",
     "data": {
      "text/plain": [
       "(84, 549)"
      ]
     },
     "metadata": {},
     "execution_count": 3
    }
   ],
   "source": [
    "population.shape"
   ]
  },
  {
   "cell_type": "code",
   "execution_count": 4,
   "metadata": {},
   "outputs": [
    {
     "output_type": "display_data",
     "data": {
      "text/plain": "<Figure size 432x288 with 1 Axes>",
      "image/svg+xml": "<?xml version=\"1.0\" encoding=\"utf-8\" standalone=\"no\"?>\r\n<!DOCTYPE svg PUBLIC \"-//W3C//DTD SVG 1.1//EN\"\r\n  \"http://www.w3.org/Graphics/SVG/1.1/DTD/svg11.dtd\">\r\n<!-- Created with matplotlib (https://matplotlib.org/) -->\r\n<svg height=\"248.518125pt\" version=\"1.1\" viewBox=\"0 0 379.890673 248.518125\" width=\"379.890673pt\" xmlns=\"http://www.w3.org/2000/svg\" xmlns:xlink=\"http://www.w3.org/1999/xlink\">\r\n <defs>\r\n  <style type=\"text/css\">\r\n*{stroke-linecap:butt;stroke-linejoin:round;}\r\n  </style>\r\n </defs>\r\n <g id=\"figure_1\">\r\n  <g id=\"patch_1\">\r\n   <path d=\"M 0 248.518125 \r\nL 379.890673 248.518125 \r\nL 379.890673 0 \r\nL 0 0 \r\nz\r\n\" style=\"fill:none;\"/>\r\n  </g>\r\n  <g id=\"axes_1\">\r\n   <g id=\"patch_2\">\r\n    <path d=\"M 33.2875 224.64 \r\nL 368.0875 224.64 \r\nL 368.0875 7.2 \r\nL 33.2875 7.2 \r\nz\r\n\" style=\"fill:#ffffff;\"/>\r\n   </g>\r\n   <g id=\"patch_3\">\r\n    <path clip-path=\"url(#pd5fd820cd4)\" d=\"M 48.505682 224.64 \r\nL 54.592955 224.64 \r\nL 54.592955 17.554286 \r\nL 48.505682 17.554286 \r\nz\r\n\" style=\"fill:#1f77b4;\"/>\r\n   </g>\r\n   <g id=\"patch_4\">\r\n    <path clip-path=\"url(#pd5fd820cd4)\" d=\"M 54.592955 224.64 \r\nL 60.680227 224.64 \r\nL 60.680227 217.701561 \r\nL 54.592955 217.701561 \r\nz\r\n\" style=\"fill:#1f77b4;\"/>\r\n   </g>\r\n   <g id=\"patch_5\">\r\n    <path clip-path=\"url(#pd5fd820cd4)\" d=\"M 60.680227 224.64 \r\nL 66.7675 224.64 \r\nL 66.7675 220.903918 \r\nL 60.680227 220.903918 \r\nz\r\n\" style=\"fill:#1f77b4;\"/>\r\n   </g>\r\n   <g id=\"patch_6\">\r\n    <path clip-path=\"url(#pd5fd820cd4)\" d=\"M 66.7675 224.64 \r\nL 72.854773 224.64 \r\nL 72.854773 217.701561 \r\nL 66.7675 217.701561 \r\nz\r\n\" style=\"fill:#1f77b4;\"/>\r\n   </g>\r\n   <g id=\"patch_7\">\r\n    <path clip-path=\"url(#pd5fd820cd4)\" d=\"M 72.854773 224.64 \r\nL 78.942045 224.64 \r\nL 78.942045 218.769013 \r\nL 72.854773 218.769013 \r\nz\r\n\" style=\"fill:#1f77b4;\"/>\r\n   </g>\r\n   <g id=\"patch_8\">\r\n    <path clip-path=\"url(#pd5fd820cd4)\" d=\"M 78.942045 224.64 \r\nL 85.029318 224.64 \r\nL 85.029318 219.302739 \r\nL 78.942045 219.302739 \r\nz\r\n\" style=\"fill:#1f77b4;\"/>\r\n   </g>\r\n   <g id=\"patch_9\">\r\n    <path clip-path=\"url(#pd5fd820cd4)\" d=\"M 85.029318 224.64 \r\nL 91.116591 224.64 \r\nL 91.116591 220.903918 \r\nL 85.029318 220.903918 \r\nz\r\n\" style=\"fill:#1f77b4;\"/>\r\n   </g>\r\n   <g id=\"patch_10\">\r\n    <path clip-path=\"url(#pd5fd820cd4)\" d=\"M 91.116591 224.64 \r\nL 97.203864 224.64 \r\nL 97.203864 218.769013 \r\nL 91.116591 218.769013 \r\nz\r\n\" style=\"fill:#1f77b4;\"/>\r\n   </g>\r\n   <g id=\"patch_11\">\r\n    <path clip-path=\"url(#pd5fd820cd4)\" d=\"M 97.203864 224.64 \r\nL 103.291136 224.64 \r\nL 103.291136 222.505096 \r\nL 97.203864 222.505096 \r\nz\r\n\" style=\"fill:#1f77b4;\"/>\r\n   </g>\r\n   <g id=\"patch_12\">\r\n    <path clip-path=\"url(#pd5fd820cd4)\" d=\"M 103.291136 224.64 \r\nL 109.378409 224.64 \r\nL 109.378409 222.505096 \r\nL 103.291136 222.505096 \r\nz\r\n\" style=\"fill:#1f77b4;\"/>\r\n   </g>\r\n   <g id=\"patch_13\">\r\n    <path clip-path=\"url(#pd5fd820cd4)\" d=\"M 109.378409 224.64 \r\nL 115.465682 224.64 \r\nL 115.465682 223.038822 \r\nL 109.378409 223.038822 \r\nz\r\n\" style=\"fill:#1f77b4;\"/>\r\n   </g>\r\n   <g id=\"patch_14\">\r\n    <path clip-path=\"url(#pd5fd820cd4)\" d=\"M 115.465682 224.64 \r\nL 121.552955 224.64 \r\nL 121.552955 219.836465 \r\nL 115.465682 219.836465 \r\nz\r\n\" style=\"fill:#1f77b4;\"/>\r\n   </g>\r\n   <g id=\"patch_15\">\r\n    <path clip-path=\"url(#pd5fd820cd4)\" d=\"M 121.552955 224.64 \r\nL 127.640227 224.64 \r\nL 127.640227 220.903918 \r\nL 121.552955 220.903918 \r\nz\r\n\" style=\"fill:#1f77b4;\"/>\r\n   </g>\r\n   <g id=\"patch_16\">\r\n    <path clip-path=\"url(#pd5fd820cd4)\" d=\"M 127.640227 224.64 \r\nL 133.7275 224.64 \r\nL 133.7275 223.038822 \r\nL 127.640227 223.038822 \r\nz\r\n\" style=\"fill:#1f77b4;\"/>\r\n   </g>\r\n   <g id=\"patch_17\">\r\n    <path clip-path=\"url(#pd5fd820cd4)\" d=\"M 133.7275 224.64 \r\nL 139.814773 224.64 \r\nL 139.814773 221.437644 \r\nL 133.7275 221.437644 \r\nz\r\n\" style=\"fill:#1f77b4;\"/>\r\n   </g>\r\n   <g id=\"patch_18\">\r\n    <path clip-path=\"url(#pd5fd820cd4)\" d=\"M 139.814773 224.64 \r\nL 145.902045 224.64 \r\nL 145.902045 222.505096 \r\nL 139.814773 222.505096 \r\nz\r\n\" style=\"fill:#1f77b4;\"/>\r\n   </g>\r\n   <g id=\"patch_19\">\r\n    <path clip-path=\"url(#pd5fd820cd4)\" d=\"M 145.902045 224.64 \r\nL 151.989318 224.64 \r\nL 151.989318 220.903918 \r\nL 145.902045 220.903918 \r\nz\r\n\" style=\"fill:#1f77b4;\"/>\r\n   </g>\r\n   <g id=\"patch_20\">\r\n    <path clip-path=\"url(#pd5fd820cd4)\" d=\"M 151.989318 224.64 \r\nL 158.076591 224.64 \r\nL 158.076591 222.505096 \r\nL 151.989318 222.505096 \r\nz\r\n\" style=\"fill:#1f77b4;\"/>\r\n   </g>\r\n   <g id=\"patch_21\">\r\n    <path clip-path=\"url(#pd5fd820cd4)\" d=\"M 158.076591 224.64 \r\nL 164.163864 224.64 \r\nL 164.163864 223.038822 \r\nL 158.076591 223.038822 \r\nz\r\n\" style=\"fill:#1f77b4;\"/>\r\n   </g>\r\n   <g id=\"patch_22\">\r\n    <path clip-path=\"url(#pd5fd820cd4)\" d=\"M 164.163864 224.64 \r\nL 170.251136 224.64 \r\nL 170.251136 222.505096 \r\nL 164.163864 222.505096 \r\nz\r\n\" style=\"fill:#1f77b4;\"/>\r\n   </g>\r\n   <g id=\"patch_23\">\r\n    <path clip-path=\"url(#pd5fd820cd4)\" d=\"M 170.251136 224.64 \r\nL 176.338409 224.64 \r\nL 176.338409 224.106274 \r\nL 170.251136 224.106274 \r\nz\r\n\" style=\"fill:#1f77b4;\"/>\r\n   </g>\r\n   <g id=\"patch_24\">\r\n    <path clip-path=\"url(#pd5fd820cd4)\" d=\"M 176.338409 224.64 \r\nL 182.425682 224.64 \r\nL 182.425682 223.572548 \r\nL 176.338409 223.572548 \r\nz\r\n\" style=\"fill:#1f77b4;\"/>\r\n   </g>\r\n   <g id=\"patch_25\">\r\n    <path clip-path=\"url(#pd5fd820cd4)\" d=\"M 182.425682 224.64 \r\nL 188.512955 224.64 \r\nL 188.512955 223.038822 \r\nL 182.425682 223.038822 \r\nz\r\n\" style=\"fill:#1f77b4;\"/>\r\n   </g>\r\n   <g id=\"patch_26\">\r\n    <path clip-path=\"url(#pd5fd820cd4)\" d=\"M 188.512955 224.64 \r\nL 194.600227 224.64 \r\nL 194.600227 223.572548 \r\nL 188.512955 223.572548 \r\nz\r\n\" style=\"fill:#1f77b4;\"/>\r\n   </g>\r\n   <g id=\"patch_27\">\r\n    <path clip-path=\"url(#pd5fd820cd4)\" d=\"M 194.600227 224.64 \r\nL 200.6875 224.64 \r\nL 200.6875 222.505096 \r\nL 194.600227 222.505096 \r\nz\r\n\" style=\"fill:#1f77b4;\"/>\r\n   </g>\r\n   <g id=\"patch_28\">\r\n    <path clip-path=\"url(#pd5fd820cd4)\" d=\"M 200.6875 224.64 \r\nL 206.774773 224.64 \r\nL 206.774773 224.106274 \r\nL 200.6875 224.106274 \r\nz\r\n\" style=\"fill:#1f77b4;\"/>\r\n   </g>\r\n   <g id=\"patch_29\">\r\n    <path clip-path=\"url(#pd5fd820cd4)\" d=\"M 206.774773 224.64 \r\nL 212.862045 224.64 \r\nL 212.862045 224.106274 \r\nL 206.774773 224.106274 \r\nz\r\n\" style=\"fill:#1f77b4;\"/>\r\n   </g>\r\n   <g id=\"patch_30\">\r\n    <path clip-path=\"url(#pd5fd820cd4)\" d=\"M 212.862045 224.64 \r\nL 218.949318 224.64 \r\nL 218.949318 223.038822 \r\nL 212.862045 223.038822 \r\nz\r\n\" style=\"fill:#1f77b4;\"/>\r\n   </g>\r\n   <g id=\"patch_31\">\r\n    <path clip-path=\"url(#pd5fd820cd4)\" d=\"M 218.949318 224.64 \r\nL 225.036591 224.64 \r\nL 225.036591 224.64 \r\nL 218.949318 224.64 \r\nz\r\n\" style=\"fill:#1f77b4;\"/>\r\n   </g>\r\n   <g id=\"patch_32\">\r\n    <path clip-path=\"url(#pd5fd820cd4)\" d=\"M 225.036591 224.64 \r\nL 231.123864 224.64 \r\nL 231.123864 224.106274 \r\nL 225.036591 224.106274 \r\nz\r\n\" style=\"fill:#1f77b4;\"/>\r\n   </g>\r\n   <g id=\"patch_33\">\r\n    <path clip-path=\"url(#pd5fd820cd4)\" d=\"M 231.123864 224.64 \r\nL 237.211136 224.64 \r\nL 237.211136 224.106274 \r\nL 231.123864 224.106274 \r\nz\r\n\" style=\"fill:#1f77b4;\"/>\r\n   </g>\r\n   <g id=\"patch_34\">\r\n    <path clip-path=\"url(#pd5fd820cd4)\" d=\"M 237.211136 224.64 \r\nL 243.298409 224.64 \r\nL 243.298409 223.038822 \r\nL 237.211136 223.038822 \r\nz\r\n\" style=\"fill:#1f77b4;\"/>\r\n   </g>\r\n   <g id=\"patch_35\">\r\n    <path clip-path=\"url(#pd5fd820cd4)\" d=\"M 243.298409 224.64 \r\nL 249.385682 224.64 \r\nL 249.385682 224.64 \r\nL 243.298409 224.64 \r\nz\r\n\" style=\"fill:#1f77b4;\"/>\r\n   </g>\r\n   <g id=\"patch_36\">\r\n    <path clip-path=\"url(#pd5fd820cd4)\" d=\"M 249.385682 224.64 \r\nL 255.472955 224.64 \r\nL 255.472955 224.106274 \r\nL 249.385682 224.106274 \r\nz\r\n\" style=\"fill:#1f77b4;\"/>\r\n   </g>\r\n   <g id=\"patch_37\">\r\n    <path clip-path=\"url(#pd5fd820cd4)\" d=\"M 255.472955 224.64 \r\nL 261.560227 224.64 \r\nL 261.560227 223.572548 \r\nL 255.472955 223.572548 \r\nz\r\n\" style=\"fill:#1f77b4;\"/>\r\n   </g>\r\n   <g id=\"patch_38\">\r\n    <path clip-path=\"url(#pd5fd820cd4)\" d=\"M 261.560227 224.64 \r\nL 267.6475 224.64 \r\nL 267.6475 224.64 \r\nL 261.560227 224.64 \r\nz\r\n\" style=\"fill:#1f77b4;\"/>\r\n   </g>\r\n   <g id=\"patch_39\">\r\n    <path clip-path=\"url(#pd5fd820cd4)\" d=\"M 267.6475 224.64 \r\nL 273.734773 224.64 \r\nL 273.734773 224.106274 \r\nL 267.6475 224.106274 \r\nz\r\n\" style=\"fill:#1f77b4;\"/>\r\n   </g>\r\n   <g id=\"patch_40\">\r\n    <path clip-path=\"url(#pd5fd820cd4)\" d=\"M 273.734773 224.64 \r\nL 279.822045 224.64 \r\nL 279.822045 224.106274 \r\nL 273.734773 224.106274 \r\nz\r\n\" style=\"fill:#1f77b4;\"/>\r\n   </g>\r\n   <g id=\"patch_41\">\r\n    <path clip-path=\"url(#pd5fd820cd4)\" d=\"M 279.822045 224.64 \r\nL 285.909318 224.64 \r\nL 285.909318 224.64 \r\nL 279.822045 224.64 \r\nz\r\n\" style=\"fill:#1f77b4;\"/>\r\n   </g>\r\n   <g id=\"patch_42\">\r\n    <path clip-path=\"url(#pd5fd820cd4)\" d=\"M 285.909318 224.64 \r\nL 291.996591 224.64 \r\nL 291.996591 223.572548 \r\nL 285.909318 223.572548 \r\nz\r\n\" style=\"fill:#1f77b4;\"/>\r\n   </g>\r\n   <g id=\"patch_43\">\r\n    <path clip-path=\"url(#pd5fd820cd4)\" d=\"M 291.996591 224.64 \r\nL 298.083864 224.64 \r\nL 298.083864 224.106274 \r\nL 291.996591 224.106274 \r\nz\r\n\" style=\"fill:#1f77b4;\"/>\r\n   </g>\r\n   <g id=\"patch_44\">\r\n    <path clip-path=\"url(#pd5fd820cd4)\" d=\"M 298.083864 224.64 \r\nL 304.171136 224.64 \r\nL 304.171136 224.64 \r\nL 298.083864 224.64 \r\nz\r\n\" style=\"fill:#1f77b4;\"/>\r\n   </g>\r\n   <g id=\"patch_45\">\r\n    <path clip-path=\"url(#pd5fd820cd4)\" d=\"M 304.171136 224.64 \r\nL 310.258409 224.64 \r\nL 310.258409 224.64 \r\nL 304.171136 224.64 \r\nz\r\n\" style=\"fill:#1f77b4;\"/>\r\n   </g>\r\n   <g id=\"patch_46\">\r\n    <path clip-path=\"url(#pd5fd820cd4)\" d=\"M 310.258409 224.64 \r\nL 316.345682 224.64 \r\nL 316.345682 224.64 \r\nL 310.258409 224.64 \r\nz\r\n\" style=\"fill:#1f77b4;\"/>\r\n   </g>\r\n   <g id=\"patch_47\">\r\n    <path clip-path=\"url(#pd5fd820cd4)\" d=\"M 316.345682 224.64 \r\nL 322.432955 224.64 \r\nL 322.432955 224.64 \r\nL 316.345682 224.64 \r\nz\r\n\" style=\"fill:#1f77b4;\"/>\r\n   </g>\r\n   <g id=\"patch_48\">\r\n    <path clip-path=\"url(#pd5fd820cd4)\" d=\"M 322.432955 224.64 \r\nL 328.520227 224.64 \r\nL 328.520227 224.64 \r\nL 322.432955 224.64 \r\nz\r\n\" style=\"fill:#1f77b4;\"/>\r\n   </g>\r\n   <g id=\"patch_49\">\r\n    <path clip-path=\"url(#pd5fd820cd4)\" d=\"M 328.520227 224.64 \r\nL 334.6075 224.64 \r\nL 334.6075 224.64 \r\nL 328.520227 224.64 \r\nz\r\n\" style=\"fill:#1f77b4;\"/>\r\n   </g>\r\n   <g id=\"patch_50\">\r\n    <path clip-path=\"url(#pd5fd820cd4)\" d=\"M 334.6075 224.64 \r\nL 340.694773 224.64 \r\nL 340.694773 224.64 \r\nL 334.6075 224.64 \r\nz\r\n\" style=\"fill:#1f77b4;\"/>\r\n   </g>\r\n   <g id=\"patch_51\">\r\n    <path clip-path=\"url(#pd5fd820cd4)\" d=\"M 340.694773 224.64 \r\nL 346.782045 224.64 \r\nL 346.782045 224.64 \r\nL 340.694773 224.64 \r\nz\r\n\" style=\"fill:#1f77b4;\"/>\r\n   </g>\r\n   <g id=\"patch_52\">\r\n    <path clip-path=\"url(#pd5fd820cd4)\" d=\"M 346.782045 224.64 \r\nL 352.869318 224.64 \r\nL 352.869318 224.106274 \r\nL 346.782045 224.106274 \r\nz\r\n\" style=\"fill:#1f77b4;\"/>\r\n   </g>\r\n   <g id=\"matplotlib.axis_1\">\r\n    <g id=\"xtick_1\">\r\n     <g id=\"line2d_1\">\r\n      <defs>\r\n       <path d=\"M 0 0 \r\nL 0 3.5 \r\n\" id=\"ma8dc748a51\" style=\"stroke:#000000;stroke-width:0.8;\"/>\r\n      </defs>\r\n      <g>\r\n       <use style=\"stroke:#000000;stroke-width:0.8;\" x=\"48.505682\" xlink:href=\"#ma8dc748a51\" y=\"224.64\"/>\r\n      </g>\r\n     </g>\r\n     <g id=\"text_1\">\r\n      <!-- 0 -->\r\n      <defs>\r\n       <path d=\"M 31.78125 66.40625 \r\nQ 24.171875 66.40625 20.328125 58.90625 \r\nQ 16.5 51.421875 16.5 36.375 \r\nQ 16.5 21.390625 20.328125 13.890625 \r\nQ 24.171875 6.390625 31.78125 6.390625 \r\nQ 39.453125 6.390625 43.28125 13.890625 \r\nQ 47.125 21.390625 47.125 36.375 \r\nQ 47.125 51.421875 43.28125 58.90625 \r\nQ 39.453125 66.40625 31.78125 66.40625 \r\nz\r\nM 31.78125 74.21875 \r\nQ 44.046875 74.21875 50.515625 64.515625 \r\nQ 56.984375 54.828125 56.984375 36.375 \r\nQ 56.984375 17.96875 50.515625 8.265625 \r\nQ 44.046875 -1.421875 31.78125 -1.421875 \r\nQ 19.53125 -1.421875 13.0625 8.265625 \r\nQ 6.59375 17.96875 6.59375 36.375 \r\nQ 6.59375 54.828125 13.0625 64.515625 \r\nQ 19.53125 74.21875 31.78125 74.21875 \r\nz\r\n\" id=\"DejaVuSans-48\"/>\r\n      </defs>\r\n      <g transform=\"translate(45.324432 239.238437)scale(0.1 -0.1)\">\r\n       <use xlink:href=\"#DejaVuSans-48\"/>\r\n      </g>\r\n     </g>\r\n    </g>\r\n    <g id=\"xtick_2\">\r\n     <g id=\"line2d_2\">\r\n      <g>\r\n       <use style=\"stroke:#000000;stroke-width:0.8;\" x=\"110.16143\" xlink:href=\"#ma8dc748a51\" y=\"224.64\"/>\r\n      </g>\r\n     </g>\r\n     <g id=\"text_2\">\r\n      <!-- 5000 -->\r\n      <defs>\r\n       <path d=\"M 10.796875 72.90625 \r\nL 49.515625 72.90625 \r\nL 49.515625 64.59375 \r\nL 19.828125 64.59375 \r\nL 19.828125 46.734375 \r\nQ 21.96875 47.46875 24.109375 47.828125 \r\nQ 26.265625 48.1875 28.421875 48.1875 \r\nQ 40.625 48.1875 47.75 41.5 \r\nQ 54.890625 34.8125 54.890625 23.390625 \r\nQ 54.890625 11.625 47.5625 5.09375 \r\nQ 40.234375 -1.421875 26.90625 -1.421875 \r\nQ 22.3125 -1.421875 17.546875 -0.640625 \r\nQ 12.796875 0.140625 7.71875 1.703125 \r\nL 7.71875 11.625 \r\nQ 12.109375 9.234375 16.796875 8.0625 \r\nQ 21.484375 6.890625 26.703125 6.890625 \r\nQ 35.15625 6.890625 40.078125 11.328125 \r\nQ 45.015625 15.765625 45.015625 23.390625 \r\nQ 45.015625 31 40.078125 35.4375 \r\nQ 35.15625 39.890625 26.703125 39.890625 \r\nQ 22.75 39.890625 18.8125 39.015625 \r\nQ 14.890625 38.140625 10.796875 36.28125 \r\nz\r\n\" id=\"DejaVuSans-53\"/>\r\n      </defs>\r\n      <g transform=\"translate(97.43643 239.238437)scale(0.1 -0.1)\">\r\n       <use xlink:href=\"#DejaVuSans-53\"/>\r\n       <use x=\"63.623047\" xlink:href=\"#DejaVuSans-48\"/>\r\n       <use x=\"127.246094\" xlink:href=\"#DejaVuSans-48\"/>\r\n       <use x=\"190.869141\" xlink:href=\"#DejaVuSans-48\"/>\r\n      </g>\r\n     </g>\r\n    </g>\r\n    <g id=\"xtick_3\">\r\n     <g id=\"line2d_3\">\r\n      <g>\r\n       <use style=\"stroke:#000000;stroke-width:0.8;\" x=\"171.817178\" xlink:href=\"#ma8dc748a51\" y=\"224.64\"/>\r\n      </g>\r\n     </g>\r\n     <g id=\"text_3\">\r\n      <!-- 10000 -->\r\n      <defs>\r\n       <path d=\"M 12.40625 8.296875 \r\nL 28.515625 8.296875 \r\nL 28.515625 63.921875 \r\nL 10.984375 60.40625 \r\nL 10.984375 69.390625 \r\nL 28.421875 72.90625 \r\nL 38.28125 72.90625 \r\nL 38.28125 8.296875 \r\nL 54.390625 8.296875 \r\nL 54.390625 0 \r\nL 12.40625 0 \r\nz\r\n\" id=\"DejaVuSans-49\"/>\r\n      </defs>\r\n      <g transform=\"translate(155.910928 239.238437)scale(0.1 -0.1)\">\r\n       <use xlink:href=\"#DejaVuSans-49\"/>\r\n       <use x=\"63.623047\" xlink:href=\"#DejaVuSans-48\"/>\r\n       <use x=\"127.246094\" xlink:href=\"#DejaVuSans-48\"/>\r\n       <use x=\"190.869141\" xlink:href=\"#DejaVuSans-48\"/>\r\n       <use x=\"254.492188\" xlink:href=\"#DejaVuSans-48\"/>\r\n      </g>\r\n     </g>\r\n    </g>\r\n    <g id=\"xtick_4\">\r\n     <g id=\"line2d_4\">\r\n      <g>\r\n       <use style=\"stroke:#000000;stroke-width:0.8;\" x=\"233.472927\" xlink:href=\"#ma8dc748a51\" y=\"224.64\"/>\r\n      </g>\r\n     </g>\r\n     <g id=\"text_4\">\r\n      <!-- 15000 -->\r\n      <g transform=\"translate(217.566677 239.238437)scale(0.1 -0.1)\">\r\n       <use xlink:href=\"#DejaVuSans-49\"/>\r\n       <use x=\"63.623047\" xlink:href=\"#DejaVuSans-53\"/>\r\n       <use x=\"127.246094\" xlink:href=\"#DejaVuSans-48\"/>\r\n       <use x=\"190.869141\" xlink:href=\"#DejaVuSans-48\"/>\r\n       <use x=\"254.492188\" xlink:href=\"#DejaVuSans-48\"/>\r\n      </g>\r\n     </g>\r\n    </g>\r\n    <g id=\"xtick_5\">\r\n     <g id=\"line2d_5\">\r\n      <g>\r\n       <use style=\"stroke:#000000;stroke-width:0.8;\" x=\"295.128675\" xlink:href=\"#ma8dc748a51\" y=\"224.64\"/>\r\n      </g>\r\n     </g>\r\n     <g id=\"text_5\">\r\n      <!-- 20000 -->\r\n      <defs>\r\n       <path d=\"M 19.1875 8.296875 \r\nL 53.609375 8.296875 \r\nL 53.609375 0 \r\nL 7.328125 0 \r\nL 7.328125 8.296875 \r\nQ 12.9375 14.109375 22.625 23.890625 \r\nQ 32.328125 33.6875 34.8125 36.53125 \r\nQ 39.546875 41.84375 41.421875 45.53125 \r\nQ 43.3125 49.21875 43.3125 52.78125 \r\nQ 43.3125 58.59375 39.234375 62.25 \r\nQ 35.15625 65.921875 28.609375 65.921875 \r\nQ 23.96875 65.921875 18.8125 64.3125 \r\nQ 13.671875 62.703125 7.8125 59.421875 \r\nL 7.8125 69.390625 \r\nQ 13.765625 71.78125 18.9375 73 \r\nQ 24.125 74.21875 28.421875 74.21875 \r\nQ 39.75 74.21875 46.484375 68.546875 \r\nQ 53.21875 62.890625 53.21875 53.421875 \r\nQ 53.21875 48.921875 51.53125 44.890625 \r\nQ 49.859375 40.875 45.40625 35.40625 \r\nQ 44.1875 33.984375 37.640625 27.21875 \r\nQ 31.109375 20.453125 19.1875 8.296875 \r\nz\r\n\" id=\"DejaVuSans-50\"/>\r\n      </defs>\r\n      <g transform=\"translate(279.222425 239.238437)scale(0.1 -0.1)\">\r\n       <use xlink:href=\"#DejaVuSans-50\"/>\r\n       <use x=\"63.623047\" xlink:href=\"#DejaVuSans-48\"/>\r\n       <use x=\"127.246094\" xlink:href=\"#DejaVuSans-48\"/>\r\n       <use x=\"190.869141\" xlink:href=\"#DejaVuSans-48\"/>\r\n       <use x=\"254.492188\" xlink:href=\"#DejaVuSans-48\"/>\r\n      </g>\r\n     </g>\r\n    </g>\r\n    <g id=\"xtick_6\">\r\n     <g id=\"line2d_6\">\r\n      <g>\r\n       <use style=\"stroke:#000000;stroke-width:0.8;\" x=\"356.784423\" xlink:href=\"#ma8dc748a51\" y=\"224.64\"/>\r\n      </g>\r\n     </g>\r\n     <g id=\"text_6\">\r\n      <!-- 25000 -->\r\n      <g transform=\"translate(340.878173 239.238437)scale(0.1 -0.1)\">\r\n       <use xlink:href=\"#DejaVuSans-50\"/>\r\n       <use x=\"63.623047\" xlink:href=\"#DejaVuSans-53\"/>\r\n       <use x=\"127.246094\" xlink:href=\"#DejaVuSans-48\"/>\r\n       <use x=\"190.869141\" xlink:href=\"#DejaVuSans-48\"/>\r\n       <use x=\"254.492188\" xlink:href=\"#DejaVuSans-48\"/>\r\n      </g>\r\n     </g>\r\n    </g>\r\n   </g>\r\n   <g id=\"matplotlib.axis_2\">\r\n    <g id=\"ytick_1\">\r\n     <g id=\"line2d_7\">\r\n      <defs>\r\n       <path d=\"M 0 0 \r\nL -3.5 0 \r\n\" id=\"me58af6c2c3\" style=\"stroke:#000000;stroke-width:0.8;\"/>\r\n      </defs>\r\n      <g>\r\n       <use style=\"stroke:#000000;stroke-width:0.8;\" x=\"33.2875\" xlink:href=\"#me58af6c2c3\" y=\"224.64\"/>\r\n      </g>\r\n     </g>\r\n     <g id=\"text_7\">\r\n      <!-- 0 -->\r\n      <g transform=\"translate(19.925 228.439219)scale(0.1 -0.1)\">\r\n       <use xlink:href=\"#DejaVuSans-48\"/>\r\n      </g>\r\n     </g>\r\n    </g>\r\n    <g id=\"ytick_2\">\r\n     <g id=\"line2d_8\">\r\n      <g>\r\n       <use style=\"stroke:#000000;stroke-width:0.8;\" x=\"33.2875\" xlink:href=\"#me58af6c2c3\" y=\"197.953697\"/>\r\n      </g>\r\n     </g>\r\n     <g id=\"text_8\">\r\n      <!-- 50 -->\r\n      <g transform=\"translate(13.5625 201.752915)scale(0.1 -0.1)\">\r\n       <use xlink:href=\"#DejaVuSans-53\"/>\r\n       <use x=\"63.623047\" xlink:href=\"#DejaVuSans-48\"/>\r\n      </g>\r\n     </g>\r\n    </g>\r\n    <g id=\"ytick_3\">\r\n     <g id=\"line2d_9\">\r\n      <g>\r\n       <use style=\"stroke:#000000;stroke-width:0.8;\" x=\"33.2875\" xlink:href=\"#me58af6c2c3\" y=\"171.267393\"/>\r\n      </g>\r\n     </g>\r\n     <g id=\"text_9\">\r\n      <!-- 100 -->\r\n      <g transform=\"translate(7.2 175.066612)scale(0.1 -0.1)\">\r\n       <use xlink:href=\"#DejaVuSans-49\"/>\r\n       <use x=\"63.623047\" xlink:href=\"#DejaVuSans-48\"/>\r\n       <use x=\"127.246094\" xlink:href=\"#DejaVuSans-48\"/>\r\n      </g>\r\n     </g>\r\n    </g>\r\n    <g id=\"ytick_4\">\r\n     <g id=\"line2d_10\">\r\n      <g>\r\n       <use style=\"stroke:#000000;stroke-width:0.8;\" x=\"33.2875\" xlink:href=\"#me58af6c2c3\" y=\"144.58109\"/>\r\n      </g>\r\n     </g>\r\n     <g id=\"text_10\">\r\n      <!-- 150 -->\r\n      <g transform=\"translate(7.2 148.380309)scale(0.1 -0.1)\">\r\n       <use xlink:href=\"#DejaVuSans-49\"/>\r\n       <use x=\"63.623047\" xlink:href=\"#DejaVuSans-53\"/>\r\n       <use x=\"127.246094\" xlink:href=\"#DejaVuSans-48\"/>\r\n      </g>\r\n     </g>\r\n    </g>\r\n    <g id=\"ytick_5\">\r\n     <g id=\"line2d_11\">\r\n      <g>\r\n       <use style=\"stroke:#000000;stroke-width:0.8;\" x=\"33.2875\" xlink:href=\"#me58af6c2c3\" y=\"117.894786\"/>\r\n      </g>\r\n     </g>\r\n     <g id=\"text_11\">\r\n      <!-- 200 -->\r\n      <g transform=\"translate(7.2 121.694005)scale(0.1 -0.1)\">\r\n       <use xlink:href=\"#DejaVuSans-50\"/>\r\n       <use x=\"63.623047\" xlink:href=\"#DejaVuSans-48\"/>\r\n       <use x=\"127.246094\" xlink:href=\"#DejaVuSans-48\"/>\r\n      </g>\r\n     </g>\r\n    </g>\r\n    <g id=\"ytick_6\">\r\n     <g id=\"line2d_12\">\r\n      <g>\r\n       <use style=\"stroke:#000000;stroke-width:0.8;\" x=\"33.2875\" xlink:href=\"#me58af6c2c3\" y=\"91.208483\"/>\r\n      </g>\r\n     </g>\r\n     <g id=\"text_12\">\r\n      <!-- 250 -->\r\n      <g transform=\"translate(7.2 95.007702)scale(0.1 -0.1)\">\r\n       <use xlink:href=\"#DejaVuSans-50\"/>\r\n       <use x=\"63.623047\" xlink:href=\"#DejaVuSans-53\"/>\r\n       <use x=\"127.246094\" xlink:href=\"#DejaVuSans-48\"/>\r\n      </g>\r\n     </g>\r\n    </g>\r\n    <g id=\"ytick_7\">\r\n     <g id=\"line2d_13\">\r\n      <g>\r\n       <use style=\"stroke:#000000;stroke-width:0.8;\" x=\"33.2875\" xlink:href=\"#me58af6c2c3\" y=\"64.52218\"/>\r\n      </g>\r\n     </g>\r\n     <g id=\"text_13\">\r\n      <!-- 300 -->\r\n      <defs>\r\n       <path d=\"M 40.578125 39.3125 \r\nQ 47.65625 37.796875 51.625 33 \r\nQ 55.609375 28.21875 55.609375 21.1875 \r\nQ 55.609375 10.40625 48.1875 4.484375 \r\nQ 40.765625 -1.421875 27.09375 -1.421875 \r\nQ 22.515625 -1.421875 17.65625 -0.515625 \r\nQ 12.796875 0.390625 7.625 2.203125 \r\nL 7.625 11.71875 \r\nQ 11.71875 9.328125 16.59375 8.109375 \r\nQ 21.484375 6.890625 26.8125 6.890625 \r\nQ 36.078125 6.890625 40.9375 10.546875 \r\nQ 45.796875 14.203125 45.796875 21.1875 \r\nQ 45.796875 27.640625 41.28125 31.265625 \r\nQ 36.765625 34.90625 28.71875 34.90625 \r\nL 20.21875 34.90625 \r\nL 20.21875 43.015625 \r\nL 29.109375 43.015625 \r\nQ 36.375 43.015625 40.234375 45.921875 \r\nQ 44.09375 48.828125 44.09375 54.296875 \r\nQ 44.09375 59.90625 40.109375 62.90625 \r\nQ 36.140625 65.921875 28.71875 65.921875 \r\nQ 24.65625 65.921875 20.015625 65.03125 \r\nQ 15.375 64.15625 9.8125 62.3125 \r\nL 9.8125 71.09375 \r\nQ 15.4375 72.65625 20.34375 73.4375 \r\nQ 25.25 74.21875 29.59375 74.21875 \r\nQ 40.828125 74.21875 47.359375 69.109375 \r\nQ 53.90625 64.015625 53.90625 55.328125 \r\nQ 53.90625 49.265625 50.4375 45.09375 \r\nQ 46.96875 40.921875 40.578125 39.3125 \r\nz\r\n\" id=\"DejaVuSans-51\"/>\r\n      </defs>\r\n      <g transform=\"translate(7.2 68.321398)scale(0.1 -0.1)\">\r\n       <use xlink:href=\"#DejaVuSans-51\"/>\r\n       <use x=\"63.623047\" xlink:href=\"#DejaVuSans-48\"/>\r\n       <use x=\"127.246094\" xlink:href=\"#DejaVuSans-48\"/>\r\n      </g>\r\n     </g>\r\n    </g>\r\n    <g id=\"ytick_8\">\r\n     <g id=\"line2d_14\">\r\n      <g>\r\n       <use style=\"stroke:#000000;stroke-width:0.8;\" x=\"33.2875\" xlink:href=\"#me58af6c2c3\" y=\"37.835876\"/>\r\n      </g>\r\n     </g>\r\n     <g id=\"text_14\">\r\n      <!-- 350 -->\r\n      <g transform=\"translate(7.2 41.635095)scale(0.1 -0.1)\">\r\n       <use xlink:href=\"#DejaVuSans-51\"/>\r\n       <use x=\"63.623047\" xlink:href=\"#DejaVuSans-53\"/>\r\n       <use x=\"127.246094\" xlink:href=\"#DejaVuSans-48\"/>\r\n      </g>\r\n     </g>\r\n    </g>\r\n    <g id=\"ytick_9\">\r\n     <g id=\"line2d_15\">\r\n      <g>\r\n       <use style=\"stroke:#000000;stroke-width:0.8;\" x=\"33.2875\" xlink:href=\"#me58af6c2c3\" y=\"11.149573\"/>\r\n      </g>\r\n     </g>\r\n     <g id=\"text_15\">\r\n      <!-- 400 -->\r\n      <defs>\r\n       <path d=\"M 37.796875 64.3125 \r\nL 12.890625 25.390625 \r\nL 37.796875 25.390625 \r\nz\r\nM 35.203125 72.90625 \r\nL 47.609375 72.90625 \r\nL 47.609375 25.390625 \r\nL 58.015625 25.390625 \r\nL 58.015625 17.1875 \r\nL 47.609375 17.1875 \r\nL 47.609375 0 \r\nL 37.796875 0 \r\nL 37.796875 17.1875 \r\nL 4.890625 17.1875 \r\nL 4.890625 26.703125 \r\nz\r\n\" id=\"DejaVuSans-52\"/>\r\n      </defs>\r\n      <g transform=\"translate(7.2 14.948792)scale(0.1 -0.1)\">\r\n       <use xlink:href=\"#DejaVuSans-52\"/>\r\n       <use x=\"63.623047\" xlink:href=\"#DejaVuSans-48\"/>\r\n       <use x=\"127.246094\" xlink:href=\"#DejaVuSans-48\"/>\r\n      </g>\r\n     </g>\r\n    </g>\r\n   </g>\r\n   <g id=\"patch_53\">\r\n    <path d=\"M 33.2875 224.64 \r\nL 33.2875 7.2 \r\n\" style=\"fill:none;stroke:#000000;stroke-linecap:square;stroke-linejoin:miter;stroke-width:0.8;\"/>\r\n   </g>\r\n   <g id=\"patch_54\">\r\n    <path d=\"M 368.0875 224.64 \r\nL 368.0875 7.2 \r\n\" style=\"fill:none;stroke:#000000;stroke-linecap:square;stroke-linejoin:miter;stroke-width:0.8;\"/>\r\n   </g>\r\n   <g id=\"patch_55\">\r\n    <path d=\"M 33.2875 224.64 \r\nL 368.0875 224.64 \r\n\" style=\"fill:none;stroke:#000000;stroke-linecap:square;stroke-linejoin:miter;stroke-width:0.8;\"/>\r\n   </g>\r\n   <g id=\"patch_56\">\r\n    <path d=\"M 33.2875 7.2 \r\nL 368.0875 7.2 \r\n\" style=\"fill:none;stroke:#000000;stroke-linecap:square;stroke-linejoin:miter;stroke-width:0.8;\"/>\r\n   </g>\r\n  </g>\r\n </g>\r\n <defs>\r\n  <clipPath id=\"pd5fd820cd4\">\r\n   <rect height=\"217.44\" width=\"334.8\" x=\"33.2875\" y=\"7.2\"/>\r\n  </clipPath>\r\n </defs>\r\n</svg>\r\n",
      "image/png": "[encoded data removed]"
     },
     "metadata": {
      "needs_background": "light"
     }
    }
   ],
   "source": [
    "plt.hist(population[12], bins=50)\n",
    "plt.show()"
   ]
  },
  {
   "cell_type": "code",
   "execution_count": 7,
   "metadata": {},
   "outputs": [
    {
     "output_type": "stream",
     "name": "stdout",
     "text": [
      "[[[ 42.   0.   0. ...   0.   0.   0.]\n  [  0.  42.   0. ...   0.   0.   0.]\n  [  0.   0.  42. ...   0.   0.   0.]\n  ...\n  [  0.   0.   0. ... 853.   0.   0.]\n  [  0.   0.   0. ...   0.  42.   0.]\n  [  0.   0.   0. ...   0.   0.  42.]]\n\n [[ 76.   0.   0. ...   0.   0.   0.]\n  [  0.  76.   0. ...   0.   0.   0.]\n  [  0.   0.  76. ...   0.   0.   0.]\n  ...\n  [  0.   0.   0. ... 765.   0.   0.]\n  [  0.   0.   0. ...   0.  76.   0.]\n  [  0.   0.   0. ...   0.   0.  76.]]\n\n [[ 63.   0.   0. ...   0.   0.   0.]\n  [  0.  63.   0. ...   0.   0.   0.]\n  [  0.   0.  63. ...   0.   0.   0.]\n  ...\n  [  0.   0.   0. ... 765.   0.   0.]\n  [  0.   0.   0. ...   0.  63.   0.]\n  [  0.   0.   0. ...   0.   0.  63.]]\n\n ...\n\n [[ 17.   0.   0. ...   0.   0.   0.]\n  [  0.  17.   0. ...   0.   0.   0.]\n  [  0.   0.  17. ...   0.   0.   0.]\n  ...\n  [  0.   0.   0. ... 444.   0.   0.]\n  [  0.   0.   0. ...   0.  17.   0.]\n  [  0.   0.   0. ...   0.   0.  17.]]\n\n [[ 20.   0.   0. ...   0.   0.   0.]\n  [  0.  20.   0. ...   0.   0.   0.]\n  [  0.   0.  20. ...   0.   0.   0.]\n  ...\n  [  0.   0.   0. ... 506.   0.   0.]\n  [  0.   0.   0. ...   0.  20.   0.]\n  [  0.   0.   0. ...   0.   0.  20.]]\n\n [[ 24.   0.   0. ...   0.   0.   0.]\n  [  0.  24.   0. ...   0.   0.   0.]\n  [  0.   0.  24. ...   0.   0.   0.]\n  ...\n  [  0.   0.   0. ... 584.   0.   0.]\n  [  0.   0.   0. ...   0.  24.   0.]\n  [  0.   0.   0. ...   0.   0.  24.]]]\n"
     ]
    }
   ],
   "source": [
    "pkl_file = open(\"Data/Yerevan_OD_matrices.pkl\", \"rb\")\n",
    "OD_matrices = pickle.load(pkl_file)\n",
    "pkl_file.close()\n",
    "print(OD_matrices)"
   ]
  },
  {
   "cell_type": "code",
   "execution_count": null,
   "metadata": {},
   "outputs": [],
   "source": [
    "OD_matrices.shape"
   ]
  },
  {
   "cell_type": "code",
   "execution_count": null,
   "metadata": {},
   "outputs": [],
   "source": [
    "plt.imshow(OD_matrices[12], cmap='Blues')\n",
    "plt.show()"
   ]
  },
  {
   "cell_type": "code",
   "execution_count": null,
   "metadata": {},
   "outputs": [],
   "source": [
    "print(\"On-diagonal sum: \", np.diagonal(OD_matrices[12]).sum())\n",
    "print(\"Off-diagonal sum: \", OD_matrices[12].sum() - np.diagonal(OD_matrices[12]).sum())"
   ]
  },
  {
   "cell_type": "markdown",
   "metadata": {},
   "source": [
    "## Covid-19 model"
   ]
  },
  {
   "cell_type": "code",
   "execution_count": null,
   "metadata": {},
   "outputs": [],
   "source": [
    "from collections import namedtuple"
   ]
  },
  {
   "cell_type": "code",
   "execution_count": null,
   "metadata": {},
   "outputs": [],
   "source": [
    "Param = namedtuple('Param', 'R0 DE DI I0 HospitalisationRate HospiterIters')\n",
    "# I0 is the distribution of infected people at time t=0, if None then randomly choose inf number of people"
   ]
  },
  {
   "cell_type": "code",
   "execution_count": null,
   "metadata": {},
   "outputs": [],
   "source": [
    "# flow is a 3D matrix of dimensions r x n x n (i.e., 84 x 549 x 549),\n",
    "# flow[t mod r] is the desired OD matrix at time t.\n",
    "\n",
    "def seir(par, distr, flow, alpha, iterations, inf):\n",
    "    \n",
    "    r = flow.shape[0]\n",
    "    n = flow.shape[1]\n",
    "    N = distr[0].sum() # total population, we assume that N = sum(flow)\n",
    "    \n",
    "    Svec = distr[0].copy()\n",
    "    Evec = np.zeros(n)\n",
    "    Ivec = np.zeros(n)\n",
    "    Rvec = np.zeros(n)\n",
    "    \n",
    "    if par.I0 is None:\n",
    "        initial = np.zeros(n)\n",
    "        # randomly choose inf infections\n",
    "        for i in range(inf):\n",
    "            loc = np.random.randint(n)\n",
    "            if (Svec[loc] > initial[loc]):\n",
    "                initial[loc] += 1.0\n",
    "                \n",
    "    else:\n",
    "        initial = par.I0\n",
    "    assert ((Svec < initial).sum() == 0)\n",
    "    \n",
    "    Svec =- initial\n",
    "    Ivec =+ initial\n",
    "    \n",
    "    res = np.zeros((iterations, 5))\n",
    "    res[0,:] = [Svec.sum(), Evec.sum(), Ivec.sum(), Rvec.sum(), 0]\n",
    "    \n",
    "    realflow = flow.copy() # copy!\n",
    "    \n",
    "#     for j in range(r):\n",
    "#         for i in range(n):\n",
    "#             realflow[j][i] /= realflow[j][i].sum()\n",
    "\n",
    "    # The two lines below normalise the flows and then multiply them by the alpha values. \n",
    "    # This is actually the \"wrong\" the way to do it because alpha will not be a *linear* measure \n",
    "    # representing lockdown strength but a *nonlinear* one.\n",
    "    # The normalisation strategy has been chosen for demonstration purposes of numpy functionality.\n",
    "    # (Optional) can you rewrite this part so that alpha remains a linear measure of lockdown strength? :)\n",
    "    realflow = realflow / realflow.sum(axis=2)[:,:, np.newaxis]    \n",
    "    realflow = alpha * realflow    \n",
    "    \n",
    "    history = np.zeros((iterations, 5, n))\n",
    "    history[0,0,:] = Svec\n",
    "    history[0,1,:] = Evec\n",
    "    history[0,2,:] = Ivec\n",
    "    history[0,3,:] = Rvec\n",
    "    \n",
    "    eachIter = np.zeros(iterations + 1)\n",
    "    \n",
    "    # run simulation\n",
    "    for iter in range(0, iterations - 1):\n",
    "        realOD = realflow[iter % r]\n",
    "        \n",
    "        d = distr[iter % r] + 1\n",
    "        \n",
    "        if ((d>N+1).any()): #assertion!\n",
    "            print(\"Houston, we have a problem!\")\n",
    "            return res, history\n",
    "        # N =  S + E + I + R\n",
    "        \n",
    "        newE = Svec * Ivec / d * par.R0 / par.DI\n",
    "        newI = Evec / par.DE\n",
    "        newR = Ivec / par.DI\n",
    "        \n",
    "        Svec -= newE\n",
    "        Svec = (Svec \n",
    "               + np.matmul(Svec.reshape(1,n), realOD)\n",
    "               - Svec * realOD.sum(axis=1)\n",
    "                )\n",
    "        Evec = Evec + newE - newI\n",
    "        Evec = (Evec \n",
    "               + np.matmul(Evec.reshape(1,n), realOD)\n",
    "               - Evec * realOD.sum(axis=1)\n",
    "                )\n",
    "                \n",
    "        Ivec = Ivec + newI - newR\n",
    "        Ivec = (Ivec \n",
    "               + np.matmul(Ivec.reshape(1,n), realOD)\n",
    "               - Ivec * realOD.sum(axis=1)\n",
    "                )\n",
    "                \n",
    "        Rvec += newR\n",
    "        Rvec = (Rvec \n",
    "               + np.matmul(Rvec.reshape(1,n), realOD)\n",
    "               - Rvec * realOD.sum(axis=1)\n",
    "                )\n",
    "                \n",
    "        res[iter + 1,:] = [Svec.sum(), Evec.sum(), Ivec.sum(), Rvec.sum(), 0]\n",
    "        eachIter[iter + 1] = newI.sum()\n",
    "        res[iter + 1, 4] = eachIter[max(0, iter - par.HospiterIters) : iter].sum() * par.HospitalisationRate\n",
    "        \n",
    "        history[iter + 1,0,:] = Svec\n",
    "        history[iter + 1,1,:] = Evec\n",
    "        history[iter + 1,2,:] = Ivec\n",
    "        history[iter + 1,3,:] = Rvec\n",
    "        \n",
    "        \n",
    "    return res, history"
   ]
  },
  {
   "cell_type": "code",
   "execution_count": null,
   "metadata": {},
   "outputs": [],
   "source": []
  }
 ],
 "metadata": {
  "kernelspec": {
   "display_name": "Python 3",
   "language": "python",
   "name": "python3"
  },
  "language_info": {
   "codemirror_mode": {
    "name": "ipython",
    "version": 3
   },
   "file_extension": ".py",
   "mimetype": "text/x-python",
   "name": "python",
   "nbconvert_exporter": "python",
   "pygments_lexer": "ipython3",
   "version": "3.8.3-final"
  }
 },
 "nbformat": 4,
 "nbformat_minor": 2
}