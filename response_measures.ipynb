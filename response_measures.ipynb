{
 "metadata": {
  "language_info": {
   "codemirror_mode": {
    "name": "ipython",
    "version": 3
   },
   "file_extension": ".py",
   "mimetype": "text/x-python",
   "name": "python",
   "nbconvert_exporter": "python",
   "pygments_lexer": "ipython3",
   "version": "3.8.0"
  },
  "orig_nbformat": 2,
  "kernelspec": {
   "name": "python380jvsc74a57bd021f1717c88b515e88706ad9d1e312e38e6c607c0a7c7521f9c83f3f6774bed74",
   "display_name": "Python 3.8.0 64-bit ('epidemics_6': conda)"
  }
 },
 "nbformat": 4,
 "nbformat_minor": 2,
 "cells": [
  {
   "cell_type": "code",
   "execution_count": 59,
   "metadata": {},
   "outputs": [],
   "source": [
    "import pandas as pd\n",
    "idx = pd.IndexSlice"
   ]
  },
  {
   "cell_type": "code",
   "execution_count": 60,
   "metadata": {},
   "outputs": [],
   "source": [
    "world_cases = pd.read_csv('data/world_daily_cases.csv',\n",
    "        parse_dates=['date'],\n",
    "        index_col=['country'],\n",
    "        squeeze=True\n",
    "        ).sort_index()"
   ]
  },
  {
   "cell_type": "code",
   "execution_count": 61,
   "metadata": {},
   "outputs": [
    {
     "output_type": "execute_result",
     "data": {
      "text/plain": [
       "                  date  cumulative_total_cases  daily_new_cases  active_cases  \\\n",
       "country                                                                         \n",
       "Afghanistan 2020-02-15                     0.0              NaN           0.0   \n",
       "Afghanistan 2020-12-08                 48366.0            230.0        8425.0   \n",
       "Afghanistan 2020-12-07                 48136.0            235.0        8250.0   \n",
       "Afghanistan 2020-12-06                 47901.0            260.0        8244.0   \n",
       "Afghanistan 2020-12-05                 47641.0            253.0        8291.0   \n",
       "\n",
       "             cumulative_total_deaths  daily_new_deaths  \n",
       "country                                                 \n",
       "Afghanistan                      0.0               NaN  \n",
       "Afghanistan                   1908.0               6.0  \n",
       "Afghanistan                   1902.0              27.0  \n",
       "Afghanistan                   1875.0              10.0  \n",
       "Afghanistan                   1865.0              18.0  "
      ],
      "text/html": "<div>\n<style scoped>\n    .dataframe tbody tr th:only-of-type {\n        vertical-align: middle;\n    }\n\n    .dataframe tbody tr th {\n        vertical-align: top;\n    }\n\n    .dataframe thead th {\n        text-align: right;\n    }\n</style>\n<table border=\"1\" class=\"dataframe\">\n  <thead>\n    <tr style=\"text-align: right;\">\n      <th></th>\n      <th>date</th>\n      <th>cumulative_total_cases</th>\n      <th>daily_new_cases</th>\n      <th>active_cases</th>\n      <th>cumulative_total_deaths</th>\n      <th>daily_new_deaths</th>\n    </tr>\n    <tr>\n      <th>country</th>\n      <th></th>\n      <th></th>\n      <th></th>\n      <th></th>\n      <th></th>\n      <th></th>\n    </tr>\n  </thead>\n  <tbody>\n    <tr>\n      <th>Afghanistan</th>\n      <td>2020-02-15</td>\n      <td>0.0</td>\n      <td>NaN</td>\n      <td>0.0</td>\n      <td>0.0</td>\n      <td>NaN</td>\n    </tr>\n    <tr>\n      <th>Afghanistan</th>\n      <td>2020-12-08</td>\n      <td>48366.0</td>\n      <td>230.0</td>\n      <td>8425.0</td>\n      <td>1908.0</td>\n      <td>6.0</td>\n    </tr>\n    <tr>\n      <th>Afghanistan</th>\n      <td>2020-12-07</td>\n      <td>48136.0</td>\n      <td>235.0</td>\n      <td>8250.0</td>\n      <td>1902.0</td>\n      <td>27.0</td>\n    </tr>\n    <tr>\n      <th>Afghanistan</th>\n      <td>2020-12-06</td>\n      <td>47901.0</td>\n      <td>260.0</td>\n      <td>8244.0</td>\n      <td>1875.0</td>\n      <td>10.0</td>\n    </tr>\n    <tr>\n      <th>Afghanistan</th>\n      <td>2020-12-05</td>\n      <td>47641.0</td>\n      <td>253.0</td>\n      <td>8291.0</td>\n      <td>1865.0</td>\n      <td>18.0</td>\n    </tr>\n  </tbody>\n</table>\n</div>"
     },
     "metadata": {},
     "execution_count": 61
    }
   ],
   "source": [
    "world_cases.head()"
   ]
  },
  {
   "cell_type": "code",
   "execution_count": 62,
   "metadata": {},
   "outputs": [],
   "source": [
    "# Example to get specific row\n",
    "#world_cases.loc[idx[\"Norway\", '2021-03-29'], :]"
   ]
  },
  {
   "cell_type": "code",
   "execution_count": 63,
   "metadata": {},
   "outputs": [],
   "source": [
    "world_pop = pd.read_csv('data/world_population.csv',\n",
    "        index_col=['country'],\n",
    "        squeeze=True\n",
    "        ).sort_index()"
   ]
  },
  {
   "cell_type": "code",
   "execution_count": 64,
   "metadata": {},
   "outputs": [
    {
     "output_type": "execute_result",
     "data": {
      "text/plain": [
       "country\n",
       "Afghanistan        38928346\n",
       "Albania             2877797\n",
       "Algeria            43851044\n",
       "American Samoa        55191\n",
       "Andorra               77265\n",
       "                     ...   \n",
       "Wallis & Futuna       11239\n",
       "Western Sahara       597339\n",
       "Yemen              29825964\n",
       "Zambia             18383955\n",
       "Zimbabwe           14862924\n",
       "Name: population, Length: 235, dtype: int64"
      ]
     },
     "metadata": {},
     "execution_count": 64
    }
   ],
   "source": [
    "world_pop"
   ]
  },
  {
   "cell_type": "code",
   "execution_count": 65,
   "metadata": {},
   "outputs": [],
   "source": [
    "m_df = world_cases.merge(world_pop, left_index=True, right_index=True)"
   ]
  },
  {
   "cell_type": "code",
   "execution_count": 66,
   "metadata": {},
   "outputs": [
    {
     "output_type": "execute_result",
     "data": {
      "text/plain": [
       "                  date  cumulative_total_cases  daily_new_cases  active_cases  \\\n",
       "country                                                                         \n",
       "Afghanistan 2020-02-15                     0.0              NaN           0.0   \n",
       "Afghanistan 2020-12-08                 48366.0            230.0        8425.0   \n",
       "Afghanistan 2020-12-07                 48136.0            235.0        8250.0   \n",
       "Afghanistan 2020-12-06                 47901.0            260.0        8244.0   \n",
       "Afghanistan 2020-12-05                 47641.0            253.0        8291.0   \n",
       "...                ...                     ...              ...           ...   \n",
       "Zimbabwe    2020-07-02                   617.0             12.0         437.0   \n",
       "Zimbabwe    2020-07-01                   605.0             14.0         432.0   \n",
       "Zimbabwe    2020-06-30                   591.0             17.0         422.0   \n",
       "Zimbabwe    2020-07-11                   982.0             40.0         644.0   \n",
       "Zimbabwe    2021-04-24                 38064.0             19.0        1407.0   \n",
       "\n",
       "             cumulative_total_deaths  daily_new_deaths  population  \n",
       "country                                                             \n",
       "Afghanistan                      0.0               NaN    38928346  \n",
       "Afghanistan                   1908.0               6.0    38928346  \n",
       "Afghanistan                   1902.0              27.0    38928346  \n",
       "Afghanistan                   1875.0              10.0    38928346  \n",
       "Afghanistan                   1865.0              18.0    38928346  \n",
       "...                              ...               ...         ...  \n",
       "Zimbabwe                         7.0               0.0    14862924  \n",
       "Zimbabwe                         7.0               0.0    14862924  \n",
       "Zimbabwe                         7.0               0.0    14862924  \n",
       "Zimbabwe                        18.0               5.0    14862924  \n",
       "Zimbabwe                      1556.0               0.0    14862924  \n",
       "\n",
       "[83544 rows x 7 columns]"
      ],
      "text/html": "<div>\n<style scoped>\n    .dataframe tbody tr th:only-of-type {\n        vertical-align: middle;\n    }\n\n    .dataframe tbody tr th {\n        vertical-align: top;\n    }\n\n    .dataframe thead th {\n        text-align: right;\n    }\n</style>\n<table border=\"1\" class=\"dataframe\">\n  <thead>\n    <tr style=\"text-align: right;\">\n      <th></th>\n      <th>date</th>\n      <th>cumulative_total_cases</th>\n      <th>daily_new_cases</th>\n      <th>active_cases</th>\n      <th>cumulative_total_deaths</th>\n      <th>daily_new_deaths</th>\n      <th>population</th>\n    </tr>\n    <tr>\n      <th>country</th>\n      <th></th>\n      <th></th>\n      <th></th>\n      <th></th>\n      <th></th>\n      <th></th>\n      <th></th>\n    </tr>\n  </thead>\n  <tbody>\n    <tr>\n      <th>Afghanistan</th>\n      <td>2020-02-15</td>\n      <td>0.0</td>\n      <td>NaN</td>\n      <td>0.0</td>\n      <td>0.0</td>\n      <td>NaN</td>\n      <td>38928346</td>\n    </tr>\n    <tr>\n      <th>Afghanistan</th>\n      <td>2020-12-08</td>\n      <td>48366.0</td>\n      <td>230.0</td>\n      <td>8425.0</td>\n      <td>1908.0</td>\n      <td>6.0</td>\n      <td>38928346</td>\n    </tr>\n    <tr>\n      <th>Afghanistan</th>\n      <td>2020-12-07</td>\n      <td>48136.0</td>\n      <td>235.0</td>\n      <td>8250.0</td>\n      <td>1902.0</td>\n      <td>27.0</td>\n      <td>38928346</td>\n    </tr>\n    <tr>\n      <th>Afghanistan</th>\n      <td>2020-12-06</td>\n      <td>47901.0</td>\n      <td>260.0</td>\n      <td>8244.0</td>\n      <td>1875.0</td>\n      <td>10.0</td>\n      <td>38928346</td>\n    </tr>\n    <tr>\n      <th>Afghanistan</th>\n      <td>2020-12-05</td>\n      <td>47641.0</td>\n      <td>253.0</td>\n      <td>8291.0</td>\n      <td>1865.0</td>\n      <td>18.0</td>\n      <td>38928346</td>\n    </tr>\n    <tr>\n      <th>...</th>\n      <td>...</td>\n      <td>...</td>\n      <td>...</td>\n      <td>...</td>\n      <td>...</td>\n      <td>...</td>\n      <td>...</td>\n    </tr>\n    <tr>\n      <th>Zimbabwe</th>\n      <td>2020-07-02</td>\n      <td>617.0</td>\n      <td>12.0</td>\n      <td>437.0</td>\n      <td>7.0</td>\n      <td>0.0</td>\n      <td>14862924</td>\n    </tr>\n    <tr>\n      <th>Zimbabwe</th>\n      <td>2020-07-01</td>\n      <td>605.0</td>\n      <td>14.0</td>\n      <td>432.0</td>\n      <td>7.0</td>\n      <td>0.0</td>\n      <td>14862924</td>\n    </tr>\n    <tr>\n      <th>Zimbabwe</th>\n      <td>2020-06-30</td>\n      <td>591.0</td>\n      <td>17.0</td>\n      <td>422.0</td>\n      <td>7.0</td>\n      <td>0.0</td>\n      <td>14862924</td>\n    </tr>\n    <tr>\n      <th>Zimbabwe</th>\n      <td>2020-07-11</td>\n      <td>982.0</td>\n      <td>40.0</td>\n      <td>644.0</td>\n      <td>18.0</td>\n      <td>5.0</td>\n      <td>14862924</td>\n    </tr>\n    <tr>\n      <th>Zimbabwe</th>\n      <td>2021-04-24</td>\n      <td>38064.0</td>\n      <td>19.0</td>\n      <td>1407.0</td>\n      <td>1556.0</td>\n      <td>0.0</td>\n      <td>14862924</td>\n    </tr>\n  </tbody>\n</table>\n<p>83544 rows × 7 columns</p>\n</div>"
     },
     "metadata": {},
     "execution_count": 66
    }
   ],
   "source": [
    "m_df"
   ]
  },
  {
   "cell_type": "code",
   "execution_count": null,
   "metadata": {},
   "outputs": [],
   "source": [
    "# set to multiindex\n"
   ]
  },
  {
   "cell_type": "code",
   "execution_count": 76,
   "metadata": {},
   "outputs": [],
   "source": [
    "world_measures = pd.read_csv('data/world_response_measures.csv',\n",
    "        index_col=['country', 'date'],\n",
    "        squeeze=True\n",
    "        ).sort_index()"
   ]
  },
  {
   "cell_type": "code",
   "execution_count": 77,
   "metadata": {},
   "outputs": [
    {
     "output_type": "execute_result",
     "data": {
      "text/plain": [
       "                                         log_type        date\n",
       "country                                                      \n",
       "Afghanistan  Introduction / extension of measures  24/01/2020\n",
       "Afghanistan  Introduction / extension of measures  07/03/2020\n",
       "Afghanistan  Introduction / extension of measures  11/03/2020\n",
       "Afghanistan  Introduction / extension of measures  12/03/2020\n",
       "Afghanistan  Introduction / extension of measures  15/03/2020\n",
       "...                                           ...         ...\n",
       "Zimbabwe     Introduction / extension of measures  14/04/2020\n",
       "Zimbabwe     Introduction / extension of measures  15/04/2020\n",
       "Zimbabwe                        Phase-out measure  19/04/2020\n",
       "Zimbabwe     Introduction / extension of measures  20/04/2020\n",
       "Zimbabwe     Introduction / extension of measures  01/10/2020\n",
       "\n",
       "[23923 rows x 2 columns]"
      ],
      "text/html": "<div>\n<style scoped>\n    .dataframe tbody tr th:only-of-type {\n        vertical-align: middle;\n    }\n\n    .dataframe tbody tr th {\n        vertical-align: top;\n    }\n\n    .dataframe thead th {\n        text-align: right;\n    }\n</style>\n<table border=\"1\" class=\"dataframe\">\n  <thead>\n    <tr style=\"text-align: right;\">\n      <th></th>\n      <th>log_type</th>\n      <th>date</th>\n    </tr>\n    <tr>\n      <th>country</th>\n      <th></th>\n      <th></th>\n    </tr>\n  </thead>\n  <tbody>\n    <tr>\n      <th>Afghanistan</th>\n      <td>Introduction / extension of measures</td>\n      <td>24/01/2020</td>\n    </tr>\n    <tr>\n      <th>Afghanistan</th>\n      <td>Introduction / extension of measures</td>\n      <td>07/03/2020</td>\n    </tr>\n    <tr>\n      <th>Afghanistan</th>\n      <td>Introduction / extension of measures</td>\n      <td>11/03/2020</td>\n    </tr>\n    <tr>\n      <th>Afghanistan</th>\n      <td>Introduction / extension of measures</td>\n      <td>12/03/2020</td>\n    </tr>\n    <tr>\n      <th>Afghanistan</th>\n      <td>Introduction / extension of measures</td>\n      <td>15/03/2020</td>\n    </tr>\n    <tr>\n      <th>...</th>\n      <td>...</td>\n      <td>...</td>\n    </tr>\n    <tr>\n      <th>Zimbabwe</th>\n      <td>Introduction / extension of measures</td>\n      <td>14/04/2020</td>\n    </tr>\n    <tr>\n      <th>Zimbabwe</th>\n      <td>Introduction / extension of measures</td>\n      <td>15/04/2020</td>\n    </tr>\n    <tr>\n      <th>Zimbabwe</th>\n      <td>Phase-out measure</td>\n      <td>19/04/2020</td>\n    </tr>\n    <tr>\n      <th>Zimbabwe</th>\n      <td>Introduction / extension of measures</td>\n      <td>20/04/2020</td>\n    </tr>\n    <tr>\n      <th>Zimbabwe</th>\n      <td>Introduction / extension of measures</td>\n      <td>01/10/2020</td>\n    </tr>\n  </tbody>\n</table>\n<p>23923 rows × 2 columns</p>\n</div>"
     },
     "metadata": {},
     "execution_count": 77
    }
   ],
   "source": [
    "world_measures"
   ]
  }
 ]
}