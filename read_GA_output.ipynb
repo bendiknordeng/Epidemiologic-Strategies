{
 "metadata": {
  "language_info": {
   "codemirror_mode": {
    "name": "ipython",
    "version": 3
   },
   "file_extension": ".py",
   "mimetype": "text/x-python",
   "name": "python",
   "nbconvert_exporter": "python",
   "pygments_lexer": "ipython3",
   "version": "3.8.0"
  },
  "orig_nbformat": 2,
  "kernelspec": {
   "name": "python380jvsc74a57bd0d1135e85b24d6fc36dc6a0cb37a446f4ea6c1d1c5d9ce7e53624fd1bcca00fa0",
   "display_name": "Python 3.8.0 64-bit ('epidemics': conda)"
  }
 },
 "nbformat": 4,
 "nbformat_minor": 2,
 "cells": [
  {
   "cell_type": "code",
   "execution_count": 169,
   "metadata": {},
   "outputs": [],
   "source": [
    "import os\n",
    "import utils\n",
    "import numpy as np\n",
    "import pandas as pd"
   ]
  },
  {
   "cell_type": "code",
   "execution_count": 170,
   "metadata": {},
   "outputs": [],
   "source": [
    "def read_all_results(dir_path):\n",
    "    paths = os.listdir(dir_path)\n",
    "    last_gens = []\n",
    "    for i in range(len(paths)):\n",
    "        path = dir_path + paths[i]\n",
    "        try:\n",
    "            last_gen = sorted(map(lambda x: x.split(\"_\"), \n",
    "                            os.listdir(f\"{path}/individuals/\")), \n",
    "                            key=lambda x: int(x[1].split(\".\")[0]))[-1][-1][:-4]\n",
    "            print(f\"Path: {paths[i]}, last generation: {int(last_gen)}\")\n",
    "            last_gens.append(int(last_gen))\n",
    "        except:\n",
    "            continue\n",
    "    return paths, last_gens"
   ]
  },
  {
   "cell_type": "code",
   "execution_count": 171,
   "metadata": {},
   "outputs": [
    {
     "output_type": "stream",
     "name": "stdout",
     "text": [
      "Path: GA_2021_05_30_17_14_02, last generation: 11\n"
     ]
    }
   ],
   "source": [
    "dir_path = \"results/\"\n",
    "paths, last_gens = read_all_results(dir_path)"
   ]
  },
  {
   "cell_type": "code",
   "execution_count": 172,
   "metadata": {},
   "outputs": [],
   "source": [
    "run = 0\n",
    "gen = 11\n",
    "path = dir_path + paths[run]\n",
    "\n",
    "individuals_path =  f\"{path}/individuals/individuals_{gen}.pkl\"\n",
    "score_path       =  f\"{path}/final_scores/final_score_{gen}.pkl\"\n",
    "overview_path    =  f\"{path}/generation_overview.csv\"\n",
    "\n",
    "final_score = utils.read_pickle(score_path)\n",
    "individuals = utils.read_pickle(individuals_path)\n",
    "overview = pd.read_csv(overview_path)"
   ]
  },
  {
   "cell_type": "code",
   "execution_count": 173,
   "metadata": {},
   "outputs": [
    {
     "output_type": "stream",
     "name": "stdout",
     "text": [
      "{\n    \"objective\": \"deaths\",\n    \"simulations\": 5,\n    \"process\": {\n        \"horizon\": 74,\n        \"decision_period\": 28,\n        \"policy\": \"weighted\"\n    },\n    \"population_size\": 10,\n    \"random_individuals\": false,\n    \"min_generations\": 10\n}\n"
     ]
    }
   ],
   "source": [
    "with open(dir_path + paths[run] + \"/run_params.json\", \"r\") as file:\n",
    "    print(file.read())\n",
    "    file.close()"
   ]
  },
  {
   "cell_type": "code",
   "execution_count": 174,
   "metadata": {
    "tags": []
   },
   "outputs": [
    {
     "output_type": "stream",
     "name": "stdout",
     "text": [
      "Strategy_count:\n\u001b[1m#   U    D    N    \u001b[0m\n1 | 5    5    5    \n2 | 4    2    4    \n3 | 1    2    2    \n\n\u001b[1m1st place:\u001b[0m\nID: gen_9_005\nScore: 1681.034\nGenes:\n[[[0.192 0.    0.    0.808 0.   ]\n  [0.    0.    0.016 0.984 0.   ]\n  [0.    0.    0.284 0.716 0.   ]]\n\n [[0.    0.    0.    1.    0.   ]\n  [0.    0.    0.015 0.977 0.008]\n  [0.    0.    0.016 0.984 0.   ]]\n\n [[0.    0.    0.    1.    0.   ]\n  [0.    0.    0.016 0.984 0.   ]\n  [0.    0.    0.284 0.716 0.   ]]]\n\n\u001b[1m2nd place:\u001b[0m\nID: gen_0_003\nScore: 1693.572\nGenes:\n[[[0. 0. 0. 1. 0.]\n  [0. 0. 0. 1. 0.]\n  [0. 0. 0. 1. 0.]]\n\n [[0. 0. 0. 1. 0.]\n  [0. 0. 0. 1. 0.]\n  [0. 0. 0. 1. 0.]]\n\n [[0. 0. 0. 1. 0.]\n  [0. 0. 0. 1. 0.]\n  [0. 0. 0. 1. 0.]]]\n\n\u001b[1m3rd place:\u001b[0m\nID: gen_10_002\nScore: 1706.831\nGenes:\n[[[0.06 0.   0.   0.94 0.  ]\n  [0.   0.   0.   1.   0.  ]\n  [0.   0.   0.   1.   0.  ]]\n\n [[0.   0.   0.   1.   0.  ]\n  [0.   0.   0.   1.   0.  ]\n  [0.   0.   0.   1.   0.  ]]\n\n [[0.   0.   0.   1.   0.  ]\n  [0.   0.   0.   1.   0.  ]\n  [0.   0.   0.   1.   0.  ]]]\n\n\u001b[1m4th place:\u001b[0m\nID: gen_7_005\nScore: 1707.247\nGenes:\n[[[0.064 0.    0.    0.936 0.   ]\n  [0.    0.    0.    1.    0.   ]\n  [0.    0.    0.086 0.914 0.   ]]\n\n [[0.    0.    0.    1.    0.   ]\n  [0.    0.    0.    1.    0.   ]\n  [0.    0.    0.    1.    0.   ]]\n\n [[0.    0.    0.    1.    0.   ]\n  [0.    0.    0.    1.    0.   ]\n  [0.    0.    0.086 0.914 0.   ]]]\n\n\u001b[1m5th place:\u001b[0m\nID: gen_5_001\nScore: 1714.731\nGenes:\n[[[0.    0.    0.    1.    0.   ]\n  [0.    0.    0.125 0.875 0.   ]\n  [0.    0.    0.125 0.875 0.   ]]\n\n [[0.    0.    0.    1.    0.   ]\n  [0.    0.    0.125 0.875 0.   ]\n  [0.    0.    0.125 0.875 0.   ]]\n\n [[0.    0.    0.    1.    0.   ]\n  [0.    0.    0.125 0.875 0.   ]\n  [0.    0.    0.125 0.875 0.   ]]]\n\n\u001b[1m6th place:\u001b[0m\nID: gen_8_013\nScore: 1725.755\nGenes:\n[[[0.    0.    0.    1.    0.   ]\n  [0.    0.    0.062 0.938 0.   ]\n  [0.    0.    0.105 0.895 0.   ]]\n\n [[0.    0.    0.    1.    0.   ]\n  [0.    0.    0.061 0.908 0.031]\n  [0.    0.    0.062 0.938 0.   ]]\n\n [[0.    0.    0.    1.    0.   ]\n  [0.    0.    0.062 0.938 0.   ]\n  [0.    0.    0.105 0.895 0.   ]]]\n\n\u001b[1m7th place:\u001b[0m\nID: gen_1_005\nScore: 1728.873\nGenes:\n[[[0.    0.    0.125 0.875 0.   ]\n  [0.    0.    0.125 0.875 0.   ]\n  [0.    0.    0.125 0.875 0.   ]]\n\n [[0.    0.    0.125 0.875 0.   ]\n  [0.    0.    0.125 0.875 0.   ]\n  [0.    0.    0.125 0.875 0.   ]]\n\n [[0.    0.    0.125 0.875 0.   ]\n  [0.    0.    0.125 0.875 0.   ]\n  [0.    0.    0.125 0.875 0.   ]]]\n\n\u001b[1m8th place:\u001b[0m\nID: gen_11_001\nScore: 1731.685\nGenes:\n[[[0.    0.    0.    1.    0.   ]\n  [0.    0.    0.    1.    0.   ]\n  [0.    0.    0.086 0.914 0.   ]]\n\n [[0.    0.    0.    1.    0.   ]\n  [0.    0.    0.    1.    0.   ]\n  [0.    0.    0.    1.    0.   ]]\n\n [[0.    0.    0.    1.    0.   ]\n  [0.    0.    0.    1.    0.   ]\n  [0.    0.    0.086 0.914 0.   ]]]\n\n\u001b[1m9th place:\u001b[0m\nID: gen_6_001\nScore: 1732.414\nGenes:\n[[[0.256 0.    0.    0.744 0.   ]\n  [0.    0.    0.    1.    0.   ]\n  [0.    0.    0.344 0.656 0.   ]]\n\n [[0.    0.    0.    1.    0.   ]\n  [0.    0.    0.    1.    0.   ]\n  [0.    0.    0.    1.    0.   ]]\n\n [[0.    0.    0.    1.    0.   ]\n  [0.    0.    0.    1.    0.   ]\n  [0.    0.    0.344 0.656 0.   ]]]\n\n\u001b[1m10th place:\u001b[0m\nID: gen_0_008\nScore: 1778.891\nGenes:\n[[[0.  0.  0.5 0.5 0. ]\n  [0.  0.  0.5 0.5 0. ]\n  [0.  0.  0.5 0.5 0. ]]\n\n [[0.  0.  0.5 0.5 0. ]\n  [0.  0.  0.5 0.5 0. ]\n  [0.  0.  0.5 0.5 0. ]]\n\n [[0.  0.  0.5 0.5 0. ]\n  [0.  0.  0.5 0.5 0. ]\n  [0.  0.  0.5 0.5 0. ]]]\n\n\u001b[1m11th place:\u001b[0m\nID: gen_3_011\nScore: 1823.434\nGenes:\n[[[0.  0.  0.  1.  0. ]\n  [0.  0.  0.  1.  0. ]\n  [0.  0.  0.  1.  0. ]]\n\n [[0.  0.  0.  1.  0. ]\n  [0.  0.  0.  1.  0. ]\n  [0.  0.  0.  0.5 0.5]]\n\n [[0.  0.  0.  1.  0. ]\n  [1.  0.  0.  0.  0. ]\n  [0.  0.  0.  1.  0. ]]]\n\n"
     ]
    }
   ],
   "source": [
    "ordinal = lambda n: \"%d%s\" % (n,\"tsnrhtdd\"[(n//10%10!=1)*(n%10<4)*n%10::4])\n",
    "print(\"Strategy_count:\")\n",
    "print(f\"{utils.tcolors.BOLD}{'#':<3} {'U':<5}{'D':<5}{'N':<5}{utils.tcolors.ENDC}\")\n",
    "for trend_count in range(3):\n",
    "    strategy_count = individuals[0].strategy_count[gen]\n",
    "    print(f\"{trend_count+1:<2}| {strategy_count['U'][trend_count]:<5}{strategy_count['D'][trend_count]:<5}{strategy_count['N'][trend_count]:<5}\")\n",
    "print()\n",
    "for ix, i in enumerate(sorted(individuals, key=lambda x: x.mean_score)):\n",
    "    print(f\"{utils.tcolors.BOLD}{ordinal(ix+1)} place:{utils.tcolors.ENDC}\")\n",
    "    print(f\"ID: {i.ID}\")\n",
    "    print(f\"Score: {np.round(i.mean_score, 3)}\")\n",
    "    print(f\"Genes:\\n{np.round(i.genes, 3)}\")\n",
    "    print()"
   ]
  },
  {
   "cell_type": "code",
   "execution_count": 123,
   "metadata": {},
   "outputs": [
    {
     "output_type": "stream",
     "name": "stdout",
     "text": [
      "[[[0.         0.         0.8125     0.1875     0.        ]\n  [0.         0.         1.         0.         0.        ]\n  [0.         0.         0.8125     0.1875     0.        ]]\n\n [[0.         0.         0.8125     0.1875     0.        ]\n  [0.         0.         0.8125     0.1875     0.        ]\n  [0.15789474 0.         0.68421053 0.15789474 0.        ]]\n\n [[0.         0.         0.8125     0.1875     0.        ]\n  [0.         0.         0.8125     0.1875     0.        ]\n  [0.         0.         0.8125     0.1875     0.        ]]]\n\n[0.01754386 0.         0.81907895 0.16337719 0.        ]\n"
     ]
    }
   ],
   "source": [
    "print(individuals[0].genes, end=\"\\n\"*2)\n",
    "genes = np.sum(individuals[0].genes, axis=(0,1))\n",
    "norm = np.sum(genes)\n",
    "norm_genes = np.divide(genes, norm)\n",
    "print(norm_genes)"
   ]
  },
  {
   "cell_type": "code",
   "execution_count": null,
   "metadata": {},
   "outputs": [],
   "source": []
  }
 ]
}