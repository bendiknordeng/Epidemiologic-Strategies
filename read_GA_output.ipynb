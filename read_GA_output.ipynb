{
 "metadata": {
  "language_info": {
   "codemirror_mode": {
    "name": "ipython",
    "version": 3
   },
   "file_extension": ".py",
   "mimetype": "text/x-python",
   "name": "python",
   "nbconvert_exporter": "python",
   "pygments_lexer": "ipython3",
   "version": "3.8.0"
  },
  "orig_nbformat": 2,
  "kernelspec": {
   "name": "python380jvsc74a57bd0612cff4a0ac5e6c37db1b07ee7abafa0758340b75711202652ee82ea5fa6d12e",
   "display_name": "Python 3.8.0 64-bit ('epidemics': conda)"
  }
 },
 "nbformat": 4,
 "nbformat_minor": 2,
 "cells": [
  {
   "cell_type": "code",
   "execution_count": 33,
   "metadata": {},
   "outputs": [],
   "source": [
    "from covid import utils\n",
    "import numpy as np\n",
    "import pandas as pd"
   ]
  },
  {
   "cell_type": "code",
   "execution_count": 71,
   "metadata": {},
   "outputs": [],
   "source": [
    "individuals_path =  \"/Users/sandernordeide/Epidemiologic-Vaccine-Strategies/results/GA_20210508171405/individuals/individuals_0.pkl\"\n",
    "score_path =        \"/Users/sandernordeide/Epidemiologic-Vaccine-Strategies/results/GA_20210508171405/final_scores/final_score_0.pkl\"\n",
    "overview_path =     \"/Users/sandernordeide/Epidemiologic-Vaccine-Strategies/results/GA_20210508171405/generation_overview.csv\"\n",
    "\n",
    "final_score = utils.read_pickle(score_path)\n",
    "individuals = utils.read_pickle(individuals_path)\n",
    "overview = pd.read_csv(overview_path)"
   ]
  },
  {
   "cell_type": "code",
   "execution_count": 72,
   "metadata": {},
   "outputs": [
    {
     "output_type": "stream",
     "name": "stdout",
     "text": [
      "5532.106066670124\n4574.034875684036\n"
     ]
    }
   ],
   "source": [
    "for ID in final_score.keys():\n",
    "    print(np.mean(final_score[ID]))"
   ]
  },
  {
   "cell_type": "code",
   "execution_count": 73,
   "metadata": {},
   "outputs": [
    {
     "output_type": "execute_result",
     "data": {
      "text/plain": [
       "   generation       individual   mean_score\n",
       "0           0  140732027070928  4574.034876\n",
       "1           0  140732027071264  5532.106067"
      ],
      "text/html": "<div>\n<style scoped>\n    .dataframe tbody tr th:only-of-type {\n        vertical-align: middle;\n    }\n\n    .dataframe tbody tr th {\n        vertical-align: top;\n    }\n\n    .dataframe thead th {\n        text-align: right;\n    }\n</style>\n<table border=\"1\" class=\"dataframe\">\n  <thead>\n    <tr style=\"text-align: right;\">\n      <th></th>\n      <th>generation</th>\n      <th>individual</th>\n      <th>mean_score</th>\n    </tr>\n  </thead>\n  <tbody>\n    <tr>\n      <th>0</th>\n      <td>0</td>\n      <td>140732027070928</td>\n      <td>4574.034876</td>\n    </tr>\n    <tr>\n      <th>1</th>\n      <td>0</td>\n      <td>140732027071264</td>\n      <td>5532.106067</td>\n    </tr>\n  </tbody>\n</table>\n</div>"
     },
     "metadata": {},
     "execution_count": 73
    }
   ],
   "source": [
    "overview.sort_values('mean_score')"
   ]
  },
  {
   "cell_type": "code",
   "execution_count": 83,
   "metadata": {},
   "outputs": [
    {
     "output_type": "stream",
     "name": "stdout",
     "text": [
      "ID: 140732027070928\nStrategy count: defaultdict(<class 'int'>, {'1': 10, '2': 10, '3': 9, '4': 9, 0: 0})\nScore: 4574.034875684036\nGenes\n[[[0. 1. 0. 0.]\n  [0. 1. 0. 0.]\n  [0. 1. 0. 0.]\n  [0. 1. 0. 0.]]\n\n [[0. 1. 0. 0.]\n  [0. 1. 0. 0.]\n  [0. 1. 0. 0.]\n  [0. 1. 0. 0.]]\n\n [[0. 1. 0. 0.]\n  [0. 1. 0. 0.]\n  [0. 1. 0. 0.]\n  [0. 1. 0. 0.]]]\n\nID: 140732027071264\nStrategy count: defaultdict(<class 'int'>, {'1': 10, '2': 10, '3': 9, '4': 9, 0: 0})\nScore: 5532.106066670124\nGenes\n[[[1. 0. 0. 0.]\n  [1. 0. 0. 0.]\n  [1. 0. 0. 0.]\n  [1. 0. 0. 0.]]\n\n [[1. 0. 0. 0.]\n  [1. 0. 0. 0.]\n  [1. 0. 0. 0.]\n  [1. 0. 0. 0.]]\n\n [[1. 0. 0. 0.]\n  [1. 0. 0. 0.]\n  [1. 0. 0. 0.]\n  [1. 0. 0. 0.]]]\n\n"
     ]
    }
   ],
   "source": [
    "for i in sorted(individuals, key=lambda x: x.mean_score):\n",
    "    print(f\"ID: {i.ID}\")\n",
    "    print(f\"Strategy count: {i.strategy_count['D']}\")\n",
    "    print(f\"Score: {i.mean_score}\")\n",
    "    print(f\"Genes\\n{i.genes}\")\n",
    "    print()"
   ]
  },
  {
   "cell_type": "code",
   "execution_count": 10,
   "metadata": {},
   "outputs": [
    {
     "output_type": "execute_result",
     "data": {
      "text/plain": [
       "array([[[0., 1., 0., 0.],\n",
       "        [0., 1., 0., 0.],\n",
       "        [0., 1., 0., 0.],\n",
       "        [0., 1., 0., 0.]],\n",
       "\n",
       "       [[0., 1., 0., 0.],\n",
       "        [0., 1., 0., 0.],\n",
       "        [0., 1., 0., 0.],\n",
       "        [0., 1., 0., 0.]],\n",
       "\n",
       "       [[0., 1., 0., 0.],\n",
       "        [0., 1., 0., 0.],\n",
       "        [0., 1., 0., 0.],\n",
       "        [0., 1., 0., 0.]]])"
      ]
     },
     "metadata": {},
     "execution_count": 10
    }
   ],
   "source": [
    "ind1.genes"
   ]
  },
  {
   "cell_type": "code",
   "execution_count": 11,
   "metadata": {},
   "outputs": [
    {
     "output_type": "execute_result",
     "data": {
      "text/plain": [
       "array([[[0.5, 0.5, 0. , 0. ],\n",
       "        [0. , 0.5, 0. , 0.5],\n",
       "        [0. , 1. , 0. , 0. ],\n",
       "        [0. , 1. , 0. , 0. ]],\n",
       "\n",
       "       [[0. , 0. , 1. , 0. ],\n",
       "        [0. , 1. , 0. , 0. ],\n",
       "        [0. , 1. , 0. , 0. ],\n",
       "        [0. , 1. , 0. , 0. ]],\n",
       "\n",
       "       [[0. , 1. , 0. , 0. ],\n",
       "        [1. , 0. , 0. , 0. ],\n",
       "        [1. , 0. , 0. , 0. ],\n",
       "        [0. , 1. , 0. , 0. ]]])"
      ]
     },
     "metadata": {},
     "execution_count": 11
    }
   ],
   "source": [
    "ind2.genes"
   ]
  },
  {
   "cell_type": "code",
   "execution_count": null,
   "metadata": {},
   "outputs": [],
   "source": []
  }
 ]
}