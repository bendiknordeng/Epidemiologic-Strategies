{
 "metadata": {
  "language_info": {
   "codemirror_mode": {
    "name": "ipython",
    "version": 3
   },
   "file_extension": ".py",
   "mimetype": "text/x-python",
   "name": "python",
   "nbconvert_exporter": "python",
   "pygments_lexer": "ipython3",
   "version": "3.8.0"
  },
  "orig_nbformat": 2,
  "kernelspec": {
   "name": "python380jvsc74a57bd0d1135e85b24d6fc36dc6a0cb37a446f4ea6c1d1c5d9ce7e53624fd1bcca00fa0",
   "display_name": "Python 3.8.0 64-bit ('epidemics': conda)"
  }
 },
 "nbformat": 4,
 "nbformat_minor": 2,
 "cells": [
  {
   "cell_type": "code",
   "execution_count": 124,
   "metadata": {},
   "outputs": [],
   "source": [
    "import os\n",
    "import utils\n",
    "import numpy as np\n",
    "import pandas as pd"
   ]
  },
  {
   "cell_type": "code",
   "execution_count": 125,
   "metadata": {},
   "outputs": [],
   "source": [
    "def read_all_results(dir_path):\n",
    "    paths = os.listdir(dir_path)\n",
    "    last_gens = []\n",
    "    for i in range(len(paths)):\n",
    "        path = dir_path + paths[i]\n",
    "        last_gen = sorted(map(lambda x: x.split(\"_\"), \n",
    "                        os.listdir(f\"{path}/individuals/\")), \n",
    "                        key=lambda x: int(x[1].split(\".\")[0]))[-1][-1][:-4]\n",
    "        print(f\"Path: {paths[i]}, last generation: {int(last_gen)}\")\n",
    "        last_gens.append(int(last_gen))\n",
    "    return paths, last_gens"
   ]
  },
  {
   "cell_type": "code",
   "execution_count": 126,
   "metadata": {},
   "outputs": [
    {
     "output_type": "stream",
     "name": "stdout",
     "text": [
      "Path: GA_2021_05_30_15_48_02, last generation: 6\n"
     ]
    }
   ],
   "source": [
    "dir_path = \"results/\"\n",
    "paths, last_gens = read_all_results(dir_path)"
   ]
  },
  {
   "cell_type": "code",
   "execution_count": 127,
   "metadata": {},
   "outputs": [],
   "source": [
    "run = 0\n",
    "gen = 6\n",
    "path = dir_path + paths[run]\n",
    "\n",
    "individuals_path =  f\"{path}/individuals/individuals_{gen}.pkl\"\n",
    "score_path       =  f\"{path}/final_scores/final_score_{gen}.pkl\"\n",
    "overview_path    =  f\"{path}/generation_overview.csv\"\n",
    "\n",
    "final_score = utils.read_pickle(score_path)\n",
    "individuals = utils.read_pickle(individuals_path)\n",
    "overview = pd.read_csv(overview_path)"
   ]
  },
  {
   "cell_type": "code",
   "execution_count": 128,
   "metadata": {},
   "outputs": [
    {
     "output_type": "stream",
     "name": "stdout",
     "text": [
      "{\n    \"objective\": \"deaths\",\n    \"simulations\": 3,\n    \"process\": {\n        \"horizon\": 74,\n        \"decision_period\": 28,\n        \"policy\": \"weighted\"\n    },\n    \"population_size\": 10,\n    \"random_individuals\": false,\n    \"min_generations\": 10\n}\n"
     ]
    }
   ],
   "source": [
    "with open(dir_path + paths[run] + \"/run_params.json\", \"r\") as file:\n",
    "    print(file.read())\n",
    "    file.close()"
   ]
  },
  {
   "cell_type": "code",
   "execution_count": 129,
   "metadata": {
    "tags": []
   },
   "outputs": [
    {
     "output_type": "stream",
     "name": "stdout",
     "text": [
      "Strategy_count:\n\u001b[1m#   U    D    N    \u001b[0m\n1 | 3    3    3    \n2 | 2    1    3    \n3 | 0    0    3    \n\n\u001b[1m1st place:\u001b[0m\nID: gen_5_011\nScore: 866.979\nGenes:\n[[[0. 0. 0. 1. 0.]\n  [0. 0. 0. 1. 0.]\n  [0. 0. 0. 1. 0.]]\n\n [[0. 0. 0. 1. 0.]\n  [0. 0. 0. 1. 0.]\n  [0. 0. 0. 1. 0.]]\n\n [[0. 0. 0. 1. 0.]\n  [0. 0. 0. 1. 0.]\n  [0. 0. 0. 1. 0.]]]\n\n\u001b[1m2nd place:\u001b[0m\nID: gen_6_001\nScore: 893.698\nGenes:\n[[[0. 0. 0. 1. 0.]\n  [0. 0. 0. 1. 0.]\n  [0. 0. 0. 1. 0.]]\n\n [[0. 0. 0. 1. 0.]\n  [0. 0. 0. 1. 0.]\n  [0. 0. 0. 1. 0.]]\n\n [[0. 0. 0. 1. 0.]\n  [0. 0. 0. 1. 0.]\n  [0. 0. 0. 1. 0.]]]\n\n\u001b[1m3rd place:\u001b[0m\nID: gen_4_014\nScore: 931.747\nGenes:\n[[[0.028 0.    0.    0.972 0.   ]\n  [0.    0.    0.125 0.875 0.   ]\n  [0.    0.    0.144 0.856 0.   ]]\n\n [[0.111 0.    0.111 0.778 0.   ]\n  [0.    0.    0.125 0.875 0.   ]\n  [0.    0.    0.094 0.906 0.   ]]\n\n [[0.    0.    0.125 0.875 0.   ]\n  [0.    0.    0.    1.    0.   ]\n  [0.    0.122 0.122 0.756 0.   ]]]\n\n\u001b[1m4th place:\u001b[0m\nID: gen_3_011\nScore: 943.132\nGenes:\n[[[0.111 0.    0.    0.889 0.   ]\n  [0.    0.    0.125 0.875 0.   ]\n  [0.    0.    0.2   0.8   0.   ]]\n\n [[0.    0.    0.125 0.875 0.   ]\n  [0.    0.    0.125 0.875 0.   ]\n  [0.    0.    0.    1.    0.   ]]\n\n [[0.    0.    0.125 0.875 0.   ]\n  [0.    0.    0.125 0.875 0.   ]\n  [0.    0.154 0.154 0.692 0.   ]]]\n\n\u001b[1m5th place:\u001b[0m\nID: gen_1_004\nScore: 943.92\nGenes:\n[[[0.    0.    0.    1.    0.   ]\n  [0.    0.    0.125 0.875 0.   ]\n  [0.    0.    0.125 0.875 0.   ]]\n\n [[0.    0.    0.125 0.875 0.   ]\n  [0.    0.    0.125 0.875 0.   ]\n  [0.    0.    0.125 0.875 0.   ]]\n\n [[0.    0.    0.125 0.875 0.   ]\n  [0.    0.    0.125 0.875 0.   ]\n  [0.    0.111 0.111 0.778 0.   ]]]\n\n\u001b[1m6th place:\u001b[0m\nID: gen_0_008\nScore: 944.19\nGenes:\n[[[0.  0.  0.5 0.5 0. ]\n  [0.  0.  0.5 0.5 0. ]\n  [0.  0.  0.5 0.5 0. ]]\n\n [[0.  0.  0.5 0.5 0. ]\n  [0.  0.  0.5 0.5 0. ]\n  [0.  0.  0.5 0.5 0. ]]\n\n [[0.  0.  0.5 0.5 0. ]\n  [0.  0.  0.5 0.5 0. ]\n  [0.  0.  0.5 0.5 0. ]]]\n\n\u001b[1m7th place:\u001b[0m\nID: gen_0_003\nScore: 944.62\nGenes:\n[[[0.5 0.  0.  0.5 0. ]\n  [0.  0.  0.  1.  0. ]\n  [0.  0.  0.  1.  0. ]]\n\n [[0.  0.  0.  1.  0. ]\n  [0.  0.  0.  1.  0. ]\n  [0.  0.  0.  1.  0. ]]\n\n [[0.  0.  0.  1.  0. ]\n  [0.  0.  0.  1.  0. ]\n  [1.  0.  0.  0.  0. ]]]\n\n\u001b[1m8th place:\u001b[0m\nID: gen_2_014\nScore: 944.776\nGenes:\n[[[0.    0.    0.    1.    0.   ]\n  [0.    0.    0.094 0.906 0.   ]\n  [0.    0.    0.094 0.906 0.   ]]\n\n [[0.    0.    0.094 0.906 0.   ]\n  [0.    0.    0.094 0.906 0.   ]\n  [0.    0.    0.094 0.906 0.   ]]\n\n [[0.    0.    0.094 0.906 0.   ]\n  [0.    0.    0.094 0.906 0.   ]\n  [0.    0.083 0.083 0.833 0.   ]]]\n\n\u001b[1m9th place:\u001b[0m\nID: gen_0_006\nScore: 1046.663\nGenes:\n[[[0.  0.5 0.  0.5 0. ]\n  [0.  0.5 0.  0.5 0. ]\n  [0.  0.5 0.  0.5 0. ]]\n\n [[0.  0.5 0.  0.5 0. ]\n  [0.  0.5 0.  0.5 0. ]\n  [0.  0.5 0.  0.5 0. ]]\n\n [[0.  0.5 0.  0.5 0. ]\n  [0.  0.5 0.  0.5 0. ]\n  [0.  0.5 0.  0.5 0. ]]]\n\n\u001b[1m10th place:\u001b[0m\nID: gen_0_010\nScore: 1123.243\nGenes:\n[[[0.  0.  0.  0.5 0.5]\n  [0.  0.  0.  0.5 0.5]\n  [0.  0.  0.  0.5 0.5]]\n\n [[0.  0.  0.  0.5 0.5]\n  [0.  0.  0.  0.5 0.5]\n  [0.  0.  0.  0.5 0.5]]\n\n [[0.  0.  0.  0.5 0.5]\n  [0.  0.  0.  0.5 0.5]\n  [0.  0.  0.  0.5 0.5]]]\n\n\u001b[1m11th place:\u001b[0m\nID: gen_0_002\nScore: 1189.485\nGenes:\n[[[0. 0. 1. 0. 0.]\n  [0. 0. 1. 0. 0.]\n  [0. 0. 1. 0. 0.]]\n\n [[0. 0. 1. 0. 0.]\n  [0. 0. 1. 0. 0.]\n  [0. 0. 1. 0. 0.]]\n\n [[0. 0. 1. 0. 0.]\n  [0. 0. 1. 0. 0.]\n  [0. 0. 1. 0. 0.]]]\n\n\u001b[1m12th place:\u001b[0m\nID: gen_0_005\nScore: 1265.379\nGenes:\n[[[0.  0.5 0.5 0.  0. ]\n  [0.  0.5 0.5 0.  0. ]\n  [0.  0.5 0.5 0.  0. ]]\n\n [[0.  0.5 0.5 0.  0. ]\n  [0.  0.5 0.5 0.  0. ]\n  [0.  0.5 0.5 0.  0. ]]\n\n [[0.  0.5 0.5 0.  0. ]\n  [0.  0.5 0.5 0.  0. ]\n  [0.  0.5 0.5 0.  0. ]]]\n\n\u001b[1m13th place:\u001b[0m\nID: gen_0_009\nScore: 1358.754\nGenes:\n[[[0.  0.  0.5 0.  0.5]\n  [0.  0.  0.5 0.  0.5]\n  [0.  0.  0.5 0.  0.5]]\n\n [[0.  0.  0.5 0.  0.5]\n  [0.  0.  0.5 0.  0.5]\n  [0.  0.  0.5 0.  0.5]]\n\n [[0.  0.  0.5 0.  0.5]\n  [0.  0.  0.5 0.  0.5]\n  [0.  0.  0.5 0.  0.5]]]\n\n\u001b[1m14th place:\u001b[0m\nID: gen_0_001\nScore: 1427.295\nGenes:\n[[[0. 1. 0. 0. 0.]\n  [0. 1. 0. 0. 0.]\n  [0. 1. 0. 0. 0.]]\n\n [[0. 1. 0. 0. 0.]\n  [0. 1. 0. 0. 0.]\n  [0. 1. 0. 0. 0.]]\n\n [[0. 1. 0. 0. 0.]\n  [0. 1. 0. 0. 0.]\n  [0. 1. 0. 0. 0.]]]\n\n\u001b[1m15th place:\u001b[0m\nID: gen_0_007\nScore: 1653.705\nGenes:\n[[[0.  0.5 0.  0.  0.5]\n  [0.  0.5 0.  0.  0.5]\n  [0.  0.5 0.  0.  0.5]]\n\n [[0.  0.5 0.  0.  0.5]\n  [0.  0.5 0.  0.  0.5]\n  [0.  0.5 0.  0.  0.5]]\n\n [[0.  0.5 0.  0.  0.5]\n  [0.  0.5 0.  0.  0.5]\n  [0.  0.5 0.  0.  0.5]]]\n\n\u001b[1m16th place:\u001b[0m\nID: gen_0_004\nScore: 1660.687\nGenes:\n[[[0. 0. 0. 0. 1.]\n  [0. 0. 0. 0. 1.]\n  [0. 0. 0. 0. 1.]]\n\n [[0. 0. 0. 0. 1.]\n  [0. 0. 0. 0. 1.]\n  [0. 0. 0. 0. 1.]]\n\n [[0. 0. 0. 0. 1.]\n  [0. 0. 0. 0. 1.]\n  [0. 0. 0. 0. 1.]]]\n\n"
     ]
    }
   ],
   "source": [
    "ordinal = lambda n: \"%d%s\" % (n,\"tsnrhtdd\"[(n//10%10!=1)*(n%10<4)*n%10::4])\n",
    "print(\"Strategy_count:\")\n",
    "print(f\"{utils.tcolors.BOLD}{'#':<3} {'U':<5}{'D':<5}{'N':<5}{utils.tcolors.ENDC}\")\n",
    "for trend_count in range(3):\n",
    "    strategy_count = individuals[0].strategy_count[gen]\n",
    "    print(f\"{trend_count+1:<2}| {strategy_count['U'][trend_count]:<5}{strategy_count['D'][trend_count]:<5}{strategy_count['N'][trend_count]:<5}\")\n",
    "print()\n",
    "for ix, i in enumerate(sorted(individuals, key=lambda x: x.mean_score)):\n",
    "    print(f\"{utils.tcolors.BOLD}{ordinal(ix+1)} place:{utils.tcolors.ENDC}\")\n",
    "    print(f\"ID: {i.ID}\")\n",
    "    print(f\"Score: {np.round(i.mean_score, 3)}\")\n",
    "    print(f\"Genes:\\n{np.round(i.genes, 3)}\")\n",
    "    print()"
   ]
  },
  {
   "cell_type": "code",
   "execution_count": 123,
   "metadata": {},
   "outputs": [
    {
     "output_type": "stream",
     "name": "stdout",
     "text": [
      "[[[0.         0.         0.8125     0.1875     0.        ]\n  [0.         0.         1.         0.         0.        ]\n  [0.         0.         0.8125     0.1875     0.        ]]\n\n [[0.         0.         0.8125     0.1875     0.        ]\n  [0.         0.         0.8125     0.1875     0.        ]\n  [0.15789474 0.         0.68421053 0.15789474 0.        ]]\n\n [[0.         0.         0.8125     0.1875     0.        ]\n  [0.         0.         0.8125     0.1875     0.        ]\n  [0.         0.         0.8125     0.1875     0.        ]]]\n\n[0.01754386 0.         0.81907895 0.16337719 0.        ]\n"
     ]
    }
   ],
   "source": [
    "print(individuals[0].genes, end=\"\\n\"*2)\n",
    "genes = np.sum(individuals[0].genes, axis=(0,1))\n",
    "norm = np.sum(genes)\n",
    "norm_genes = np.divide(genes, norm)\n",
    "print(norm_genes)"
   ]
  },
  {
   "cell_type": "code",
   "execution_count": null,
   "metadata": {},
   "outputs": [],
   "source": []
  }
 ]
}