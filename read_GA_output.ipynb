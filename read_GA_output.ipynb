{
 "metadata": {
  "language_info": {
   "codemirror_mode": {
    "name": "ipython",
    "version": 3
   },
   "file_extension": ".py",
   "mimetype": "text/x-python",
   "name": "python",
   "nbconvert_exporter": "python",
   "pygments_lexer": "ipython3",
   "version": "3.8.0"
  },
  "orig_nbformat": 2,
  "kernelspec": {
   "name": "python380jvsc74a57bd0d1135e85b24d6fc36dc6a0cb37a446f4ea6c1d1c5d9ce7e53624fd1bcca00fa0",
   "display_name": "Python 3.8.0 64-bit ('epidemics': conda)"
  }
 },
 "nbformat": 4,
 "nbformat_minor": 2,
 "cells": [
  {
   "cell_type": "code",
   "execution_count": 22,
   "metadata": {},
   "outputs": [],
   "source": [
    "import os\n",
    "import utils\n",
    "import numpy as np\n",
    "import pandas as pd"
   ]
  },
  {
   "cell_type": "code",
   "execution_count": 25,
   "metadata": {},
   "outputs": [],
   "source": [
    "def read_all_results(dir_path):\n",
    "    paths = os.listdir(dir_path)\n",
    "    last_gens = []\n",
    "    for i in range(len(paths)):\n",
    "        path = dir_path + paths[i]\n",
    "        last_gen = sorted(map(lambda x: x.split(\"_\"), \n",
    "                        os.listdir(f\"{path}/individuals/\")), \n",
    "                        key=lambda x: int(x[1].split(\".\")[0]))[-1][-1][:-4]\n",
    "        print(f\"Path: {paths[i]}, last generation: {int(last_gen)}\")\n",
    "        last_gens.append(int(last_gen))\n",
    "    return paths, last_gens"
   ]
  },
  {
   "cell_type": "code",
   "execution_count": 37,
   "metadata": {},
   "outputs": [
    {
     "output_type": "stream",
     "name": "stdout",
     "text": [
      "Path: GA_2021_05_29_19_31_36, last generation: 2\n"
     ]
    }
   ],
   "source": [
    "dir_path = \"results/\"\n",
    "paths, last_gens = read_all_results(dir_path)"
   ]
  },
  {
   "cell_type": "code",
   "execution_count": 38,
   "metadata": {},
   "outputs": [],
   "source": [
    "run = 0\n",
    "gen = 2\n",
    "path = dir_path + paths[run]\n",
    "\n",
    "individuals_path =  f\"{path}/individuals/individuals_{gen}.pkl\"\n",
    "score_path       =  f\"{path}/final_scores/final_score_{gen}.pkl\"\n",
    "overview_path    =  f\"{path}/generation_overview.csv\"\n",
    "\n",
    "final_score = utils.read_pickle(score_path)\n",
    "individuals = utils.read_pickle(individuals_path)\n",
    "overview = pd.read_csv(overview_path)"
   ]
  },
  {
   "cell_type": "code",
   "execution_count": 40,
   "metadata": {},
   "outputs": [
    {
     "output_type": "stream",
     "name": "stdout",
     "text": [
      "{\n    \"objective\": \"deaths\",\n    \"simulations\": 3,\n    \"process\": {\n        \"horizon\": 74,\n        \"decision_period\": 28,\n        \"policy\": \"weighted\"\n    },\n    \"population_size\": 3,\n    \"random_individuals\": true,\n    \"min_generations\": 0\n}\n"
     ]
    }
   ],
   "source": [
    "with open(dir_path + paths[run] + \"/run_params.json\", \"r\") as file:\n",
    "    print(file.read())\n",
    "    file.close()"
   ]
  },
  {
   "cell_type": "code",
   "execution_count": 41,
   "metadata": {
    "tags": []
   },
   "outputs": [
    {
     "output_type": "stream",
     "name": "stdout",
     "text": [
      "Strategy_count:\n\u001b[1m#   U    D    N    \u001b[0m\n1 | 3    3    3    \n2 | 2    2    3    \n3 | 1    1    3    \n\n\u001b[1m1st place:\u001b[0m\nID: gen_2_009\nScore: 1548.548\nGenes:\n[[[0.16  0.186 0.194 0.262 0.198]\n  [0.145 0.127 0.199 0.3   0.229]\n  [0.097 0.316 0.26  0.07  0.258]]\n\n [[0.071 0.203 0.253 0.283 0.19 ]\n  [0.228 0.175 0.256 0.19  0.151]\n  [0.122 0.084 0.303 0.28  0.211]]\n\n [[0.099 0.304 0.231 0.245 0.121]\n  [0.128 0.314 0.227 0.159 0.171]\n  [0.232 0.146 0.2   0.165 0.256]]]\n\n\u001b[1m2nd place:\u001b[0m\nID: gen_0_003\nScore: 1569.005\nGenes:\n[[[0.    0.429 0.071 0.23  0.27 ]\n  [0.029 0.072 0.197 0.476 0.226]\n  [0.11  0.3   0.271 0.026 0.293]]\n\n [[0.227 0.162 0.239 0.291 0.081]\n  [0.245 0.065 0.239 0.295 0.155]\n  [0.033 0.107 0.346 0.283 0.232]]\n\n [[0.281 0.281 0.231 0.056 0.151]\n  [0.276 0.164 0.22  0.185 0.155]\n  [0.177 0.196 0.117 0.256 0.253]]]\n\n\u001b[1m3rd place:\u001b[0m\nID: gen_0_001\nScore: 1570.651\nGenes:\n[[[0.2   0.096 0.244 0.247 0.214]\n  [0.148 0.142 0.161 0.284 0.265]\n  [0.085 0.352 0.253 0.028 0.281]]\n\n [[0.    0.186 0.253 0.285 0.276]\n  [0.235 0.246 0.246 0.174 0.1  ]\n  [0.097 0.043 0.329 0.384 0.147]]\n\n [[0.051 0.316 0.221 0.333 0.078]\n  [0.086 0.265 0.261 0.127 0.261]\n  [0.2   0.096 0.259 0.126 0.319]]]\n\n\u001b[1m4th place:\u001b[0m\nID: gen_1_005\nScore: 1618.433\nGenes:\n[[[0.214 0.105 0.235 0.273 0.173]\n  [0.183 0.145 0.199 0.242 0.23 ]\n  [0.092 0.321 0.257 0.085 0.246]]\n\n [[0.018 0.216 0.258 0.28  0.227]\n  [0.223 0.211 0.262 0.154 0.15 ]\n  [0.143 0.07  0.265 0.335 0.188]]\n\n [[0.046 0.258 0.249 0.327 0.121]\n  [0.078 0.365 0.23  0.15  0.177]\n  [0.25  0.129 0.228 0.135 0.257]]]\n\n"
     ]
    }
   ],
   "source": [
    "ordinal = lambda n: \"%d%s\" % (n,\"tsnrhtdd\"[(n//10%10!=1)*(n%10<4)*n%10::4])\n",
    "print(\"Strategy_count:\")\n",
    "print(f\"{utils.tcolors.BOLD}{'#':<3} {'U':<5}{'D':<5}{'N':<5}{utils.tcolors.ENDC}\")\n",
    "for trend_count in range(3):\n",
    "    strategy_count = individuals[0].strategy_count[gen]\n",
    "    print(f\"{trend_count+1:<2}| {strategy_count['U'][trend_count]:<5}{strategy_count['D'][trend_count]:<5}{strategy_count['N'][trend_count]:<5}\")\n",
    "print()\n",
    "for ix, i in enumerate(sorted(individuals, key=lambda x: x.mean_score)):\n",
    "    print(f\"{utils.tcolors.BOLD}{ordinal(ix+1)} place:{utils.tcolors.ENDC}\")\n",
    "    print(f\"ID: {i.ID}\")\n",
    "    print(f\"Score: {np.round(i.mean_score, 3)}\")\n",
    "    print(f\"Genes:\\n{np.round(i.genes, 3)}\")\n",
    "    print()"
   ]
  },
  {
   "cell_type": "code",
   "execution_count": 30,
   "metadata": {},
   "outputs": [
    {
     "output_type": "stream",
     "name": "stdout",
     "text": [
      "[[[0.02772154 0.12981317 0.46594438 0.02156354 0.06452118 0.2904362 ]\n  [0.45667618 0.         0.         0.12511083 0.         0.41821299]\n  [0.         0.         0.99358962 0.         0.         0.00641038]]\n\n [[0.         0.         0.83418633 0.         0.         0.16581367]\n  [0.23311384 0.2417248  0.31167746 0.         0.02920702 0.18427689]\n  [0.01268598 0.         0.86100509 0.03305378 0.04611612 0.04713902]]\n\n [[0.14493941 0.43808816 0.27745665 0.         0.         0.13951578]\n  [0.25355091 0.08738514 0.08570492 0.25355091 0.0047617  0.31504641]\n  [0.01869097 0.15650874 0.20236493 0.0408563  0.5704409  0.01113814]]]\n\n[0.12748654 0.11705778 0.44799215 0.05268171 0.07944966 0.17533217]\n"
     ]
    }
   ],
   "source": [
    "print(individuals[0].genes, end=\"\\n\"*2)\n",
    "genes = np.sum(individuals[0].genes, axis=(0,1))\n",
    "norm = np.sum(genes)\n",
    "norm_genes = np.divide(genes, norm)\n",
    "print(norm_genes)"
   ]
  }
 ]
}