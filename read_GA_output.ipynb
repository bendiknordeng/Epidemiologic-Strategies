{
 "metadata": {
  "language_info": {
   "codemirror_mode": {
    "name": "ipython",
    "version": 3
   },
   "file_extension": ".py",
   "mimetype": "text/x-python",
   "name": "python",
   "nbconvert_exporter": "python",
   "pygments_lexer": "ipython3",
   "version": "3.8.0"
  },
  "orig_nbformat": 2,
  "kernelspec": {
   "name": "python3",
   "display_name": "Python 3.8.0 64-bit",
   "metadata": {
    "interpreter": {
     "hash": "a27ded30c4e4b14185924a683e747b76bdd4cf7542fb7281cb88661d123cb6fe"
    }
   }
  }
 },
 "nbformat": 4,
 "nbformat_minor": 2,
 "cells": [
  {
   "cell_type": "code",
   "execution_count": 5,
   "metadata": {},
   "outputs": [],
   "source": [
    "from covid import utils\n",
    "import numpy as np\n",
    "import pandas as pd"
   ]
  },
  {
   "cell_type": "code",
   "execution_count": 21,
   "metadata": {},
   "outputs": [],
   "source": [
    "individuals_path =  \"results/GA_20210508173938/individuals/individuals_2.pkl\"\n",
    "score_path =        \"results/GA_20210508173938/final_scores/final_score_2.pkl\"\n",
    "overview_path =     \"results/GA_20210508173938/generation_overview.csv\"\n",
    "\n",
    "final_score = utils.read_pickle(score_path)\n",
    "individuals = utils.read_pickle(individuals_path)\n",
    "overview = pd.read_csv(overview_path)"
   ]
  },
  {
   "cell_type": "code",
   "execution_count": 23,
   "metadata": {},
   "outputs": [
    {
     "output_type": "execute_result",
     "data": {
      "text/plain": [
       "   generation     individual   mean_score\n",
       "2           1  2157052449552  4047.619763\n",
       "3           1  2157051561920  4128.644157\n",
       "5           2  2157051729424  4469.259725\n",
       "6           2  2157052449552  4482.051940\n",
       "0           0  2157052449552  4574.034876\n",
       "7           2  2157051561920  4596.778285\n",
       "4           1  2157052450992  4899.601356\n",
       "8           2  2157052450992  5342.060047\n",
       "1           0  2157052450992  5532.106067"
      ],
      "text/html": "<div>\n<style scoped>\n    .dataframe tbody tr th:only-of-type {\n        vertical-align: middle;\n    }\n\n    .dataframe tbody tr th {\n        vertical-align: top;\n    }\n\n    .dataframe thead th {\n        text-align: right;\n    }\n</style>\n<table border=\"1\" class=\"dataframe\">\n  <thead>\n    <tr style=\"text-align: right;\">\n      <th></th>\n      <th>generation</th>\n      <th>individual</th>\n      <th>mean_score</th>\n    </tr>\n  </thead>\n  <tbody>\n    <tr>\n      <th>2</th>\n      <td>1</td>\n      <td>2157052449552</td>\n      <td>4047.619763</td>\n    </tr>\n    <tr>\n      <th>3</th>\n      <td>1</td>\n      <td>2157051561920</td>\n      <td>4128.644157</td>\n    </tr>\n    <tr>\n      <th>5</th>\n      <td>2</td>\n      <td>2157051729424</td>\n      <td>4469.259725</td>\n    </tr>\n    <tr>\n      <th>6</th>\n      <td>2</td>\n      <td>2157052449552</td>\n      <td>4482.051940</td>\n    </tr>\n    <tr>\n      <th>0</th>\n      <td>0</td>\n      <td>2157052449552</td>\n      <td>4574.034876</td>\n    </tr>\n    <tr>\n      <th>7</th>\n      <td>2</td>\n      <td>2157051561920</td>\n      <td>4596.778285</td>\n    </tr>\n    <tr>\n      <th>4</th>\n      <td>1</td>\n      <td>2157052450992</td>\n      <td>4899.601356</td>\n    </tr>\n    <tr>\n      <th>8</th>\n      <td>2</td>\n      <td>2157052450992</td>\n      <td>5342.060047</td>\n    </tr>\n    <tr>\n      <th>1</th>\n      <td>0</td>\n      <td>2157052450992</td>\n      <td>5532.106067</td>\n    </tr>\n  </tbody>\n</table>\n</div>"
     },
     "metadata": {},
     "execution_count": 23
    }
   ],
   "source": [
    "overview.sort_values('mean_score')"
   ]
  },
  {
   "cell_type": "code",
   "execution_count": 31,
   "metadata": {},
   "outputs": [
    {
     "output_type": "stream",
     "name": "stdout",
     "text": [
      "ID: 2157051729424\nScore: 4469.259725124631\nStrategy count:\n    U    D    N\n1: 35   35   24   \n2: 35   34   11   \n3: 33   21   3    \n4: 13   2    1    \nGenes\n[[[0.    1.    0.    0.   ]\n  [0.    1.    0.    0.   ]\n  [0.5   0.5   0.    0.   ]\n  [0.5   0.5   0.    0.   ]]\n\n [[0.    1.    0.    0.   ]\n  [0.    0.5   0.5   0.   ]\n  [0.    0.75  0.    0.25 ]\n  [0.    0.75  0.    0.25 ]]\n\n [[0.    1.    0.    0.   ]\n  [0.5   0.5   0.    0.   ]\n  [0.5   0.375 0.125 0.   ]\n  [0.5   0.5   0.    0.   ]]]\n\nID: 2157052449552\nScore: 4482.051939589164\nStrategy count:\n    U    D    N\n1: 115  115  86   \n2: 115  113  44   \n3: 102  77   17   \n4: 46   18   1    \nGenes\n[[[0. 1. 0. 0.]\n  [0. 1. 0. 0.]\n  [0. 1. 0. 0.]\n  [0. 1. 0. 0.]]\n\n [[0. 1. 0. 0.]\n  [0. 1. 0. 0.]\n  [0. 1. 0. 0.]\n  [0. 1. 0. 0.]]\n\n [[0. 1. 0. 0.]\n  [0. 1. 0. 0.]\n  [0. 1. 0. 0.]\n  [0. 1. 0. 0.]]]\n\nID: 2157051561920\nScore: 4596.778284751467\nStrategy count:\n    U    D    N\n1: 60   60   46   \n2: 60   58   24   \n3: 55   35   6    \n4: 23   6    1    \nGenes\n[[[0.         1.         0.         0.        ]\n  [0.         1.         0.         0.        ]\n  [1.         0.         0.         0.        ]\n  [1.         0.         0.         0.        ]]\n\n [[0.         1.         0.         0.        ]\n  [0.         0.         1.         0.        ]\n  [0.         0.5        0.         0.5       ]\n  [0.33333333 0.33333333 0.         0.33333333]]\n\n [[0.         1.         0.         0.        ]\n  [1.         0.         0.         0.        ]\n  [1.         0.         0.         0.        ]\n  [1.         0.         0.         0.        ]]]\n\nID: 2157052450992\nScore: 5342.060047229632\nStrategy count:\n    U    D    N\n1: 55   55   38   \n2: 55   53   21   \n3: 50   34   7    \n4: 23   6    1    \nGenes\n[[[1. 0. 0. 0.]\n  [1. 0. 0. 0.]\n  [1. 0. 0. 0.]\n  [1. 0. 0. 0.]]\n\n [[1. 0. 0. 0.]\n  [1. 0. 0. 0.]\n  [1. 0. 0. 0.]\n  [1. 0. 0. 0.]]\n\n [[1. 0. 0. 0.]\n  [1. 0. 0. 0.]\n  [1. 0. 0. 0.]\n  [1. 0. 0. 0.]]]\n\n"
     ]
    }
   ],
   "source": [
    "for i in sorted(individuals, key=lambda x: x.mean_score):\n",
    "    print(f\"ID: {i.ID}\")\n",
    "    print(f\"Score: {i.mean_score}\")\n",
    "    print(\"Strategy count:\")\n",
    "    print(f\"{'U':>5}{'D':>5}{'N':>5}\")\n",
    "    for w in range(1,5):\n",
    "        print(f\"{w}: {i.strategy_count['U'][str(w)]:<5}{i.strategy_count['D'][str(w)]:<5}{i.strategy_count['N'][str(w)]:<5}\")\n",
    "    print(f\"Genes\\n{i.genes}\")\n",
    "    print()"
   ]
  }
 ]
}