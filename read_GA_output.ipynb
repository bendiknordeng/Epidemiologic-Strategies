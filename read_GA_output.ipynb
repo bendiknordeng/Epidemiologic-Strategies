{
 "metadata": {
  "language_info": {
   "codemirror_mode": {
    "name": "ipython",
    "version": 3
   },
   "file_extension": ".py",
   "mimetype": "text/x-python",
   "name": "python",
   "nbconvert_exporter": "python",
   "pygments_lexer": "ipython3",
   "version": "3.8.0"
  },
  "orig_nbformat": 2,
  "kernelspec": {
   "name": "python3",
   "display_name": "Python 3.8.0 64-bit",
   "metadata": {
    "interpreter": {
     "hash": "a27ded30c4e4b14185924a683e747b76bdd4cf7542fb7281cb88661d123cb6fe"
    }
   }
  }
 },
 "nbformat": 4,
 "nbformat_minor": 2,
 "cells": [
  {
   "cell_type": "code",
   "execution_count": 5,
   "metadata": {},
   "outputs": [],
   "source": [
    "from covid import utils\n",
    "import numpy as np\n",
    "import pandas as pd"
   ]
  },
  {
   "cell_type": "code",
   "execution_count": 57,
   "metadata": {},
   "outputs": [],
   "source": [
    "path = \"results/GA_20210508185341\"\n",
    "gen = 0\n",
    "\n",
    "individuals_path =  f\"{path}/individuals/individuals_{gen}.pkl\"\n",
    "score_path       =  f\"{path}/final_scores/final_score_{gen}.pkl\"\n",
    "overview_path    =  f\"{path}/generation_overview.csv\"\n",
    "\n",
    "final_score = utils.read_pickle(score_path)\n",
    "individuals = utils.read_pickle(individuals_path)\n",
    "overview = pd.read_csv(overview_path)"
   ]
  },
  {
   "cell_type": "code",
   "execution_count": 58,
   "metadata": {},
   "outputs": [
    {
     "output_type": "execute_result",
     "data": {
      "text/plain": [
       "   generation     individual   mean_score\n",
       "0           0  2544933905168  4365.723017\n",
       "1           0  2544933906608  5357.139245"
      ],
      "text/html": "<div>\n<style scoped>\n    .dataframe tbody tr th:only-of-type {\n        vertical-align: middle;\n    }\n\n    .dataframe tbody tr th {\n        vertical-align: top;\n    }\n\n    .dataframe thead th {\n        text-align: right;\n    }\n</style>\n<table border=\"1\" class=\"dataframe\">\n  <thead>\n    <tr style=\"text-align: right;\">\n      <th></th>\n      <th>generation</th>\n      <th>individual</th>\n      <th>mean_score</th>\n    </tr>\n  </thead>\n  <tbody>\n    <tr>\n      <th>0</th>\n      <td>0</td>\n      <td>2544933905168</td>\n      <td>4365.723017</td>\n    </tr>\n    <tr>\n      <th>1</th>\n      <td>0</td>\n      <td>2544933906608</td>\n      <td>5357.139245</td>\n    </tr>\n  </tbody>\n</table>\n</div>"
     },
     "metadata": {},
     "execution_count": 58
    }
   ],
   "source": [
    "overview.sort_values('mean_score')"
   ]
  },
  {
   "cell_type": "code",
   "execution_count": 60,
   "metadata": {},
   "outputs": [
    {
     "output_type": "stream",
     "name": "stdout",
     "text": [
      "ID: 2544933905168\nScore: 4365.723017107147\nStrategy count:\n    U    D    N\n1: 0    2    2    \n2: 2    7    3    \n3: 8    4    2    \n4: 4    0    0    \nGenes:\n[[[0. 1. 0. 0.]\n  [0. 1. 0. 0.]\n  [0. 1. 0. 0.]\n  [0. 1. 0. 0.]]\n\n [[0. 1. 0. 0.]\n  [0. 1. 0. 0.]\n  [0. 1. 0. 0.]\n  [0. 1. 0. 0.]]\n\n [[0. 1. 0. 0.]\n  [0. 1. 0. 0.]\n  [0. 1. 0. 0.]\n  [0. 1. 0. 0.]]]\n\nID: 2544933906608\nScore: 5357.139244825748\nStrategy count:\n    U    D    N\n1: 0    2    2    \n2: 2    7    3    \n3: 8    4    2    \n4: 4    0    0    \nGenes:\n[[[1. 0. 0. 0.]\n  [1. 0. 0. 0.]\n  [1. 0. 0. 0.]\n  [1. 0. 0. 0.]]\n\n [[1. 0. 0. 0.]\n  [1. 0. 0. 0.]\n  [1. 0. 0. 0.]\n  [1. 0. 0. 0.]]\n\n [[1. 0. 0. 0.]\n  [1. 0. 0. 0.]\n  [1. 0. 0. 0.]\n  [1. 0. 0. 0.]]]\n\n"
     ]
    }
   ],
   "source": [
    "for i in sorted(individuals, key=lambda x: x.mean_score):\n",
    "    print(f\"ID: {i.ID}\")\n",
    "    print(f\"Score: {i.mean_score}\")\n",
    "    print(\"Strategy count:\")\n",
    "    print(f\"{'U':>5}{'D':>5}{'N':>5}\")\n",
    "    for w in range(1,5):\n",
    "        print(f\"{w}: {i.strategy_count[gen]['U'][w]:<5}{i.strategy_count[gen]['D'][w]:<5}{i.strategy_count[gen]['N'][w]:<5}\")\n",
    "    print(f\"Genes:\\n{i.genes}\")\n",
    "    print()"
   ]
  },
  {
   "cell_type": "code",
   "execution_count": null,
   "metadata": {},
   "outputs": [],
   "source": []
  }
 ]
}