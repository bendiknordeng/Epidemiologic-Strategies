{
 "metadata": {
  "language_info": {
   "codemirror_mode": {
    "name": "ipython",
    "version": 3
   },
   "file_extension": ".py",
   "mimetype": "text/x-python",
   "name": "python",
   "nbconvert_exporter": "python",
   "pygments_lexer": "ipython3",
   "version": "3.8.0"
  },
  "orig_nbformat": 2,
  "kernelspec": {
   "name": "python380jvsc74a57bd0d1135e85b24d6fc36dc6a0cb37a446f4ea6c1d1c5d9ce7e53624fd1bcca00fa0",
   "display_name": "Python 3.8.0 64-bit ('epidemics': conda)"
  }
 },
 "nbformat": 4,
 "nbformat_minor": 2,
 "cells": [
  {
   "cell_type": "code",
   "execution_count": 2,
   "metadata": {},
   "outputs": [],
   "source": [
    "import os\n",
    "import utils\n",
    "import numpy as np\n",
    "import pandas as pd"
   ]
  },
  {
   "cell_type": "code",
   "execution_count": 3,
   "metadata": {},
   "outputs": [],
   "source": [
    "def read_all_results(dir_path):\n",
    "    paths = os.listdir(dir_path)\n",
    "    last_gens = []\n",
    "    for i in range(len(paths)):\n",
    "        path = dir_path + paths[i]\n",
    "        last_gen = sorted(map(lambda x: x.split(\"_\"), \n",
    "                        os.listdir(f\"{path}/individuals/\")), \n",
    "                        key=lambda x: int(x[1].split(\".\")[0]))[-1][-1][:-4]\n",
    "        print(f\"Path: {paths[i]}, last generation: {int(last_gen)}\")\n",
    "        last_gens.append(int(last_gen))\n",
    "    return paths, last_gens"
   ]
  },
  {
   "cell_type": "code",
   "execution_count": 11,
   "metadata": {},
   "outputs": [
    {
     "output_type": "stream",
     "name": "stdout",
     "text": [
      "Path: GA_2021_05_27_22_09_14, last generation: 2\n"
     ]
    }
   ],
   "source": [
    "dir_path = \"results/\"\n",
    "paths, last_gens = read_all_results(dir_path)"
   ]
  },
  {
   "cell_type": "code",
   "execution_count": 18,
   "metadata": {},
   "outputs": [],
   "source": [
    "run = 0\n",
    "gen = 5\n",
    "path = dir_path + paths[run]\n",
    "\n",
    "individuals_path =  f\"{path}/individuals/individuals_{gen}.pkl\"\n",
    "score_path       =  f\"{path}/final_scores/final_score_{gen}.pkl\"\n",
    "overview_path    =  f\"{path}/generation_overview.csv\"\n",
    "\n",
    "final_score = utils.read_pickle(score_path)\n",
    "individuals = utils.read_pickle(individuals_path)\n",
    "overview = pd.read_csv(overview_path)"
   ]
  },
  {
   "cell_type": "code",
   "execution_count": 19,
   "metadata": {},
   "outputs": [
    {
     "output_type": "stream",
     "name": "stdout",
     "text": [
      "{\n    \"objective\": \"deaths\",\n    \"simulations\": 5,\n    \"process\": {\n        \"horizon\": 74,\n        \"decision_period\": 28,\n        \"policy\": \"weighted\"\n    },\n    \"population_size\": 5,\n    \"random_individuals\": false,\n    \"min_generations\": 0\n}\n"
     ]
    }
   ],
   "source": [
    "with open(dir_path + paths[run] + \"/run_params.json\", \"r\") as file:\n",
    "    print(file.read())\n",
    "    file.close()"
   ]
  },
  {
   "cell_type": "code",
   "execution_count": 20,
   "metadata": {
    "tags": []
   },
   "outputs": [
    {
     "output_type": "stream",
     "name": "stdout",
     "text": [
      "\u001b[1m1st place:\u001b[0m\nID: gen_0_003\nScore: 3569.328\nGenes:\n[[[0. 0. 0. 1. 0.]\n  [0. 0. 0. 1. 0.]\n  [0. 0. 0. 1. 0.]]\n\n [[0. 0. 0. 1. 0.]\n  [0. 0. 0. 1. 0.]\n  [0. 0. 0. 1. 0.]]\n\n [[0. 0. 0. 1. 0.]\n  [0. 0. 0. 1. 0.]\n  [0. 0. 0. 1. 0.]]]\n\n\u001b[1m2nd place:\u001b[0m\nID: gen_5_004\nScore: 3571.987\nGenes:\n[[[0.    0.    0.    0.985 0.015]\n  [0.    0.    0.011 0.989 0.   ]\n  [0.    0.    0.004 0.996 0.   ]]\n\n [[0.    0.    0.049 0.951 0.   ]\n  [0.    0.    0.016 0.984 0.   ]\n  [0.    0.015 0.015 0.971 0.   ]]\n\n [[0.016 0.    0.048 0.937 0.   ]\n  [0.    0.    0.    1.    0.   ]\n  [0.    0.    0.016 0.984 0.   ]]]\n\n\u001b[1m3rd place:\u001b[0m\nID: gen_2_004\nScore: 3576.062\nGenes:\n[[[0.    0.    0.    1.    0.   ]\n  [0.    0.    0.062 0.938 0.   ]\n  [0.    0.    0.062 0.938 0.   ]]\n\n [[0.    0.    0.062 0.938 0.   ]\n  [0.    0.    0.062 0.938 0.   ]\n  [0.    0.059 0.059 0.882 0.   ]]\n\n [[0.    0.    0.062 0.938 0.   ]\n  [0.    0.    0.062 0.938 0.   ]\n  [0.    0.    0.062 0.938 0.   ]]]\n\n\u001b[1m4th place:\u001b[0m\nID: gen_4_012\nScore: 3578.167\nGenes:\n[[[0.    0.    0.    0.985 0.015]\n  [0.    0.    0.016 0.984 0.   ]\n  [0.    0.    0.    1.    0.   ]]\n\n [[0.    0.    0.06  0.94  0.   ]\n  [0.    0.    0.016 0.984 0.   ]\n  [0.    0.015 0.015 0.971 0.   ]]\n\n [[0.015 0.    0.059 0.926 0.   ]\n  [0.    0.    0.    1.    0.   ]\n  [0.    0.    0.016 0.984 0.   ]]]\n\n\u001b[1m5th place:\u001b[0m\nID: gen_3_009\nScore: 3581.455\nGenes:\n[[[0.    0.    0.    0.985 0.015]\n  [0.    0.    0.016 0.984 0.   ]\n  [0.    0.    0.016 0.984 0.   ]]\n\n [[0.    0.    0.016 0.984 0.   ]\n  [0.    0.    0.016 0.984 0.   ]\n  [0.    0.015 0.015 0.971 0.   ]]\n\n [[0.    0.    0.016 0.984 0.   ]\n  [0.    0.    0.    1.    0.   ]\n  [0.    0.    0.016 0.984 0.   ]]]\n\n\u001b[1m6th place:\u001b[0m\nID: gen_1_005\nScore: 3671.56\nGenes:\n[[[0.   0.   0.25 0.75 0.  ]\n  [0.   0.   0.25 0.75 0.  ]\n  [0.   0.   0.25 0.75 0.  ]]\n\n [[0.   0.   0.25 0.75 0.  ]\n  [0.   0.   0.25 0.75 0.  ]\n  [0.   0.   0.25 0.75 0.  ]]\n\n [[0.   0.   0.25 0.75 0.  ]\n  [0.   0.   0.25 0.75 0.  ]\n  [0.   0.   0.25 0.75 0.  ]]]\n\n"
     ]
    }
   ],
   "source": [
    "ordinal = lambda n: \"%d%s\" % (n,\"tsnrhtdd\"[(n//10%10!=1)*(n%10<4)*n%10::4])\n",
    "for ix, i in enumerate(sorted(individuals, key=lambda x: x.mean_score)):\n",
    "    print(f\"{utils.tcolors.BOLD}{ordinal(ix+1)} place:{utils.tcolors.ENDC}\")\n",
    "    print(f\"ID: {i.ID}\")\n",
    "    print(f\"Score: {np.round(i.mean_score, 3)}\")\n",
    "    print(f\"Genes:\\n{np.round(i.genes, 3)}\")\n",
    "    print()"
   ]
  },
  {
   "cell_type": "code",
   "execution_count": 30,
   "metadata": {},
   "outputs": [
    {
     "output_type": "stream",
     "name": "stdout",
     "text": [
      "[[[0.02772154 0.12981317 0.46594438 0.02156354 0.06452118 0.2904362 ]\n  [0.45667618 0.         0.         0.12511083 0.         0.41821299]\n  [0.         0.         0.99358962 0.         0.         0.00641038]]\n\n [[0.         0.         0.83418633 0.         0.         0.16581367]\n  [0.23311384 0.2417248  0.31167746 0.         0.02920702 0.18427689]\n  [0.01268598 0.         0.86100509 0.03305378 0.04611612 0.04713902]]\n\n [[0.14493941 0.43808816 0.27745665 0.         0.         0.13951578]\n  [0.25355091 0.08738514 0.08570492 0.25355091 0.0047617  0.31504641]\n  [0.01869097 0.15650874 0.20236493 0.0408563  0.5704409  0.01113814]]]\n\n[0.12748654 0.11705778 0.44799215 0.05268171 0.07944966 0.17533217]\n"
     ]
    }
   ],
   "source": [
    "print(individuals[0].genes, end=\"\\n\"*2)\n",
    "genes = np.sum(individuals[0].genes, axis=(0,1))\n",
    "norm = np.sum(genes)\n",
    "norm_genes = np.divide(genes, norm)\n",
    "print(norm_genes)"
   ]
  }
 ]
}