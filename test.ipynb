{
 "metadata": {
  "language_info": {
   "codemirror_mode": {
    "name": "ipython",
    "version": 3
   },
   "file_extension": ".py",
   "mimetype": "text/x-python",
   "name": "python",
   "nbconvert_exporter": "python",
   "pygments_lexer": "ipython3",
   "version": "3.8.0"
  },
  "orig_nbformat": 2,
  "kernelspec": {
   "name": "python380jvsc74a57bd021f1717c88b515e88706ad9d1e312e38e6c607c0a7c7521f9c83f3f6774bed74",
   "display_name": "Python 3.8.0 64-bit ('epidemics_6': conda)"
  }
 },
 "nbformat": 4,
 "nbformat_minor": 2,
 "cells": [
  {
   "cell_type": "code",
   "execution_count": 1,
   "metadata": {},
   "outputs": [],
   "source": [
    "\n",
    "import geopandas as gpd, pandas as pd\n",
    "import contextily as ctx\n",
    "from pyproj import CRS\n",
    "import numpy as np\n",
    "from tqdm import tqdm_notebook\n",
    "import matplotlib.pyplot as plt\n",
    "from shapely.geometry.polygon import Polygon\n",
    "from shapely.geometry.multipolygon import MultiPolygon\n",
    "from shapely import wkt\n",
    "import ast\n",
    "from collections import namedtuple"
   ]
  },
  {
   "cell_type": "code",
   "execution_count": 2,
   "metadata": {},
   "outputs": [],
   "source": [
    "def create_named_tuple(filepath):\n",
    "    \"\"\" generate a namedtuple from a txt file\n",
    "\n",
    "    Parameters\n",
    "        filepath: file path to .txt file\n",
    "    Returns\n",
    "        A namedtuple representing each path needed for system execution\n",
    "    \"\"\"\n",
    "    file = open(filepath, \"r\")\n",
    "    contents = file.read()\n",
    "    dictionary = ast.literal_eval(contents)\n",
    "    file.close()\n",
    "    return namedtuple('_', dictionary.keys())(**dictionary)"
   ]
  },
  {
   "cell_type": "code",
   "execution_count": 3,
   "metadata": {},
   "outputs": [],
   "source": [
    "def generate_custom_population(bins, labels, path_pop, path_region_names):\n",
    "    \"\"\" generates age divided population\n",
    "\n",
    "    Parameters\n",
    "        bins: 1D array of bins in which to divide population\n",
    "        labels: list of strings, names of age groups\n",
    "        path_pop: path to population data\n",
    "        path_region_names: path to region name data\n",
    "    Returns\n",
    "        dataframe with age divided population\n",
    "    \"\"\"\n",
    "    total_pop = pd.read_csv(path_pop)\n",
    "    age_divided = pd.DataFrame(total_pop.groupby(['region_id', pd.cut(total_pop[\"age\"], bins=bins+[110], labels=labels, include_lowest=True)]).sum('population')['population'])\n",
    "    age_divided.reset_index(inplace=True)\n",
    "    age_divided = age_divided.pivot(index='region_id', columns=['age'])['population']\n",
    "    region_names_id = pd.read_csv(path_region_names, delimiter=\",\").drop_duplicates()\n",
    "    df = pd.merge(region_names_id, age_divided, on=\"region_id\", how='right', sort=True)\n",
    "    df['population'] = df.loc[:,df.columns[2:2+len(labels)]].sum(axis=1)\n",
    "    return df"
   ]
  },
  {
   "cell_type": "code",
   "execution_count": 4,
   "metadata": {},
   "outputs": [],
   "source": [
    "\n",
    "def generate_labels_from_bins(bins):\n",
    "    \"\"\" generates labels for population dataframe\n",
    "\n",
    "    Parameters\n",
    "        bins: 1D array of bins to divide population\n",
    "    Returns\n",
    "        labels defining the population bins\n",
    "    \"\"\"\n",
    "    labels = []\n",
    "    for i in range(len(bins)-1):\n",
    "        if i == 0:\n",
    "            labels.append(str(bins[i])+\"-\"+str(bins[i+1]))\n",
    "        else:\n",
    "            labels.append(str(bins[i]+1)+\"-\"+str(bins[i+1]))\n",
    "    labels.append(str(bins[-1]+1)+\"+\")\n",
    "    return labels"
   ]
  },
  {
   "cell_type": "code",
   "execution_count": 5,
   "metadata": {},
   "outputs": [],
   "source": [
    "paths = create_named_tuple('filepaths.txt')"
   ]
  },
  {
   "cell_type": "code",
   "execution_count": 6,
   "metadata": {},
   "outputs": [],
   "source": [
    "config = create_named_tuple(paths.config)"
   ]
  },
  {
   "cell_type": "code",
   "execution_count": 7,
   "metadata": {},
   "outputs": [],
   "source": [
    "age_labels = generate_labels_from_bins(config.age_bins)"
   ]
  },
  {
   "cell_type": "code",
   "execution_count": 8,
   "metadata": {},
   "outputs": [
    {
     "output_type": "execute_result",
     "data": {
      "text/plain": [
       "    region_id  population        region\n",
       "0         301      696780          OSLO\n",
       "1        1101       14785     EIGERSUND\n",
       "2        1103      144115     STAVANGER\n",
       "3        1106       37312     HAUGESUND\n",
       "4        1108       80445       SANDNES\n",
       "..        ...         ...           ...\n",
       "351      5440         928      BERLEVÅG\n",
       "352      5441        2828          TANA\n",
       "353      5442         880       NESSEBY\n",
       "354      5443        2200     BÅTSFJORD\n",
       "355      5444       10101  SØR-VARANGER\n",
       "\n",
       "[356 rows x 3 columns]"
      ],
      "text/html": "<div>\n<style scoped>\n    .dataframe tbody tr th:only-of-type {\n        vertical-align: middle;\n    }\n\n    .dataframe tbody tr th {\n        vertical-align: top;\n    }\n\n    .dataframe thead th {\n        text-align: right;\n    }\n</style>\n<table border=\"1\" class=\"dataframe\">\n  <thead>\n    <tr style=\"text-align: right;\">\n      <th></th>\n      <th>region_id</th>\n      <th>population</th>\n      <th>region</th>\n    </tr>\n  </thead>\n  <tbody>\n    <tr>\n      <th>0</th>\n      <td>301</td>\n      <td>696780</td>\n      <td>OSLO</td>\n    </tr>\n    <tr>\n      <th>1</th>\n      <td>1101</td>\n      <td>14785</td>\n      <td>EIGERSUND</td>\n    </tr>\n    <tr>\n      <th>2</th>\n      <td>1103</td>\n      <td>144115</td>\n      <td>STAVANGER</td>\n    </tr>\n    <tr>\n      <th>3</th>\n      <td>1106</td>\n      <td>37312</td>\n      <td>HAUGESUND</td>\n    </tr>\n    <tr>\n      <th>4</th>\n      <td>1108</td>\n      <td>80445</td>\n      <td>SANDNES</td>\n    </tr>\n    <tr>\n      <th>...</th>\n      <td>...</td>\n      <td>...</td>\n      <td>...</td>\n    </tr>\n    <tr>\n      <th>351</th>\n      <td>5440</td>\n      <td>928</td>\n      <td>BERLEVÅG</td>\n    </tr>\n    <tr>\n      <th>352</th>\n      <td>5441</td>\n      <td>2828</td>\n      <td>TANA</td>\n    </tr>\n    <tr>\n      <th>353</th>\n      <td>5442</td>\n      <td>880</td>\n      <td>NESSEBY</td>\n    </tr>\n    <tr>\n      <th>354</th>\n      <td>5443</td>\n      <td>2200</td>\n      <td>BÅTSFJORD</td>\n    </tr>\n    <tr>\n      <th>355</th>\n      <td>5444</td>\n      <td>10101</td>\n      <td>SØR-VARANGER</td>\n    </tr>\n  </tbody>\n</table>\n<p>356 rows × 3 columns</p>\n</div>"
     },
     "metadata": {},
     "execution_count": 8
    }
   ],
   "source": [
    " population = generate_custom_population(config.age_bins, age_labels, paths.age_divided_population, paths.municipalities_names)\n",
    " population['region_id'] = population['region_id'].astype('str')\n",
    " population = population[['region_id', 'population', 'region']]\n",
    " population"
   ]
  },
  {
   "cell_type": "code",
   "execution_count": 9,
   "metadata": {},
   "outputs": [
    {
     "output_type": "execute_result",
     "data": {
      "text/plain": [
       "                                              geometry region_id  population  \\\n",
       "0    POLYGON ((3226153.357 11202344.630, 3234057.61...      5405        5642   \n",
       "1    POLYGON ((506175.483 8422940.082, 562484.473 8...      4625        5275   \n",
       "2    POLYGON ((1572458.004 10430402.993, 1645715.33...      1848        2585   \n",
       "3    POLYGON ((1678017.887 10334098.090, 1682452.15...      1845        1909   \n",
       "4    POLYGON ((3475684.021 11281761.823, 3511996.46...      5404        1958   \n",
       "..                                                 ...       ...         ...   \n",
       "357  POLYGON ((980517.266 8366169.438, 986372.051 8...      3808       12989   \n",
       "358  POLYGON ((989437.534 8287084.323, 999211.221 8...      3817       10459   \n",
       "359  POLYGON ((1518588.435 9805613.431, 1522248.280...      1826        1266   \n",
       "360  POLYGON ((1103781.546 8307375.663, 1105728.799...      3802       25008   \n",
       "361  POLYGON ((1152568.568 8277881.895, 1156661.251...      3801       27502   \n",
       "\n",
       "            region  \n",
       "0            VADSØ  \n",
       "1        AUSTEVOLL  \n",
       "2          STEIGEN  \n",
       "3          SØRFOLD  \n",
       "4            VARDØ  \n",
       "..             ...  \n",
       "357       NOTODDEN  \n",
       "358  MIDT-TELEMARK  \n",
       "359   HATTFJELLDAL  \n",
       "360    HOLMESTRAND  \n",
       "361         HORTEN  \n",
       "\n",
       "[356 rows x 4 columns]"
      ],
      "text/html": "<div>\n<style scoped>\n    .dataframe tbody tr th:only-of-type {\n        vertical-align: middle;\n    }\n\n    .dataframe tbody tr th {\n        vertical-align: top;\n    }\n\n    .dataframe thead th {\n        text-align: right;\n    }\n</style>\n<table border=\"1\" class=\"dataframe\">\n  <thead>\n    <tr style=\"text-align: right;\">\n      <th></th>\n      <th>geometry</th>\n      <th>region_id</th>\n      <th>population</th>\n      <th>region</th>\n    </tr>\n  </thead>\n  <tbody>\n    <tr>\n      <th>0</th>\n      <td>POLYGON ((3226153.357 11202344.630, 3234057.61...</td>\n      <td>5405</td>\n      <td>5642</td>\n      <td>VADSØ</td>\n    </tr>\n    <tr>\n      <th>1</th>\n      <td>POLYGON ((506175.483 8422940.082, 562484.473 8...</td>\n      <td>4625</td>\n      <td>5275</td>\n      <td>AUSTEVOLL</td>\n    </tr>\n    <tr>\n      <th>2</th>\n      <td>POLYGON ((1572458.004 10430402.993, 1645715.33...</td>\n      <td>1848</td>\n      <td>2585</td>\n      <td>STEIGEN</td>\n    </tr>\n    <tr>\n      <th>3</th>\n      <td>POLYGON ((1678017.887 10334098.090, 1682452.15...</td>\n      <td>1845</td>\n      <td>1909</td>\n      <td>SØRFOLD</td>\n    </tr>\n    <tr>\n      <th>4</th>\n      <td>POLYGON ((3475684.021 11281761.823, 3511996.46...</td>\n      <td>5404</td>\n      <td>1958</td>\n      <td>VARDØ</td>\n    </tr>\n    <tr>\n      <th>...</th>\n      <td>...</td>\n      <td>...</td>\n      <td>...</td>\n      <td>...</td>\n    </tr>\n    <tr>\n      <th>357</th>\n      <td>POLYGON ((980517.266 8366169.438, 986372.051 8...</td>\n      <td>3808</td>\n      <td>12989</td>\n      <td>NOTODDEN</td>\n    </tr>\n    <tr>\n      <th>358</th>\n      <td>POLYGON ((989437.534 8287084.323, 999211.221 8...</td>\n      <td>3817</td>\n      <td>10459</td>\n      <td>MIDT-TELEMARK</td>\n    </tr>\n    <tr>\n      <th>359</th>\n      <td>POLYGON ((1518588.435 9805613.431, 1522248.280...</td>\n      <td>1826</td>\n      <td>1266</td>\n      <td>HATTFJELLDAL</td>\n    </tr>\n    <tr>\n      <th>360</th>\n      <td>POLYGON ((1103781.546 8307375.663, 1105728.799...</td>\n      <td>3802</td>\n      <td>25008</td>\n      <td>HOLMESTRAND</td>\n    </tr>\n    <tr>\n      <th>361</th>\n      <td>POLYGON ((1152568.568 8277881.895, 1156661.251...</td>\n      <td>3801</td>\n      <td>27502</td>\n      <td>HORTEN</td>\n    </tr>\n  </tbody>\n</table>\n<p>356 rows × 4 columns</p>\n</div>"
     },
     "metadata": {},
     "execution_count": 9
    }
   ],
   "source": [
    "# read in geopandas\n",
    "gdf = gpd.read_file('data/geospatial/municipalities_spatial_data.json')\n",
    "gdf = gdf[['kommunenummer', 'geometry']]\n",
    "df = pd.DataFrame(gdf)\n",
    "\n",
    "# merge population and transform to geopandas \n",
    "gdf = gpd.GeoDataFrame(df.merge(population, right_on='region_id', left_on='kommunenummer',  suffixes=('', '_y')), geometry='geometry')\n",
    "gdf = gdf.drop(columns=['kommunenummer'])\n",
    "gdf = gdf.dropna() # very important in order to convert to crs\n",
    "gdf = gdf.to_crs(3857)\n",
    "gdf"
   ]
  },
  {
   "cell_type": "code",
   "execution_count": 10,
   "metadata": {},
   "outputs": [
    {
     "output_type": "execute_result",
     "data": {
      "text/plain": [
       "                                              geometry region_id  population  \\\n",
       "0    POLYGON ((3226153.357 11202344.630, 3234057.61...      5405        5642   \n",
       "1    POLYGON ((506175.483 8422940.082, 562484.473 8...      4625        5275   \n",
       "2    POLYGON ((1572458.004 10430402.993, 1645715.33...      1848        2585   \n",
       "3    POLYGON ((1678017.887 10334098.090, 1682452.15...      1845        1909   \n",
       "4    POLYGON ((3475684.021 11281761.823, 3511996.46...      5404        1958   \n",
       "..                                                 ...       ...         ...   \n",
       "357  POLYGON ((980517.266 8366169.438, 986372.051 8...      3808       12989   \n",
       "358  POLYGON ((989437.534 8287084.323, 999211.221 8...      3817       10459   \n",
       "359  POLYGON ((1518588.435 9805613.431, 1522248.280...      1826        1266   \n",
       "360  POLYGON ((1103781.546 8307375.663, 1105728.799...      3802       25008   \n",
       "361  POLYGON ((1152568.568 8277881.895, 1156661.251...      3801       27502   \n",
       "\n",
       "            region  randNumCol  \n",
       "0            VADSØ           5  \n",
       "1        AUSTEVOLL           4  \n",
       "2          STEIGEN           2  \n",
       "3          SØRFOLD           3  \n",
       "4            VARDØ           4  \n",
       "..             ...         ...  \n",
       "357       NOTODDEN           3  \n",
       "358  MIDT-TELEMARK           2  \n",
       "359   HATTFJELLDAL           5  \n",
       "360    HOLMESTRAND           4  \n",
       "361         HORTEN           2  \n",
       "\n",
       "[356 rows x 5 columns]"
      ],
      "text/html": "<div>\n<style scoped>\n    .dataframe tbody tr th:only-of-type {\n        vertical-align: middle;\n    }\n\n    .dataframe tbody tr th {\n        vertical-align: top;\n    }\n\n    .dataframe thead th {\n        text-align: right;\n    }\n</style>\n<table border=\"1\" class=\"dataframe\">\n  <thead>\n    <tr style=\"text-align: right;\">\n      <th></th>\n      <th>geometry</th>\n      <th>region_id</th>\n      <th>population</th>\n      <th>region</th>\n      <th>randNumCol</th>\n    </tr>\n  </thead>\n  <tbody>\n    <tr>\n      <th>0</th>\n      <td>POLYGON ((3226153.357 11202344.630, 3234057.61...</td>\n      <td>5405</td>\n      <td>5642</td>\n      <td>VADSØ</td>\n      <td>5</td>\n    </tr>\n    <tr>\n      <th>1</th>\n      <td>POLYGON ((506175.483 8422940.082, 562484.473 8...</td>\n      <td>4625</td>\n      <td>5275</td>\n      <td>AUSTEVOLL</td>\n      <td>4</td>\n    </tr>\n    <tr>\n      <th>2</th>\n      <td>POLYGON ((1572458.004 10430402.993, 1645715.33...</td>\n      <td>1848</td>\n      <td>2585</td>\n      <td>STEIGEN</td>\n      <td>2</td>\n    </tr>\n    <tr>\n      <th>3</th>\n      <td>POLYGON ((1678017.887 10334098.090, 1682452.15...</td>\n      <td>1845</td>\n      <td>1909</td>\n      <td>SØRFOLD</td>\n      <td>3</td>\n    </tr>\n    <tr>\n      <th>4</th>\n      <td>POLYGON ((3475684.021 11281761.823, 3511996.46...</td>\n      <td>5404</td>\n      <td>1958</td>\n      <td>VARDØ</td>\n      <td>4</td>\n    </tr>\n    <tr>\n      <th>...</th>\n      <td>...</td>\n      <td>...</td>\n      <td>...</td>\n      <td>...</td>\n      <td>...</td>\n    </tr>\n    <tr>\n      <th>357</th>\n      <td>POLYGON ((980517.266 8366169.438, 986372.051 8...</td>\n      <td>3808</td>\n      <td>12989</td>\n      <td>NOTODDEN</td>\n      <td>3</td>\n    </tr>\n    <tr>\n      <th>358</th>\n      <td>POLYGON ((989437.534 8287084.323, 999211.221 8...</td>\n      <td>3817</td>\n      <td>10459</td>\n      <td>MIDT-TELEMARK</td>\n      <td>2</td>\n    </tr>\n    <tr>\n      <th>359</th>\n      <td>POLYGON ((1518588.435 9805613.431, 1522248.280...</td>\n      <td>1826</td>\n      <td>1266</td>\n      <td>HATTFJELLDAL</td>\n      <td>5</td>\n    </tr>\n    <tr>\n      <th>360</th>\n      <td>POLYGON ((1103781.546 8307375.663, 1105728.799...</td>\n      <td>3802</td>\n      <td>25008</td>\n      <td>HOLMESTRAND</td>\n      <td>4</td>\n    </tr>\n    <tr>\n      <th>361</th>\n      <td>POLYGON ((1152568.568 8277881.895, 1156661.251...</td>\n      <td>3801</td>\n      <td>27502</td>\n      <td>HORTEN</td>\n      <td>2</td>\n    </tr>\n  </tbody>\n</table>\n<p>356 rows × 5 columns</p>\n</div>"
     },
     "metadata": {},
     "execution_count": 10
    }
   ],
   "source": [
    "# random values\n",
    "gdf['randNumCol'] = np.random.randint(1, 6, gdf.shape[0])\n",
    "gdf"
   ]
  },
  {
   "cell_type": "code",
   "execution_count": 11,
   "metadata": {},
   "outputs": [],
   "source": [
    "# generate random data\n",
    "res = np.random.rand(61, 8, 356)   #weeks, #compartments, #regions\n",
    "res_accumulated_regions = res.sum(axis=2) #weeks, #compartments\n",
    "num_weeks, num_compartments, num_regions = res.shape\n",
    "compartment_labels = ['S', 'E1', 'E2', 'A', 'I', 'R', 'D', 'V']\n"
   ]
  },
  {
   "cell_type": "code",
   "execution_count": 12,
   "metadata": {},
   "outputs": [],
   "source": [
    "# Matplotlib settings\n",
    "params = {\"axes.labelcolor\":\"slategrey\"} \n",
    "plt.rcParams.update(params)\n",
    "cmap = plt.cm.get_cmap(\"Reds\")\n",
    "blue = cmap(100)\n"
   ]
  },
  {
   "cell_type": "code",
   "execution_count": 13,
   "metadata": {},
   "outputs": [],
   "source": [
    "# extract bounds from gdf \n",
    "west, south, east, north = gdf.total_bounds"
   ]
  },
  {
   "cell_type": "code",
   "execution_count": 14,
   "metadata": {},
   "outputs": [
    {
     "output_type": "execute_result",
     "data": {
      "text/plain": [
       "(61, 8, 356)"
      ]
     },
     "metadata": {},
     "execution_count": 14
    }
   ],
   "source": [
    "res.shape"
   ]
  },
  {
   "cell_type": "code",
   "execution_count": 15,
   "metadata": {},
   "outputs": [
    {
     "output_type": "execute_result",
     "data": {
      "text/plain": [
       "(61, 8)"
      ]
     },
     "metadata": {},
     "execution_count": 15
    }
   ],
   "source": [
    "res_accumulated_regions.shape"
   ]
  },
  {
   "cell_type": "code",
   "execution_count": 22,
   "metadata": {},
   "outputs": [
    {
     "output_type": "execute_result",
     "data": {
      "text/plain": [
       "(356,)"
      ]
     },
     "metadata": {},
     "execution_count": 22
    }
   ],
   "source": [
    "gdf['E1'].shape"
   ]
  },
  {
   "cell_type": "code",
   "execution_count": 28,
   "metadata": {},
   "outputs": [],
   "source": [
    "data = res[0,0,:]\n"
   ]
  },
  {
   "cell_type": "code",
   "execution_count": 29,
   "metadata": {},
   "outputs": [
    {
     "output_type": "execute_result",
     "data": {
      "text/plain": [
       "<AxesSubplot:>"
      ]
     },
     "metadata": {},
     "execution_count": 29
    },
    {
     "output_type": "display_data",
     "data": {
      "text/plain": "<Figure size 432x288 with 0 Axes>"
     },
     "metadata": {}
    }
   ],
   "source": [
    "gdf.plot(ax=ax, column=data, zorder=3)"
   ]
  },
  {
   "cell_type": "code",
   "execution_count": 18,
   "metadata": {},
   "outputs": [
    {
     "output_type": "stream",
     "name": "stderr",
     "text": [
      "<ipython-input-18-6bbc44ea3f6e>:4: TqdmDeprecationWarning: This function will be removed in tqdm==5.0.0\nPlease use `tqdm.notebook.tqdm` instead of `tqdm.tqdm_notebook`\n  for time_step in tqdm_notebook(range(num_weeks)):\n"
     ]
    },
    {
     "output_type": "display_data",
     "data": {
      "text/plain": "  0%|          | 0/50 [00:00<?, ?it/s]",
      "application/vnd.jupyter.widget-view+json": {
       "version_major": 2,
       "version_minor": 0,
       "model_id": "144c44b673704573a5214bad15d4cdf9"
      }
     },
     "metadata": {}
    },
    {
     "output_type": "stream",
     "name": "stderr",
     "text": [
      "<ipython-input-18-6bbc44ea3f6e>:11: RuntimeWarning: More than 20 figures have been opened. Figures created through the pyplot interface (`matplotlib.pyplot.figure`) are retained until explicitly closed and may consume too much memory. (To control this warning, see the rcParam `figure.max_open_warning`).\n  fig, ax = plt.subplots(figsize=(14,14), dpi=72)\n"
     ]
    },
    {
     "output_type": "error",
     "ename": "KeyboardInterrupt",
     "evalue": "",
     "traceback": [
      "\u001b[1;31m---------------------------------------------------------------------------\u001b[0m",
      "\u001b[1;31mKeyboardInterrupt\u001b[0m                         Traceback (most recent call last)",
      "\u001b[1;32m<ipython-input-18-6bbc44ea3f6e>\u001b[0m in \u001b[0;36m<module>\u001b[1;34m\u001b[0m\n\u001b[0;32m     14\u001b[0m \u001b[1;33m\u001b[0m\u001b[0m\n\u001b[0;32m     15\u001b[0m     \u001b[1;31m# add background\u001b[0m\u001b[1;33m\u001b[0m\u001b[1;33m\u001b[0m\u001b[1;33m\u001b[0m\u001b[0m\n\u001b[1;32m---> 16\u001b[1;33m     \u001b[0mctx\u001b[0m\u001b[1;33m.\u001b[0m\u001b[0madd_basemap\u001b[0m\u001b[1;33m(\u001b[0m\u001b[0max\u001b[0m\u001b[1;33m,\u001b[0m \u001b[0mzoom\u001b[0m\u001b[1;33m=\u001b[0m\u001b[1;34m'auto'\u001b[0m\u001b[1;33m,\u001b[0m \u001b[0mcrs\u001b[0m\u001b[1;33m=\u001b[0m\u001b[1;36m3857\u001b[0m\u001b[1;33m,\u001b[0m \u001b[0msource\u001b[0m\u001b[1;33m=\u001b[0m\u001b[0mctx\u001b[0m\u001b[1;33m.\u001b[0m\u001b[0mproviders\u001b[0m\u001b[1;33m.\u001b[0m\u001b[0mStamen\u001b[0m\u001b[1;33m.\u001b[0m\u001b[0mTonerLite\u001b[0m\u001b[1;33m,\u001b[0m \u001b[0malpha\u001b[0m\u001b[1;33m=\u001b[0m\u001b[1;36m0.6\u001b[0m\u001b[1;33m,\u001b[0m \u001b[0mattribution\u001b[0m\u001b[1;33m=\u001b[0m\u001b[1;34m\"\"\u001b[0m\u001b[1;33m)\u001b[0m\u001b[1;33m\u001b[0m\u001b[1;33m\u001b[0m\u001b[0m\n\u001b[0m\u001b[0;32m     17\u001b[0m     \u001b[0max\u001b[0m\u001b[1;33m.\u001b[0m\u001b[0mset_axis_off\u001b[0m\u001b[1;33m(\u001b[0m\u001b[1;33m)\u001b[0m\u001b[1;33m\u001b[0m\u001b[1;33m\u001b[0m\u001b[0m\n\u001b[0;32m     18\u001b[0m     \u001b[0max\u001b[0m\u001b[1;33m.\u001b[0m\u001b[0mset_xlim\u001b[0m\u001b[1;33m(\u001b[0m\u001b[0mwest\u001b[0m\u001b[1;33m,\u001b[0m \u001b[0meast\u001b[0m\u001b[1;33m)\u001b[0m\u001b[1;33m\u001b[0m\u001b[1;33m\u001b[0m\u001b[0m\n",
      "\u001b[1;32m~\\Anaconda3\\envs\\epidemics_6\\lib\\site-packages\\contextily\\plotting.py\u001b[0m in \u001b[0;36madd_basemap\u001b[1;34m(ax, zoom, source, interpolation, attribution, attribution_size, reset_extent, crs, resampling, url, **extra_imshow_args)\u001b[0m\n\u001b[0;32m    146\u001b[0m         \u001b[1;31m# Warping\u001b[0m\u001b[1;33m\u001b[0m\u001b[1;33m\u001b[0m\u001b[1;33m\u001b[0m\u001b[0m\n\u001b[0;32m    147\u001b[0m         \u001b[1;32mif\u001b[0m \u001b[0mcrs\u001b[0m \u001b[1;32mis\u001b[0m \u001b[1;32mnot\u001b[0m \u001b[1;32mNone\u001b[0m\u001b[1;33m:\u001b[0m\u001b[1;33m\u001b[0m\u001b[1;33m\u001b[0m\u001b[0m\n\u001b[1;32m--> 148\u001b[1;33m             \u001b[0mimage\u001b[0m\u001b[1;33m,\u001b[0m \u001b[0mextent\u001b[0m \u001b[1;33m=\u001b[0m \u001b[0mwarp_tiles\u001b[0m\u001b[1;33m(\u001b[0m\u001b[0mimage\u001b[0m\u001b[1;33m,\u001b[0m \u001b[0mextent\u001b[0m\u001b[1;33m,\u001b[0m \u001b[0mt_crs\u001b[0m\u001b[1;33m=\u001b[0m\u001b[0mcrs\u001b[0m\u001b[1;33m,\u001b[0m \u001b[0mresampling\u001b[0m\u001b[1;33m=\u001b[0m\u001b[0mresampling\u001b[0m\u001b[1;33m)\u001b[0m\u001b[1;33m\u001b[0m\u001b[1;33m\u001b[0m\u001b[0m\n\u001b[0m\u001b[0;32m    149\u001b[0m         \u001b[1;31m# Check if overlay\u001b[0m\u001b[1;33m\u001b[0m\u001b[1;33m\u001b[0m\u001b[1;33m\u001b[0m\u001b[0m\n\u001b[0;32m    150\u001b[0m         \u001b[1;32mif\u001b[0m \u001b[0m_is_overlay\u001b[0m\u001b[1;33m(\u001b[0m\u001b[0msource\u001b[0m\u001b[1;33m)\u001b[0m \u001b[1;32mand\u001b[0m \u001b[1;34m'zorder'\u001b[0m \u001b[1;32mnot\u001b[0m \u001b[1;32min\u001b[0m \u001b[0mextra_imshow_args\u001b[0m\u001b[1;33m:\u001b[0m\u001b[1;33m\u001b[0m\u001b[1;33m\u001b[0m\u001b[0m\n",
      "\u001b[1;32m~\\Anaconda3\\envs\\epidemics_6\\lib\\site-packages\\contextily\\tile.py\u001b[0m in \u001b[0;36mwarp_tiles\u001b[1;34m(img, extent, t_crs, resampling)\u001b[0m\n\u001b[0;32m    350\u001b[0m     \u001b[0mtransform\u001b[0m \u001b[1;33m=\u001b[0m \u001b[0mfrom_origin\u001b[0m\u001b[1;33m(\u001b[0m\u001b[0mx\u001b[0m\u001b[1;33m[\u001b[0m\u001b[1;36m0\u001b[0m\u001b[1;33m]\u001b[0m \u001b[1;33m-\u001b[0m \u001b[0mresX\u001b[0m \u001b[1;33m/\u001b[0m \u001b[1;36m2\u001b[0m\u001b[1;33m,\u001b[0m \u001b[0my\u001b[0m\u001b[1;33m[\u001b[0m\u001b[1;33m-\u001b[0m\u001b[1;36m1\u001b[0m\u001b[1;33m]\u001b[0m \u001b[1;33m+\u001b[0m \u001b[0mresY\u001b[0m \u001b[1;33m/\u001b[0m \u001b[1;36m2\u001b[0m\u001b[1;33m,\u001b[0m \u001b[0mresX\u001b[0m\u001b[1;33m,\u001b[0m \u001b[0mresY\u001b[0m\u001b[1;33m)\u001b[0m\u001b[1;33m\u001b[0m\u001b[1;33m\u001b[0m\u001b[0m\n\u001b[0;32m    351\u001b[0m     \u001b[1;31m# ---\u001b[0m\u001b[1;33m\u001b[0m\u001b[1;33m\u001b[0m\u001b[1;33m\u001b[0m\u001b[0m\n\u001b[1;32m--> 352\u001b[1;33m     w_img, bounds, _ = _warper(\n\u001b[0m\u001b[0;32m    353\u001b[0m         \u001b[0mimg\u001b[0m\u001b[1;33m.\u001b[0m\u001b[0mtranspose\u001b[0m\u001b[1;33m(\u001b[0m\u001b[1;36m2\u001b[0m\u001b[1;33m,\u001b[0m \u001b[1;36m0\u001b[0m\u001b[1;33m,\u001b[0m \u001b[1;36m1\u001b[0m\u001b[1;33m)\u001b[0m\u001b[1;33m,\u001b[0m \u001b[0mtransform\u001b[0m\u001b[1;33m,\u001b[0m \u001b[1;34m\"EPSG:3857\"\u001b[0m\u001b[1;33m,\u001b[0m \u001b[0mt_crs\u001b[0m\u001b[1;33m,\u001b[0m \u001b[0mresampling\u001b[0m\u001b[1;33m\u001b[0m\u001b[1;33m\u001b[0m\u001b[0m\n\u001b[0;32m    354\u001b[0m     )\n",
      "\u001b[1;32m~\\Anaconda3\\envs\\epidemics_6\\lib\\site-packages\\contextily\\tile.py\u001b[0m in \u001b[0;36m_warper\u001b[1;34m(img, transform, s_crs, t_crs, resampling)\u001b[0m\n\u001b[0;32m    415\u001b[0m \u001b[1;33m\u001b[0m\u001b[0m\n\u001b[0;32m    416\u001b[0m         \u001b[1;32mwith\u001b[0m \u001b[0mmemfile\u001b[0m\u001b[1;33m.\u001b[0m\u001b[0mopen\u001b[0m\u001b[1;33m(\u001b[0m\u001b[1;33m)\u001b[0m \u001b[1;32mas\u001b[0m \u001b[0mmraster\u001b[0m\u001b[1;33m:\u001b[0m\u001b[1;33m\u001b[0m\u001b[1;33m\u001b[0m\u001b[0m\n\u001b[1;32m--> 417\u001b[1;33m             \u001b[1;32mwith\u001b[0m \u001b[0mWarpedVRT\u001b[0m\u001b[1;33m(\u001b[0m\u001b[0mmraster\u001b[0m\u001b[1;33m,\u001b[0m \u001b[0mcrs\u001b[0m\u001b[1;33m=\u001b[0m\u001b[0mt_crs\u001b[0m\u001b[1;33m,\u001b[0m \u001b[0mresampling\u001b[0m\u001b[1;33m=\u001b[0m\u001b[0mresampling\u001b[0m\u001b[1;33m)\u001b[0m \u001b[1;32mas\u001b[0m \u001b[0mvrt\u001b[0m\u001b[1;33m:\u001b[0m\u001b[1;33m\u001b[0m\u001b[1;33m\u001b[0m\u001b[0m\n\u001b[0m\u001b[0;32m    418\u001b[0m                 \u001b[0mimg\u001b[0m \u001b[1;33m=\u001b[0m \u001b[0mvrt\u001b[0m\u001b[1;33m.\u001b[0m\u001b[0mread\u001b[0m\u001b[1;33m(\u001b[0m\u001b[1;33m)\u001b[0m\u001b[1;33m\u001b[0m\u001b[1;33m\u001b[0m\u001b[0m\n\u001b[0;32m    419\u001b[0m                 \u001b[0mbounds\u001b[0m \u001b[1;33m=\u001b[0m \u001b[0mvrt\u001b[0m\u001b[1;33m.\u001b[0m\u001b[0mbounds\u001b[0m\u001b[1;33m\u001b[0m\u001b[1;33m\u001b[0m\u001b[0m\n",
      "\u001b[1;32mrasterio\\_warp.pyx\u001b[0m in \u001b[0;36mrasterio._warp.WarpedVRTReaderBase.__init__\u001b[1;34m()\u001b[0m\n",
      "\u001b[1;32mrasterio\\_base.pyx\u001b[0m in \u001b[0;36mrasterio._base.DatasetBase._set_attrs_from_dataset_handle\u001b[1;34m()\u001b[0m\n",
      "\u001b[1;32mrasterio\\_base.pyx\u001b[0m in \u001b[0;36mrasterio._base.DatasetBase.read_crs\u001b[1;34m()\u001b[0m\n",
      "\u001b[1;32mrasterio\\_base.pyx\u001b[0m in \u001b[0;36mrasterio._base.DatasetBase._handle_crswkt\u001b[1;34m()\u001b[0m\n",
      "\u001b[1;32m~\\Anaconda3\\envs\\epidemics_6\\lib\\site-packages\\rasterio\\crs.py\u001b[0m in \u001b[0;36mfrom_wkt\u001b[1;34m(cls, wkt, morph_from_esri_dialect)\u001b[0m\n\u001b[0;32m    404\u001b[0m         \u001b[1;32mreturn\u001b[0m \u001b[0mobj\u001b[0m\u001b[1;33m\u001b[0m\u001b[1;33m\u001b[0m\u001b[0m\n\u001b[0;32m    405\u001b[0m \u001b[1;33m\u001b[0m\u001b[0m\n\u001b[1;32m--> 406\u001b[1;33m     \u001b[1;33m@\u001b[0m\u001b[0mclassmethod\u001b[0m\u001b[1;33m\u001b[0m\u001b[1;33m\u001b[0m\u001b[0m\n\u001b[0m\u001b[0;32m    407\u001b[0m     \u001b[1;32mdef\u001b[0m \u001b[0mfrom_wkt\u001b[0m\u001b[1;33m(\u001b[0m\u001b[0mcls\u001b[0m\u001b[1;33m,\u001b[0m \u001b[0mwkt\u001b[0m\u001b[1;33m,\u001b[0m \u001b[0mmorph_from_esri_dialect\u001b[0m\u001b[1;33m=\u001b[0m\u001b[1;32mFalse\u001b[0m\u001b[1;33m)\u001b[0m\u001b[1;33m:\u001b[0m\u001b[1;33m\u001b[0m\u001b[1;33m\u001b[0m\u001b[0m\n\u001b[0;32m    408\u001b[0m         \"\"\"Make a CRS from a WKT string\n",
      "\u001b[1;31mKeyboardInterrupt\u001b[0m: "
     ]
    }
   ],
   "source": [
    "# make the plots \n",
    "num_weeks = 50 # remove when done\n",
    "\n",
    "for time_step in tqdm_notebook(range(num_weeks)):\n",
    "\n",
    "    # Update values to plot in gdf\n",
    "    ix_data = 4 # S, E1, E2, A, I, R, D, V\n",
    "    data_to_plot = res[time_step, ix_data,:]\n",
    "\n",
    "    # add axis for spatial plot\n",
    "    fig, ax = plt.subplots(figsize=(14,14), dpi=72)\n",
    "    gdf.plot(ax=ax, facecolor='none', edgecolor='gray', alpha=0.5, linewidth=0.5, zorder=3)\n",
    "    gdf.plot(ax=ax, column='E1', zorder=3)\n",
    "    \n",
    "    # add background\n",
    "    ctx.add_basemap(ax, zoom='auto', crs=3857, source=ctx.providers.Stamen.TonerLite, alpha=0.6, attribution=\"\")\n",
    "    ax.set_axis_off()\n",
    "    ax.set_xlim(west, east)\n",
    "    ax.set_ylim(south, north)\n",
    "    ax.axis('off')\n",
    "    plt.tight_layout()\n",
    "    \n",
    "    # axes for SEIR plot \n",
    "    inset_ax = fig.add_axes([0.6, 0.14, 0.37, 0.27])\n",
    "    inset_ax.patch.set_alpha(0.5)\n",
    "\n",
    "    # lines\n",
    "    inset_ax.plot(res_accumulated_regions[:time_step, 0], label=\"S\",  ls='-', lw=1.5, alpha=0.8)\n",
    "    inset_ax.plot(res_accumulated_regions[:time_step, 1], label=\"E1\", ls='-', lw=1.5, alpha=0.8)\n",
    "    inset_ax.plot(res_accumulated_regions[:time_step, 2], label=\"E2\", ls='-', lw=1.5, alpha=0.8)\n",
    "    inset_ax.plot(res_accumulated_regions[:time_step, 3], label=\"A\",  ls='-', lw=1.5, alpha=0.8)\n",
    "    inset_ax.plot(res_accumulated_regions[:time_step, 4], label=\"I\",  ls='-', lw=1.5, alpha=0.8)\n",
    "    inset_ax.plot(res_accumulated_regions[:time_step, 5], label=\"R\",  ls='-', lw=1.5, alpha=0.8)\n",
    "    inset_ax.plot(res_accumulated_regions[:time_step, 6], label=\"D\",  ls='-', lw=1.5, alpha=0.8)\n",
    "    inset_ax.plot(res_accumulated_regions[:time_step, 7], label=\"V\",  ls='-', lw=1.5, alpha=0.8)\n",
    "\n",
    "    # fots on line\n",
    "    inset_ax.scatter((time_step-1), res_accumulated_regions[time_step, 0], s=20, alpha=0.8)\n",
    "    inset_ax.scatter((time_step-1), res_accumulated_regions[time_step, 1], s=20, alpha=0.8)\n",
    "    inset_ax.scatter((time_step-1), res_accumulated_regions[time_step, 2], s=20, alpha=0.8)\n",
    "    inset_ax.scatter((time_step-1), res_accumulated_regions[time_step, 3], s=20, alpha=0.8)\n",
    "    inset_ax.scatter((time_step-1), res_accumulated_regions[time_step, 4], s=20, alpha=0.8)\n",
    "    inset_ax.scatter((time_step-1), res_accumulated_regions[time_step, 5], s=20, alpha=0.8)\n",
    "    inset_ax.scatter((time_step-1), res_accumulated_regions[time_step, 6], s=20, alpha=0.8)\n",
    "    inset_ax.scatter((time_step-1), res_accumulated_regions[time_step, 7], s=20, alpha=0.8)\n",
    "\n",
    "    # Shaded area and vertical dotted line between S and I curves in SEIR plot \n",
    "    #inset_ax.fill_between(np.arange(0, time_step), res_accumulated_regions[:time_step, 0].sum(axis=1), res_accumulated_regions[:time_step, 3].sum(axis=1), alpha=0.035, color='r')\n",
    "    #inset_ax.plot([time_step, time_step], [0, max(res_accumulated_regions[(time_step-1), 0].sum(), res_accumulated_regions[(time_step-1), 3].sum())], ls='--', lw=0.7, alpha=0.8, color='r')\n",
    "    \n",
    "    # axes titles, label coordinates, values, font_sizes, grid, spines_colours, ticks_colurs, legend, title for SEIR plot\n",
    "    inset_ax.set_ylabel('Population', size=14, alpha=1, rotation=90)\n",
    "    inset_ax.set_xlabel('Weeks', size=14, alpha=1)\n",
    "    inset_ax.yaxis.set_label_coords(-0.15, 0.55)\n",
    "    inset_ax.tick_params(direction='in', size=10)\n",
    "    inset_ax.set_xlim(-4, num_weeks)\n",
    "    inset_ax.set_ylim(-24000, 5500000)\n",
    "    plt.xticks(fontsize=14)\n",
    "    plt.yticks(fontsize=14)\n",
    "    inset_ax.grid(alpha=0.4)\n",
    "    inset_ax.spines['right'].set_visible(False)\n",
    "    inset_ax.spines['top'].set_visible(False)\n",
    "    inset_ax.spines['left'].set_color('darkslategrey')\n",
    "    inset_ax.spines['bottom'].set_color('darkslategrey')\n",
    "    inset_ax.tick_params(axis='x', colors='darkslategrey')\n",
    "    inset_ax.tick_params(axis='y', colors='darkslategrey')\n",
    "    plt.legend(prop={'size':14, 'weight':'light'}, framealpha=0.5)\n",
    "    plt.title(\"Covid-19 spreading in week: {}\".format(time_step), fontsize=18, color= 'dimgray')\n",
    "\n",
    "    plt.savefig(\"plots/flows_{}.jpg\".format(time_step), dpi=fig.dpi)"
   ]
  },
  {
   "cell_type": "code",
   "execution_count": null,
   "metadata": {},
   "outputs": [],
   "source": []
  }
 ]
}