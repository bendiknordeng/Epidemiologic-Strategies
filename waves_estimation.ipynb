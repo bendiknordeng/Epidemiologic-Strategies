{
 "metadata": {
  "language_info": {
   "codemirror_mode": {
    "name": "ipython",
    "version": 3
   },
   "file_extension": ".py",
   "mimetype": "text/x-python",
   "name": "python",
   "nbconvert_exporter": "python",
   "pygments_lexer": "ipython3",
   "version": "3.8.0"
  },
  "orig_nbformat": 2,
  "kernelspec": {
   "name": "python380jvsc74a57bd021f1717c88b515e88706ad9d1e312e38e6c607c0a7c7521f9c83f3f6774bed74",
   "display_name": "Python 3.8.0 64-bit ('epidemics_6': conda)"
  }
 },
 "nbformat": 4,
 "nbformat_minor": 2,
 "cells": [
  {
   "source": [
    "# Notebook used to estimate epidemic waves"
   ],
   "cell_type": "markdown",
   "metadata": {}
  },
  {
   "cell_type": "code",
   "execution_count": 1,
   "metadata": {},
   "outputs": [],
   "source": [
    "import pandas as pd\n",
    "from functools import reduce\n",
    "pd.options.mode.chained_assignment = None\n",
    "import matplotlib.pyplot as plt"
   ]
  },
  {
   "cell_type": "code",
   "execution_count": 2,
   "metadata": {},
   "outputs": [],
   "source": [
    "df = pd.read_csv('data/world_r_eff.csv',\n",
    "        usecols=['country','date','R'],\n",
    "        parse_dates=['date'],\n",
    "        squeeze=True\n",
    "        ).sort_index()"
   ]
  },
  {
   "cell_type": "code",
   "execution_count": 3,
   "metadata": {},
   "outputs": [],
   "source": [
    "trend_length = 14\n",
    "logic_func = lambda r: reduce(lambda x, y: x + 1 if y else 0, r)"
   ]
  },
  {
   "cell_type": "code",
   "execution_count": 4,
   "metadata": {
    "tags": []
   },
   "outputs": [
    {
     "output_type": "stream",
     "name": "stdout",
     "text": [
      "Afghanistan\n",
      "Albania\n",
      "Algeria\n",
      "Andorra\n",
      "Angola\n",
      "Antigua and Barbuda\n",
      "Argentina\n",
      "Armenia\n",
      "Australia\n",
      "Austria\n",
      "Azerbaijan\n",
      "Bahamas\n",
      "Bahrain\n",
      "Bangladesh\n",
      "Barbados\n",
      "Belarus\n",
      "Belgium\n",
      "Belize\n",
      "Benin\n",
      "Bhutan\n",
      "Brazil\n",
      "Brunei\n",
      "Bolivia\n",
      "Bosnia and Herzegovina\n",
      "Botswana\n",
      "Bulgaria\n",
      "Burkina Faso\n",
      "Burma\n",
      "Burundi\n",
      "Cabo Verde\n",
      "Cambodia\n",
      "Cameroon\n",
      "Canada\n",
      "Central African Republic\n",
      "Chad\n",
      "Chile\n",
      "China\n",
      "Colombia\n",
      "Comoros\n",
      "Congo (Brazzaville)\n",
      "Congo (Kinshasa)\n",
      "Costa Rica\n",
      "Cote d'Ivoire\n",
      "Croatia\n",
      "Cuba\n",
      "Cyprus\n",
      "Czechia\n",
      "Denmark\n",
      "Djibouti\n",
      "Dominica\n",
      "Dominican Republic\n",
      "Ecuador\n",
      "Egypt\n",
      "El Salvador\n",
      "Equatorial Guinea\n",
      "Eritrea\n",
      "Estonia\n",
      "Eswatini\n",
      "Ethiopia\n",
      "Finland\n",
      "France\n",
      "Gabon\n",
      "Gambia\n",
      "Georgia\n",
      "Germany\n",
      "Ghana\n",
      "Greece\n",
      "Grenada\n",
      "Guatemala\n",
      "Guinea\n",
      "Guinea-Bissau\n",
      "Guyana\n",
      "Haiti\n",
      "Honduras\n",
      "Hungary\n",
      "Iceland\n",
      "India\n",
      "Indonesia\n",
      "Iran\n",
      "Iraq\n",
      "Ireland\n",
      "Israel\n",
      "Italy\n",
      "Jamaica\n",
      "Japan\n",
      "Jordan\n",
      "Kazakhstan\n",
      "Kenya\n",
      "Kosovo\n",
      "Kuwait\n",
      "Kyrgyzstan\n",
      "Latvia\n",
      "Lebanon\n",
      "Lesotho\n",
      "Liberia\n",
      "Libya\n",
      "Liechtenstein\n",
      "Lithuania\n",
      "Luxembourg\n",
      "Madagascar\n",
      "Malawi\n",
      "Malaysia\n",
      "Maldives\n",
      "Mali\n",
      "Malta\n",
      "Mauritania\n",
      "Mauritius\n",
      "Mexico\n",
      "Moldova\n",
      "Monaco\n",
      "Mongolia\n",
      "Montenegro\n",
      "Morocco\n",
      "Mozambique\n",
      "Namibia\n",
      "Nepal\n",
      "Netherlands\n",
      "New Zealand\n",
      "Nicaragua\n",
      "Niger\n",
      "Nigeria\n",
      "North Macedonia\n",
      "Norway\n",
      "Oman\n",
      "Pakistan\n",
      "Panama\n",
      "Papua New Guinea\n",
      "Paraguay\n",
      "Peru\n",
      "Philippines\n",
      "Poland\n",
      "Portugal\n",
      "Qatar\n",
      "Romania\n",
      "Russia\n",
      "Rwanda\n",
      "Saint Lucia\n",
      "Saint Vincent and the Grenadines\n",
      "San Marino\n",
      "Sao Tome and Principe\n",
      "Saudi Arabia\n",
      "Senegal\n",
      "Serbia\n",
      "Seychelles\n",
      "Sierra Leone\n",
      "Singapore\n",
      "Slovakia\n",
      "Slovenia\n",
      "Somalia\n",
      "South Africa\n",
      "South Korea\n",
      "South Sudan\n",
      "Spain\n",
      "Sri Lanka\n",
      "Sudan\n",
      "Suriname\n",
      "Sweden\n",
      "Switzerland\n",
      "Syria\n",
      "Taiwan\n",
      "Tajikistan\n",
      "Tanzania\n",
      "Thailand\n",
      "Timor-Leste\n",
      "Togo\n",
      "Trinidad and Tobago\n",
      "Tunisia\n",
      "Turkey\n",
      "Uganda\n",
      "Ukraine\n",
      "United Arab Emirates\n",
      "United Kingdom\n",
      "United States\n",
      "Uruguay\n",
      "Uzbekistan\n",
      "Venezuela\n",
      "Vietnam\n",
      "West Bank and Gaza\n",
      "World\n",
      "Yemen\n",
      "Zambia\n",
      "Zimbabwe\n"
     ]
    }
   ],
   "source": [
    "df_total = pd.DataFrame(columns=['country',\t'date',\t'R', 'increasing', 'decreasing', 'upward_slope_days', 'downward_slope_days' ])\n",
    "for country in df.country.unique():\n",
    "    print(country)\n",
    "    df_country = df.loc[df['country'] == country]\n",
    "    \n",
    "    # counts number consecutive days with R>=1 for a give date\n",
    "    ser = df.loc[df['country'] == country]['R'] >= 1\n",
    "    df_country['increasing'] = ser.expanding().apply(logic_func)\n",
    "\n",
    "    # counts number consecutive days with R<1 for a give date\n",
    "    ser = df_country['R'] < 1\n",
    "    df_country['decreasing'] = ser.expanding().apply(logic_func)\n",
    "\n",
    "    # # counts number consecutive days with upward slope\n",
    "    ser = df_country['increasing'] >= trend_length\n",
    "    df_country['upward_slope_days'] = ser.expanding().apply(logic_func)\n",
    "\n",
    "    # # counts number consecutive days with downward_slope\n",
    "    ser = df_country['decreasing'] >= trend_length\n",
    "    df_country['downward_slope_days'] = ser.expanding().apply(logic_func)\n",
    "    \n",
    "    # append df to total_df\n",
    "    df_total = pd.concat([df_total, df_country])"
   ]
  },
  {
   "cell_type": "code",
   "execution_count": 5,
   "metadata": {},
   "outputs": [
    {
     "output_type": "execute_result",
     "data": {
      "text/plain": [
       "        country       date         R  increasing  decreasing  \\\n",
       "50  Afghanistan 2020-05-18  1.389535        51.0         0.0   \n",
       "51  Afghanistan 2020-05-19  1.391146        52.0         0.0   \n",
       "52  Afghanistan 2020-05-20  1.384887        53.0         0.0   \n",
       "53  Afghanistan 2020-05-21  1.374943        54.0         0.0   \n",
       "54  Afghanistan 2020-05-22  1.364635        55.0         0.0   \n",
       "55  Afghanistan 2020-05-23  1.353530        56.0         0.0   \n",
       "56  Afghanistan 2020-05-24  1.330758        57.0         0.0   \n",
       "57  Afghanistan 2020-05-25  1.308847        58.0         0.0   \n",
       "58  Afghanistan 2020-05-26  1.286269        59.0         0.0   \n",
       "59  Afghanistan 2020-05-27  1.266329        60.0         0.0   \n",
       "60  Afghanistan 2020-05-28  1.245867        61.0         0.0   \n",
       "61  Afghanistan 2020-05-29  1.231199        62.0         0.0   \n",
       "62  Afghanistan 2020-05-30  1.217664        63.0         0.0   \n",
       "63  Afghanistan 2020-05-31  1.197491        64.0         0.0   \n",
       "64  Afghanistan 2020-01-06  1.177131        65.0         0.0   \n",
       "65  Afghanistan 2020-02-06  1.160723        66.0         0.0   \n",
       "66  Afghanistan 2020-03-06  1.144655        67.0         0.0   \n",
       "67  Afghanistan 2020-04-06  1.127369        68.0         0.0   \n",
       "68  Afghanistan 2020-05-06  1.108124        69.0         0.0   \n",
       "69  Afghanistan 2020-06-06  1.082359        70.0         0.0   \n",
       "70  Afghanistan 2020-07-06  1.061787        71.0         0.0   \n",
       "71  Afghanistan 2020-08-06  1.039828        72.0         0.0   \n",
       "72  Afghanistan 2020-09-06  1.020892        73.0         0.0   \n",
       "73  Afghanistan 2020-10-06  1.007736        74.0         0.0   \n",
       "74  Afghanistan 2020-11-06  0.994090         0.0         1.0   \n",
       "75  Afghanistan 2020-12-06  0.979356         0.0         2.0   \n",
       "76  Afghanistan 2020-06-13  0.964021         0.0         3.0   \n",
       "77  Afghanistan 2020-06-14  0.951526         0.0         4.0   \n",
       "78  Afghanistan 2020-06-15  0.936813         0.0         5.0   \n",
       "79  Afghanistan 2020-06-16  0.915224         0.0         6.0   \n",
       "\n",
       "    upward_slope_days  downward_slope_days  \n",
       "50               38.0                  0.0  \n",
       "51               39.0                  0.0  \n",
       "52               40.0                  0.0  \n",
       "53               41.0                  0.0  \n",
       "54               42.0                  0.0  \n",
       "55               43.0                  0.0  \n",
       "56               44.0                  0.0  \n",
       "57               45.0                  0.0  \n",
       "58               46.0                  0.0  \n",
       "59               47.0                  0.0  \n",
       "60               48.0                  0.0  \n",
       "61               49.0                  0.0  \n",
       "62               50.0                  0.0  \n",
       "63               51.0                  0.0  \n",
       "64               52.0                  0.0  \n",
       "65               53.0                  0.0  \n",
       "66               54.0                  0.0  \n",
       "67               55.0                  0.0  \n",
       "68               56.0                  0.0  \n",
       "69               57.0                  0.0  \n",
       "70               58.0                  0.0  \n",
       "71               59.0                  0.0  \n",
       "72               60.0                  0.0  \n",
       "73               61.0                  0.0  \n",
       "74                0.0                  0.0  \n",
       "75                0.0                  0.0  \n",
       "76                0.0                  0.0  \n",
       "77                0.0                  0.0  \n",
       "78                0.0                  0.0  \n",
       "79                0.0                  0.0  "
      ],
      "text/html": "<div>\n<style scoped>\n    .dataframe tbody tr th:only-of-type {\n        vertical-align: middle;\n    }\n\n    .dataframe tbody tr th {\n        vertical-align: top;\n    }\n\n    .dataframe thead th {\n        text-align: right;\n    }\n</style>\n<table border=\"1\" class=\"dataframe\">\n  <thead>\n    <tr style=\"text-align: right;\">\n      <th></th>\n      <th>country</th>\n      <th>date</th>\n      <th>R</th>\n      <th>increasing</th>\n      <th>decreasing</th>\n      <th>upward_slope_days</th>\n      <th>downward_slope_days</th>\n    </tr>\n  </thead>\n  <tbody>\n    <tr>\n      <th>50</th>\n      <td>Afghanistan</td>\n      <td>2020-05-18</td>\n      <td>1.389535</td>\n      <td>51.0</td>\n      <td>0.0</td>\n      <td>38.0</td>\n      <td>0.0</td>\n    </tr>\n    <tr>\n      <th>51</th>\n      <td>Afghanistan</td>\n      <td>2020-05-19</td>\n      <td>1.391146</td>\n      <td>52.0</td>\n      <td>0.0</td>\n      <td>39.0</td>\n      <td>0.0</td>\n    </tr>\n    <tr>\n      <th>52</th>\n      <td>Afghanistan</td>\n      <td>2020-05-20</td>\n      <td>1.384887</td>\n      <td>53.0</td>\n      <td>0.0</td>\n      <td>40.0</td>\n      <td>0.0</td>\n    </tr>\n    <tr>\n      <th>53</th>\n      <td>Afghanistan</td>\n      <td>2020-05-21</td>\n      <td>1.374943</td>\n      <td>54.0</td>\n      <td>0.0</td>\n      <td>41.0</td>\n      <td>0.0</td>\n    </tr>\n    <tr>\n      <th>54</th>\n      <td>Afghanistan</td>\n      <td>2020-05-22</td>\n      <td>1.364635</td>\n      <td>55.0</td>\n      <td>0.0</td>\n      <td>42.0</td>\n      <td>0.0</td>\n    </tr>\n    <tr>\n      <th>55</th>\n      <td>Afghanistan</td>\n      <td>2020-05-23</td>\n      <td>1.353530</td>\n      <td>56.0</td>\n      <td>0.0</td>\n      <td>43.0</td>\n      <td>0.0</td>\n    </tr>\n    <tr>\n      <th>56</th>\n      <td>Afghanistan</td>\n      <td>2020-05-24</td>\n      <td>1.330758</td>\n      <td>57.0</td>\n      <td>0.0</td>\n      <td>44.0</td>\n      <td>0.0</td>\n    </tr>\n    <tr>\n      <th>57</th>\n      <td>Afghanistan</td>\n      <td>2020-05-25</td>\n      <td>1.308847</td>\n      <td>58.0</td>\n      <td>0.0</td>\n      <td>45.0</td>\n      <td>0.0</td>\n    </tr>\n    <tr>\n      <th>58</th>\n      <td>Afghanistan</td>\n      <td>2020-05-26</td>\n      <td>1.286269</td>\n      <td>59.0</td>\n      <td>0.0</td>\n      <td>46.0</td>\n      <td>0.0</td>\n    </tr>\n    <tr>\n      <th>59</th>\n      <td>Afghanistan</td>\n      <td>2020-05-27</td>\n      <td>1.266329</td>\n      <td>60.0</td>\n      <td>0.0</td>\n      <td>47.0</td>\n      <td>0.0</td>\n    </tr>\n    <tr>\n      <th>60</th>\n      <td>Afghanistan</td>\n      <td>2020-05-28</td>\n      <td>1.245867</td>\n      <td>61.0</td>\n      <td>0.0</td>\n      <td>48.0</td>\n      <td>0.0</td>\n    </tr>\n    <tr>\n      <th>61</th>\n      <td>Afghanistan</td>\n      <td>2020-05-29</td>\n      <td>1.231199</td>\n      <td>62.0</td>\n      <td>0.0</td>\n      <td>49.0</td>\n      <td>0.0</td>\n    </tr>\n    <tr>\n      <th>62</th>\n      <td>Afghanistan</td>\n      <td>2020-05-30</td>\n      <td>1.217664</td>\n      <td>63.0</td>\n      <td>0.0</td>\n      <td>50.0</td>\n      <td>0.0</td>\n    </tr>\n    <tr>\n      <th>63</th>\n      <td>Afghanistan</td>\n      <td>2020-05-31</td>\n      <td>1.197491</td>\n      <td>64.0</td>\n      <td>0.0</td>\n      <td>51.0</td>\n      <td>0.0</td>\n    </tr>\n    <tr>\n      <th>64</th>\n      <td>Afghanistan</td>\n      <td>2020-01-06</td>\n      <td>1.177131</td>\n      <td>65.0</td>\n      <td>0.0</td>\n      <td>52.0</td>\n      <td>0.0</td>\n    </tr>\n    <tr>\n      <th>65</th>\n      <td>Afghanistan</td>\n      <td>2020-02-06</td>\n      <td>1.160723</td>\n      <td>66.0</td>\n      <td>0.0</td>\n      <td>53.0</td>\n      <td>0.0</td>\n    </tr>\n    <tr>\n      <th>66</th>\n      <td>Afghanistan</td>\n      <td>2020-03-06</td>\n      <td>1.144655</td>\n      <td>67.0</td>\n      <td>0.0</td>\n      <td>54.0</td>\n      <td>0.0</td>\n    </tr>\n    <tr>\n      <th>67</th>\n      <td>Afghanistan</td>\n      <td>2020-04-06</td>\n      <td>1.127369</td>\n      <td>68.0</td>\n      <td>0.0</td>\n      <td>55.0</td>\n      <td>0.0</td>\n    </tr>\n    <tr>\n      <th>68</th>\n      <td>Afghanistan</td>\n      <td>2020-05-06</td>\n      <td>1.108124</td>\n      <td>69.0</td>\n      <td>0.0</td>\n      <td>56.0</td>\n      <td>0.0</td>\n    </tr>\n    <tr>\n      <th>69</th>\n      <td>Afghanistan</td>\n      <td>2020-06-06</td>\n      <td>1.082359</td>\n      <td>70.0</td>\n      <td>0.0</td>\n      <td>57.0</td>\n      <td>0.0</td>\n    </tr>\n    <tr>\n      <th>70</th>\n      <td>Afghanistan</td>\n      <td>2020-07-06</td>\n      <td>1.061787</td>\n      <td>71.0</td>\n      <td>0.0</td>\n      <td>58.0</td>\n      <td>0.0</td>\n    </tr>\n    <tr>\n      <th>71</th>\n      <td>Afghanistan</td>\n      <td>2020-08-06</td>\n      <td>1.039828</td>\n      <td>72.0</td>\n      <td>0.0</td>\n      <td>59.0</td>\n      <td>0.0</td>\n    </tr>\n    <tr>\n      <th>72</th>\n      <td>Afghanistan</td>\n      <td>2020-09-06</td>\n      <td>1.020892</td>\n      <td>73.0</td>\n      <td>0.0</td>\n      <td>60.0</td>\n      <td>0.0</td>\n    </tr>\n    <tr>\n      <th>73</th>\n      <td>Afghanistan</td>\n      <td>2020-10-06</td>\n      <td>1.007736</td>\n      <td>74.0</td>\n      <td>0.0</td>\n      <td>61.0</td>\n      <td>0.0</td>\n    </tr>\n    <tr>\n      <th>74</th>\n      <td>Afghanistan</td>\n      <td>2020-11-06</td>\n      <td>0.994090</td>\n      <td>0.0</td>\n      <td>1.0</td>\n      <td>0.0</td>\n      <td>0.0</td>\n    </tr>\n    <tr>\n      <th>75</th>\n      <td>Afghanistan</td>\n      <td>2020-12-06</td>\n      <td>0.979356</td>\n      <td>0.0</td>\n      <td>2.0</td>\n      <td>0.0</td>\n      <td>0.0</td>\n    </tr>\n    <tr>\n      <th>76</th>\n      <td>Afghanistan</td>\n      <td>2020-06-13</td>\n      <td>0.964021</td>\n      <td>0.0</td>\n      <td>3.0</td>\n      <td>0.0</td>\n      <td>0.0</td>\n    </tr>\n    <tr>\n      <th>77</th>\n      <td>Afghanistan</td>\n      <td>2020-06-14</td>\n      <td>0.951526</td>\n      <td>0.0</td>\n      <td>4.0</td>\n      <td>0.0</td>\n      <td>0.0</td>\n    </tr>\n    <tr>\n      <th>78</th>\n      <td>Afghanistan</td>\n      <td>2020-06-15</td>\n      <td>0.936813</td>\n      <td>0.0</td>\n      <td>5.0</td>\n      <td>0.0</td>\n      <td>0.0</td>\n    </tr>\n    <tr>\n      <th>79</th>\n      <td>Afghanistan</td>\n      <td>2020-06-16</td>\n      <td>0.915224</td>\n      <td>0.0</td>\n      <td>6.0</td>\n      <td>0.0</td>\n      <td>0.0</td>\n    </tr>\n  </tbody>\n</table>\n</div>"
     },
     "metadata": {},
     "execution_count": 5
    }
   ],
   "source": [
    "df_total[50:80]"
   ]
  },
  {
   "cell_type": "code",
   "execution_count": 11,
   "metadata": {},
   "outputs": [
    {
     "output_type": "execute_result",
     "data": {
      "text/plain": [
       "country                           Zimbabwe\n",
       "date                   2021-12-04 00:00:00\n",
       "R                                 5.764254\n",
       "increasing                           390.0\n",
       "decreasing                           401.0\n",
       "upward_slope_days                    377.0\n",
       "downward_slope_days                  388.0\n",
       "dtype: object"
      ]
     },
     "metadata": {},
     "execution_count": 11
    }
   ],
   "source": [
    "df_total.max()"
   ]
  },
  {
   "cell_type": "code",
   "execution_count": 12,
   "metadata": {},
   "outputs": [
    {
     "output_type": "execute_result",
     "data": {
      "text/plain": [
       "Empty DataFrame\n",
       "Columns: [country, date, R, increasing, decreasing, upward_slope_days, downward_slope_days]\n",
       "Index: []"
      ],
      "text/html": "<div>\n<style scoped>\n    .dataframe tbody tr th:only-of-type {\n        vertical-align: middle;\n    }\n\n    .dataframe tbody tr th {\n        vertical-align: top;\n    }\n\n    .dataframe thead th {\n        text-align: right;\n    }\n</style>\n<table border=\"1\" class=\"dataframe\">\n  <thead>\n    <tr style=\"text-align: right;\">\n      <th></th>\n      <th>country</th>\n      <th>date</th>\n      <th>R</th>\n      <th>increasing</th>\n      <th>decreasing</th>\n      <th>upward_slope_days</th>\n      <th>downward_slope_days</th>\n    </tr>\n  </thead>\n  <tbody>\n  </tbody>\n</table>\n</div>"
     },
     "metadata": {},
     "execution_count": 12
    }
   ],
   "source": [
    "df_total.loc[df_total['decreasing'] == 2394]"
   ]
  },
  {
   "cell_type": "code",
   "execution_count": 14,
   "metadata": {},
   "outputs": [
    {
     "output_type": "execute_result",
     "data": {
      "text/plain": [
       "     duration  frequency\n",
       "0        14.0   0.032733\n",
       "7        15.0   0.019640\n",
       "5        16.0   0.022913\n",
       "1        17.0   0.031097\n",
       "50       18.0   0.008183\n",
       "..        ...        ...\n",
       "133     210.0   0.001637\n",
       "121     213.0   0.001637\n",
       "138     216.0   0.001637\n",
       "131     293.0   0.001637\n",
       "118     390.0   0.001637\n",
       "\n",
       "[140 rows x 2 columns]"
      ],
      "text/html": "<div>\n<style scoped>\n    .dataframe tbody tr th:only-of-type {\n        vertical-align: middle;\n    }\n\n    .dataframe tbody tr th {\n        vertical-align: top;\n    }\n\n    .dataframe thead th {\n        text-align: right;\n    }\n</style>\n<table border=\"1\" class=\"dataframe\">\n  <thead>\n    <tr style=\"text-align: right;\">\n      <th></th>\n      <th>duration</th>\n      <th>frequency</th>\n    </tr>\n  </thead>\n  <tbody>\n    <tr>\n      <th>0</th>\n      <td>14.0</td>\n      <td>0.032733</td>\n    </tr>\n    <tr>\n      <th>7</th>\n      <td>15.0</td>\n      <td>0.019640</td>\n    </tr>\n    <tr>\n      <th>5</th>\n      <td>16.0</td>\n      <td>0.022913</td>\n    </tr>\n    <tr>\n      <th>1</th>\n      <td>17.0</td>\n      <td>0.031097</td>\n    </tr>\n    <tr>\n      <th>50</th>\n      <td>18.0</td>\n      <td>0.008183</td>\n    </tr>\n    <tr>\n      <th>...</th>\n      <td>...</td>\n      <td>...</td>\n    </tr>\n    <tr>\n      <th>133</th>\n      <td>210.0</td>\n      <td>0.001637</td>\n    </tr>\n    <tr>\n      <th>121</th>\n      <td>213.0</td>\n      <td>0.001637</td>\n    </tr>\n    <tr>\n      <th>138</th>\n      <td>216.0</td>\n      <td>0.001637</td>\n    </tr>\n    <tr>\n      <th>131</th>\n      <td>293.0</td>\n      <td>0.001637</td>\n    </tr>\n    <tr>\n      <th>118</th>\n      <td>390.0</td>\n      <td>0.001637</td>\n    </tr>\n  </tbody>\n</table>\n<p>140 rows × 2 columns</p>\n</div>"
     },
     "metadata": {},
     "execution_count": 14
    }
   ],
   "source": [
    "# counts downward slopes and finds duration of them\n",
    "ser = df_total['downward_slope_days'] > 0\n",
    "count_down = df_total['downward_slope_days'] [ser & (ser != ser.shift(-1))].value_counts(normalize=True)\n",
    "count_down_df = count_down.to_frame().reset_index().rename(columns={'index':'duration','downward_slope_days':'fraction' })\n",
    "count_down_df.duration += 13\n",
    "count_down_df.round({'duration':0, 'fraction':2})\n",
    "count_down_df = count_down_df.sort_values(by=['duration'])\n",
    "count_down_df"
   ]
  },
  {
   "cell_type": "code",
   "execution_count": 18,
   "metadata": {},
   "outputs": [
    {
     "output_type": "error",
     "ename": "TypeError",
     "evalue": "decimals must be an integer, a dict-like or a Series",
     "traceback": [
      "\u001b[1;31m---------------------------------------------------------------------------\u001b[0m",
      "\u001b[1;31mTypeError\u001b[0m                                 Traceback (most recent call last)",
      "\u001b[1;32m<ipython-input-18-eca2147bbe16>\u001b[0m in \u001b[0;36m<module>\u001b[1;34m\u001b[0m\n\u001b[0;32m      2\u001b[0m \u001b[0mser\u001b[0m \u001b[1;33m=\u001b[0m \u001b[0mdf_total\u001b[0m\u001b[1;33m[\u001b[0m\u001b[1;34m'downward_slope_days'\u001b[0m\u001b[1;33m]\u001b[0m \u001b[1;33m>\u001b[0m \u001b[1;36m0\u001b[0m\u001b[1;33m\u001b[0m\u001b[1;33m\u001b[0m\u001b[0m\n\u001b[0;32m      3\u001b[0m \u001b[0mcount_down\u001b[0m \u001b[1;33m=\u001b[0m \u001b[0mdf_total\u001b[0m\u001b[1;33m[\u001b[0m\u001b[1;34m'downward_slope_days'\u001b[0m\u001b[1;33m]\u001b[0m \u001b[1;33m[\u001b[0m\u001b[0mser\u001b[0m \u001b[1;33m&\u001b[0m \u001b[1;33m(\u001b[0m\u001b[0mser\u001b[0m \u001b[1;33m!=\u001b[0m \u001b[0mser\u001b[0m\u001b[1;33m.\u001b[0m\u001b[0mshift\u001b[0m\u001b[1;33m(\u001b[0m\u001b[1;33m-\u001b[0m\u001b[1;36m1\u001b[0m\u001b[1;33m)\u001b[0m\u001b[1;33m)\u001b[0m\u001b[1;33m]\u001b[0m\u001b[1;33m.\u001b[0m\u001b[0mvalue_counts\u001b[0m\u001b[1;33m(\u001b[0m\u001b[0mnormalize\u001b[0m\u001b[1;33m=\u001b[0m\u001b[1;32mTrue\u001b[0m\u001b[1;33m)\u001b[0m\u001b[1;33m\u001b[0m\u001b[1;33m\u001b[0m\u001b[0m\n\u001b[1;32m----> 4\u001b[1;33m \u001b[0mcount_down_df\u001b[0m \u001b[1;33m=\u001b[0m \u001b[0mcount_down\u001b[0m\u001b[1;33m.\u001b[0m\u001b[0mto_frame\u001b[0m\u001b[1;33m(\u001b[0m\u001b[1;33m)\u001b[0m\u001b[1;33m.\u001b[0m\u001b[0mreset_index\u001b[0m\u001b[1;33m(\u001b[0m\u001b[1;33m)\u001b[0m\u001b[1;33m.\u001b[0m\u001b[0mrename\u001b[0m\u001b[1;33m(\u001b[0m\u001b[0mcolumns\u001b[0m\u001b[1;33m=\u001b[0m\u001b[1;33m{\u001b[0m\u001b[1;34m'index'\u001b[0m\u001b[1;33m:\u001b[0m\u001b[1;34m'duration'\u001b[0m\u001b[1;33m,\u001b[0m\u001b[1;34m'downward_slope_days'\u001b[0m\u001b[1;33m:\u001b[0m\u001b[1;34m'frequency'\u001b[0m \u001b[1;33m}\u001b[0m\u001b[1;33m)\u001b[0m\u001b[1;33m.\u001b[0m\u001b[0mround\u001b[0m\u001b[1;33m(\u001b[0m\u001b[1;34m'%.2f'\u001b[0m\u001b[1;33m)\u001b[0m\u001b[1;33m\u001b[0m\u001b[1;33m\u001b[0m\u001b[0m\n\u001b[0m\u001b[0;32m      5\u001b[0m \u001b[0mcount_down_df\u001b[0m\u001b[1;33m.\u001b[0m\u001b[0mduration\u001b[0m \u001b[1;33m+=\u001b[0m \u001b[1;36m13\u001b[0m\u001b[1;33m\u001b[0m\u001b[1;33m\u001b[0m\u001b[0m\n\u001b[0;32m      6\u001b[0m \u001b[0mcount_down_df\u001b[0m \u001b[1;33m=\u001b[0m \u001b[0mcount_down_df\u001b[0m\u001b[1;33m.\u001b[0m\u001b[0msort_values\u001b[0m\u001b[1;33m(\u001b[0m\u001b[0mby\u001b[0m\u001b[1;33m=\u001b[0m\u001b[1;33m[\u001b[0m\u001b[1;34m'duration'\u001b[0m\u001b[1;33m]\u001b[0m\u001b[1;33m)\u001b[0m\u001b[1;33m\u001b[0m\u001b[1;33m\u001b[0m\u001b[0m\n",
      "\u001b[1;32m~\\Anaconda3\\envs\\epidemics_6\\lib\\site-packages\\pandas\\core\\frame.py\u001b[0m in \u001b[0;36mround\u001b[1;34m(self, decimals, *args, **kwargs)\u001b[0m\n\u001b[0;32m   8311\u001b[0m             \u001b[0mnew_cols\u001b[0m \u001b[1;33m=\u001b[0m \u001b[1;33m[\u001b[0m\u001b[0m_series_round\u001b[0m\u001b[1;33m(\u001b[0m\u001b[0mv\u001b[0m\u001b[1;33m,\u001b[0m \u001b[0mdecimals\u001b[0m\u001b[1;33m)\u001b[0m \u001b[1;32mfor\u001b[0m \u001b[0m_\u001b[0m\u001b[1;33m,\u001b[0m \u001b[0mv\u001b[0m \u001b[1;32min\u001b[0m \u001b[0mself\u001b[0m\u001b[1;33m.\u001b[0m\u001b[0mitems\u001b[0m\u001b[1;33m(\u001b[0m\u001b[1;33m)\u001b[0m\u001b[1;33m]\u001b[0m\u001b[1;33m\u001b[0m\u001b[1;33m\u001b[0m\u001b[0m\n\u001b[0;32m   8312\u001b[0m         \u001b[1;32melse\u001b[0m\u001b[1;33m:\u001b[0m\u001b[1;33m\u001b[0m\u001b[1;33m\u001b[0m\u001b[0m\n\u001b[1;32m-> 8313\u001b[1;33m             \u001b[1;32mraise\u001b[0m \u001b[0mTypeError\u001b[0m\u001b[1;33m(\u001b[0m\u001b[1;34m\"decimals must be an integer, a dict-like or a Series\"\u001b[0m\u001b[1;33m)\u001b[0m\u001b[1;33m\u001b[0m\u001b[1;33m\u001b[0m\u001b[0m\n\u001b[0m\u001b[0;32m   8314\u001b[0m \u001b[1;33m\u001b[0m\u001b[0m\n\u001b[0;32m   8315\u001b[0m         \u001b[1;32mif\u001b[0m \u001b[0mlen\u001b[0m\u001b[1;33m(\u001b[0m\u001b[0mnew_cols\u001b[0m\u001b[1;33m)\u001b[0m \u001b[1;33m>\u001b[0m \u001b[1;36m0\u001b[0m\u001b[1;33m:\u001b[0m\u001b[1;33m\u001b[0m\u001b[1;33m\u001b[0m\u001b[0m\n",
      "\u001b[1;31mTypeError\u001b[0m: decimals must be an integer, a dict-like or a Series"
     ]
    }
   ],
   "source": [
    "# counts downward slopes and finds duration of them\n",
    "ser = df_total['upward_slope_days'] > 0\n",
    "count_up = df_total['upward_slope_days'] [ser & (ser != ser.shift(-1))].value_counts(normalize=True)\n",
    "count_up_df = count_up.to_frame().reset_index().rename(columns={'index':'duration','upward_slope_days':'fraction' })\n",
    "count_up_df.duration += 13\n",
    "count_up_df.round({'duration':0, 'fraction':2})\n",
    "count_up_df = count_up_df.sort_values(by=['duration'])\n",
    "count_up_df"
   ]
  },
  {
   "cell_type": "code",
   "execution_count": 17,
   "metadata": {},
   "outputs": [
    {
     "output_type": "error",
     "ename": "NameError",
     "evalue": "name 'ax' is not defined",
     "traceback": [
      "\u001b[1;31m---------------------------------------------------------------------------\u001b[0m",
      "\u001b[1;31mNameError\u001b[0m                                 Traceback (most recent call last)",
      "\u001b[1;32m<ipython-input-17-43b0d136fcf5>\u001b[0m in \u001b[0;36m<module>\u001b[1;34m\u001b[0m\n\u001b[0;32m      1\u001b[0m \u001b[0mplt\u001b[0m\u001b[1;33m.\u001b[0m\u001b[0mbar\u001b[0m\u001b[1;33m(\u001b[0m\u001b[0mcount_up_df\u001b[0m\u001b[1;33m[\u001b[0m\u001b[1;34m'duration'\u001b[0m\u001b[1;33m]\u001b[0m\u001b[1;33m,\u001b[0m \u001b[0mcount_up_df\u001b[0m\u001b[1;33m[\u001b[0m\u001b[1;34m'frequency'\u001b[0m\u001b[1;33m]\u001b[0m\u001b[1;33m,\u001b[0m \u001b[0mcolor\u001b[0m\u001b[1;33m=\u001b[0m\u001b[1;34m'b'\u001b[0m\u001b[1;33m)\u001b[0m\u001b[1;33m\u001b[0m\u001b[1;33m\u001b[0m\u001b[0m\n\u001b[1;32m----> 2\u001b[1;33m \u001b[0max\u001b[0m\u001b[1;33m.\u001b[0m\u001b[0mset_major_formatter\u001b[0m\u001b[1;33m(\u001b[0m\u001b[0mFormatStrFormatter\u001b[0m\u001b[1;33m(\u001b[0m\u001b[1;34m'%.2f'\u001b[0m\u001b[1;33m)\u001b[0m\u001b[1;33m)\u001b[0m\u001b[1;33m\u001b[0m\u001b[1;33m\u001b[0m\u001b[0m\n\u001b[0m\u001b[0;32m      3\u001b[0m \u001b[0mplt\u001b[0m\u001b[1;33m.\u001b[0m\u001b[0mtitle\u001b[0m\u001b[1;33m(\u001b[0m\u001b[1;34m'Upward Periods'\u001b[0m\u001b[1;33m)\u001b[0m\u001b[1;33m\u001b[0m\u001b[1;33m\u001b[0m\u001b[0m\n\u001b[0;32m      4\u001b[0m \u001b[0mplt\u001b[0m\u001b[1;33m.\u001b[0m\u001b[0mxlabel\u001b[0m\u001b[1;33m(\u001b[0m\u001b[1;34m'Duration (days)'\u001b[0m\u001b[1;33m)\u001b[0m\u001b[1;33m\u001b[0m\u001b[1;33m\u001b[0m\u001b[0m\n\u001b[0;32m      5\u001b[0m \u001b[0mplt\u001b[0m\u001b[1;33m.\u001b[0m\u001b[0mylabel\u001b[0m\u001b[1;33m(\u001b[0m\u001b[1;34m'Fraction'\u001b[0m\u001b[1;33m)\u001b[0m\u001b[1;33m\u001b[0m\u001b[1;33m\u001b[0m\u001b[0m\n",
      "\u001b[1;31mNameError\u001b[0m: name 'ax' is not defined"
     ]
    }
   ],
   "source": [
    "plt.bar(count_up_df['duration'], count_up_df['frequency'], color='b')\n",
    "ax.set_major_formatter(FormatStrFormatter('%.2f'))\n",
    "plt.title('Upward Periods')\n",
    "plt.xlabel('Duration (days)')\n",
    "plt.ylabel('Fraction')"
   ]
  }
 ]
}