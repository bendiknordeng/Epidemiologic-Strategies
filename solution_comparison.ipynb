{
 "metadata": {
  "language_info": {
   "codemirror_mode": {
    "name": "ipython",
    "version": 3
   },
   "file_extension": ".py",
   "mimetype": "text/x-python",
   "name": "python",
   "nbconvert_exporter": "python",
   "pygments_lexer": "ipython3",
   "version": "3.8.0"
  },
  "orig_nbformat": 2,
  "kernelspec": {
   "name": "python380jvsc74a57bd0612cff4a0ac5e6c37db1b07ee7abafa0758340b75711202652ee82ea5fa6d12e",
   "display_name": "Python 3.8.0 64-bit ('epidemics': conda)"
  }
 },
 "nbformat": 4,
 "nbformat_minor": 2,
 "cells": [
  {
   "cell_type": "code",
   "execution_count": 97,
   "metadata": {},
   "outputs": [],
   "source": [
    "from covid import utils\n",
    "states1 = utils.read_pickle(\"(0, 0, 0.5, 0.5)_2021-04-29 18:19:06.925620\")\n",
    "states2 = utils.read_pickle(\"(0, 0.33, 0.33, 0.34)_2021-04-29 17:56:31.661310\")\n",
    "states3 = utils.read_pickle(\"(0, 0, 0.25, 0.75)_2021-04-29 18:40:25.012134\")"
   ]
  },
  {
   "cell_type": "code",
   "execution_count": 98,
   "metadata": {},
   "outputs": [],
   "source": [
    "import numpy as np"
   ]
  },
  {
   "cell_type": "code",
   "execution_count": 134,
   "metadata": {},
   "outputs": [],
   "source": [
    "import scipy\n",
    "def t_test(s1, s2):\n",
    "    nr_obs = 5\n",
    "    p = 1\n",
    "    while p >= 0.01 and nr_obs < 100:\n",
    "        nr_obs += 1\n",
    "        deaths1 = np.zeros(nr_obs)\n",
    "        deaths2 = np.zeros(nr_obs)\n",
    "        for i in range(nr_obs):\n",
    "            deaths1[i] = np.sum(s1[i].D)\n",
    "            deaths2[i] = np.sum(s2[i].D)\n",
    "        one = deaths1-deaths2\n",
    "        p = scipy.stats.ttest_ind(one, np.zeros(nr_obs), axis=0, alternative=\"two-sided\").pvalue\n",
    "        \n",
    "    \n",
    "\n",
    "    print(f\"Found different solutions after {nr_obs} observations\")\n",
    "    print(f\"P value is {p}\")\n",
    "    print(f\"Diff 1-2: {one}\")\n",
    "    less = scipy.stats.ttest_ind(one, np.zeros(nr_obs), axis=0, alternative=\"less\").pvalue\n",
    "    greater = scipy.stats.ttest_ind(one, np.zeros(nr_obs), axis=0, alternative=\"greater\").pvalue\n",
    "    if less < greater:\n",
    "        print(\"Solution 1 is best\")\n",
    "    else:\n",
    "        print(\"Solution 2 is best\")\n",
    "    "
   ]
  },
  {
   "cell_type": "code",
   "execution_count": 140,
   "metadata": {},
   "outputs": [
    {
     "output_type": "stream",
     "name": "stdout",
     "text": [
      "Found different solutions after 8 observations\nP value is 0.0051109449397238405\nDiff 1-2: [ 56.  52.  45. 146.  -9.  72.   4.  92.]\nSolution 2 is best\n"
     ]
    }
   ],
   "source": [
    "#nr_obs = [i for i in range(20)]\n",
    "#for i in nr_obs:\n",
    "t_test(states3, states1)\n"
   ]
  },
  {
   "cell_type": "code",
   "execution_count": 141,
   "metadata": {},
   "outputs": [],
   "source": [
    "deaths1 = np.zeros(len(states1))\n",
    "deaths2 = np.zeros(len(states1))\n",
    "deaths3 = np.zeros(len(states1))\n",
    "for i in range(len(states1)):\n",
    "    deaths1[i] = np.sum(states1[i].D)\n",
    "    deaths2[i] = np.sum(states2[i].D)\n",
    "    deaths3[i] = np.sum(states3[i].D)"
   ]
  },
  {
   "cell_type": "code",
   "execution_count": 142,
   "metadata": {},
   "outputs": [
    {
     "output_type": "stream",
     "name": "stdout",
     "text": [
      "179.85\n244.11\n271.34\n"
     ]
    }
   ],
   "source": [
    "print(deaths1.mean())\n",
    "print(deaths2.mean())\n",
    "print(deaths3.mean())"
   ]
  },
  {
   "cell_type": "code",
   "execution_count": null,
   "metadata": {},
   "outputs": [],
   "source": []
  }
 ]
}