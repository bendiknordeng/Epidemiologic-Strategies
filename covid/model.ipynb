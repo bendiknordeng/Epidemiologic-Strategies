{
 "cells": [
  {
   "source": [
    "## Original model"
   ],
   "cell_type": "markdown",
   "metadata": {}
  },
  {
   "cell_type": "markdown",
   "metadata": {},
   "source": [
    "<img src=\"Materials/SEIR.png\">"
   ]
  },
  {
   "cell_type": "markdown",
   "metadata": {},
   "source": [
    "$$\n",
    "\\begin{equation}\n",
    "\\begin{aligned}\n",
    "S_{j, t+1} &=S_{j, t} - S_{j, t}\\frac{ I_{j, t}}{P_{j}} \\frac{R_0}{D_{I}} + \\sum_{k} s_{j, k}^{t} \\alpha_{j, k}^{t} - \\sum_{k} s_{k, j}^{t} \\alpha_{k, j}^{t} - M_{j,t} \\epsilon\\\\\n",
    "E_{j, t+1} &=E_{j, t} + S_{j, t}\\frac{ I_{j, t}}{P_{j}} \\frac{R_0}{D_{I}} - \\frac{E_{j, t}}{D_{E}} + \\sum_{k} e_{j, k}^{t} \\alpha_{j, k}^{t} - \\sum_{k} e_{k, j}^{t} \\alpha_{k, j}^{t} \\\\\n",
    "I_{j, t+1} &=I_{j, t} + \\frac{E_{j, t}}{D_{E}} - \\frac{I_{j, t}}{D_{I}} + \\sum_{k} i_{j, k}^{t} \\alpha_{j, k}^{t} - \\sum_{k} i_{k, j}^{t} \\alpha_{k, j}^{t} \\\\\n",
    "R_{j, t+1} &=R_{j, t} + \\frac{I_{j, t}}{D_{I}} + \\sum_{k} r_{j, k}^{t} \\alpha_{j, k}^{t} - \\sum_{k} r_{k, j}^{t} \\alpha_{k, j}^{t} + M_{j,t} \\epsilon,\n",
    "\\end{aligned}\n",
    "\\end{equation}\n",
    "$$"
   ]
  },
  {
   "cell_type": "markdown",
   "metadata": {},
   "source": [
    "where \n",
    "\n",
    "* $P_{j}$ is the population in cell $j$,\n",
    "* $R_0$ is the [basic reproduction number](https://en.wikipedia.org/wiki/Basic_reproduction_number),\n",
    "* $D_{E}$ is the **incubation period**, i.e., $t_{first symptom} - t_{infected}$, with the assumption that during the incubation period the disease can't be transmitted (which is not the case in real life!)\n",
    "* $D_{I}$ is the **infection period**, i.e., the period the person can infect others,\n",
    "* $s_{j, k}^{t}$ is the number of susceptible people that went from cell $k$ to cell $j$ at time $t$,\n",
    "* $\\alpha_{j, k}^{t}$ is a parameter specifying the quarantine strength."
   ]
  },
  {
   "source": [
    "## New adjusted model"
   ],
   "cell_type": "markdown",
   "metadata": {}
  },
  {
   "source": [
    "$$\n",
    "\\begin{equation}\n",
    "\\begin{aligned}\n",
    "S_{j, t+1} &=S_{j, t} - S_{j, t}\\frac{ I_{j, t}}{P_{j}} \\frac{R_0}{D_{I}} + \\sum_{k} s_{j, k}^{t} \\alpha_{j, k}^{t} - \\sum_{k} s_{k, j}^{t} \\alpha_{k, j}^{t} - M_{j,t} \\epsilon\\\\\n",
    "E_{j, t+1} &=E_{j, t} + S_{j, t}\\frac{ I_{j, t}}{P_{j}} \\frac{R_0}{D_{I}} - \\frac{E_{j, t}}{D_{E}} + \\sum_{k} e_{j, k}^{t} \\alpha_{j, k}^{t} - \\sum_{k} e_{k, j}^{t} \\alpha_{k, j}^{t} \\\\\n",
    "I_{j, t+1} &=I_{j, t} + \\frac{E_{j, t}}{D_{E}} - \\frac{I_{j, t}}{D_{I}} + \\sum_{k} i_{j, k}^{t} \\alpha_{j, k}^{t} - \\sum_{k} i_{k, j}^{t} \\alpha_{k, j}^{t} \\\\\n",
    "R_{j, t+1} &=R_{j, t} + \\frac{I_{j, t}}{D_{I}} + \\sum_{k} r_{j, k}^{t} \\alpha_{j, k}^{t} - \\sum_{k} r_{k, j}^{t} \\alpha_{k, j}^{t} + M_{j,t} \\epsilon,\n",
    "V_{j, t+1} &=V_{j, t} + M_{j,t}\n",
    "\n",
    "\\end{aligned}\n",
    "\\end{equation}\n",
    "$$"
   ],
   "cell_type": "markdown",
   "metadata": {}
  },
  {
   "source": [
    "### Added parameters"
   ],
   "cell_type": "markdown",
   "metadata": {}
  },
  {
   "source": [
    "* $M_{j}$ is the number of vaccinated in cell $j$\n",
    "* $\\epsilon$ is the vaccine efficacy"
   ],
   "cell_type": "markdown",
   "metadata": {}
  }
 ],
 "metadata": {
  "kernelspec": {
   "display_name": "Python 3",
   "language": "python",
   "name": "python3"
  },
  "language_info": {
   "codemirror_mode": {
    "name": "ipython",
    "version": 3
   },
   "file_extension": ".py",
   "mimetype": "text/x-python",
   "name": "python",
   "nbconvert_exporter": "python",
   "pygments_lexer": "ipython3",
   "version": "3.8.3-final"
  }
 },
 "nbformat": 4,
 "nbformat_minor": 2
}