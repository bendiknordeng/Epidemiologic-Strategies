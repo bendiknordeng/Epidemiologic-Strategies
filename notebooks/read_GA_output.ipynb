{
 "metadata": {
  "language_info": {
   "codemirror_mode": {
    "name": "ipython",
    "version": 3
   },
   "file_extension": ".py",
   "mimetype": "text/x-python",
   "name": "python",
   "nbconvert_exporter": "python",
   "pygments_lexer": "ipython3",
   "version": "3.8.0"
  },
  "orig_nbformat": 2,
  "kernelspec": {
   "name": "python3",
   "display_name": "Python 3.8.0 64-bit",
   "metadata": {
    "interpreter": {
     "hash": "a27ded30c4e4b14185924a683e747b76bdd4cf7542fb7281cb88661d123cb6fe"
    }
   }
  }
 },
 "nbformat": 4,
 "nbformat_minor": 2,
 "cells": [
  {
   "cell_type": "code",
   "execution_count": 1,
   "metadata": {},
   "outputs": [],
   "source": [
    "sys.path.append(\"..\")\n",
    "import os\n",
    "import utils\n",
    "import numpy as np\n",
    "import pandas as pd"
   ]
  },
  {
   "cell_type": "code",
   "execution_count": 33,
   "metadata": {},
   "outputs": [],
   "source": [
    "def read_all_results(dir_path):\n",
    "    paths = os.listdir(dir_path)\n",
    "    try: paths.remove('archive') \n",
    "    except: pass\n",
    "    print(paths);print()\n",
    "    for i in range(len(paths)):\n",
    "        print(paths[i])\n",
    "        path = dir_path + paths[i]\n",
    "        gen = 0\n",
    "        individuals_path =  f\"{path}/individuals/individuals_{gen}.pkl\"\n",
    "        score_path       =  f\"{path}/final_scores/final_score_{gen}.pkl\"\n",
    "        overview_path    =  f\"{path}/generation_overview.csv\"\n",
    "\n",
    "        final_score = utils.read_pickle(score_path)\n",
    "        individuals = utils.read_pickle(individuals_path)\n",
    "        overview = pd.read_csv(overview_path)\n",
    "        print(overview.sort_values('mean_score').head())\n",
    "    return paths"
   ]
  },
  {
   "cell_type": "code",
   "execution_count": 34,
   "metadata": {},
   "outputs": [
    {
     "output_type": "stream",
     "name": "stdout",
     "text": [
      "['GA_2021_05_12_134133']\n\nGA_2021_05_12_134133\n   generation individual    mean_score\n0           0  gen_0_003  29908.600000\n1           0  gen_0_002  32823.633333\n2           0  gen_0_001  47376.800000\n"
     ]
    }
   ],
   "source": [
    "dir_path = \"../results/\"\n",
    "paths = read_all_results(dir_path)"
   ]
  },
  {
   "cell_type": "code",
   "execution_count": 30,
   "metadata": {},
   "outputs": [
    {
     "output_type": "error",
     "ename": "FileNotFoundError",
     "evalue": "[Errno 2] No such file or directory: '../results/GA_2021_05_11_161059/final_scores/final_score_0.pkl'",
     "traceback": [
      "\u001b[1;31m---------------------------------------------------------------------------\u001b[0m",
      "\u001b[1;31mFileNotFoundError\u001b[0m                         Traceback (most recent call last)",
      "\u001b[1;32m<ipython-input-30-fa3aafe2699c>\u001b[0m in \u001b[0;36m<module>\u001b[1;34m\u001b[0m\n\u001b[0;32m      6\u001b[0m \u001b[0moverview_path\u001b[0m    \u001b[1;33m=\u001b[0m  \u001b[1;34mf\"{path}/generation_overview.csv\"\u001b[0m\u001b[1;33m\u001b[0m\u001b[1;33m\u001b[0m\u001b[0m\n\u001b[0;32m      7\u001b[0m \u001b[1;33m\u001b[0m\u001b[0m\n\u001b[1;32m----> 8\u001b[1;33m \u001b[0mfinal_score\u001b[0m \u001b[1;33m=\u001b[0m \u001b[0mutils\u001b[0m\u001b[1;33m.\u001b[0m\u001b[0mread_pickle\u001b[0m\u001b[1;33m(\u001b[0m\u001b[0mscore_path\u001b[0m\u001b[1;33m)\u001b[0m\u001b[1;33m\u001b[0m\u001b[1;33m\u001b[0m\u001b[0m\n\u001b[0m\u001b[0;32m      9\u001b[0m \u001b[0mindividuals\u001b[0m \u001b[1;33m=\u001b[0m \u001b[0mutils\u001b[0m\u001b[1;33m.\u001b[0m\u001b[0mread_pickle\u001b[0m\u001b[1;33m(\u001b[0m\u001b[0mindividuals_path\u001b[0m\u001b[1;33m)\u001b[0m\u001b[1;33m\u001b[0m\u001b[1;33m\u001b[0m\u001b[0m\n\u001b[0;32m     10\u001b[0m \u001b[0moverview\u001b[0m \u001b[1;33m=\u001b[0m \u001b[0mpd\u001b[0m\u001b[1;33m.\u001b[0m\u001b[0mread_csv\u001b[0m\u001b[1;33m(\u001b[0m\u001b[0moverview_path\u001b[0m\u001b[1;33m)\u001b[0m\u001b[1;33m\u001b[0m\u001b[1;33m\u001b[0m\u001b[0m\n",
      "\u001b[1;32mc:\\Users\\bendikno\\Vaccine-Allocation\\utils.py\u001b[0m in \u001b[0;36mread_pickle\u001b[1;34m(filepath)\u001b[0m\n\u001b[0;32m     97\u001b[0m         \u001b[0marr\u001b[0m\u001b[1;33m:\u001b[0m \u001b[0marray\u001b[0m \u001b[0mthat\u001b[0m \u001b[1;32mis\u001b[0m \u001b[0mread\u001b[0m \u001b[1;32mfrom\u001b[0m \u001b[0mfile\u001b[0m \u001b[0mpath\u001b[0m\u001b[1;33m\u001b[0m\u001b[1;33m\u001b[0m\u001b[0m\n\u001b[0;32m     98\u001b[0m     \"\"\"\n\u001b[1;32m---> 99\u001b[1;33m     \u001b[1;32mwith\u001b[0m \u001b[0mopen\u001b[0m\u001b[1;33m(\u001b[0m\u001b[0mfilepath\u001b[0m\u001b[1;33m,\u001b[0m\u001b[1;34m'rb'\u001b[0m\u001b[1;33m)\u001b[0m \u001b[1;32mas\u001b[0m \u001b[0mf\u001b[0m\u001b[1;33m:\u001b[0m\u001b[1;33m\u001b[0m\u001b[1;33m\u001b[0m\u001b[0m\n\u001b[0m\u001b[0;32m    100\u001b[0m         \u001b[1;32mreturn\u001b[0m \u001b[0mpkl\u001b[0m\u001b[1;33m.\u001b[0m\u001b[0mload\u001b[0m\u001b[1;33m(\u001b[0m\u001b[0mf\u001b[0m\u001b[1;33m)\u001b[0m\u001b[1;33m\u001b[0m\u001b[1;33m\u001b[0m\u001b[0m\n\u001b[0;32m    101\u001b[0m \u001b[1;33m\u001b[0m\u001b[0m\n",
      "\u001b[1;31mFileNotFoundError\u001b[0m: [Errno 2] No such file or directory: '../results/GA_2021_05_11_161059/final_scores/final_score_0.pkl'"
     ]
    }
   ],
   "source": [
    "path = dir_path + paths[0]\n",
    "gen = 0\n",
    "\n",
    "individuals_path =  f\"{path}/individuals/individuals_{gen}.pkl\"\n",
    "score_path       =  f\"{path}/final_scores/final_score_{gen}.pkl\"\n",
    "overview_path    =  f\"{path}/generation_overview.csv\"\n",
    "\n",
    "final_score = utils.read_pickle(score_path)\n",
    "individuals = utils.read_pickle(individuals_path)\n",
    "overview = pd.read_csv(overview_path)"
   ]
  },
  {
   "cell_type": "code",
   "execution_count": 25,
   "metadata": {},
   "outputs": [
    {
     "output_type": "stream",
     "name": "stdout",
     "text": [
      "    generation individual    mean_score\n19          10  gen_1_004  24208.186667\n20          10  gen_2_003  24224.013333\n21          10  gen_5_005  24240.453333\n22          10  gen_0_004  24260.013333\n23          10  gen_9_005  24276.800000\n"
     ]
    }
   ],
   "source": [
    "print(overview.sort_values('mean_score').head())\n"
   ]
  },
  {
   "cell_type": "code",
   "execution_count": 26,
   "metadata": {
    "tags": []
   },
   "outputs": [
    {
     "output_type": "stream",
     "name": "stdout",
     "text": [
      "ID: gen_0_004\nScore: 29060.84\nStrategy count:\n    U    D    N\n1: 58   69   22   \n2: 8    12   0    \n3: 1    1    0    \n4: 0    0    0    \nGenes:\n[[[0. 0. 0. 1.]\n  [0. 0. 0. 1.]\n  [0. 0. 0. 1.]\n  [0. 0. 0. 1.]]\n\n [[0. 0. 0. 1.]\n  [0. 0. 0. 1.]\n  [0. 0. 0. 1.]\n  [0. 0. 0. 1.]]\n\n [[0. 0. 0. 1.]\n  [0. 0. 0. 1.]\n  [0. 0. 0. 1.]\n  [0. 0. 0. 1.]]]\n\nID: gen_1_004\nScore: 29062.133333333335\nStrategy count:\n    U    D    N\n1: 58   69   22   \n2: 8    12   0    \n3: 1    1    0    \n4: 0    0    0    \nGenes:\n[[[0.         0.         0.         1.        ]\n  [0.         0.         0.5        0.5       ]\n  [0.         0.27272727 0.27272727 0.45454545]\n  [0.         0.         0.         1.        ]]\n\n [[0.         0.         0.375      0.625     ]\n  [0.         0.         0.375      0.625     ]\n  [0.375      0.         0.         0.625     ]\n  [0.         0.         1.         0.        ]]\n\n [[0.         0.45454545 0.27272727 0.27272727]\n  [0.         0.         0.5        0.5       ]\n  [0.         0.45454545 0.27272727 0.27272727]\n  [0.         0.         0.5        0.5       ]]]\n\nID: gen_11_002\nScore: 29062.573333333334\nStrategy count:\n    U    D    N\n1: 58   69   22   \n2: 8    12   0    \n3: 1    1    0    \n4: 0    0    0    \nGenes:\n[[[0.         0.         0.         1.        ]\n  [0.         0.21428571 0.39285714 0.39285714]\n  [0.         0.27272727 0.27272727 0.45454545]\n  [0.         0.         0.         1.        ]]\n\n [[0.         0.         0.375      0.625     ]\n  [0.         0.         0.375      0.625     ]\n  [0.375      0.         0.         0.625     ]\n  [0.         0.         1.         0.        ]]\n\n [[0.         0.45454545 0.27272727 0.27272727]\n  [0.         0.         0.5        0.5       ]\n  [0.         0.625      0.375      0.        ]\n  [0.         0.         0.5        0.5       ]]]\n\nID: gen_8_002\nScore: 29074.093333333334\nStrategy count:\n    U    D    N\n1: 58   69   22   \n2: 8    12   0    \n3: 1    1    0    \n4: 0    0    0    \nGenes:\n[[[0.         0.         0.         1.        ]\n  [0.         0.         0.         1.        ]\n  [0.33333333 0.         0.33333333 0.33333333]\n  [0.         0.         0.         1.        ]]\n\n [[0.         0.         0.         1.        ]\n  [0.         0.         0.         1.        ]\n  [0.         0.         0.         1.        ]\n  [0.         0.5        0.         0.5       ]]\n\n [[0.         0.         0.         1.        ]\n  [0.         0.         0.         1.        ]\n  [0.         0.         0.         1.        ]\n  [1.         0.         0.         0.        ]]]\n\nID: gen_7_002\nScore: 29074.093333333334\nStrategy count:\n    U    D    N\n1: 58   69   22   \n2: 8    12   0    \n3: 1    1    0    \n4: 0    0    0    \nGenes:\n[[[0.  0.  0.  1. ]\n  [0.  0.  0.  1. ]\n  [0.5 0.  0.  0.5]\n  [0.  0.  0.  1. ]]\n\n [[0.  0.  0.  1. ]\n  [0.  0.  0.  1. ]\n  [0.  0.  0.  1. ]\n  [0.  0.5 0.  0.5]]\n\n [[0.  0.  0.  1. ]\n  [0.  0.  0.  1. ]\n  [0.  0.  0.  1. ]\n  [0.  0.  0.  1. ]]]\n\nID: gen_4_001\nScore: 29081.533333333333\nStrategy count:\n    U    D    N\n1: 58   69   22   \n2: 8    12   0    \n3: 1    1    0    \n4: 0    0    0    \nGenes:\n[[[0. 0. 0. 1.]\n  [0. 0. 0. 1.]\n  [1. 0. 0. 0.]\n  [0. 0. 0. 1.]]\n\n [[0. 0. 0. 1.]\n  [0. 0. 0. 1.]\n  [0. 0. 0. 1.]\n  [0. 1. 0. 0.]]\n\n [[0. 0. 0. 1.]\n  [0. 0. 0. 1.]\n  [0. 0. 0. 1.]\n  [0. 0. 0. 1.]]]\n\nID: gen_2_003\nScore: 29081.56\nStrategy count:\n    U    D    N\n1: 58   69   22   \n2: 8    12   0    \n3: 1    1    0    \n4: 0    0    0    \nGenes:\n[[[0.         0.         0.25       0.75      ]\n  [0.         0.         0.5        0.5       ]\n  [0.         0.13636364 0.38636364 0.47727273]\n  [0.         0.         0.         1.        ]]\n\n [[0.33333333 0.         0.29166667 0.375     ]\n  [0.         0.         0.4375     0.5625    ]\n  [0.1875     0.         0.25       0.5625    ]\n  [0.         0.         0.75       0.25      ]]\n\n [[0.         0.22727273 0.38636364 0.38636364]\n  [0.2        0.         0.4        0.4       ]\n  [0.         0.22727273 0.38636364 0.38636364]\n  [0.         0.         0.         1.        ]]]\n\nID: gen_5_005\nScore: 29085.88\nStrategy count:\n    U    D    N\n1: 58   69   22   \n2: 8    12   0    \n3: 1    1    0    \n4: 0    0    0    \nGenes:\n[[[0.    0.    0.125 0.875]\n  [0.    0.    0.125 0.875]\n  [0.    0.    0.125 0.875]\n  [0.    0.    0.125 0.875]]\n\n [[0.    0.    0.125 0.875]\n  [0.    0.    0.125 0.875]\n  [0.    0.    0.125 0.875]\n  [0.    0.    0.125 0.875]]\n\n [[0.    0.    0.125 0.875]\n  [0.    0.    0.125 0.875]\n  [0.    0.    0.125 0.875]\n  [0.    0.    0.125 0.875]]]\n\nID: gen_10_004\nScore: 29101.253333333334\nStrategy count:\n    U    D    N\n1: 58   69   22   \n2: 8    12   0    \n3: 1    1    0    \n4: 0    0    0    \nGenes:\n[[[0.    0.    0.    1.   ]\n  [0.    0.    0.    1.   ]\n  [0.125 0.5   0.125 0.25 ]\n  [0.    0.    0.    1.   ]]\n\n [[0.    0.    0.    1.   ]\n  [1.    0.    0.    0.   ]\n  [0.    1.    0.    0.   ]\n  [0.    0.375 0.    0.625]]\n\n [[0.    1.    0.    0.   ]\n  [0.    0.    0.    1.   ]\n  [0.    0.    0.    1.   ]\n  [0.75  0.    0.    0.25 ]]]\n\nID: gen_9_005\nScore: 29129.28\nStrategy count:\n    U    D    N\n1: 58   69   22   \n2: 8    12   0    \n3: 1    1    0    \n4: 0    0    0    \nGenes:\n[[[0.         0.         0.         1.        ]\n  [0.         0.47540984 0.04918033 0.47540984]\n  [0.         0.         0.09375    0.90625   ]\n  [0.         0.         0.09375    0.90625   ]]\n\n [[0.         0.         1.         0.        ]\n  [0.47540984 0.         0.04918033 0.47540984]\n  [0.         0.         0.09375    0.90625   ]\n  [0.         0.         0.09375    0.90625   ]]\n\n [[0.         0.         0.09375    0.90625   ]\n  [0.         0.         0.09375    0.90625   ]\n  [0.         0.         0.09375    0.90625   ]\n  [0.5        0.         0.5        0.        ]]]\n\nID: gen_0_006\nScore: 29338.893333333333\nStrategy count:\n    U    D    N\n1: 58   69   22   \n2: 8    12   0    \n3: 1    1    0    \n4: 0    0    0    \nGenes:\n[[[0.  0.  0.5 0.5]\n  [0.  0.  0.5 0.5]\n  [0.  0.  0.5 0.5]\n  [0.  0.  0.5 0.5]]\n\n [[0.  0.  0.5 0.5]\n  [0.  0.  0.5 0.5]\n  [0.  0.  0.5 0.5]\n  [0.  0.  0.5 0.5]]\n\n [[0.  0.  0.5 0.5]\n  [0.  0.  0.5 0.5]\n  [0.  0.  0.5 0.5]\n  [0.  0.  0.5 0.5]]]\n\nID: gen_3_001\nScore: 29494.866666666665\nStrategy count:\n    U    D    N\n1: 58   69   22   \n2: 8    12   0    \n3: 1    1    0    \n4: 0    0    0    \nGenes:\n[[[0.         0.         0.         1.        ]\n  [0.21428571 0.         0.39285714 0.39285714]\n  [0.         0.27272727 0.27272727 0.45454545]\n  [0.         0.21428571 0.         0.78571429]]\n\n [[0.         0.         0.42105263 0.57894737]\n  [0.         0.         0.375      0.625     ]\n  [0.         0.         0.         1.        ]\n  [0.         0.         1.         0.        ]]\n\n [[0.         0.         1.         0.        ]\n  [0.         0.         0.5        0.5       ]\n  [0.         0.57894737 0.42105263 0.        ]\n  [0.         0.         0.5        0.5       ]]]\n\nID: gen_6_002\nScore: 29513.81333333333\nStrategy count:\n    U    D    N\n1: 58   69   22   \n2: 8    12   0    \n3: 1    1    0    \n4: 0    0    0    \nGenes:\n[[[0.         0.         0.         1.        ]\n  [0.         0.         0.5        0.5       ]\n  [0.         0.27272727 0.27272727 0.45454545]\n  [0.         0.21428571 0.         0.78571429]]\n\n [[0.25       0.         0.31578947 0.43421053]\n  [0.         0.         0.39310345 0.60689655]\n  [0.15789474 0.         0.         0.84210526]\n  [0.         0.         1.         0.        ]]\n\n [[0.         0.         1.         0.        ]\n  [0.16666667 0.         0.41666667 0.41666667]\n  [0.         0.59748428 0.40251572 0.        ]\n  [0.         0.         0.5        0.5       ]]]\n\nID: gen_0_003\nScore: 30037.106666666667\nStrategy count:\n    U    D    N\n1: 58   69   22   \n2: 8    12   0    \n3: 1    1    0    \n4: 0    0    0    \nGenes:\n[[[0. 0. 1. 0.]\n  [0. 0. 1. 0.]\n  [0. 0. 1. 0.]\n  [0. 0. 1. 0.]]\n\n [[0. 0. 1. 0.]\n  [0. 0. 1. 0.]\n  [0. 0. 1. 0.]\n  [0. 0. 1. 0.]]\n\n [[0. 0. 1. 0.]\n  [0. 0. 1. 0.]\n  [0. 0. 1. 0.]\n  [0. 0. 1. 0.]]]\n\nID: gen_0_010\nScore: 30059.613333333335\nStrategy count:\n    U    D    N\n1: 58   69   22   \n2: 8    12   0    \n3: 1    1    0    \n4: 0    0    0    \nGenes:\n[[[0.20118343 0.22485207 0.24260355 0.33136095]\n  [0.20118343 0.22485207 0.24260355 0.33136095]\n  [0.20118343 0.22485207 0.24260355 0.33136095]\n  [0.20118343 0.22485207 0.24260355 0.33136095]]\n\n [[0.20118343 0.22485207 0.24260355 0.33136095]\n  [0.20118343 0.22485207 0.24260355 0.33136095]\n  [0.20118343 0.22485207 0.24260355 0.33136095]\n  [0.20118343 0.22485207 0.24260355 0.33136095]]\n\n [[0.20118343 0.22485207 0.24260355 0.33136095]\n  [0.20118343 0.22485207 0.24260355 0.33136095]\n  [0.20118343 0.22485207 0.24260355 0.33136095]\n  [0.20118343 0.22485207 0.24260355 0.33136095]]]\n\nID: gen_0_008\nScore: 30096.053333333333\nStrategy count:\n    U    D    N\n1: 58   69   22   \n2: 8    12   0    \n3: 1    1    0    \n4: 0    0    0    \nGenes:\n[[[0.   0.33 0.33 0.34]\n  [0.   0.33 0.33 0.34]\n  [0.   0.33 0.33 0.34]\n  [0.   0.33 0.33 0.34]]\n\n [[0.   0.33 0.33 0.34]\n  [0.   0.33 0.33 0.34]\n  [0.   0.33 0.33 0.34]\n  [0.   0.33 0.33 0.34]]\n\n [[0.   0.33 0.33 0.34]\n  [0.   0.33 0.33 0.34]\n  [0.   0.33 0.33 0.34]\n  [0.   0.33 0.33 0.34]]]\n\nID: gen_0_007\nScore: 30302.093333333334\nStrategy count:\n    U    D    N\n1: 58   69   22   \n2: 8    12   0    \n3: 1    1    0    \n4: 0    0    0    \nGenes:\n[[[0.  0.5 0.  0.5]\n  [0.  0.5 0.  0.5]\n  [0.  0.5 0.  0.5]\n  [0.  0.5 0.  0.5]]\n\n [[0.  0.5 0.  0.5]\n  [0.  0.5 0.  0.5]\n  [0.  0.5 0.  0.5]\n  [0.  0.5 0.  0.5]]\n\n [[0.  0.5 0.  0.5]\n  [0.  0.5 0.  0.5]\n  [0.  0.5 0.  0.5]\n  [0.  0.5 0.  0.5]]]\n\nID: gen_0_009\nScore: 30309.093333333334\nStrategy count:\n    U    D    N\n1: 58   69   22   \n2: 8    12   0    \n3: 1    1    0    \n4: 0    0    0    \nGenes:\n[[[0.25 0.25 0.25 0.25]\n  [0.25 0.25 0.25 0.25]\n  [0.25 0.25 0.25 0.25]\n  [0.25 0.25 0.25 0.25]]\n\n [[0.25 0.25 0.25 0.25]\n  [0.25 0.25 0.25 0.25]\n  [0.25 0.25 0.25 0.25]\n  [0.25 0.25 0.25 0.25]]\n\n [[0.25 0.25 0.25 0.25]\n  [0.25 0.25 0.25 0.25]\n  [0.25 0.25 0.25 0.25]\n  [0.25 0.25 0.25 0.25]]]\n\nID: gen_0_005\nScore: 30937.666666666668\nStrategy count:\n    U    D    N\n1: 58   69   22   \n2: 8    12   0    \n3: 1    1    0    \n4: 0    0    0    \nGenes:\n[[[0.  0.5 0.5 0. ]\n  [0.  0.5 0.5 0. ]\n  [0.  0.5 0.5 0. ]\n  [0.  0.5 0.5 0. ]]\n\n [[0.  0.5 0.5 0. ]\n  [0.  0.5 0.5 0. ]\n  [0.  0.5 0.5 0. ]\n  [0.  0.5 0.5 0. ]]\n\n [[0.  0.5 0.5 0. ]\n  [0.  0.5 0.5 0. ]\n  [0.  0.5 0.5 0. ]\n  [0.  0.5 0.5 0. ]]]\n\nID: gen_0_002\nScore: 32194.36\nStrategy count:\n    U    D    N\n1: 58   69   22   \n2: 8    12   0    \n3: 1    1    0    \n4: 0    0    0    \nGenes:\n[[[0. 1. 0. 0.]\n  [0. 1. 0. 0.]\n  [0. 1. 0. 0.]\n  [0. 1. 0. 0.]]\n\n [[0. 1. 0. 0.]\n  [0. 1. 0. 0.]\n  [0. 1. 0. 0.]\n  [0. 1. 0. 0.]]\n\n [[0. 1. 0. 0.]\n  [0. 1. 0. 0.]\n  [0. 1. 0. 0.]\n  [0. 1. 0. 0.]]]\n\nID: gen_0_001\nScore: 36591.04\nStrategy count:\n    U    D    N\n1: 58   69   22   \n2: 8    12   0    \n3: 1    1    0    \n4: 0    0    0    \nGenes:\n[[[1. 0. 0. 0.]\n  [1. 0. 0. 0.]\n  [1. 0. 0. 0.]\n  [1. 0. 0. 0.]]\n\n [[1. 0. 0. 0.]\n  [1. 0. 0. 0.]\n  [1. 0. 0. 0.]\n  [1. 0. 0. 0.]]\n\n [[1. 0. 0. 0.]\n  [1. 0. 0. 0.]\n  [1. 0. 0. 0.]\n  [1. 0. 0. 0.]]]\n\n"
     ]
    }
   ],
   "source": [
    "for i in sorted(individuals, key=lambda x: x.mean_score):\n",
    "    print(f\"ID: {i.ID}\")\n",
    "    print(f\"Score: {i.mean_score}\")\n",
    "    print(\"Strategy count:\")\n",
    "    print(f\"{'U':>5}{'D':>5}{'N':>5}\")\n",
    "    for w in range(1,5):\n",
    "        print(f\"{w}: {i.strategy_count[gen]['U'][w]:<5}{i.strategy_count[gen]['D'][w]:<5}{i.strategy_count[gen]['N'][w]:<5}\")\n",
    "    print(f\"Genes:\\n{i.genes}\")\n",
    "    print()\n",
    "\n"
   ]
  },
  {
   "cell_type": "code",
   "execution_count": 86,
   "metadata": {},
   "outputs": [
    {
     "output_type": "stream",
     "name": "stdout",
     "text": [
      "[[[0.33793103 0.42758621 0.10344828 0.13103448]\n  [0.02884615 0.04807692 0.41346154 0.50961538]\n  [0.12612613 0.04504505 0.5045045  0.32432432]\n  [0.17985612 0.20863309 0.31294964 0.29856115]]\n\n [[0.26223776 0.23776224 0.32517483 0.17482517]\n  [0.07909605 0.14124294 0.49717514 0.28248588]\n  [0.29083665 0.09561753 0.36653386 0.24701195]\n  [0.20422535 0.44366197 0.28873239 0.06338028]]\n\n [[0.51075269 0.01075269 0.28494624 0.19354839]\n  [0.20408163 0.33673469 0.20748299 0.25170068]\n  [0.30970149 0.24626866 0.09328358 0.35074627]\n  [0.12682927 0.13658537 0.3902439  0.34634146]]]\n\n[0.22171003 0.19816395 0.31566141 0.26446462]\n"
     ]
    }
   ],
   "source": [
    "\n",
    "print(individuals[0].genes)\n",
    "genes = np.sum(individuals[0].genes, axis=(0,1))\n",
    "norm = np.sum(genes)\n",
    "norm_genes = np.divide(genes, norm)\n",
    "print()\n",
    "print(norm_genes)"
   ]
  },
  {
   "cell_type": "code",
   "execution_count": 91,
   "metadata": {},
   "outputs": [
    {
     "output_type": "stream",
     "name": "stdout",
     "text": [
      "[[[0.33793103 0.42758621 0.10344828 0.13103448]\n  [0.02884615 0.04807692 0.41346154 0.50961538]\n  [0.12612613 0.04504505 0.5045045  0.32432432]\n  [0.17985612 0.20863309 0.31294964 0.29856115]]\n\n [[0.26223776 0.23776224 0.32517483 0.17482517]\n  [0.07909605 0.14124294 0.49717514 0.28248588]\n  [0.29083665 0.09561753 0.36653386 0.24701195]\n  [0.20422535 0.44366197 0.28873239 0.06338028]]\n\n [[0.51075269 0.01075269 0.28494624 0.19354839]\n  [0.20408163 0.33673469 0.20748299 0.25170068]\n  [0.30970149 0.24626866 0.09328358 0.35074627]\n  [0.12682927 0.13658537 0.3902439  0.34634146]]]\n[[0.67275943 0.72934127 1.33436396 1.26353534]\n [0.83639581 0.91828468 1.47761623 0.76770328]\n [1.15136508 0.7303414  0.97595671 1.1423368 ]]\n[[4.]\n [4.]\n [4.]]\n\n[[0.16818986 0.18233532 0.33359099 0.31588384]\n [0.20909895 0.22957117 0.36940406 0.19192582]\n [0.28784127 0.18258535 0.24398918 0.2855842 ]]\n"
     ]
    }
   ],
   "source": [
    "\n",
    "print(individuals[0].genes)\n",
    "genes = np.sum(individuals[0].genes, axis=(1))\n",
    "print(genes)\n",
    "norm = np.sum(genes, axis=1, keepdims=True)\n",
    "print(norm)\n",
    "norm_genes = np.divide(genes, norm)\n",
    "print()\n",
    "print(norm_genes)"
   ]
  },
  {
   "cell_type": "code",
   "execution_count": null,
   "metadata": {},
   "outputs": [],
   "source": []
  }
 ]
}