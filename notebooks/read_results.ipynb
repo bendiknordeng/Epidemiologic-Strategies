{
 "metadata": {
  "language_info": {
   "codemirror_mode": {
    "name": "ipython",
    "version": 3
   },
   "file_extension": ".py",
   "mimetype": "text/x-python",
   "name": "python",
   "nbconvert_exporter": "python",
   "pygments_lexer": "ipython3",
   "version": "3.8.0"
  },
  "orig_nbformat": 2,
  "kernelspec": {
   "name": "python380jvsc74a57bd0612cff4a0ac5e6c37db1b07ee7abafa0758340b75711202652ee82ea5fa6d12e",
   "display_name": "Python 3.8.0 64-bit ('epidemics': conda)"
  }
 },
 "nbformat": 4,
 "nbformat_minor": 2,
 "cells": [
  {
   "cell_type": "code",
   "execution_count": 41,
   "metadata": {},
   "outputs": [],
   "source": [
    "sys.path.append(\"..\")\n",
    "import os\n",
    "import utils\n",
    "import plot\n",
    "import numpy as np\n",
    "import pandas as pd\n",
    "import matplotlib.pyplot as plt\n",
    "from tqdm import tqdm"
   ]
  },
  {
   "cell_type": "code",
   "execution_count": 142,
   "metadata": {},
   "outputs": [],
   "source": [
    "dir_path = \"../\"\n",
    "relative_path = \"results/500_simulations_contact_based_2021_05_30_23_24_11\"\n",
    "folder_path = dir_path + relative_path\n",
    "div_filepath = folder_path + \"/div.csv\"\n",
    "S_filepath = folder_path + \"/S.csv\" \n",
    "I_filepath = folder_path + \"/I.csv\" \n",
    "new_infected_filepath = folder_path + \"/new_infected.csv\" \n",
    "new_deaths_filepath = folder_path + \"/new_deaths.csv\" \n",
    "vaccinated_filepath = folder_path + \"/vaccinated.csv\"\n",
    "pop_age_info_filepath = folder_path + \"/start_date_population_age_labels.pkl\"\n",
    "\n",
    "start_date, population, age_labels = utils.read_pickle(pop_age_info_filepath)\n",
    "paths = utils.create_named_tuple('paths', 'filepaths.txt')\n",
    "config = utils.create_named_tuple('config', paths.config)\n",
    "\n",
    "div_df = pd.read_csv(div_filepath, index_col=0)\n",
    "S_df = pd.read_csv(S_filepath, index_col=0)\n",
    "I_df = pd.read_csv(I_filepath, index_col=0)\n",
    "new_infected_df = pd.read_csv(new_infected_filepath, index_col=0)\n",
    "new_deaths_df = pd.read_csv(new_deaths_filepath, index_col=0)\n",
    "vaccinated_df = pd.read_csv(vaccinated_filepath, index_col=0)\n",
    "\n",
    "nr_simulations = div_df.loc[len(div_df)-1].simulation_nr\n",
    "nr_weeks = div_df.loc[len(div_df)-1].week_nr\n",
    "nr_regions = len(population)\n",
    "nr_age_groups = len(age_labels)"
   ]
  },
  {
   "cell_type": "code",
   "execution_count": 143,
   "metadata": {},
   "outputs": [
    {
     "output_type": "execute_result",
     "data": {
      "text/plain": [
       "7"
      ]
     },
     "metadata": {},
     "execution_count": 143
    }
   ],
   "source": [
    "len(age_labels)"
   ]
  },
  {
   "cell_type": "code",
   "execution_count": 137,
   "metadata": {},
   "outputs": [
    {
     "output_type": "stream",
     "name": "stderr",
     "text": [
      "100%|██████████| 500/500 [00:00<00:00, 1375.87it/s]\n"
     ]
    }
   ],
   "source": [
    "vaccines_available = np.zeros((nr_simulations, nr_weeks))\n",
    "flow_scale = np.zeros((nr_simulations, nr_weeks))\n",
    "contact_weights = np.zeros((nr_simulations, nr_weeks, 4))\n",
    "for i in tqdm(range(nr_simulations)):\n",
    "    vaccines_available[i, :] = div_df.loc[(i)*75:(i+1)*75 -1].to_numpy()[:,3]\n",
    "    flow_scale[i, :] = div_df.loc[(i)*75:(i+1)*75-1].to_numpy()[:,4] \n",
    "    contact_weights[i, :, :] = div_df.loc[(i)*75:(i+1)*75-1].to_numpy()[:,5:]"
   ]
  },
  {
   "cell_type": "code",
   "execution_count": 126,
   "metadata": {},
   "outputs": [
    {
     "output_type": "stream",
     "name": "stderr",
     "text": [
      "100%|██████████| 500/500 [00:09<00:00, 53.37it/s]\n"
     ]
    }
   ],
   "source": [
    "S_regions = np.zeros((nr_simulations, nr_weeks, nr_regions))\n",
    "I_regions = np.zeros((nr_simulations, nr_weeks, nr_regions))\n",
    "new_infected_regions = np.zeros((nr_simulations, nr_weeks, nr_regions))\n",
    "new_deaths_regions = np.zeros((nr_simulations, nr_weeks, nr_regions))\n",
    "vaccinated_regions = np.zeros((nr_simulations, nr_weeks, nr_regions))\n",
    "S_age_groups = np.zeros((nr_simulations, nr_weeks, nr_age_groups))\n",
    "I_age_groups = np.zeros((nr_simulations, nr_weeks, nr_age_groups))\n",
    "new_infected_age_groups = np.zeros((nr_simulations, nr_weeks, nr_age_groups))\n",
    "new_deaths_age_groups = np.zeros((nr_simulations, nr_weeks, nr_age_groups))\n",
    "vaccinated_age_groups = np.zeros((nr_simulations, nr_weeks, nr_age_groups))\n",
    "\n",
    "for i in tqdm(range(nr_simulations)):\n",
    "    S_regions[i, :, :] = S_df.loc[(i)*75:(i+1)*75 - 1].to_numpy()[:,3:-7]\n",
    "    S_age_groups[i, :, :] = S_df.loc[(i)*75:(i+1)*75 - 1].to_numpy()[:,-7:]\n",
    "    I_regions[i, :, :] = I_df.loc[(i)*75:(i+1)*75 - 1].to_numpy()[:,3:-7]\n",
    "    I_age_groups[i, :, :] = I_df.loc[(i)*75:(i+1)*75 - 1].to_numpy()[:,-7:]\n",
    "    new_infected_regions[i, :, :] = new_infected_df.loc[(i)*75:(i+1)*75 - 1].to_numpy()[:,3:-7]\n",
    "    new_infected_age_groups[i, :, :] = new_infected_df.loc[(i)*75:(i+1)*75 - 1].to_numpy()[:,-7:]\n",
    "    new_deaths_regions[i, :, :] = new_deaths_df.loc[(i)*75:(i+1)*75 - 1].to_numpy()[:,3:-7]\n",
    "    new_deaths_age_groups[i, :, :] = new_deaths_df.loc[(i)*75:(i+1)*75 - 1].to_numpy()[:,-7:]\n",
    "    vaccinated_regions[i, :, :] = vaccinated_df.loc[(i)*75:(i+1)*75 - 1].to_numpy()[:,3:-7]\n",
    "    vaccinated_age_groups[i, :, :] = vaccinated_df.loc[(i)*75:(i+1)*75 - 1].to_numpy()[:,-7:]"
   ]
  }
 ]
}