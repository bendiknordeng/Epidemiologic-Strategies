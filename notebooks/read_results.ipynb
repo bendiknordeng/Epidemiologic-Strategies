{
 "metadata": {
  "language_info": {
   "codemirror_mode": {
    "name": "ipython",
    "version": 3
   },
   "file_extension": ".py",
   "mimetype": "text/x-python",
   "name": "python",
   "nbconvert_exporter": "python",
   "pygments_lexer": "ipython3",
   "version": "3.8.0"
  },
  "orig_nbformat": 2,
  "kernelspec": {
   "name": "python380jvsc74a57bd0612cff4a0ac5e6c37db1b07ee7abafa0758340b75711202652ee82ea5fa6d12e",
   "display_name": "Python 3.8.0 64-bit ('epidemics': conda)"
  }
 },
 "nbformat": 4,
 "nbformat_minor": 2,
 "cells": [
  {
   "cell_type": "code",
   "execution_count": 41,
   "metadata": {},
   "outputs": [],
   "source": [
    "sys.path.append(\"..\")\n",
    "import os\n",
    "import utils\n",
    "import plot\n",
    "import numpy as np\n",
    "import pandas as pd\n",
    "import matplotlib.pyplot as plt\n",
    "from tqdm import tqdm"
   ]
  },
  {
   "cell_type": "code",
   "execution_count": 42,
   "metadata": {},
   "outputs": [],
   "source": [
    "dir_path = \"../\"\n",
    "relative_path = \"results/500_simulations_contact_based_2021_05_30_23_24_11\"\n",
    "folder_path = dir_path + relative_path\n",
    "div_filepath = folder_path + \"/div.csv\"\n",
    "S_filepath = folder_path + \"/S.csv\" \n",
    "I_filepath = folder_path + \"/I.csv\" \n",
    "new_infected_filepath = folder_path + \"/new_infected.csv\" \n",
    "new_deaths_filepath = folder_path + \"/new_deaths.csv\" \n",
    "vaccinated_filepath = folder_path + \"/vaccinated.csv\"\n",
    "pop_age_info_filepath = folder_path + \"/start_date_population_age_labels.pkl\"\n",
    "\n",
    "start_date, population, age_labels = utils.read_pickle(pop_age_info_filepath)\n",
    "paths = utils.create_named_tuple('paths', 'filepaths.txt')\n",
    "config = utils.create_named_tuple('config', paths.config)\n",
    "\n",
    "div_df = pd.read_csv(div_filepath, index_col=0)\n",
    "S_df = pd.read_csv(S_filepath, index_col=0)\n",
    "I_df = pd.read_csv(I_filepath, index_col=0)\n",
    "new_infected_df = pd.read_csv(new_infected_filepath, index_col=0)\n",
    "new_deaths_df = pd.read_csv(new_deaths_filepath, index_col=0)\n",
    "vaccinated_df = pd.read_csv(vaccinated_filepath, index_col=0)"
   ]
  },
  {
   "cell_type": "code",
   "execution_count": 43,
   "metadata": {},
   "outputs": [
    {
     "output_type": "execute_result",
     "data": {
      "text/plain": [
       "         date  simulation_nr  week_nr  vaccines_available  flow_scale  \\\n",
       "0  2020-02-24              1        1                 0.0         1.0   \n",
       "1  2020-03-02              1        2                 0.0         1.0   \n",
       "2  2020-03-09              1        3                 0.0         1.0   \n",
       "3  2020-03-16              1        4                 0.0         1.0   \n",
       "4  2020-03-23              1        5                 0.0         1.0   \n",
       "\n",
       "   contact_weight_1  contact_weight_2  contact_weight_3  contact_weight_4  \n",
       "0              0.31              0.24              0.16              0.29  \n",
       "1              0.31              0.24              0.16              0.29  \n",
       "2              0.31              0.24              0.16              0.29  \n",
       "3              0.31              0.24              0.16              0.29  \n",
       "4              0.31              0.24              0.16              0.29  "
      ],
      "text/html": "<div>\n<style scoped>\n    .dataframe tbody tr th:only-of-type {\n        vertical-align: middle;\n    }\n\n    .dataframe tbody tr th {\n        vertical-align: top;\n    }\n\n    .dataframe thead th {\n        text-align: right;\n    }\n</style>\n<table border=\"1\" class=\"dataframe\">\n  <thead>\n    <tr style=\"text-align: right;\">\n      <th></th>\n      <th>date</th>\n      <th>simulation_nr</th>\n      <th>week_nr</th>\n      <th>vaccines_available</th>\n      <th>flow_scale</th>\n      <th>contact_weight_1</th>\n      <th>contact_weight_2</th>\n      <th>contact_weight_3</th>\n      <th>contact_weight_4</th>\n    </tr>\n  </thead>\n  <tbody>\n    <tr>\n      <th>0</th>\n      <td>2020-02-24</td>\n      <td>1</td>\n      <td>1</td>\n      <td>0.0</td>\n      <td>1.0</td>\n      <td>0.31</td>\n      <td>0.24</td>\n      <td>0.16</td>\n      <td>0.29</td>\n    </tr>\n    <tr>\n      <th>1</th>\n      <td>2020-03-02</td>\n      <td>1</td>\n      <td>2</td>\n      <td>0.0</td>\n      <td>1.0</td>\n      <td>0.31</td>\n      <td>0.24</td>\n      <td>0.16</td>\n      <td>0.29</td>\n    </tr>\n    <tr>\n      <th>2</th>\n      <td>2020-03-09</td>\n      <td>1</td>\n      <td>3</td>\n      <td>0.0</td>\n      <td>1.0</td>\n      <td>0.31</td>\n      <td>0.24</td>\n      <td>0.16</td>\n      <td>0.29</td>\n    </tr>\n    <tr>\n      <th>3</th>\n      <td>2020-03-16</td>\n      <td>1</td>\n      <td>4</td>\n      <td>0.0</td>\n      <td>1.0</td>\n      <td>0.31</td>\n      <td>0.24</td>\n      <td>0.16</td>\n      <td>0.29</td>\n    </tr>\n    <tr>\n      <th>4</th>\n      <td>2020-03-23</td>\n      <td>1</td>\n      <td>5</td>\n      <td>0.0</td>\n      <td>1.0</td>\n      <td>0.31</td>\n      <td>0.24</td>\n      <td>0.16</td>\n      <td>0.29</td>\n    </tr>\n  </tbody>\n</table>\n</div>"
     },
     "metadata": {},
     "execution_count": 43
    }
   ],
   "source": [
    "div_df.head()"
   ]
  },
  {
   "cell_type": "code",
   "execution_count": 44,
   "metadata": {},
   "outputs": [],
   "source": [
    "nr_simulations = div_df.loc[len(div_df)-1].simulation_nr\n",
    "nr_weeks = div_df.loc[len(div_df)-1].week_nr"
   ]
  },
  {
   "cell_type": "code",
   "execution_count": 45,
   "metadata": {},
   "outputs": [
    {
     "output_type": "stream",
     "name": "stderr",
     "text": [
      "100%|██████████| 500/500 [02:46<00:00,  3.00it/s]\n"
     ]
    }
   ],
   "source": [
    "vaccines_available = np.zeros((nr_simulations, nr_weeks))\n",
    "flow_scale = np.zeros((nr_simulations, nr_weeks))\n",
    "contact_weights = np.zeros((nr_simulations, nr_weeks, 4))\n",
    "for i in tqdm(range(nr_simulations)):\n",
    "    df = div_df[div_df.simulation_nr == i+1]\n",
    "    for j in range(nr_weeks):\n",
    "        vaccines_available[i, j] = df[df.week_nr == j+1].vaccines_available\n",
    "        flow_scale[i, j] = df[df.week_nr == j+1].flow_scale\n",
    "        for k in range(4):\n",
    "            contact_weights[i, j, k] = df[df.week_nr == j+1][f\"contact_weight_{k+1}\"]\n",
    "\n"
   ]
  },
  {
   "cell_type": "code",
   "execution_count": 46,
   "metadata": {},
   "outputs": [
    {
     "output_type": "execute_result",
     "data": {
      "text/plain": [
       "         date  simulation_nr  week_nr  S_region_1  S_region_2  S_region_3  \\\n",
       "0  2020-02-24              1        1    696780.0     14784.0    144113.0   \n",
       "1  2020-03-02              1        2    696780.0     14784.0    144111.0   \n",
       "2  2020-03-09              1        3    696780.0     14783.0    144106.0   \n",
       "3  2020-03-16              1        4    696778.0     14781.0    144099.0   \n",
       "4  2020-03-23              1        5    696773.0     14781.0    144089.0   \n",
       "\n",
       "   S_region_4  S_region_5  S_region_6  S_region_7  ...  S_region_354  \\\n",
       "0     37312.0     80445.0      3256.0      3174.0  ...         879.0   \n",
       "1     37312.0     80445.0      3256.0      3174.0  ...         874.0   \n",
       "2     37312.0     80445.0      3256.0      3174.0  ...         866.0   \n",
       "3     37312.0     80445.0      3256.0      3174.0  ...         846.0   \n",
       "4     37310.0     80441.0      3256.0      3174.0  ...         829.0   \n",
       "\n",
       "   S_region_355  S_region_356  S_age_groups_1  S_age_groups_2  S_age_groups_3  \\\n",
       "0        2200.0       10101.0       1111679.0       1918308.0        746630.0   \n",
       "1        2200.0       10101.0       1111625.0       1918277.0        746613.0   \n",
       "2        2200.0       10100.0       1111536.0       1918208.0        746569.0   \n",
       "3        2200.0       10086.0       1111365.0       1918090.0        746518.0   \n",
       "4        2200.0       10070.0       1111123.0       1917923.0        746415.0   \n",
       "\n",
       "   S_age_groups_4  S_age_groups_5  S_age_groups_6  S_age_groups_7  \n",
       "0        648962.0        539980.0        308275.0        116175.0  \n",
       "1        648938.0        539970.0        308269.0        116175.0  \n",
       "2        648900.0        539951.0        308261.0        116171.0  \n",
       "3        648822.0        539905.0        308245.0        116166.0  \n",
       "4        648703.0        539850.0        308217.0        116156.0  \n",
       "\n",
       "[5 rows x 366 columns]"
      ],
      "text/html": "<div>\n<style scoped>\n    .dataframe tbody tr th:only-of-type {\n        vertical-align: middle;\n    }\n\n    .dataframe tbody tr th {\n        vertical-align: top;\n    }\n\n    .dataframe thead th {\n        text-align: right;\n    }\n</style>\n<table border=\"1\" class=\"dataframe\">\n  <thead>\n    <tr style=\"text-align: right;\">\n      <th></th>\n      <th>date</th>\n      <th>simulation_nr</th>\n      <th>week_nr</th>\n      <th>S_region_1</th>\n      <th>S_region_2</th>\n      <th>S_region_3</th>\n      <th>S_region_4</th>\n      <th>S_region_5</th>\n      <th>S_region_6</th>\n      <th>S_region_7</th>\n      <th>...</th>\n      <th>S_region_354</th>\n      <th>S_region_355</th>\n      <th>S_region_356</th>\n      <th>S_age_groups_1</th>\n      <th>S_age_groups_2</th>\n      <th>S_age_groups_3</th>\n      <th>S_age_groups_4</th>\n      <th>S_age_groups_5</th>\n      <th>S_age_groups_6</th>\n      <th>S_age_groups_7</th>\n    </tr>\n  </thead>\n  <tbody>\n    <tr>\n      <th>0</th>\n      <td>2020-02-24</td>\n      <td>1</td>\n      <td>1</td>\n      <td>696780.0</td>\n      <td>14784.0</td>\n      <td>144113.0</td>\n      <td>37312.0</td>\n      <td>80445.0</td>\n      <td>3256.0</td>\n      <td>3174.0</td>\n      <td>...</td>\n      <td>879.0</td>\n      <td>2200.0</td>\n      <td>10101.0</td>\n      <td>1111679.0</td>\n      <td>1918308.0</td>\n      <td>746630.0</td>\n      <td>648962.0</td>\n      <td>539980.0</td>\n      <td>308275.0</td>\n      <td>116175.0</td>\n    </tr>\n    <tr>\n      <th>1</th>\n      <td>2020-03-02</td>\n      <td>1</td>\n      <td>2</td>\n      <td>696780.0</td>\n      <td>14784.0</td>\n      <td>144111.0</td>\n      <td>37312.0</td>\n      <td>80445.0</td>\n      <td>3256.0</td>\n      <td>3174.0</td>\n      <td>...</td>\n      <td>874.0</td>\n      <td>2200.0</td>\n      <td>10101.0</td>\n      <td>1111625.0</td>\n      <td>1918277.0</td>\n      <td>746613.0</td>\n      <td>648938.0</td>\n      <td>539970.0</td>\n      <td>308269.0</td>\n      <td>116175.0</td>\n    </tr>\n    <tr>\n      <th>2</th>\n      <td>2020-03-09</td>\n      <td>1</td>\n      <td>3</td>\n      <td>696780.0</td>\n      <td>14783.0</td>\n      <td>144106.0</td>\n      <td>37312.0</td>\n      <td>80445.0</td>\n      <td>3256.0</td>\n      <td>3174.0</td>\n      <td>...</td>\n      <td>866.0</td>\n      <td>2200.0</td>\n      <td>10100.0</td>\n      <td>1111536.0</td>\n      <td>1918208.0</td>\n      <td>746569.0</td>\n      <td>648900.0</td>\n      <td>539951.0</td>\n      <td>308261.0</td>\n      <td>116171.0</td>\n    </tr>\n    <tr>\n      <th>3</th>\n      <td>2020-03-16</td>\n      <td>1</td>\n      <td>4</td>\n      <td>696778.0</td>\n      <td>14781.0</td>\n      <td>144099.0</td>\n      <td>37312.0</td>\n      <td>80445.0</td>\n      <td>3256.0</td>\n      <td>3174.0</td>\n      <td>...</td>\n      <td>846.0</td>\n      <td>2200.0</td>\n      <td>10086.0</td>\n      <td>1111365.0</td>\n      <td>1918090.0</td>\n      <td>746518.0</td>\n      <td>648822.0</td>\n      <td>539905.0</td>\n      <td>308245.0</td>\n      <td>116166.0</td>\n    </tr>\n    <tr>\n      <th>4</th>\n      <td>2020-03-23</td>\n      <td>1</td>\n      <td>5</td>\n      <td>696773.0</td>\n      <td>14781.0</td>\n      <td>144089.0</td>\n      <td>37310.0</td>\n      <td>80441.0</td>\n      <td>3256.0</td>\n      <td>3174.0</td>\n      <td>...</td>\n      <td>829.0</td>\n      <td>2200.0</td>\n      <td>10070.0</td>\n      <td>1111123.0</td>\n      <td>1917923.0</td>\n      <td>746415.0</td>\n      <td>648703.0</td>\n      <td>539850.0</td>\n      <td>308217.0</td>\n      <td>116156.0</td>\n    </tr>\n  </tbody>\n</table>\n<p>5 rows × 366 columns</p>\n</div>"
     },
     "metadata": {},
     "execution_count": 46
    }
   ],
   "source": [
    "S_df.head()"
   ]
  },
  {
   "cell_type": "code",
   "execution_count": 40,
   "metadata": {},
   "outputs": [
    {
     "output_type": "error",
     "ename": "KeyboardInterrupt",
     "evalue": "",
     "traceback": [
      "\u001b[0;31m---------------------------------------------------------------------------\u001b[0m",
      "\u001b[0;31mKeyboardInterrupt\u001b[0m                         Traceback (most recent call last)",
      "\u001b[0;32m<ipython-input-40-3852c846e527>\u001b[0m in \u001b[0;36m<module>\u001b[0;34m\u001b[0m\n\u001b[1;32m     16\u001b[0m     \u001b[0;32mfor\u001b[0m \u001b[0mj\u001b[0m \u001b[0;32min\u001b[0m \u001b[0mrange\u001b[0m\u001b[0;34m(\u001b[0m\u001b[0mnr_weeks\u001b[0m\u001b[0;34m)\u001b[0m\u001b[0;34m:\u001b[0m\u001b[0;34m\u001b[0m\u001b[0;34m\u001b[0m\u001b[0m\n\u001b[1;32m     17\u001b[0m         \u001b[0;32mfor\u001b[0m \u001b[0mk\u001b[0m \u001b[0;32min\u001b[0m \u001b[0mrange\u001b[0m\u001b[0;34m(\u001b[0m\u001b[0mnr_regions\u001b[0m\u001b[0;34m)\u001b[0m\u001b[0;34m:\u001b[0m\u001b[0;34m\u001b[0m\u001b[0;34m\u001b[0m\u001b[0m\n\u001b[0;32m---> 18\u001b[0;31m             \u001b[0mS\u001b[0m\u001b[0;34m[\u001b[0m\u001b[0mi\u001b[0m\u001b[0;34m,\u001b[0m \u001b[0mj\u001b[0m\u001b[0;34m,\u001b[0m \u001b[0mk\u001b[0m\u001b[0;34m]\u001b[0m \u001b[0;34m=\u001b[0m \u001b[0mS_temp_df\u001b[0m\u001b[0;34m[\u001b[0m\u001b[0mS_temp_df\u001b[0m\u001b[0;34m.\u001b[0m\u001b[0mweek_nr\u001b[0m \u001b[0;34m==\u001b[0m \u001b[0mj\u001b[0m\u001b[0;34m+\u001b[0m\u001b[0;36m1\u001b[0m\u001b[0;34m]\u001b[0m\u001b[0;34m[\u001b[0m\u001b[0;34mf\"S_region_{k+1}\"\u001b[0m\u001b[0;34m]\u001b[0m\u001b[0;34m\u001b[0m\u001b[0;34m\u001b[0m\u001b[0m\n\u001b[0m\u001b[1;32m     19\u001b[0m             \u001b[0mI\u001b[0m\u001b[0;34m[\u001b[0m\u001b[0mi\u001b[0m\u001b[0;34m,\u001b[0m \u001b[0mj\u001b[0m\u001b[0;34m,\u001b[0m \u001b[0mk\u001b[0m\u001b[0;34m]\u001b[0m \u001b[0;34m=\u001b[0m \u001b[0mI_temp_df\u001b[0m\u001b[0;34m[\u001b[0m\u001b[0mI_temp_df\u001b[0m\u001b[0;34m.\u001b[0m\u001b[0mweek_nr\u001b[0m \u001b[0;34m==\u001b[0m \u001b[0mj\u001b[0m\u001b[0;34m+\u001b[0m\u001b[0;36m1\u001b[0m\u001b[0;34m]\u001b[0m\u001b[0;34m[\u001b[0m\u001b[0;34mf\"I_region_{k+1}\"\u001b[0m\u001b[0;34m]\u001b[0m\u001b[0;34m\u001b[0m\u001b[0;34m\u001b[0m\u001b[0m\n\u001b[1;32m     20\u001b[0m             \u001b[0mnew_infected\u001b[0m\u001b[0;34m[\u001b[0m\u001b[0mi\u001b[0m\u001b[0;34m,\u001b[0m \u001b[0mj\u001b[0m\u001b[0;34m,\u001b[0m \u001b[0mk\u001b[0m\u001b[0;34m]\u001b[0m \u001b[0;34m=\u001b[0m \u001b[0mnew_infected_temp_df\u001b[0m\u001b[0;34m[\u001b[0m\u001b[0mnew_infected_temp_df\u001b[0m\u001b[0;34m.\u001b[0m\u001b[0mweek_nr\u001b[0m \u001b[0;34m==\u001b[0m \u001b[0mj\u001b[0m\u001b[0;34m+\u001b[0m\u001b[0;36m1\u001b[0m\u001b[0;34m]\u001b[0m\u001b[0;34m[\u001b[0m\u001b[0;34mf\"new_infected_region_{k+1}\"\u001b[0m\u001b[0;34m]\u001b[0m\u001b[0;34m\u001b[0m\u001b[0;34m\u001b[0m\u001b[0m\n",
      "\u001b[0;32m~/anaconda3/envs/epidemics/lib/python3.8/site-packages/pandas/core/frame.py\u001b[0m in \u001b[0;36m__getitem__\u001b[0;34m(self, key)\u001b[0m\n\u001b[1;32m   3013\u001b[0m         \u001b[0;31m# Do we have a (boolean) 1d indexer?\u001b[0m\u001b[0;34m\u001b[0m\u001b[0;34m\u001b[0m\u001b[0;34m\u001b[0m\u001b[0m\n\u001b[1;32m   3014\u001b[0m         \u001b[0;32mif\u001b[0m \u001b[0mcom\u001b[0m\u001b[0;34m.\u001b[0m\u001b[0mis_bool_indexer\u001b[0m\u001b[0;34m(\u001b[0m\u001b[0mkey\u001b[0m\u001b[0;34m)\u001b[0m\u001b[0;34m:\u001b[0m\u001b[0;34m\u001b[0m\u001b[0;34m\u001b[0m\u001b[0m\n\u001b[0;32m-> 3015\u001b[0;31m             \u001b[0;32mreturn\u001b[0m \u001b[0mself\u001b[0m\u001b[0;34m.\u001b[0m\u001b[0m_getitem_bool_array\u001b[0m\u001b[0;34m(\u001b[0m\u001b[0mkey\u001b[0m\u001b[0;34m)\u001b[0m\u001b[0;34m\u001b[0m\u001b[0;34m\u001b[0m\u001b[0m\n\u001b[0m\u001b[1;32m   3016\u001b[0m \u001b[0;34m\u001b[0m\u001b[0m\n\u001b[1;32m   3017\u001b[0m         \u001b[0;31m# We are left with two options: a single key, and a collection of keys,\u001b[0m\u001b[0;34m\u001b[0m\u001b[0;34m\u001b[0m\u001b[0;34m\u001b[0m\u001b[0m\n",
      "\u001b[0;32m~/anaconda3/envs/epidemics/lib/python3.8/site-packages/pandas/core/frame.py\u001b[0m in \u001b[0;36m_getitem_bool_array\u001b[0;34m(self, key)\u001b[0m\n\u001b[1;32m   3068\u001b[0m         \u001b[0mkey\u001b[0m \u001b[0;34m=\u001b[0m \u001b[0mcheck_bool_indexer\u001b[0m\u001b[0;34m(\u001b[0m\u001b[0mself\u001b[0m\u001b[0;34m.\u001b[0m\u001b[0mindex\u001b[0m\u001b[0;34m,\u001b[0m \u001b[0mkey\u001b[0m\u001b[0;34m)\u001b[0m\u001b[0;34m\u001b[0m\u001b[0;34m\u001b[0m\u001b[0m\n\u001b[1;32m   3069\u001b[0m         \u001b[0mindexer\u001b[0m \u001b[0;34m=\u001b[0m \u001b[0mkey\u001b[0m\u001b[0;34m.\u001b[0m\u001b[0mnonzero\u001b[0m\u001b[0;34m(\u001b[0m\u001b[0;34m)\u001b[0m\u001b[0;34m[\u001b[0m\u001b[0;36m0\u001b[0m\u001b[0;34m]\u001b[0m\u001b[0;34m\u001b[0m\u001b[0;34m\u001b[0m\u001b[0m\n\u001b[0;32m-> 3070\u001b[0;31m         \u001b[0;32mreturn\u001b[0m \u001b[0mself\u001b[0m\u001b[0;34m.\u001b[0m\u001b[0m_take_with_is_copy\u001b[0m\u001b[0;34m(\u001b[0m\u001b[0mindexer\u001b[0m\u001b[0;34m,\u001b[0m \u001b[0maxis\u001b[0m\u001b[0;34m=\u001b[0m\u001b[0;36m0\u001b[0m\u001b[0;34m)\u001b[0m\u001b[0;34m\u001b[0m\u001b[0;34m\u001b[0m\u001b[0m\n\u001b[0m\u001b[1;32m   3071\u001b[0m \u001b[0;34m\u001b[0m\u001b[0m\n\u001b[1;32m   3072\u001b[0m     \u001b[0;32mdef\u001b[0m \u001b[0m_getitem_multilevel\u001b[0m\u001b[0;34m(\u001b[0m\u001b[0mself\u001b[0m\u001b[0;34m,\u001b[0m \u001b[0mkey\u001b[0m\u001b[0;34m)\u001b[0m\u001b[0;34m:\u001b[0m\u001b[0;34m\u001b[0m\u001b[0;34m\u001b[0m\u001b[0m\n",
      "\u001b[0;32m~/anaconda3/envs/epidemics/lib/python3.8/site-packages/pandas/core/generic.py\u001b[0m in \u001b[0;36m_take_with_is_copy\u001b[0;34m(self, indices, axis)\u001b[0m\n\u001b[1;32m   3598\u001b[0m         \u001b[0mSee\u001b[0m \u001b[0mthe\u001b[0m \u001b[0mdocstring\u001b[0m \u001b[0mof\u001b[0m\u001b[0;31m \u001b[0m\u001b[0;31m`\u001b[0m\u001b[0mtake\u001b[0m\u001b[0;31m`\u001b[0m \u001b[0;32mfor\u001b[0m \u001b[0mfull\u001b[0m \u001b[0mexplanation\u001b[0m \u001b[0mof\u001b[0m \u001b[0mthe\u001b[0m \u001b[0mparameters\u001b[0m\u001b[0;34m.\u001b[0m\u001b[0;34m\u001b[0m\u001b[0;34m\u001b[0m\u001b[0m\n\u001b[1;32m   3599\u001b[0m         \"\"\"\n\u001b[0;32m-> 3600\u001b[0;31m         \u001b[0mresult\u001b[0m \u001b[0;34m=\u001b[0m \u001b[0mself\u001b[0m\u001b[0;34m.\u001b[0m\u001b[0mtake\u001b[0m\u001b[0;34m(\u001b[0m\u001b[0mindices\u001b[0m\u001b[0;34m=\u001b[0m\u001b[0mindices\u001b[0m\u001b[0;34m,\u001b[0m \u001b[0maxis\u001b[0m\u001b[0;34m=\u001b[0m\u001b[0maxis\u001b[0m\u001b[0;34m)\u001b[0m\u001b[0;34m\u001b[0m\u001b[0;34m\u001b[0m\u001b[0m\n\u001b[0m\u001b[1;32m   3601\u001b[0m         \u001b[0;31m# Maybe set copy if we didn't actually change the index.\u001b[0m\u001b[0;34m\u001b[0m\u001b[0;34m\u001b[0m\u001b[0;34m\u001b[0m\u001b[0m\n\u001b[1;32m   3602\u001b[0m         \u001b[0;32mif\u001b[0m \u001b[0;32mnot\u001b[0m \u001b[0mresult\u001b[0m\u001b[0;34m.\u001b[0m\u001b[0m_get_axis\u001b[0m\u001b[0;34m(\u001b[0m\u001b[0maxis\u001b[0m\u001b[0;34m)\u001b[0m\u001b[0;34m.\u001b[0m\u001b[0mequals\u001b[0m\u001b[0;34m(\u001b[0m\u001b[0mself\u001b[0m\u001b[0;34m.\u001b[0m\u001b[0m_get_axis\u001b[0m\u001b[0;34m(\u001b[0m\u001b[0maxis\u001b[0m\u001b[0;34m)\u001b[0m\u001b[0;34m)\u001b[0m\u001b[0;34m:\u001b[0m\u001b[0;34m\u001b[0m\u001b[0;34m\u001b[0m\u001b[0m\n",
      "\u001b[0;32m~/anaconda3/envs/epidemics/lib/python3.8/site-packages/pandas/core/generic.py\u001b[0m in \u001b[0;36mtake\u001b[0;34m(self, indices, axis, is_copy, **kwargs)\u001b[0m\n\u001b[1;32m   3584\u001b[0m         \u001b[0mself\u001b[0m\u001b[0;34m.\u001b[0m\u001b[0m_consolidate_inplace\u001b[0m\u001b[0;34m(\u001b[0m\u001b[0;34m)\u001b[0m\u001b[0;34m\u001b[0m\u001b[0;34m\u001b[0m\u001b[0m\n\u001b[1;32m   3585\u001b[0m \u001b[0;34m\u001b[0m\u001b[0m\n\u001b[0;32m-> 3586\u001b[0;31m         new_data = self._mgr.take(\n\u001b[0m\u001b[1;32m   3587\u001b[0m             \u001b[0mindices\u001b[0m\u001b[0;34m,\u001b[0m \u001b[0maxis\u001b[0m\u001b[0;34m=\u001b[0m\u001b[0mself\u001b[0m\u001b[0;34m.\u001b[0m\u001b[0m_get_block_manager_axis\u001b[0m\u001b[0;34m(\u001b[0m\u001b[0maxis\u001b[0m\u001b[0;34m)\u001b[0m\u001b[0;34m,\u001b[0m \u001b[0mverify\u001b[0m\u001b[0;34m=\u001b[0m\u001b[0;32mTrue\u001b[0m\u001b[0;34m\u001b[0m\u001b[0;34m\u001b[0m\u001b[0m\n\u001b[1;32m   3588\u001b[0m         )\n",
      "\u001b[0;32m~/anaconda3/envs/epidemics/lib/python3.8/site-packages/pandas/core/internals/managers.py\u001b[0m in \u001b[0;36mtake\u001b[0;34m(self, indexer, axis, verify, convert)\u001b[0m\n\u001b[1;32m   1472\u001b[0m \u001b[0;34m\u001b[0m\u001b[0m\n\u001b[1;32m   1473\u001b[0m         \u001b[0mnew_labels\u001b[0m \u001b[0;34m=\u001b[0m \u001b[0mself\u001b[0m\u001b[0;34m.\u001b[0m\u001b[0maxes\u001b[0m\u001b[0;34m[\u001b[0m\u001b[0maxis\u001b[0m\u001b[0;34m]\u001b[0m\u001b[0;34m.\u001b[0m\u001b[0mtake\u001b[0m\u001b[0;34m(\u001b[0m\u001b[0mindexer\u001b[0m\u001b[0;34m)\u001b[0m\u001b[0;34m\u001b[0m\u001b[0;34m\u001b[0m\u001b[0m\n\u001b[0;32m-> 1474\u001b[0;31m         return self.reindex_indexer(\n\u001b[0m\u001b[1;32m   1475\u001b[0m             \u001b[0mnew_axis\u001b[0m\u001b[0;34m=\u001b[0m\u001b[0mnew_labels\u001b[0m\u001b[0;34m,\u001b[0m \u001b[0mindexer\u001b[0m\u001b[0;34m=\u001b[0m\u001b[0mindexer\u001b[0m\u001b[0;34m,\u001b[0m \u001b[0maxis\u001b[0m\u001b[0;34m=\u001b[0m\u001b[0maxis\u001b[0m\u001b[0;34m,\u001b[0m \u001b[0mallow_dups\u001b[0m\u001b[0;34m=\u001b[0m\u001b[0;32mTrue\u001b[0m\u001b[0;34m\u001b[0m\u001b[0;34m\u001b[0m\u001b[0m\n\u001b[1;32m   1476\u001b[0m         )\n",
      "\u001b[0;32m~/anaconda3/envs/epidemics/lib/python3.8/site-packages/pandas/core/internals/managers.py\u001b[0m in \u001b[0;36mreindex_indexer\u001b[0;34m(self, new_axis, indexer, axis, fill_value, allow_dups, copy, consolidate, only_slice)\u001b[0m\n\u001b[1;32m   1309\u001b[0m             )\n\u001b[1;32m   1310\u001b[0m         \u001b[0;32melse\u001b[0m\u001b[0;34m:\u001b[0m\u001b[0;34m\u001b[0m\u001b[0;34m\u001b[0m\u001b[0m\n\u001b[0;32m-> 1311\u001b[0;31m             new_blocks = [\n\u001b[0m\u001b[1;32m   1312\u001b[0m                 blk.take_nd(\n\u001b[1;32m   1313\u001b[0m                     \u001b[0mindexer\u001b[0m\u001b[0;34m,\u001b[0m\u001b[0;34m\u001b[0m\u001b[0;34m\u001b[0m\u001b[0m\n",
      "\u001b[0;32m~/anaconda3/envs/epidemics/lib/python3.8/site-packages/pandas/core/internals/managers.py\u001b[0m in \u001b[0;36m<listcomp>\u001b[0;34m(.0)\u001b[0m\n\u001b[1;32m   1310\u001b[0m         \u001b[0;32melse\u001b[0m\u001b[0;34m:\u001b[0m\u001b[0;34m\u001b[0m\u001b[0;34m\u001b[0m\u001b[0m\n\u001b[1;32m   1311\u001b[0m             new_blocks = [\n\u001b[0;32m-> 1312\u001b[0;31m                 blk.take_nd(\n\u001b[0m\u001b[1;32m   1313\u001b[0m                     \u001b[0mindexer\u001b[0m\u001b[0;34m,\u001b[0m\u001b[0;34m\u001b[0m\u001b[0;34m\u001b[0m\u001b[0m\n\u001b[1;32m   1314\u001b[0m                     \u001b[0maxis\u001b[0m\u001b[0;34m=\u001b[0m\u001b[0maxis\u001b[0m\u001b[0;34m,\u001b[0m\u001b[0;34m\u001b[0m\u001b[0;34m\u001b[0m\u001b[0m\n",
      "\u001b[0;32m~/anaconda3/envs/epidemics/lib/python3.8/site-packages/pandas/core/internals/blocks.py\u001b[0m in \u001b[0;36mtake_nd\u001b[0;34m(self, indexer, axis, new_mgr_locs, fill_value)\u001b[0m\n\u001b[1;32m   1406\u001b[0m             \u001b[0;32mreturn\u001b[0m \u001b[0mself\u001b[0m\u001b[0;34m.\u001b[0m\u001b[0mmake_block\u001b[0m\u001b[0;34m(\u001b[0m\u001b[0mnew_values\u001b[0m\u001b[0;34m,\u001b[0m \u001b[0mnew_mgr_locs\u001b[0m\u001b[0;34m)\u001b[0m\u001b[0;34m\u001b[0m\u001b[0;34m\u001b[0m\u001b[0m\n\u001b[1;32m   1407\u001b[0m         \u001b[0;32melse\u001b[0m\u001b[0;34m:\u001b[0m\u001b[0;34m\u001b[0m\u001b[0;34m\u001b[0m\u001b[0m\n\u001b[0;32m-> 1408\u001b[0;31m             \u001b[0;32mreturn\u001b[0m \u001b[0mself\u001b[0m\u001b[0;34m.\u001b[0m\u001b[0mmake_block_same_class\u001b[0m\u001b[0;34m(\u001b[0m\u001b[0mnew_values\u001b[0m\u001b[0;34m,\u001b[0m \u001b[0mnew_mgr_locs\u001b[0m\u001b[0;34m)\u001b[0m\u001b[0;34m\u001b[0m\u001b[0;34m\u001b[0m\u001b[0m\n\u001b[0m\u001b[1;32m   1409\u001b[0m \u001b[0;34m\u001b[0m\u001b[0m\n\u001b[1;32m   1410\u001b[0m     \u001b[0;32mdef\u001b[0m \u001b[0mdiff\u001b[0m\u001b[0;34m(\u001b[0m\u001b[0mself\u001b[0m\u001b[0;34m,\u001b[0m \u001b[0mn\u001b[0m\u001b[0;34m:\u001b[0m \u001b[0mint\u001b[0m\u001b[0;34m,\u001b[0m \u001b[0maxis\u001b[0m\u001b[0;34m:\u001b[0m \u001b[0mint\u001b[0m \u001b[0;34m=\u001b[0m \u001b[0;36m1\u001b[0m\u001b[0;34m)\u001b[0m \u001b[0;34m->\u001b[0m \u001b[0mList\u001b[0m\u001b[0;34m[\u001b[0m\u001b[0;34m\"Block\"\u001b[0m\u001b[0;34m]\u001b[0m\u001b[0;34m:\u001b[0m\u001b[0;34m\u001b[0m\u001b[0;34m\u001b[0m\u001b[0m\n",
      "\u001b[0;32m~/anaconda3/envs/epidemics/lib/python3.8/site-packages/pandas/core/internals/blocks.py\u001b[0m in \u001b[0;36mmake_block_same_class\u001b[0;34m(self, values, placement, ndim)\u001b[0m\n\u001b[1;32m    292\u001b[0m         \u001b[0;32mif\u001b[0m \u001b[0mndim\u001b[0m \u001b[0;32mis\u001b[0m \u001b[0;32mNone\u001b[0m\u001b[0;34m:\u001b[0m\u001b[0;34m\u001b[0m\u001b[0;34m\u001b[0m\u001b[0m\n\u001b[1;32m    293\u001b[0m             \u001b[0mndim\u001b[0m \u001b[0;34m=\u001b[0m \u001b[0mself\u001b[0m\u001b[0;34m.\u001b[0m\u001b[0mndim\u001b[0m\u001b[0;34m\u001b[0m\u001b[0;34m\u001b[0m\u001b[0m\n\u001b[0;32m--> 294\u001b[0;31m         \u001b[0;32mreturn\u001b[0m \u001b[0mtype\u001b[0m\u001b[0;34m(\u001b[0m\u001b[0mself\u001b[0m\u001b[0;34m)\u001b[0m\u001b[0;34m(\u001b[0m\u001b[0mvalues\u001b[0m\u001b[0;34m,\u001b[0m \u001b[0mplacement\u001b[0m\u001b[0;34m=\u001b[0m\u001b[0mplacement\u001b[0m\u001b[0;34m,\u001b[0m \u001b[0mndim\u001b[0m\u001b[0;34m=\u001b[0m\u001b[0mndim\u001b[0m\u001b[0;34m)\u001b[0m\u001b[0;34m\u001b[0m\u001b[0;34m\u001b[0m\u001b[0m\n\u001b[0m\u001b[1;32m    295\u001b[0m \u001b[0;34m\u001b[0m\u001b[0m\n\u001b[1;32m    296\u001b[0m     \u001b[0;32mdef\u001b[0m \u001b[0m__repr__\u001b[0m\u001b[0;34m(\u001b[0m\u001b[0mself\u001b[0m\u001b[0;34m)\u001b[0m \u001b[0;34m->\u001b[0m \u001b[0mstr\u001b[0m\u001b[0;34m:\u001b[0m\u001b[0;34m\u001b[0m\u001b[0;34m\u001b[0m\u001b[0m\n",
      "\u001b[0;32m~/anaconda3/envs/epidemics/lib/python3.8/site-packages/pandas/core/internals/blocks.py\u001b[0m in \u001b[0;36m__init__\u001b[0;34m(self, values, placement, ndim)\u001b[0m\n\u001b[1;32m    136\u001b[0m         \u001b[0;31m# TODO(EA2D): ndim will be unnecessary with 2D EAs\u001b[0m\u001b[0;34m\u001b[0m\u001b[0;34m\u001b[0m\u001b[0;34m\u001b[0m\u001b[0m\n\u001b[1;32m    137\u001b[0m         \u001b[0mself\u001b[0m\u001b[0;34m.\u001b[0m\u001b[0mndim\u001b[0m \u001b[0;34m=\u001b[0m \u001b[0mself\u001b[0m\u001b[0;34m.\u001b[0m\u001b[0m_check_ndim\u001b[0m\u001b[0;34m(\u001b[0m\u001b[0mvalues\u001b[0m\u001b[0;34m,\u001b[0m \u001b[0mndim\u001b[0m\u001b[0;34m)\u001b[0m\u001b[0;34m\u001b[0m\u001b[0;34m\u001b[0m\u001b[0m\n\u001b[0;32m--> 138\u001b[0;31m         \u001b[0mself\u001b[0m\u001b[0;34m.\u001b[0m\u001b[0mmgr_locs\u001b[0m \u001b[0;34m=\u001b[0m \u001b[0mplacement\u001b[0m\u001b[0;34m\u001b[0m\u001b[0;34m\u001b[0m\u001b[0m\n\u001b[0m\u001b[1;32m    139\u001b[0m         \u001b[0mself\u001b[0m\u001b[0;34m.\u001b[0m\u001b[0mvalues\u001b[0m \u001b[0;34m=\u001b[0m \u001b[0mself\u001b[0m\u001b[0;34m.\u001b[0m\u001b[0m_maybe_coerce_values\u001b[0m\u001b[0;34m(\u001b[0m\u001b[0mvalues\u001b[0m\u001b[0;34m)\u001b[0m\u001b[0;34m\u001b[0m\u001b[0;34m\u001b[0m\u001b[0m\n\u001b[1;32m    140\u001b[0m \u001b[0;34m\u001b[0m\u001b[0m\n",
      "\u001b[0;32m~/anaconda3/envs/epidemics/lib/python3.8/site-packages/pandas/core/internals/blocks.py\u001b[0m in \u001b[0;36mmgr_locs\u001b[0;34m(self, new_mgr_locs)\u001b[0m\n\u001b[1;32m    267\u001b[0m         \u001b[0;32mreturn\u001b[0m \u001b[0mself\u001b[0m\u001b[0;34m.\u001b[0m\u001b[0m_mgr_locs\u001b[0m\u001b[0;34m\u001b[0m\u001b[0;34m\u001b[0m\u001b[0m\n\u001b[1;32m    268\u001b[0m \u001b[0;34m\u001b[0m\u001b[0m\n\u001b[0;32m--> 269\u001b[0;31m     \u001b[0;34m@\u001b[0m\u001b[0mmgr_locs\u001b[0m\u001b[0;34m.\u001b[0m\u001b[0msetter\u001b[0m\u001b[0;34m\u001b[0m\u001b[0;34m\u001b[0m\u001b[0m\n\u001b[0m\u001b[1;32m    270\u001b[0m     \u001b[0;32mdef\u001b[0m \u001b[0mmgr_locs\u001b[0m\u001b[0;34m(\u001b[0m\u001b[0mself\u001b[0m\u001b[0;34m,\u001b[0m \u001b[0mnew_mgr_locs\u001b[0m\u001b[0;34m)\u001b[0m\u001b[0;34m:\u001b[0m\u001b[0;34m\u001b[0m\u001b[0;34m\u001b[0m\u001b[0m\n\u001b[1;32m    271\u001b[0m         \u001b[0;32mif\u001b[0m \u001b[0;32mnot\u001b[0m \u001b[0misinstance\u001b[0m\u001b[0;34m(\u001b[0m\u001b[0mnew_mgr_locs\u001b[0m\u001b[0;34m,\u001b[0m \u001b[0mlibinternals\u001b[0m\u001b[0;34m.\u001b[0m\u001b[0mBlockPlacement\u001b[0m\u001b[0;34m)\u001b[0m\u001b[0;34m:\u001b[0m\u001b[0;34m\u001b[0m\u001b[0;34m\u001b[0m\u001b[0m\n",
      "\u001b[0;31mKeyboardInterrupt\u001b[0m: "
     ]
    }
   ],
   "source": [
    "nr_regions = len(population)\n",
    "nr_age_groups = len(age_labels)\n",
    "\n",
    "S = np.zeros((nr_simulations, nr_weeks, nr_regions, nr_age_groups))\n",
    "I = np.zeros((nr_simulations, nr_weeks, nr_regions, nr_age_groups))\n",
    "new_infected = np.zeros((nr_simulations, nr_weeks, nr_regions, nr_age_groups))\n",
    "new_deaths = np.zeros((nr_simulations, nr_weeks, nr_regions, nr_age_groups))\n",
    "vaccinated = np.zeros((nr_simulations, nr_weeks, nr_regions, nr_age_groups))\n",
    "\n",
    "for i in tqdm(range(nr_simulations)):\n",
    "    S_temp_df = S_df[S_df.simulation_nr == i+1]\n",
    "    I_temp_df = I_df[I_df.simulation_nr == i+1]\n",
    "    new_infected_temp_df = new_infected_df[new_infected_df.simulation_nr == i+1]\n",
    "    new_deaths_temp_df = new_deaths_df[new_deaths_df.simulation_nr == i+1]\n",
    "    vaccinated_temp_df = vaccinated_df[vaccinated_df.simulation_nr == i+1]    \n",
    "    for j in range(nr_weeks):\n",
    "        for k in range(nr_regions):\n",
    "            S[i, j, k] = S_temp_df[S_temp_df.week_nr == j+1][f\"S_region_{k+1}\"]\n",
    "            I[i, j, k] = I_temp_df[I_temp_df.week_nr == j+1][f\"I_region_{k+1}\"]\n",
    "            new_infected[i, j, k] = new_infected_temp_df[new_infected_temp_df.week_nr == j+1][f\"new_infected_region_{k+1}\"]\n",
    "            new_deaths[i, j, k] = new_deaths_temp_df[new_deaths_temp_df.week_nr == j+1][f\"new_deaths_region_{k+1}\"]\n",
    "            vaccinated[i, j, k] = vaccinated_temp_df[vaccinated_temp_df.week_nr == j+1][f\"vaccinated_region_{k+1}\"]\n",
    "        for k in range(nr_age_groups):\n",
    "            S[i, j, k] = S_temp_df[S_temp_df.week_nr == j+1][f\"S_age_groups_{k+1}\"]\n",
    "            I[i, j, k] = I_temp_df[I_temp_df.week_nr == j+1][f\"I_age_groups_{k+1}\"]\n",
    "            new_infected[i, j, k] = new_infected_temp_df[new_infected_temp_df.week_nr == j+1][f\"new_infected_age_groups_{k+1}\"]\n",
    "            new_deaths[i, j, k] = new_deaths_temp_df[new_deaths_temp_df.week_nr == j+1][f\"new_deaths_age_groups_{k+1}\"]\n",
    "            vaccinated[i, j, k] = vaccinated_temp_df[vaccinated_temp_df.week_nr == j+1][f\"vaccinated_age_groups_{k+1}\"]\n"
   ]
  },
  {
   "cell_type": "code",
   "execution_count": null,
   "metadata": {},
   "outputs": [],
   "source": []
  }
 ]
}