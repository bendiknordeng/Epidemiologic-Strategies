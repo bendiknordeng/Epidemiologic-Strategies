{
 "metadata": {
  "language_info": {
   "codemirror_mode": {
    "name": "ipython",
    "version": 3
   },
   "file_extension": ".py",
   "mimetype": "text/x-python",
   "name": "python",
   "nbconvert_exporter": "python",
   "pygments_lexer": "ipython3",
   "version": "3.8.0"
  },
  "orig_nbformat": 2,
  "kernelspec": {
   "name": "python380jvsc74a57bd0612cff4a0ac5e6c37db1b07ee7abafa0758340b75711202652ee82ea5fa6d12e",
   "display_name": "Python 3.8.0 64-bit ('epidemics': conda)"
  }
 },
 "nbformat": 4,
 "nbformat_minor": 2,
 "cells": [
  {
   "cell_type": "code",
   "execution_count": 3,
   "metadata": {},
   "outputs": [],
   "source": [
    "sys.path.append(\"..\")\n",
    "import os\n",
    "import utils\n",
    "import plot\n",
    "import numpy as np\n",
    "import pandas as pd\n",
    "import matplotlib.pyplot as plt\n",
    "import matplotlib.dates as mdates"
   ]
  },
  {
   "source": [
    "### Read data from Norway"
   ],
   "cell_type": "markdown",
   "metadata": {}
  },
  {
   "cell_type": "code",
   "execution_count": 2,
   "metadata": {},
   "outputs": [
    {
     "output_type": "execute_result",
     "data": {
      "text/plain": [
       "         date  I_new  I_cumulative  D_new  D_cumulative\n",
       "0  21/02/2020    1.0           1.0    0.0           0.0\n",
       "1  22/02/2020    0.0           1.0    0.0           0.0\n",
       "2  23/02/2020    0.0           1.0    0.0           0.0\n",
       "3  24/02/2020    0.0           1.0    0.0           0.0\n",
       "4  25/02/2020    0.0           1.0    0.0           0.0"
      ],
      "text/html": "<div>\n<style scoped>\n    .dataframe tbody tr th:only-of-type {\n        vertical-align: middle;\n    }\n\n    .dataframe tbody tr th {\n        vertical-align: top;\n    }\n\n    .dataframe thead th {\n        text-align: right;\n    }\n</style>\n<table border=\"1\" class=\"dataframe\">\n  <thead>\n    <tr style=\"text-align: right;\">\n      <th></th>\n      <th>date</th>\n      <th>I_new</th>\n      <th>I_cumulative</th>\n      <th>D_new</th>\n      <th>D_cumulative</th>\n    </tr>\n  </thead>\n  <tbody>\n    <tr>\n      <th>0</th>\n      <td>21/02/2020</td>\n      <td>1.0</td>\n      <td>1.0</td>\n      <td>0.0</td>\n      <td>0.0</td>\n    </tr>\n    <tr>\n      <th>1</th>\n      <td>22/02/2020</td>\n      <td>0.0</td>\n      <td>1.0</td>\n      <td>0.0</td>\n      <td>0.0</td>\n    </tr>\n    <tr>\n      <th>2</th>\n      <td>23/02/2020</td>\n      <td>0.0</td>\n      <td>1.0</td>\n      <td>0.0</td>\n      <td>0.0</td>\n    </tr>\n    <tr>\n      <th>3</th>\n      <td>24/02/2020</td>\n      <td>0.0</td>\n      <td>1.0</td>\n      <td>0.0</td>\n      <td>0.0</td>\n    </tr>\n    <tr>\n      <th>4</th>\n      <td>25/02/2020</td>\n      <td>0.0</td>\n      <td>1.0</td>\n      <td>0.0</td>\n      <td>0.0</td>\n    </tr>\n  </tbody>\n</table>\n</div>"
     },
     "metadata": {},
     "execution_count": 2
    }
   ],
   "source": [
    "data_daily = pd.read_csv(\"../data/fhi_data_daily.csv\")\n",
    "# data_daily = data_daily[data_daily.year.astype(int) < 2021].reset_index() uncomment if only plotting data fro 2021 \n",
    "data_daily = data_daily[['date', 'I_new', 'I_cumulative', 'D_new', 'D_cumulative']]\n",
    "data_daily.date = data_daily['date'].apply(lambda x: \n",
    "                                        x.split(\"/\")[1].zfill(2) + \"/\"\n",
    "                                        + x.split(\"/\")[0].zfill(2) + \"/\"\n",
    "                                        + x.split(\"/\")[2].zfill(2))\n",
    "data_daily.head()"
   ]
  },
  {
   "source": [
    "### Read output from simulations"
   ],
   "cell_type": "markdown",
   "metadata": {}
  },
  {
   "cell_type": "code",
   "execution_count": 10,
   "metadata": {},
   "outputs": [],
   "source": [
    "dir_path = \"../\"\n",
    "relative_path = \"results/500_simulations_no_vaccines_2021_05_30_13_13_03\"\n",
    "path = dir_path + relative_path\n",
    "mdp_paths_path   =   f\"{path}/mdp_paths.pkl\"\n",
    "start_date_population_age_labels_path = f\"{path}/start_date_population_age_labels.pkl\"\n",
    "\n",
    "paths = utils.create_named_tuple('paths', 'filepaths.txt')\n",
    "config = utils.create_named_tuple('config', paths.config)\n",
    "\n",
    "start_date, population, age_labels = utils.read_pickle(start_date_population_age_labels_path)\n",
    "mdp_paths = utils.read_pickle(mdp_paths_path)\n",
    "mdp_path = mdp_paths[-1]\n",
    "\n",
    "# Retrive data\n",
    "dates = []\n",
    "num_simulations = len(mdp_paths)\n",
    "num_simulation_weeks = len(mdp_paths[0])\n",
    "\n",
    "vaccinated_per_age_group =  [[0] * num_simulation_weeks] * num_simulations\n",
    "vaccinated_per_region =  [[0] * num_simulation_weeks] * num_simulations\n",
    "final_deaths = np.zeros((num_simulations, num_simulation_weeks))\n",
    "final_infected = np.zeros((num_simulations, num_simulation_weeks))\n",
    "\n",
    "for i in range(num_simulations):\n",
    "    for j in range(num_simulation_weeks):\n",
    "        if i == 0:\n",
    "            dates.append(mdp_paths[i][j].date)\n",
    "        final_deaths[i][j] = np.sum(mdp_paths[i][j].new_deaths)\n",
    "        final_infected[i][j] = np.sum(mdp_paths[i][j].new_infected)\n",
    "        if j < num_simulation_weeks -1:\n",
    "            vaccinated_per_age_group[i][j] = np.sum(mdp_paths[i][j].V, axis=0, dtype=int) - np.sum(mdp_paths[i-1][j-1].V, axis=0, dtype=int) \n",
    "            vaccinated_per_region[i][j] = np.sum(mdp_paths[i][j].V, axis=1, dtype=int) - np.sum(mdp_paths[i-1][j-1].V, axis=1, dtype=int) "
   ]
  },
  {
   "source": [
    "### Vaccination"
   ],
   "cell_type": "markdown",
   "metadata": {}
  },
  {
   "cell_type": "code",
   "execution_count": null,
   "metadata": {},
   "outputs": [],
   "source": [
    "vaccinated_per_region[6][60]"
   ]
  },
  {
   "cell_type": "code",
   "execution_count": null,
   "metadata": {},
   "outputs": [],
   "source": [
    "vaccinated_per_age_group[6][60]"
   ]
  },
  {
   "source": [
    "### Find cumulative cases of deaths and infected from model"
   ],
   "cell_type": "markdown",
   "metadata": {}
  },
  {
   "cell_type": "code",
   "execution_count": null,
   "metadata": {},
   "outputs": [],
   "source": [
    "percentile_limit=90\n",
    "\n",
    "deaths_cumulative = final_deaths.cumsum(axis=1)\n",
    "deaths_mean = final_deaths.mean(axis=0)\n",
    "deaths_mean_cumulative = deaths_cumulative.mean(axis=0)\n",
    "u_percentile_deaths = np.percentile(final_deaths, percentile_limit, axis=0)\n",
    "l_percentile_deaths = np.percentile(final_deaths, 100-percentile_limit, axis=0)\n",
    "u_percentile_deaths_cum = np.percentile(deaths_cumulative, percentile_limit, axis=0)\n",
    "l_percentile_deaths_cum = np.percentile(deaths_cumulative, 100-percentile_limit, axis=0)\n",
    "\n",
    "infected_cumulative = final_infected.cumsum(axis=1)\n",
    "infected_mean = final_infected.mean(axis=0)\n",
    "infected_mean_cumulative = infected_cumulative.mean(axis=0)\n",
    "u_percentile_infected = np.percentile(final_infected, percentile_limit, axis=0)\n",
    "l_percentile_infected = np.percentile(final_infected, 100-percentile_limit, axis=0)\n",
    "u_percentile_infected_cum = np.percentile(infected_cumulative, percentile_limit, axis=0)\n",
    "l_percentile_infected_cum = np.percentile(infected_cumulative, 100-percentile_limit, axis=0)"
   ]
  },
  {
   "cell_type": "code",
   "execution_count": null,
   "metadata": {},
   "outputs": [],
   "source": [
    "restrict_to_real_data_length = False\n",
    "max_weeks_real_data = 45\n",
    "\n",
    "fig, ax = plt.subplots(1)\n",
    "#ax.plot(dates, deaths_mean, lw=2, label='Deaths model', color='blue')\n",
    "\n",
    "if restrict_to_real_data_length:\n",
    "    ax.plot(dates[:max_weeks_real_data], deaths_mean_cumulative[:max_weeks_real_data], lw=2, label='Cumulative fatality cases model', color='orange')\n",
    "    ax.plot(dates[:max_weeks_real_data], data_daily.D_cumulative.to_numpy(dtype=int)[:max_weeks_real_data*7:7], lw=2, label='Cumulative fatality cases Norway', color='blue')\n",
    "    #ax.fill_between(dates, u_percentile_deaths, l_percentile_deaths, facecolor='blue', alpha=0.25)\n",
    "    ax.fill_between(dates[:max_weeks_real_data], u_percentile_deaths_cum[:max_weeks_real_data], l_percentile_deaths_cum[:max_weeks_real_data], facecolor='orange', alpha=0.25)\n",
    "else:\n",
    "    ax.plot(dates[:-1], deaths_mean_cumulative[:-1], lw=2, label='Cumulative fatality cases model', color='orange')\n",
    "    ax.plot(dates[:max_weeks_real_data], data_daily.D_cumulative.to_numpy(dtype=int)[:max_weeks_real_data*7:7], lw=2, label='Cumulative fatality cases Norway', color='blue')\n",
    "    #ax.fill_between(dates, u_percentile_deaths, l_percentile_deaths, facecolor='blue', alpha=0.25)\n",
    "    ax.fill_between(dates, u_percentile_deaths_cum, l_percentile_deaths_cum, facecolor='orange', alpha=0.25)\n",
    "#ax.set_title(r'Cumulative and new deaths per week')\n",
    "ax.legend(loc='upper left')\n",
    "\n",
    "# Format the date into months & days\n",
    "plt.gca().xaxis.set_major_formatter(mdates.DateFormatter('%U')) \n",
    "# Change the tick interval\n",
    "plt.gca().xaxis.set_major_locator(mdates.DayLocator(interval=28)) \n",
    "# Puts x-axis labels on an angle\n",
    "plt.gca().xaxis.set_tick_params(rotation = 30)\n",
    "ax.set_xlabel(\"Week\")\n",
    "\n",
    "fig.savefig(\"../plots/computational_study/deaths_comparison.png\", bbox_inches='tight', dpi=150)"
   ]
  },
  {
   "cell_type": "code",
   "execution_count": null,
   "metadata": {},
   "outputs": [],
   "source": [
    "restrict_to_real_data_length = True\n",
    "max_weeks_real_data = 45\n",
    "\n",
    "fig, ax = plt.subplots(1)\n",
    "#ax.plot(dates, deaths_mean, lw=2, label='Deaths model', color='blue')\n",
    "if restrict_to_real_data_length:\n",
    "    ax.plot(dates[:max_weeks_real_data], infected_mean_cumulative[:max_weeks_real_data], lw=2, label='Cumulative infection cases model', color='orange')\n",
    "    ax.plot(dates[:max_weeks_real_data], data_daily.I_cumulative.to_numpy(dtype=int)[:max_weeks_real_data*7:7], lw=2, label='Cumulative infection cases Norway', color='blue')\n",
    "    ax.fill_between(dates[:max_weeks_real_data], u_percentile_infected_cum[:max_weeks_real_data], l_percentile_infected_cum[:max_weeks_real_data], facecolor='orange', alpha=0.25)\n",
    "else:\n",
    "    ax.plot(dates[:-1], infected_mean_cumulative[:-1], lw=2, label='Cumulative infection cases model', color='orange')\n",
    "    ax.plot(dates[:max_weeks_real_data], data_daily.I_cumulative.to_numpy(dtype=int)[:max_weeks_real_data*7:7], lw=2, label='Cumulative infection cases Norway', color='blue')\n",
    "    #ax.fill_between(dates, u_percentile_deaths, l_percentile_deaths, facecolor='blue', alpha=0.25)\n",
    "    ax.fill_between(dates, u_percentile_infected_cum, l_percentile_infected_cum, facecolor='orange', alpha=0.25)\n",
    "\n",
    "#ax.set_title(r'Cumulative and new infected per week')\n",
    "ax.legend(loc='upper left')\n",
    "\n",
    "# Format the date into months & days\n",
    "plt.gca().xaxis.set_major_formatter(mdates.DateFormatter('%U')) \n",
    "# Change the tick interval\n",
    "plt.gca().xaxis.set_major_locator(mdates.DayLocator(interval=28)) \n",
    "# Puts x-axis labels on an angle\n",
    "plt.gca().xaxis.set_tick_params(rotation = 30) \n",
    "ax.set_xlabel(\"Week\")\n",
    "\n",
    "fig.savefig(\"../plots/computational_study/infected_comparison.png\", bbox_inches='tight', dpi=150)"
   ]
  },
  {
   "cell_type": "code",
   "execution_count": null,
   "metadata": {},
   "outputs": [],
   "source": []
  }
 ]
}