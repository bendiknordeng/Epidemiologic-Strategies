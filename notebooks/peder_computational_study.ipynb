{
 "metadata": {
  "language_info": {
   "codemirror_mode": {
    "name": "ipython",
    "version": 3
   },
   "file_extension": ".py",
   "mimetype": "text/x-python",
   "name": "python",
   "nbconvert_exporter": "python",
   "pygments_lexer": "ipython3",
   "version": "3.8.0"
  },
  "orig_nbformat": 2,
  "kernelspec": {
   "name": "python380jvsc74a57bd05796e6472a0dd1a2b6b25915f8f4a01dde268e0304a5f42d279d294817209115",
   "display_name": "Python 3.8.0 64-bit ('epidemics_7': conda)"
  }
 },
 "nbformat": 4,
 "nbformat_minor": 2,
 "cells": [
  {
   "cell_type": "code",
   "execution_count": 1,
   "metadata": {},
   "outputs": [],
   "source": [
    "sys.path.append(\"..\")\n",
    "import os\n",
    "import utils\n",
    "import plot\n",
    "import numpy as np\n",
    "import pandas as pd\n",
    "import matplotlib.pyplot as plt\n",
    "from tqdm import tqdm\n",
    "import utils"
   ]
  },
  {
   "source": [
    "## General functions"
   ],
   "cell_type": "markdown",
   "metadata": {}
  },
  {
   "cell_type": "code",
   "execution_count": 2,
   "metadata": {},
   "outputs": [],
   "source": [
    "def read_in_data(relative_path):\n",
    "    dir_path = \"../\"\n",
    "    folder_path = dir_path + relative_path\n",
    "    div_filepath = folder_path + \"/div.csv\"\n",
    "    S_filepath = folder_path + \"/S.csv\" \n",
    "    I_filepath = folder_path + \"/I.csv\" \n",
    "    V_filepath = folder_path + \"/vaccinated.csv\"\n",
    "    new_infected_filepath = folder_path + \"/new_infected.csv\" \n",
    "    new_deaths_filepath = folder_path + \"/new_deaths.csv\" \n",
    "    pop_age_info_filepath = folder_path + \"/start_date_population_age_labels.pkl\"\n",
    "\n",
    "    start_date, population, age_labels = utils.read_pickle(pop_age_info_filepath)\n",
    "    paths = utils.create_named_tuple('paths', 'filepaths.txt')\n",
    "    config = utils.create_named_tuple('config', paths.config)\n",
    "\n",
    "    div_df = pd.read_csv(div_filepath, index_col=0)\n",
    "    S_df = pd.read_csv(S_filepath, index_col=0)\n",
    "    I_df = pd.read_csv(I_filepath, index_col=0)\n",
    "    new_infected_df = pd.read_csv(new_infected_filepath, index_col=0)\n",
    "    new_deaths_df = pd.read_csv(new_deaths_filepath, index_col=0)\n",
    "    V_df = pd.read_csv(V_filepath, index_col=0)\n",
    "\n",
    "    nr_simulations = div_df.loc[len(div_df)-1].simulation_nr\n",
    "    nr_weeks = div_df.loc[len(div_df)-1].week_nr\n",
    "    nr_regions = len(population)\n",
    "\n",
    "    S_regions = np.zeros((nr_simulations, nr_weeks, nr_regions))\n",
    "    I_regions = np.zeros((nr_simulations, nr_weeks, nr_regions))\n",
    "    V_regions = np.zeros((nr_simulations, nr_weeks, nr_regions))\n",
    "    new_infected_regions = np.zeros((nr_simulations, nr_weeks, nr_regions))\n",
    "    new_deaths_regions = np.zeros((nr_simulations, nr_weeks, nr_regions))\n",
    "\n",
    "    for i in tqdm(range(nr_simulations)):\n",
    "        S_regions[i, :, :] = S_df.loc[(i)*75:(i+1)*75 - 1].to_numpy()[:,3:-7]\n",
    "        I_regions[i, :, :] = I_df.loc[(i)*75:(i+1)*75 - 1].to_numpy()[:,3:-7]\n",
    "        V_regions[i, :, :] = V_df.loc[(i)*75:(i+1)*75 - 1].to_numpy()[:,3:-7]\n",
    "        new_infected_regions[i, :, :] = new_infected_df.loc[(i)*75:(i+1)*75 - 1].to_numpy()[:,3:-7]\n",
    "        new_deaths_regions[i, :, :] = new_deaths_df.loc[(i)*75:(i+1)*75 - 1].to_numpy()[:,3:-7]\n",
    "\n",
    "    return S_regions, I_regions, V_regions, new_infected_regions, new_deaths_regions\n"
   ]
  },
  {
   "cell_type": "code",
   "execution_count": 3,
   "metadata": {},
   "outputs": [],
   "source": [
    "def prepare_regional_data(data):\n",
    "    m,n,r = data.shape\n",
    "    out_arr = np.column_stack((np.repeat(np.arange(m),n),data.reshape(m*n,-1)))\n",
    "    out_df = pd.DataFrame(out_arr)\n",
    "    out_df['week'] = out_df.index % data.shape[1]\n",
    "    out_df = out_df.rename(columns={0:'simulation'})\n",
    "    out_df['simulation'] = out_df['simulation'].astype(int)\n",
    "    out_df.set_index(['simulation', 'week'], inplace=True)\n",
    "    return out_df"
   ]
  },
  {
   "source": [
    "## Plotting Functions"
   ],
   "cell_type": "markdown",
   "metadata": {}
  },
  {
   "cell_type": "code",
   "execution_count": 4,
   "metadata": {},
   "outputs": [],
   "source": [
    "def plot_vaccinated_regions(gdf, data):\n",
    "    \"\"\"[summary]\n",
    "\n",
    "    Args:\n",
    "        gdf: (Geopandas): spatial data for each municipality\n",
    "        data (pandas.Dataframe): data to be plotted\n",
    "    \"\"\"\n",
    "    simulation = 1\n",
    "    nrows = int(np.ceil(len(policies)/2))\n",
    "    ncols = min(len(policies), 2)\n",
    "    fig, axs = plt.subplots(nrows=nrows, ncols=ncols, figsize=(7*ncols,7*nrows), sharex=True)\n",
    "    weeks = []\n",
    "\n",
    "    for week in weeks:\n",
    "        fig.suptitle(f'Regional  status in week {week}')\n",
    "        for i in range(len(policies)):\n",
    "            row = i // ncols\n",
    "            col = i % ncols\n",
    "            ax = axs[row][col] if nrows > 1 else axs[col]\n",
    "            ax.set_title(f'{policies[i].capitalize()}')\n",
    "            gdf.plot(ax=ax, facecolor='white', edgecolor='black', alpha=1, linewidth=0.1, zorder=2)\n",
    "            ax.axis('off')\n",
    "        plt.draw()\n",
    "        plt.savefig(f\"plots/computational_study/regional_development/{week}.jpg\", dpi=fig.dpi, bbox_inches = 'tight')\n",
    "        plt.cla()"
   ]
  },
  {
   "source": [
    "## Prepare data before plotting"
   ],
   "cell_type": "markdown",
   "metadata": {}
  },
  {
   "cell_type": "code",
   "execution_count": 5,
   "metadata": {},
   "outputs": [],
   "source": [
    "# Set initial parameters\n",
    "start_day, start_month, start_year = 24, 2, 2020\n",
    "start_date = utils.get_date(f\"{start_year}{start_month:02}{start_day:02}\")\n",
    "end_day, end_month, end_year = 31, 7, 2021\n",
    "end_date = utils.get_date(f\"{end_year}{end_month:02}{end_day:02}\")"
   ]
  },
  {
   "cell_type": "code",
   "execution_count": 6,
   "metadata": {},
   "outputs": [],
   "source": [
    "# Read data and generate parameters\n",
    "paths = utils.create_named_tuple('paths', 'filepaths.txt')\n",
    "config = utils.create_named_tuple('config', paths.config)\n",
    "age_labels = utils.generate_labels_from_bins(config.age_bins)\n",
    "population = utils.generate_custom_population(config.age_bins, age_labels)"
   ]
  },
  {
   "cell_type": "code",
   "execution_count": 7,
   "metadata": {},
   "outputs": [],
   "source": [
    "# generate geodatefram for plotting\n",
    "gdf = utils.generate_geopandas(population, paths.municipalities_geo)"
   ]
  },
  {
   "cell_type": "code",
   "execution_count": 8,
   "metadata": {},
   "outputs": [
    {
     "output_type": "stream",
     "name": "stderr",
     "text": [
      "100%|██████████| 5/5 [00:00<00:00, 118.47it/s]\n"
     ]
    }
   ],
   "source": [
    "# Vaccines - Susceptible policy\n",
    "S_regions_inf, I_regions_inf, V_regions_inf, new_infected_regions_inf, new_deaths_regions_inf = read_in_data('results/5_simulations_infection_based_2021_06_02_13_44_25')\n",
    "X = np.insert(np.diff(V_regions_inf, axis=1), 0, 0, axis=1)\n",
    "df_x_regions_inf = prepare_regional_data(X)"
   ]
  },
  {
   "cell_type": "code",
   "execution_count": 9,
   "metadata": {},
   "outputs": [
    {
     "output_type": "stream",
     "name": "stderr",
     "text": [
      "100%|██████████| 5/5 [00:00<00:00, 143.15it/s]\n"
     ]
    }
   ],
   "source": [
    "# Vaccines - Infected policy\n",
    "S_regions_sus, I_regions_sus, V_regions_sus, new_infected_regions_sus, new_deaths_regions_sus = read_in_data('results/5_simulations_susceptible_based_2021_06_02_13_42_31')\n",
    "X = np.insert(np.diff(V_regions_sus, axis=1), 0, 0, axis=1)\n",
    "df_x_regions_sus = prepare_regional_data(X)"
   ]
  },
  {
   "cell_type": "code",
   "execution_count": 10,
   "metadata": {},
   "outputs": [],
   "source": [
    "# Infected\n",
    "df_I_regions = prepare_regional_data(I_regions_inf)"
   ]
  },
  {
   "cell_type": "code",
   "execution_count": 11,
   "metadata": {},
   "outputs": [],
   "source": [
    "data = {'Infected-policy': df_x_regions_inf, 'Susceptible-policy': df_x_regions_sus, 'Symptomatic-Infected': df_I_regions}"
   ]
  },
  {
   "cell_type": "code",
   "execution_count": 12,
   "metadata": {},
   "outputs": [
    {
     "output_type": "execute_result",
     "data": {
      "text/plain": [
       "23291.745585603523"
      ]
     },
     "metadata": {},
     "execution_count": 12
    }
   ],
   "source": [
    "np.max(X)"
   ]
  },
  {
   "cell_type": "code",
   "execution_count": 13,
   "metadata": {},
   "outputs": [
    {
     "output_type": "execute_result",
     "data": {
      "text/plain": [
       "30.88323606628714"
      ]
     },
     "metadata": {},
     "execution_count": 13
    }
   ],
   "source": [
    "np.max(I_regions_inf)"
   ]
  },
  {
   "source": [
    "## Plotting"
   ],
   "cell_type": "markdown",
   "metadata": {}
  },
  {
   "cell_type": "code",
   "execution_count": 41,
   "metadata": {},
   "outputs": [],
   "source": [
    "simulations = [0] # simulation starts at 0\n",
    "weeks = [45, 70, 72] # weeks starts at 1\n",
    "policies = list(data.keys())\n",
    "max_images_on_one_row = 2\n",
    "nrows=1\n",
    "ncols=3\n",
    "\n",
    "for sim in simulations:\n",
    "    for week in weeks:\n",
    "        fig, axs = plt.subplots(nrows=nrows, ncols=ncols, figsize=(9*ncols,9*nrows), sharex=True)\n",
    "        fig.suptitle(f'Simulation {sim} - Week {week}', fontsize=16)\n",
    "        col = 0 \n",
    "        for i, value in enumerate(policies):\n",
    "            x = data[value].loc[(sim,week)]\n",
    "            x.index -= 1\n",
    "            gdf[value] = x\n",
    "            ax = axs[col]\n",
    "            ax.set_title(f'{value.capitalize()}')\n",
    "            if value == 'Symptomatic-Infected':\n",
    "                gdf.plot(ax=ax, column=value+'_percentage', facecolor='white', edgecolor='black', alpha=1, linewidth=0.1, zorder=2, cmap='Reds', legend=True, vmin=0,vmax=50)\n",
    "            else:\n",
    "                gdf[value+'_percentage'] = gdf[value]/gdf['population']\n",
    "                gdf.plot(ax=ax, column=value+'_percentage', facecolor='white', edgecolor='black', alpha=1, linewidth=0.1, zorder=2, cmap='Blues', legend=True, vmin=0,vmax=0.1)\n",
    "            ax.axis('off')\n",
    "            col += 1\n",
    "        plt.draw()\n",
    "        plt.savefig(f\"../plots/computational_study/regional_development/sim_{sim}_week_{week}.jpg\", dpi=fig.dpi, bbox_inches = 'tight')\n",
    "        plt.close()"
   ]
  },
  {
   "cell_type": "code",
   "execution_count": 37,
   "metadata": {},
   "outputs": [
    {
     "output_type": "execute_result",
     "data": {
      "text/plain": [
       "0      0.029573\n",
       "1      0.027110\n",
       "2      0.028352\n",
       "3      0.028288\n",
       "4      0.027110\n",
       "         ...   \n",
       "351    0.031721\n",
       "352    0.030011\n",
       "353    0.031119\n",
       "354    0.030111\n",
       "355    0.027257\n",
       "Name: Susceptible-policy_percentage, Length: 356, dtype: float64"
      ]
     },
     "metadata": {},
     "execution_count": 37
    }
   ],
   "source": [
    "gdf['Susceptible-policy_percentage']"
   ]
  },
  {
   "cell_type": "code",
   "execution_count": 34,
   "metadata": {},
   "outputs": [
    {
     "output_type": "execute_result",
     "data": {
      "text/plain": [
       "2.9571744309538164"
      ]
     },
     "metadata": {},
     "execution_count": 34
    }
   ],
   "source": [
    "(20605 / 696780) *100"
   ]
  },
  {
   "cell_type": "code",
   "execution_count": 32,
   "metadata": {},
   "outputs": [
    {
     "output_type": "execute_result",
     "data": {
      "text/plain": [
       "    region_id                                           geometry  population  \\\n",
       "0        0301  MULTIPOLYGON (((1195545.227 8376842.467, 11949...      696780   \n",
       "1        1101  MULTIPOLYGON (((657293.673 8062697.051, 657846...       14785   \n",
       "2        1103  MULTIPOLYGON (((649061.048 8175099.470, 649312...      144115   \n",
       "3        1106  MULTIPOLYGON (((565770.547 8278065.858, 566736...       37312   \n",
       "4        1108  MULTIPOLYGON (((650437.703 8170314.157, 648515...       80445   \n",
       "..        ...                                                ...         ...   \n",
       "351      5440  MULTIPOLYGON (((3266309.544 11298063.866, 3256...         928   \n",
       "352      5441  MULTIPOLYGON (((2942108.723 11102143.757, 2974...        2828   \n",
       "353      5442  MULTIPOLYGON (((3151814.537 11087449.545, 3150...         880   \n",
       "354      5443  MULTIPOLYGON (((3362801.357 11179433.616, 3347...        2200   \n",
       "355      5444  MULTIPOLYGON (((3416411.017 10991795.539, 3428...       10101   \n",
       "\n",
       "      region_name  Infected-policy  Susceptible-policy  Symtomatic-Infected  \\\n",
       "0            OSLO     5.870885e+03        20605.739653         1.371373e+01   \n",
       "1       EIGERSUND     0.000000e+00          400.827135         1.725294e+00   \n",
       "2       STAVANGER     4.071057e+03         4085.999484         1.118839e+01   \n",
       "3       HAUGESUND     1.655890e+03         1055.463861         6.270775e+00   \n",
       "4         SANDNES     2.934867e+03         2180.887543         6.436963e+00   \n",
       "..            ...              ...                 ...                  ...   \n",
       "351      BERLEVÅG     0.000000e+00           29.437473         4.582912e-19   \n",
       "352          TANA     3.327614e-10           84.870548         2.020870e-13   \n",
       "353       NESSEBY     3.097966e-12           27.384548         1.909705e-15   \n",
       "354     BÅTSFJORD     2.668799e-11           66.243478         1.617801e-14   \n",
       "355  SØR-VARANGER     0.000000e+00          275.323438         1.672315e+00   \n",
       "\n",
       "     vaccinated_per_100k  \n",
       "0           1.968158e-03  \n",
       "1           1.166922e-02  \n",
       "2           7.763519e-03  \n",
       "3           1.680632e-02  \n",
       "4           8.001694e-03  \n",
       "..                   ...  \n",
       "351         4.938482e-20  \n",
       "352         7.145935e-15  \n",
       "353         2.170119e-16  \n",
       "354         7.353641e-16  \n",
       "355         1.655593e-02  \n",
       "\n",
       "[356 rows x 8 columns]"
      ],
      "text/html": "<div>\n<style scoped>\n    .dataframe tbody tr th:only-of-type {\n        vertical-align: middle;\n    }\n\n    .dataframe tbody tr th {\n        vertical-align: top;\n    }\n\n    .dataframe thead th {\n        text-align: right;\n    }\n</style>\n<table border=\"1\" class=\"dataframe\">\n  <thead>\n    <tr style=\"text-align: right;\">\n      <th></th>\n      <th>region_id</th>\n      <th>geometry</th>\n      <th>population</th>\n      <th>region_name</th>\n      <th>Infected-policy</th>\n      <th>Susceptible-policy</th>\n      <th>Symtomatic-Infected</th>\n      <th>vaccinated_per_100k</th>\n    </tr>\n  </thead>\n  <tbody>\n    <tr>\n      <th>0</th>\n      <td>0301</td>\n      <td>MULTIPOLYGON (((1195545.227 8376842.467, 11949...</td>\n      <td>696780</td>\n      <td>OSLO</td>\n      <td>5.870885e+03</td>\n      <td>20605.739653</td>\n      <td>1.371373e+01</td>\n      <td>1.968158e-03</td>\n    </tr>\n    <tr>\n      <th>1</th>\n      <td>1101</td>\n      <td>MULTIPOLYGON (((657293.673 8062697.051, 657846...</td>\n      <td>14785</td>\n      <td>EIGERSUND</td>\n      <td>0.000000e+00</td>\n      <td>400.827135</td>\n      <td>1.725294e+00</td>\n      <td>1.166922e-02</td>\n    </tr>\n    <tr>\n      <th>2</th>\n      <td>1103</td>\n      <td>MULTIPOLYGON (((649061.048 8175099.470, 649312...</td>\n      <td>144115</td>\n      <td>STAVANGER</td>\n      <td>4.071057e+03</td>\n      <td>4085.999484</td>\n      <td>1.118839e+01</td>\n      <td>7.763519e-03</td>\n    </tr>\n    <tr>\n      <th>3</th>\n      <td>1106</td>\n      <td>MULTIPOLYGON (((565770.547 8278065.858, 566736...</td>\n      <td>37312</td>\n      <td>HAUGESUND</td>\n      <td>1.655890e+03</td>\n      <td>1055.463861</td>\n      <td>6.270775e+00</td>\n      <td>1.680632e-02</td>\n    </tr>\n    <tr>\n      <th>4</th>\n      <td>1108</td>\n      <td>MULTIPOLYGON (((650437.703 8170314.157, 648515...</td>\n      <td>80445</td>\n      <td>SANDNES</td>\n      <td>2.934867e+03</td>\n      <td>2180.887543</td>\n      <td>6.436963e+00</td>\n      <td>8.001694e-03</td>\n    </tr>\n    <tr>\n      <th>...</th>\n      <td>...</td>\n      <td>...</td>\n      <td>...</td>\n      <td>...</td>\n      <td>...</td>\n      <td>...</td>\n      <td>...</td>\n      <td>...</td>\n    </tr>\n    <tr>\n      <th>351</th>\n      <td>5440</td>\n      <td>MULTIPOLYGON (((3266309.544 11298063.866, 3256...</td>\n      <td>928</td>\n      <td>BERLEVÅG</td>\n      <td>0.000000e+00</td>\n      <td>29.437473</td>\n      <td>4.582912e-19</td>\n      <td>4.938482e-20</td>\n    </tr>\n    <tr>\n      <th>352</th>\n      <td>5441</td>\n      <td>MULTIPOLYGON (((2942108.723 11102143.757, 2974...</td>\n      <td>2828</td>\n      <td>TANA</td>\n      <td>3.327614e-10</td>\n      <td>84.870548</td>\n      <td>2.020870e-13</td>\n      <td>7.145935e-15</td>\n    </tr>\n    <tr>\n      <th>353</th>\n      <td>5442</td>\n      <td>MULTIPOLYGON (((3151814.537 11087449.545, 3150...</td>\n      <td>880</td>\n      <td>NESSEBY</td>\n      <td>3.097966e-12</td>\n      <td>27.384548</td>\n      <td>1.909705e-15</td>\n      <td>2.170119e-16</td>\n    </tr>\n    <tr>\n      <th>354</th>\n      <td>5443</td>\n      <td>MULTIPOLYGON (((3362801.357 11179433.616, 3347...</td>\n      <td>2200</td>\n      <td>BÅTSFJORD</td>\n      <td>2.668799e-11</td>\n      <td>66.243478</td>\n      <td>1.617801e-14</td>\n      <td>7.353641e-16</td>\n    </tr>\n    <tr>\n      <th>355</th>\n      <td>5444</td>\n      <td>MULTIPOLYGON (((3416411.017 10991795.539, 3428...</td>\n      <td>10101</td>\n      <td>SØR-VARANGER</td>\n      <td>0.000000e+00</td>\n      <td>275.323438</td>\n      <td>1.672315e+00</td>\n      <td>1.655593e-02</td>\n    </tr>\n  </tbody>\n</table>\n<p>356 rows × 8 columns</p>\n</div>"
     },
     "metadata": {},
     "execution_count": 32
    }
   ],
   "source": [
    "gdf"
   ]
  }
 ]
}