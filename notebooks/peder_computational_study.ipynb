{
 "metadata": {
  "language_info": {
   "codemirror_mode": {
    "name": "ipython",
    "version": 3
   },
   "file_extension": ".py",
   "mimetype": "text/x-python",
   "name": "python",
   "nbconvert_exporter": "python",
   "pygments_lexer": "ipython3",
   "version": "3.8.0"
  },
  "orig_nbformat": 2,
  "kernelspec": {
   "name": "python380jvsc74a57bd05796e6472a0dd1a2b6b25915f8f4a01dde268e0304a5f42d279d294817209115",
   "display_name": "Python 3.8.0 64-bit ('epidemics_7': conda)"
  }
 },
 "nbformat": 4,
 "nbformat_minor": 2,
 "cells": [
  {
   "cell_type": "code",
   "execution_count": 1,
   "metadata": {},
   "outputs": [],
   "source": [
    "sys.path.append(\"..\")\n",
    "import os\n",
    "import utils\n",
    "import plot\n",
    "import numpy as np\n",
    "import pandas as pd\n",
    "import matplotlib.pyplot as plt\n",
    "from tqdm import tqdm\n",
    "import utils"
   ]
  },
  {
   "source": [
    "## General functions"
   ],
   "cell_type": "markdown",
   "metadata": {}
  },
  {
   "cell_type": "code",
   "execution_count": 2,
   "metadata": {},
   "outputs": [],
   "source": [
    "def read_in_data(relative_path):\n",
    "    dir_path = \"../\"\n",
    "    folder_path = dir_path + relative_path\n",
    "    div_filepath = folder_path + \"/div.csv\"\n",
    "    S_filepath = folder_path + \"/S.csv\" \n",
    "    I_filepath = folder_path + \"/I.csv\" \n",
    "    V_filepath = folder_path + \"/vaccinated.csv\"\n",
    "    new_infected_filepath = folder_path + \"/new_infected.csv\" \n",
    "    new_deaths_filepath = folder_path + \"/new_deaths.csv\" \n",
    "    pop_age_info_filepath = folder_path + \"/start_date_population_age_labels.pkl\"\n",
    "\n",
    "    start_date, population, age_labels = utils.read_pickle(pop_age_info_filepath)\n",
    "    paths = utils.create_named_tuple('paths', 'filepaths.txt')\n",
    "    config = utils.create_named_tuple('config', paths.config)\n",
    "\n",
    "    div_df = pd.read_csv(div_filepath, index_col=0)\n",
    "    S_df = pd.read_csv(S_filepath, index_col=0)\n",
    "    I_df = pd.read_csv(I_filepath, index_col=0)\n",
    "    new_infected_df = pd.read_csv(new_infected_filepath, index_col=0)\n",
    "    new_deaths_df = pd.read_csv(new_deaths_filepath, index_col=0)\n",
    "    V_df = pd.read_csv(V_filepath, index_col=0)\n",
    "\n",
    "    nr_simulations = div_df.loc[len(div_df)-1].simulation_nr\n",
    "    nr_weeks = div_df.loc[len(div_df)-1].week_nr\n",
    "    nr_regions = len(population)\n",
    "\n",
    "    S_regions = np.zeros((nr_simulations, nr_weeks, nr_regions))\n",
    "    I_regions = np.zeros((nr_simulations, nr_weeks, nr_regions))\n",
    "    V_regions = np.zeros((nr_simulations, nr_weeks, nr_regions))\n",
    "    new_infected_regions = np.zeros((nr_simulations, nr_weeks, nr_regions))\n",
    "    new_deaths_regions = np.zeros((nr_simulations, nr_weeks, nr_regions))\n",
    "\n",
    "    for i in tqdm(range(nr_simulations)):\n",
    "        S_regions[i, :, :] = S_df.loc[(i)*75:(i+1)*75 - 1].to_numpy()[:,3:-7]\n",
    "        I_regions[i, :, :] = I_df.loc[(i)*75:(i+1)*75 - 1].to_numpy()[:,3:-7]\n",
    "        V_regions[i, :, :] = V_df.loc[(i)*75:(i+1)*75 - 1].to_numpy()[:,3:-7]\n",
    "        new_infected_regions[i, :, :] = new_infected_df.loc[(i)*75:(i+1)*75 - 1].to_numpy()[:,3:-7]\n",
    "        new_deaths_regions[i, :, :] = new_deaths_df.loc[(i)*75:(i+1)*75 - 1].to_numpy()[:,3:-7]\n",
    "\n",
    "    return S_regions, I_regions, V_regions, new_infected_regions, new_deaths_regions\n"
   ]
  },
  {
   "cell_type": "code",
   "execution_count": 3,
   "metadata": {},
   "outputs": [],
   "source": [
    "def prepare_regional_data(data):\n",
    "    m,n,r = data.shape\n",
    "    out_arr = np.column_stack((np.repeat(np.arange(m),n),data.reshape(m*n,-1)))\n",
    "    out_df = pd.DataFrame(out_arr)\n",
    "    out_df['week'] = out_df.index % data.shape[1]\n",
    "    out_df = out_df.rename(columns={0:'simulation'})\n",
    "    out_df['simulation'] = out_df['simulation'].astype(int)\n",
    "    out_df.set_index(['simulation', 'week'], inplace=True)\n",
    "    return out_df"
   ]
  },
  {
   "source": [
    "## Plotting Functions"
   ],
   "cell_type": "markdown",
   "metadata": {}
  },
  {
   "cell_type": "code",
   "execution_count": 4,
   "metadata": {},
   "outputs": [],
   "source": [
    "def plot_vaccinated_regions(gdf, data):\n",
    "    \"\"\"[summary]\n",
    "\n",
    "    Args:\n",
    "        gdf: (Geopandas): spatial data for each municipality\n",
    "        data (pandas.Dataframe): data to be plotted\n",
    "    \"\"\"\n",
    "    simulation = 1\n",
    "    nrows = int(np.ceil(len(policies)/2))\n",
    "    ncols = min(len(policies), 2)\n",
    "    fig, axs = plt.subplots(nrows=nrows, ncols=ncols, figsize=(7*ncols,7*nrows), sharex=True)\n",
    "    weeks = []\n",
    "\n",
    "    for week in weeks:\n",
    "        fig.suptitle(f'Regional  status in week {week}')\n",
    "        for i in range(len(policies)):\n",
    "            row = i // ncols\n",
    "            col = i % ncols\n",
    "            ax = axs[row][col] if nrows > 1 else axs[col]\n",
    "            ax.set_title(f'{policies[i].capitalize()}')\n",
    "            gdf.plot(ax=ax, facecolor='white', edgecolor='black', alpha=1, linewidth=0.1, zorder=2)\n",
    "            ax.axis('off')\n",
    "        plt.draw()\n",
    "        plt.savefig(f\"plots/computational_study/regional_development/{week}.jpg\", dpi=fig.dpi, bbox_inches = 'tight')\n",
    "        plt.cla()"
   ]
  },
  {
   "source": [
    "## Prepare data before plotting"
   ],
   "cell_type": "markdown",
   "metadata": {}
  },
  {
   "cell_type": "code",
   "execution_count": 5,
   "metadata": {},
   "outputs": [],
   "source": [
    "# Set initial parameters\n",
    "start_day, start_month, start_year = 24, 2, 2020\n",
    "start_date = utils.get_date(f\"{start_year}{start_month:02}{start_day:02}\")\n",
    "end_day, end_month, end_year = 31, 7, 2021\n",
    "end_date = utils.get_date(f\"{end_year}{end_month:02}{end_day:02}\")"
   ]
  },
  {
   "cell_type": "code",
   "execution_count": 6,
   "metadata": {},
   "outputs": [],
   "source": [
    "# Read data and generate parameters\n",
    "paths = utils.create_named_tuple('paths', 'filepaths.txt')\n",
    "config = utils.create_named_tuple('config', paths.config)\n",
    "age_labels = utils.generate_labels_from_bins(config.age_bins)\n",
    "population = utils.generate_custom_population(config.age_bins, age_labels)"
   ]
  },
  {
   "cell_type": "code",
   "execution_count": 7,
   "metadata": {},
   "outputs": [],
   "source": [
    "# generate geodatefram for plotting\n",
    "gdf = utils.generate_geopandas(population, paths.municipalities_geo)"
   ]
  },
  {
   "cell_type": "code",
   "execution_count": 8,
   "metadata": {},
   "outputs": [
    {
     "output_type": "stream",
     "name": "stderr",
     "text": [
      "100%|██████████| 5/5 [00:00<00:00, 99.98it/s]\n"
     ]
    }
   ],
   "source": [
    "# Vaccines - Susceptible policy\n",
    "S_regions_inf, I_regions_inf, V_regions_inf, new_infected_regions_inf, new_deaths_regions_inf = read_in_data('results/5_simulations_infection_based_2021_06_02_13_44_25')\n",
    "X = np.insert(np.diff(V_regions_inf, axis=1), 0, 0, axis=1)\n",
    "df_x_regions_inf = prepare_regional_data(X)"
   ]
  },
  {
   "cell_type": "code",
   "execution_count": 9,
   "metadata": {},
   "outputs": [
    {
     "output_type": "stream",
     "name": "stderr",
     "text": [
      "100%|██████████| 5/5 [00:00<00:00, 121.99it/s]\n"
     ]
    }
   ],
   "source": [
    "# Vaccines - Infected policy\n",
    "S_regions_sus, I_regions_sus, V_regions_sus, new_infected_regions_sus, new_deaths_regions_sus = read_in_data('results/5_simulations_susceptible_based_2021_06_02_13_42_31')\n",
    "X = np.insert(np.diff(V_regions_sus, axis=1), 0, 0, axis=1)\n",
    "df_x_regions_sus = prepare_regional_data(X)"
   ]
  },
  {
   "cell_type": "code",
   "execution_count": 10,
   "metadata": {},
   "outputs": [],
   "source": [
    "# Infected\n",
    "df_I_regions = prepare_regional_data(I_regions_inf)"
   ]
  },
  {
   "cell_type": "code",
   "execution_count": 11,
   "metadata": {},
   "outputs": [],
   "source": [
    "data = {'Infected-policy': df_x_regions_inf, 'Susceptible-policy': df_x_regions_sus, 'Symptomatic-Infected': df_I_regions}"
   ]
  },
  {
   "source": [
    "## Plotting"
   ],
   "cell_type": "markdown",
   "metadata": {}
  },
  {
   "cell_type": "code",
   "execution_count": 18,
   "metadata": {},
   "outputs": [],
   "source": [
    "simulations = [0] # simulation starts at 0\n",
    "weeks = [45, 70, 72] # weeks starts at 1\n",
    "policies = list(data.keys())\n",
    "max_images_on_one_row = 2\n",
    "nrows=1\n",
    "ncols=3\n",
    "\n",
    "for sim in simulations:\n",
    "    for week in weeks:\n",
    "        fig, axs = plt.subplots(nrows=nrows, ncols=ncols, figsize=(12*ncols,12*nrows), sharex=True)\n",
    "        fig.suptitle(f'Simulation {sim} - Week {week}', fontsize=16)\n",
    "        col = 0 \n",
    "        for i, value in enumerate(policies):\n",
    "            x = data[value].loc[(sim,week)]\n",
    "            x.index -= 1\n",
    "            gdf[value] = x\n",
    "            ax = axs[col]\n",
    "            ax.set_title(f'{value.capitalize()}')\n",
    "            if value == 'Symptomatic-Infected':\n",
    "                gdf.plot(ax=ax, column=value, facecolor='white', edgecolor='black', alpha=1, linewidth=0.1, zorder=2, cmap='Reds', legend=True, vmin=0,vmax=50)\n",
    "            else:\n",
    "                gdf[value+'_percentage'] = gdf[value]/gdf['population']\n",
    "                gdf.plot(ax=ax, column=value+'_percentage', facecolor='white', edgecolor='black', alpha=1, linewidth=0.1, zorder=2, cmap='Blues', legend=True, vmin=0,vmax=0.1)\n",
    "            ax.axis('off')\n",
    "            col += 1\n",
    "        plt.draw()\n",
    "        plt.savefig(f\"../plots/computational_study/regional_development/sim_{sim}_week_{week}.jpg\", dpi=fig.dpi, bbox_inches = 'tight')\n",
    "        plt.close()"
   ]
  }
 ]
}