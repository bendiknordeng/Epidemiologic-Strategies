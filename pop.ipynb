{
 "metadata": {
  "language_info": {
   "codemirror_mode": {
    "name": "ipython",
    "version": 3
   },
   "file_extension": ".py",
   "mimetype": "text/x-python",
   "name": "python",
   "nbconvert_exporter": "python",
   "pygments_lexer": "ipython3",
   "version": "3.8.0"
  },
  "orig_nbformat": 2,
  "kernelspec": {
   "name": "python380jvsc74a57bd0a27ded30c4e4b14185924a683e747b76bdd4cf7542fb7281cb88661d123cb6fe",
   "display_name": "Python 3.8.0 64-bit ('epidemics': conda)"
  }
 },
 "nbformat": 4,
 "nbformat_minor": 2,
 "cells": [
  {
   "cell_type": "code",
   "execution_count": 18,
   "metadata": {},
   "outputs": [],
   "source": [
    "import pandas as pd\n",
    "import numpy as np\n",
    "from covid import utils\n",
    "\n",
    "paths = utils.create_named_tuple('filepaths.txt')\n",
    "config = utils.create_named_tuple(paths.config)\n",
    "age_labels = utils.generate_labels_from_bins(config.age_bins)\n",
    "population = pd.read_csv('data/temp_pop.csv')"
   ]
  },
  {
   "cell_type": "code",
   "execution_count": 18,
   "metadata": {},
   "outputs": [
    {
     "output_type": "execute_result",
     "data": {
      "text/plain": [
       "     region_id        region    0-6   7-15  16-20   21-40   41-66    67+  \\\n",
       "0          301          OSLO  55837  64036  33296  257985  207877  77749   \n",
       "1         1101     EIGERSUND   1132   1719    955    3642    4898   2439   \n",
       "2         1103     STAVANGER  11735  16218   8511   41917   47283  18451   \n",
       "3         1106     HAUGESUND   2636   3996   2314    9836   12823   5707   \n",
       "4         1108       SANDNES   7589  10110   5042   22845   25653   9206   \n",
       "..         ...           ...    ...    ...    ...     ...     ...    ...   \n",
       "351       5440      BERLEVÅG     47     61     46     219     341    214   \n",
       "352       5441          TANA    166    232    154     624    1052    600   \n",
       "353       5442       NESSEBY     33     86     40     197     295    229   \n",
       "354       5443     BÅTSFJORD    150    197    124     622     761    346   \n",
       "355       5444  SØR-VARANGER    639    967    627    2707    3499   1662   \n",
       "\n",
       "     population  \n",
       "0        696780  \n",
       "1         14785  \n",
       "2        144115  \n",
       "3         37312  \n",
       "4         80445  \n",
       "..          ...  \n",
       "351         928  \n",
       "352        2828  \n",
       "353         880  \n",
       "354        2200  \n",
       "355       10101  \n",
       "\n",
       "[356 rows x 9 columns]"
      ],
      "text/html": "<div>\n<style scoped>\n    .dataframe tbody tr th:only-of-type {\n        vertical-align: middle;\n    }\n\n    .dataframe tbody tr th {\n        vertical-align: top;\n    }\n\n    .dataframe thead th {\n        text-align: right;\n    }\n</style>\n<table border=\"1\" class=\"dataframe\">\n  <thead>\n    <tr style=\"text-align: right;\">\n      <th></th>\n      <th>region_id</th>\n      <th>region</th>\n      <th>0-6</th>\n      <th>7-15</th>\n      <th>16-20</th>\n      <th>21-40</th>\n      <th>41-66</th>\n      <th>67+</th>\n      <th>population</th>\n    </tr>\n  </thead>\n  <tbody>\n    <tr>\n      <th>0</th>\n      <td>301</td>\n      <td>OSLO</td>\n      <td>55837</td>\n      <td>64036</td>\n      <td>33296</td>\n      <td>257985</td>\n      <td>207877</td>\n      <td>77749</td>\n      <td>696780</td>\n    </tr>\n    <tr>\n      <th>1</th>\n      <td>1101</td>\n      <td>EIGERSUND</td>\n      <td>1132</td>\n      <td>1719</td>\n      <td>955</td>\n      <td>3642</td>\n      <td>4898</td>\n      <td>2439</td>\n      <td>14785</td>\n    </tr>\n    <tr>\n      <th>2</th>\n      <td>1103</td>\n      <td>STAVANGER</td>\n      <td>11735</td>\n      <td>16218</td>\n      <td>8511</td>\n      <td>41917</td>\n      <td>47283</td>\n      <td>18451</td>\n      <td>144115</td>\n    </tr>\n    <tr>\n      <th>3</th>\n      <td>1106</td>\n      <td>HAUGESUND</td>\n      <td>2636</td>\n      <td>3996</td>\n      <td>2314</td>\n      <td>9836</td>\n      <td>12823</td>\n      <td>5707</td>\n      <td>37312</td>\n    </tr>\n    <tr>\n      <th>4</th>\n      <td>1108</td>\n      <td>SANDNES</td>\n      <td>7589</td>\n      <td>10110</td>\n      <td>5042</td>\n      <td>22845</td>\n      <td>25653</td>\n      <td>9206</td>\n      <td>80445</td>\n    </tr>\n    <tr>\n      <th>...</th>\n      <td>...</td>\n      <td>...</td>\n      <td>...</td>\n      <td>...</td>\n      <td>...</td>\n      <td>...</td>\n      <td>...</td>\n      <td>...</td>\n      <td>...</td>\n    </tr>\n    <tr>\n      <th>351</th>\n      <td>5440</td>\n      <td>BERLEVÅG</td>\n      <td>47</td>\n      <td>61</td>\n      <td>46</td>\n      <td>219</td>\n      <td>341</td>\n      <td>214</td>\n      <td>928</td>\n    </tr>\n    <tr>\n      <th>352</th>\n      <td>5441</td>\n      <td>TANA</td>\n      <td>166</td>\n      <td>232</td>\n      <td>154</td>\n      <td>624</td>\n      <td>1052</td>\n      <td>600</td>\n      <td>2828</td>\n    </tr>\n    <tr>\n      <th>353</th>\n      <td>5442</td>\n      <td>NESSEBY</td>\n      <td>33</td>\n      <td>86</td>\n      <td>40</td>\n      <td>197</td>\n      <td>295</td>\n      <td>229</td>\n      <td>880</td>\n    </tr>\n    <tr>\n      <th>354</th>\n      <td>5443</td>\n      <td>BÅTSFJORD</td>\n      <td>150</td>\n      <td>197</td>\n      <td>124</td>\n      <td>622</td>\n      <td>761</td>\n      <td>346</td>\n      <td>2200</td>\n    </tr>\n    <tr>\n      <th>355</th>\n      <td>5444</td>\n      <td>SØR-VARANGER</td>\n      <td>639</td>\n      <td>967</td>\n      <td>627</td>\n      <td>2707</td>\n      <td>3499</td>\n      <td>1662</td>\n      <td>10101</td>\n    </tr>\n  </tbody>\n</table>\n<p>356 rows × 9 columns</p>\n</div>"
     },
     "metadata": {},
     "execution_count": 18
    }
   ],
   "source": [
    "population"
   ]
  },
  {
   "cell_type": "code",
   "execution_count": 51,
   "metadata": {},
   "outputs": [],
   "source": [
    "df = pd.read_csv('data/Sysselsatte.csv')\n",
    "df['age_low'] = df.alder.apply(lambda x: str(x).split(\"-\")[0]).astype(int)\n",
    "df['age_high'] = df.alder.apply(lambda x: str(x).split(\"-\")[1][:2]).astype(int)\n",
    "df.drop(columns=[\"alder\"], inplace=True)\n",
    "df.rename({\"Sysselsatte personer\": \"employed\"}, axis=1, inplace=True)"
   ]
  },
  {
   "cell_type": "code",
   "execution_count": 82,
   "metadata": {},
   "outputs": [],
   "source": [
    "percent_commuters = 0.36\n",
    "bins = config.age_bins\n",
    "df = pd.read_csv('data/employed_per_age.csv')\n",
    "df.age = pd.cut(df['age'], bins=bins+[110], labels=age_labels, include_lowest=True)\n",
    "commuters = df.groupby('age').sum()['employed'].to_numpy() * percent_commuters\n",
    "sum_age_groups = population[population.columns[2:-1]].sum().to_numpy()\n",
    "age_group_commuter_percent = commuters/sum_age_groups\n",
    "age_group_flow_scaling = age_group_commuter_percent/age_group_commuter_percent.sum()"
   ]
  },
  {
   "cell_type": "code",
   "execution_count": 7,
   "metadata": {},
   "outputs": [
    {
     "output_type": "execute_result",
     "data": {
      "text/plain": [
       "   age_low  age_high  infected  deaths\n",
       "0        0         9      8929       0\n",
       "1       10        19     16651       0\n",
       "2       20        29     21640       0\n",
       "3       30        39     18437       0\n",
       "4       40        49     16991      10\n",
       "5       50        59     14011      27\n",
       "6       60        69      6366      76\n",
       "7       70        79      3165     155\n",
       "8       80        89      1426     248\n",
       "9       90       105       494     187"
      ],
      "text/html": "<div>\n<style scoped>\n    .dataframe tbody tr th:only-of-type {\n        vertical-align: middle;\n    }\n\n    .dataframe tbody tr th {\n        vertical-align: top;\n    }\n\n    .dataframe thead th {\n        text-align: right;\n    }\n</style>\n<table border=\"1\" class=\"dataframe\">\n  <thead>\n    <tr style=\"text-align: right;\">\n      <th></th>\n      <th>age_low</th>\n      <th>age_high</th>\n      <th>infected</th>\n      <th>deaths</th>\n    </tr>\n  </thead>\n  <tbody>\n    <tr>\n      <th>0</th>\n      <td>0</td>\n      <td>9</td>\n      <td>8929</td>\n      <td>0</td>\n    </tr>\n    <tr>\n      <th>1</th>\n      <td>10</td>\n      <td>19</td>\n      <td>16651</td>\n      <td>0</td>\n    </tr>\n    <tr>\n      <th>2</th>\n      <td>20</td>\n      <td>29</td>\n      <td>21640</td>\n      <td>0</td>\n    </tr>\n    <tr>\n      <th>3</th>\n      <td>30</td>\n      <td>39</td>\n      <td>18437</td>\n      <td>0</td>\n    </tr>\n    <tr>\n      <th>4</th>\n      <td>40</td>\n      <td>49</td>\n      <td>16991</td>\n      <td>10</td>\n    </tr>\n    <tr>\n      <th>5</th>\n      <td>50</td>\n      <td>59</td>\n      <td>14011</td>\n      <td>27</td>\n    </tr>\n    <tr>\n      <th>6</th>\n      <td>60</td>\n      <td>69</td>\n      <td>6366</td>\n      <td>76</td>\n    </tr>\n    <tr>\n      <th>7</th>\n      <td>70</td>\n      <td>79</td>\n      <td>3165</td>\n      <td>155</td>\n    </tr>\n    <tr>\n      <th>8</th>\n      <td>80</td>\n      <td>89</td>\n      <td>1426</td>\n      <td>248</td>\n    </tr>\n    <tr>\n      <th>9</th>\n      <td>90</td>\n      <td>105</td>\n      <td>494</td>\n      <td>187</td>\n    </tr>\n  </tbody>\n</table>\n</div>"
     },
     "metadata": {},
     "execution_count": 7
    }
   ],
   "source": [
    "df = pd.read_csv('data/death_by_age.csv')\n",
    "df"
   ]
  },
  {
   "cell_type": "code",
   "execution_count": 8,
   "metadata": {},
   "outputs": [],
   "source": [
    "age = []\n",
    "infected = []\n",
    "dead = []\n",
    "for row in df.iterrows():\n",
    "    info = row[1]\n",
    "    age_diff = info.age_high - info.age_low\n",
    "    for i in range(info.age_low, info.age_high+1):\n",
    "        age.append(i)\n",
    "        infected.append(info.infected/age_diff)\n",
    "        dead.append(info.deaths/age_diff)"
   ]
  },
  {
   "cell_type": "code",
   "execution_count": 15,
   "metadata": {},
   "outputs": [
    {
     "output_type": "execute_result",
     "data": {
      "text/plain": [
       "     age  infected  dead\n",
       "0      0       992     0\n",
       "1      1       992     0\n",
       "2      2       992     0\n",
       "3      3       992     0\n",
       "4      4       992     0\n",
       "..   ...       ...   ...\n",
       "101  101        32    12\n",
       "102  102        32    12\n",
       "103  103        32    12\n",
       "104  104        32    12\n",
       "105  105        32    12\n",
       "\n",
       "[106 rows x 3 columns]"
      ],
      "text/html": "<div>\n<style scoped>\n    .dataframe tbody tr th:only-of-type {\n        vertical-align: middle;\n    }\n\n    .dataframe tbody tr th {\n        vertical-align: top;\n    }\n\n    .dataframe thead th {\n        text-align: right;\n    }\n</style>\n<table border=\"1\" class=\"dataframe\">\n  <thead>\n    <tr style=\"text-align: right;\">\n      <th></th>\n      <th>age</th>\n      <th>infected</th>\n      <th>dead</th>\n    </tr>\n  </thead>\n  <tbody>\n    <tr>\n      <th>0</th>\n      <td>0</td>\n      <td>992</td>\n      <td>0</td>\n    </tr>\n    <tr>\n      <th>1</th>\n      <td>1</td>\n      <td>992</td>\n      <td>0</td>\n    </tr>\n    <tr>\n      <th>2</th>\n      <td>2</td>\n      <td>992</td>\n      <td>0</td>\n    </tr>\n    <tr>\n      <th>3</th>\n      <td>3</td>\n      <td>992</td>\n      <td>0</td>\n    </tr>\n    <tr>\n      <th>4</th>\n      <td>4</td>\n      <td>992</td>\n      <td>0</td>\n    </tr>\n    <tr>\n      <th>...</th>\n      <td>...</td>\n      <td>...</td>\n      <td>...</td>\n    </tr>\n    <tr>\n      <th>101</th>\n      <td>101</td>\n      <td>32</td>\n      <td>12</td>\n    </tr>\n    <tr>\n      <th>102</th>\n      <td>102</td>\n      <td>32</td>\n      <td>12</td>\n    </tr>\n    <tr>\n      <th>103</th>\n      <td>103</td>\n      <td>32</td>\n      <td>12</td>\n    </tr>\n    <tr>\n      <th>104</th>\n      <td>104</td>\n      <td>32</td>\n      <td>12</td>\n    </tr>\n    <tr>\n      <th>105</th>\n      <td>105</td>\n      <td>32</td>\n      <td>12</td>\n    </tr>\n  </tbody>\n</table>\n<p>106 rows × 3 columns</p>\n</div>"
     },
     "metadata": {},
     "execution_count": 15
    }
   ],
   "source": [
    "df_new = pd.read_csv('data/death_by_age.csv')\n",
    "df_new"
   ]
  },
  {
   "cell_type": "code",
   "execution_count": 21,
   "metadata": {},
   "outputs": [
    {
     "output_type": "execute_result",
     "data": {
      "text/plain": [
       "array([0.00000000e+00, 0.00000000e+00, 0.00000000e+00, 2.27257232e-05,\n",
       "       2.53387389e-03, 8.49410851e-02])"
      ]
     },
     "metadata": {},
     "execution_count": 21
    }
   ],
   "source": [
    "bins = config.age_bins\n",
    "labels = age_labels\n",
    "df = pd.read_csv('data/death_by_age.csv')\n",
    "df.age = pd.cut(df['age'], bins=bins+[110], labels=labels, include_lowest=True)\n",
    "infected = df.groupby('age').sum()['infected'].to_numpy()\n",
    "dead = df.groupby('age').sum()['dead'].to_numpy()\n",
    "dead/infected"
   ]
  },
  {
   "cell_type": "code",
   "execution_count": 23,
   "metadata": {},
   "outputs": [
    {
     "output_type": "execute_result",
     "data": {
      "text/plain": [
       "array([  0,   0,   0,   1,  95, 656], dtype=int64)"
      ]
     },
     "metadata": {},
     "execution_count": 23
    }
   ],
   "source": [
    "dead"
   ]
  },
  {
   "cell_type": "code",
   "execution_count": 22,
   "metadata": {},
   "outputs": [
    {
     "output_type": "execute_result",
     "data": {
      "text/plain": [
       "array([ 6944, 14076,  9804, 44003, 37492,  7723], dtype=int64)"
      ]
     },
     "metadata": {},
     "execution_count": 22
    }
   ],
   "source": [
    "infected"
   ]
  },
  {
   "cell_type": "code",
   "execution_count": 25,
   "metadata": {},
   "outputs": [
    {
     "output_type": "execute_result",
     "data": {
      "text/plain": [
       "array([0.   , 0.   , 0.   , 0.   , 0.003, 0.085])"
      ]
     },
     "metadata": {},
     "execution_count": 25
    }
   ],
   "source": [
    "np.round(dead/infected, 3)"
   ]
  }
 ]
}