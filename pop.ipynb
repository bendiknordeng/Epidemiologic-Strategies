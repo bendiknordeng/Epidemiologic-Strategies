{
 "metadata": {
  "language_info": {
   "codemirror_mode": {
    "name": "ipython",
    "version": 3
   },
   "file_extension": ".py",
   "mimetype": "text/x-python",
   "name": "python",
   "nbconvert_exporter": "python",
   "pygments_lexer": "ipython3",
   "version": "3.7.7-final"
  },
  "orig_nbformat": 2,
  "kernelspec": {
   "name": "python3",
   "display_name": "Python 3",
   "language": "python"
  }
 },
 "nbformat": 4,
 "nbformat_minor": 2,
 "cells": [
  {
   "cell_type": "code",
   "execution_count": 154,
   "metadata": {},
   "outputs": [
    {
     "output_type": "execute_result",
     "data": {
      "text/plain": [
       "     region_id        region    0-5   6-15  16-19   20-66    67+  population\n",
       "0          301          OSLO  48242  71631  25672  473486  77749      696780\n",
       "1         1101     EIGERSUND    957   1894    739    8756   2439       14785\n",
       "2         1103     STAVANGER  10034  17919   6740   90971  18451      144115\n",
       "3         1106     HAUGESUND   2252   4380   1831   23142   5707       37312\n",
       "4         1108       SANDNES   6462  11237   4057   49483   9206       80445\n",
       "..         ...           ...    ...    ...    ...     ...    ...         ...\n",
       "351       5440      BERLEVÅG     43     65     42     564    214         928\n",
       "352       5441          TANA    142    256    115    1715    600        2828\n",
       "353       5442       NESSEBY     26     93     31     501    229         880\n",
       "354       5443     BÅTSFJORD    133    214     97    1410    346        2200\n",
       "355       5444  SØR-VARANGER    544   1062    495    6338   1662       10101\n",
       "\n",
       "[356 rows x 8 columns]"
      ],
      "text/html": "<div>\n<style scoped>\n    .dataframe tbody tr th:only-of-type {\n        vertical-align: middle;\n    }\n\n    .dataframe tbody tr th {\n        vertical-align: top;\n    }\n\n    .dataframe thead th {\n        text-align: right;\n    }\n</style>\n<table border=\"1\" class=\"dataframe\">\n  <thead>\n    <tr style=\"text-align: right;\">\n      <th></th>\n      <th>region_id</th>\n      <th>region</th>\n      <th>0-5</th>\n      <th>6-15</th>\n      <th>16-19</th>\n      <th>20-66</th>\n      <th>67+</th>\n      <th>population</th>\n    </tr>\n  </thead>\n  <tbody>\n    <tr>\n      <th>0</th>\n      <td>301</td>\n      <td>OSLO</td>\n      <td>48242</td>\n      <td>71631</td>\n      <td>25672</td>\n      <td>473486</td>\n      <td>77749</td>\n      <td>696780</td>\n    </tr>\n    <tr>\n      <th>1</th>\n      <td>1101</td>\n      <td>EIGERSUND</td>\n      <td>957</td>\n      <td>1894</td>\n      <td>739</td>\n      <td>8756</td>\n      <td>2439</td>\n      <td>14785</td>\n    </tr>\n    <tr>\n      <th>2</th>\n      <td>1103</td>\n      <td>STAVANGER</td>\n      <td>10034</td>\n      <td>17919</td>\n      <td>6740</td>\n      <td>90971</td>\n      <td>18451</td>\n      <td>144115</td>\n    </tr>\n    <tr>\n      <th>3</th>\n      <td>1106</td>\n      <td>HAUGESUND</td>\n      <td>2252</td>\n      <td>4380</td>\n      <td>1831</td>\n      <td>23142</td>\n      <td>5707</td>\n      <td>37312</td>\n    </tr>\n    <tr>\n      <th>4</th>\n      <td>1108</td>\n      <td>SANDNES</td>\n      <td>6462</td>\n      <td>11237</td>\n      <td>4057</td>\n      <td>49483</td>\n      <td>9206</td>\n      <td>80445</td>\n    </tr>\n    <tr>\n      <th>...</th>\n      <td>...</td>\n      <td>...</td>\n      <td>...</td>\n      <td>...</td>\n      <td>...</td>\n      <td>...</td>\n      <td>...</td>\n      <td>...</td>\n    </tr>\n    <tr>\n      <th>351</th>\n      <td>5440</td>\n      <td>BERLEVÅG</td>\n      <td>43</td>\n      <td>65</td>\n      <td>42</td>\n      <td>564</td>\n      <td>214</td>\n      <td>928</td>\n    </tr>\n    <tr>\n      <th>352</th>\n      <td>5441</td>\n      <td>TANA</td>\n      <td>142</td>\n      <td>256</td>\n      <td>115</td>\n      <td>1715</td>\n      <td>600</td>\n      <td>2828</td>\n    </tr>\n    <tr>\n      <th>353</th>\n      <td>5442</td>\n      <td>NESSEBY</td>\n      <td>26</td>\n      <td>93</td>\n      <td>31</td>\n      <td>501</td>\n      <td>229</td>\n      <td>880</td>\n    </tr>\n    <tr>\n      <th>354</th>\n      <td>5443</td>\n      <td>BÅTSFJORD</td>\n      <td>133</td>\n      <td>214</td>\n      <td>97</td>\n      <td>1410</td>\n      <td>346</td>\n      <td>2200</td>\n    </tr>\n    <tr>\n      <th>355</th>\n      <td>5444</td>\n      <td>SØR-VARANGER</td>\n      <td>544</td>\n      <td>1062</td>\n      <td>495</td>\n      <td>6338</td>\n      <td>1662</td>\n      <td>10101</td>\n    </tr>\n  </tbody>\n</table>\n<p>356 rows × 8 columns</p>\n</div>"
     },
     "metadata": {},
     "execution_count": 154
    }
   ],
   "source": [
    "import pandas as pd\n",
    "import numpy as np\n",
    "def generate_custom_population(bins, labels):\n",
    "    total_pop = pd.read_csv('data/municipalities/age_divided_population.csv')\n",
    "    age_divided = pd.DataFrame(total_pop.groupby(['region_id', pd.cut(pop[\"age\"], bins=bins+[110], labels=labels, include_lowest=True)]).sum('population')['population'])\n",
    "    age_divided.reset_index(inplace=True)\n",
    "    age_divided = age_divided.pivot(index='region_id', columns=['age'])['population']\n",
    "    region_names_id = pd.read_csv(\"data/municipalities/Kommunenummer_navn_2020.csv\", delimiter=\",\").drop_duplicates()\n",
    "    df = pd.merge(region_names_id, age_divided, on=\"region_id\", how='right', sort=True)\n",
    "    df['population'] = df.loc[:,df.columns[2:2+len(labels)]].sum(axis=1)\n",
    "    return df\n",
    "\n",
    "def generate_labels_from_bins(bins):\n",
    "    labels = []\n",
    "    for i in range(len(bins)-1):\n",
    "        if i == 0:\n",
    "            labels.append(str(bins[i])+\"-\"+str(bins[i+1]))\n",
    "        else:\n",
    "            labels.append(str(bins[i]+1)+\"-\"+str(bins[i+1]))\n",
    "    labels.append(str(bins[-1]+1)+\"+\")\n",
    "    return labels\n",
    "\n",
    "bins = [0,5,15,19,66]\n",
    "df = generate_custom_population(bins, generate_labels_from_bins(bins))\n",
    "df"
   ]
  },
  {
   "cell_type": "code",
   "execution_count": 160,
   "metadata": {},
   "outputs": [
    {
     "output_type": "execute_result",
     "data": {
      "text/plain": [
       "array([[8.95011390e+00, 1.32893663e+01, 4.76280677e+00, 8.78436556e+01,\n",
       "        1.44244104e+01],\n",
       "       [1.77547759e-01, 3.51385012e-01, 1.37103233e-01, 1.62445996e+00,\n",
       "        4.52496327e-01],\n",
       "       [1.86156136e+00, 3.32442873e+00, 1.25044085e+00, 1.68774266e+01,\n",
       "        3.42312822e+00],\n",
       "       ...,\n",
       "       [4.82365908e-03, 1.72538575e-02, 5.75128583e-03, 9.29482000e-02,\n",
       "        4.24853050e-02],\n",
       "       [2.46748715e-02, 3.97024248e-02, 1.79959589e-02, 2.61590743e-01,\n",
       "        6.41917709e-02],\n",
       "       [1.00925790e-01, 1.97027921e-01, 9.18350479e-02, 1.17585966e+00,\n",
       "        3.08343131e-01]])"
      ]
     },
     "metadata": {},
     "execution_count": 160
    }
   ],
   "source": [
    "available_vaccines = 1000\n",
    "pop_weight = df[df.columns[2:-1]].to_numpy()/df.population.sum()\n",
    "decision = available_vaccines * pop_weight\n",
    "decision"
   ]
  },
  {
   "cell_type": "code",
   "execution_count": 80,
   "metadata": {},
   "outputs": [],
   "source": [
    "c = np.array([[[0.005, 0.02, 0.01, 0.02, 0.08, 0.04, 0.01],\n",
    "    [0.02,  0.05, 0.04, 0.03, 0.2,  0.1,  0.05],\n",
    "    [0.01,  0.04, 0.04, 0.02, 0.1,  0.1,  0.05],\n",
    "    [0.02,  0.03, 0.02, 0.02, 0.1,  0.09, 0.03],\n",
    "    [0.08,  0.2,  0.1,  0.1,  0.5,  0.4,  0.2 ],\n",
    "    [0.04,  0.1,  0.1,  0.09, 0.4,  0.3,  0.1 ],\n",
    "    [0.01,  0.05, 0.05, 0.03, 0.2,  0.1,  0.1 ]],\n",
    "    [[0.4,   0,    0,     0,   0,    0,    0],\n",
    "    [0,     0.9,  0.09,  0,   0,    0,    0],\n",
    "    [0,     0.09, 0.5,   0,   0,    0,    0],\n",
    "    [0,     0,    0,     1,   0,    0,    0],\n",
    "    [0,     0,    0,     0,   0,    0,    0],\n",
    "    [0,     0,    0,     0,   0,    0,    0],\n",
    "    [0,     0,    0,     0,   0,    0,    0]],\n",
    "    [[0,     0,    0,     0,   0,    0,    0],\n",
    "    [0,     0,    0,     0,   0,    0,    0],\n",
    "    [0,     0,    0.1,   0.2, 0.2,  0.06, 0],\n",
    "    [0,     0,    0.2,   0.4, 0.4,  0.1,  0],\n",
    "    [0,     0,    0.2,   0.4, 0.5,  0.1,  0],\n",
    "    [0,     0,    0.06,  0.1, 0.1,  0.03, 0],\n",
    "    [0,     0,    0,     0,   0,    0,    0]],\n",
    "    [[0.06,  0.08, 0.1,   0.1,  0.1,  0.1,  0.03],\n",
    "    [0.08,  0.1,  0.1,   0.1,  0.2,  0.1,  0.04],\n",
    "    [0.1,   0.1,  0.2,   0.2,  0.2,  0.2,  0.05],\n",
    "    [0.1,   0.1,  0.2,   0.2,  0.2,  0.2,  0.05],\n",
    "    [0.1,   0.2,  0.2,   0.2,  0.3,  0.2,  0.07],\n",
    "    [0.1,   0.1,  0.2,   0.2,  0.2,  0.2,  0.05],\n",
    "    [0.03,  0.04, 0.05,  0.05, 0.07, 0.05, 0.01]]])"
   ]
  },
  {
   "cell_type": "code",
   "execution_count": 81,
   "metadata": {},
   "outputs": [],
   "source": [
    "temp = np.zeros(shape=(4,7,7))\n",
    "for i, mat in enumerate(c):\n",
    "    for j, row in enumerate(mat):\n",
    "        for k, col in enumerate(row):\n",
    "            if k == 2 or k == 4:\n",
    "                temp[i][j][k] = (c[i][j][k] + c[i][j][k+1]) / 2\n",
    "            elif j == 2 or j == 4:\n",
    "                temp[i][j][k] = (c[i][j][k] + c[i][j+1][k]) / 2\n",
    "            else:\n",
    "                temp[i][j][k] = col\n",
    "final = []\n",
    "for mat in temp:\n",
    "    t_mat = np.delete(mat, 5, 0)\n",
    "    t_mat = np.delete(t_mat, 5, 1)\n",
    "    t_mat = np.delete(t_mat, 3, 0)\n",
    "    t_mat = np.delete(t_mat, 3, 1)\n",
    "    final.append(t_mat)"
   ]
  },
  {
   "cell_type": "code",
   "execution_count": 247,
   "metadata": {},
   "outputs": [],
   "source": [
    "import pandas as pd\n",
    "import numpy as np\n",
    "from covid import utils\n",
    "paths = utils.create_named_tuple('filepaths.txt')"
   ]
  },
  {
   "cell_type": "code",
   "execution_count": 242,
   "metadata": {},
   "outputs": [],
   "source": [
    "def generate_contact_matrices(bins, labels):\n",
    "    df = pd.read_csv('data/contact_data.csv')\n",
    "    df.contact_age_0 = pd.cut(df['contact_age_0'], bins=bins+[110], labels=labels, include_lowest=True)\n",
    "    df.contact_age_1 = pd.cut(df['contact_age_1'], bins=bins+[110], labels=labels, include_lowest=True)\n",
    "    df_mat = pd.DataFrame(df[df.columns[:-2]].groupby(['contact_age_0', 'contact_age_1']).sum()).reset_index()\n",
    "    home = pd.pivot_table(df_mat, values='home', index='contact_age_0', columns='contact_age_1').to_numpy()\n",
    "    work = pd.pivot_table(df_mat, values='work', index='contact_age_0', columns='contact_age_1').to_numpy()\n",
    "    school = pd.pivot_table(df_mat, values='school', index='contact_age_0', columns='contact_age_1').to_numpy()\n",
    "    transport = pd.pivot_table(df_mat, values='transport', index='contact_age_0', columns='contact_age_1').to_numpy()\n",
    "    leisure = pd.pivot_table(df_mat, values='leisure', index='contact_age_0', columns='contact_age_1').to_numpy()\n",
    "    return home, work, school, transport, leisure"
   ]
  },
  {
   "cell_type": "code",
   "execution_count": 253,
   "metadata": {},
   "outputs": [],
   "source": [
    "age_bins = [0,15,20,40,66]\n",
    "age_labels = utils.generate_labels_from_bins(age_bins)"
   ]
  },
  {
   "cell_type": "code",
   "execution_count": 478,
   "metadata": {},
   "outputs": [],
   "source": [
    "df = pd.read_csv('data/contact_data.csv')\n",
    "df.contact_age_0 = pd.cut(df['contact_age_0'], bins=bins+[110], labels=labels, include_lowest=True)\n",
    "df.contact_age_1 = pd.cut(df['contact_age_1'], bins=bins+[110], labels=labels, include_lowest=True)\n",
    "df_mat = pd.DataFrame(df[df.columns[:-2]].groupby(['contact_age_0', 'contact_age_1']).sum()).reset_index()\n",
    "age_pop = (df.contact_age_0.value_counts()[age_labels] + df.contact_age_1.value_counts()[age_labels])/2\n",
    "matrices = []\n",
    "for col in ['home', 'work', 'school', 'transport', 'leisure']:\n",
    "    matrix = pd.pivot_table(df_mat, values=col, index='contact_age_0', columns='contact_age_1')\n",
    "    matrix += matrix.T\n",
    "    matrix.values[[np.arange(matrix.shape[0])]*2] = matrix.values[[np.arange(matrix.shape[0])]*2]/2\n",
    "    matrix = np.array([[np.round(matrix[i][j]/(age_pop[i]+age_pop[j]),2) for i in age_labels] for j in age_labels])\n",
    "    matrices.append(matrix)"
   ]
  },
  {
   "cell_type": "code",
   "execution_count": 481,
   "metadata": {},
   "outputs": [
    {
     "output_type": "execute_result",
     "data": {
      "text/plain": [
       "[array([[0.05, 0.02, 0.09, 0.07, 0.02],\n",
       "        [0.02, 0.02, 0.02, 0.04, 0.01],\n",
       "        [0.09, 0.02, 0.04, 0.06, 0.02],\n",
       "        [0.07, 0.04, 0.06, 0.05, 0.03],\n",
       "        [0.02, 0.01, 0.02, 0.03, 0.04]]),\n",
       " array([[0.  , 0.  , 0.01, 0.01, 0.  ],\n",
       "        [0.  , 0.01, 0.02, 0.01, 0.  ],\n",
       "        [0.01, 0.02, 0.08, 0.12, 0.01],\n",
       "        [0.01, 0.01, 0.12, 0.08, 0.01],\n",
       "        [0.  , 0.  , 0.01, 0.01, 0.  ]]),\n",
       " array([[0.19, 0.02, 0.03, 0.03, 0.  ],\n",
       "        [0.02, 0.14, 0.01, 0.02, 0.  ],\n",
       "        [0.03, 0.01, 0.01, 0.01, 0.  ],\n",
       "        [0.03, 0.02, 0.01, 0.01, 0.  ],\n",
       "        [0.  , 0.  , 0.  , 0.  , 0.  ]]),\n",
       " array([[0.02, 0.01, 0.01, 0.01, 0.  ],\n",
       "        [0.01, 0.02, 0.01, 0.01, 0.  ],\n",
       "        [0.01, 0.01, 0.01, 0.01, 0.  ],\n",
       "        [0.01, 0.01, 0.01, 0.01, 0.  ],\n",
       "        [0.  , 0.  , 0.  , 0.  , 0.  ]]),\n",
       " array([[0.08, 0.03, 0.06, 0.05, 0.02],\n",
       "        [0.03, 0.08, 0.05, 0.02, 0.01],\n",
       "        [0.06, 0.05, 0.08, 0.11, 0.02],\n",
       "        [0.05, 0.02, 0.11, 0.08, 0.06],\n",
       "        [0.02, 0.01, 0.02, 0.06, 0.06]])]"
      ]
     },
     "metadata": {},
     "execution_count": 481
    }
   ],
   "source": [
    "matrices"
   ]
  },
  {
   "cell_type": "code",
   "execution_count": 22,
   "metadata": {},
   "outputs": [],
   "source": [
    "df.to_csv('data/fhi_data_daily.csv', index=False)"
   ]
  },
  {
   "cell_type": "code",
   "execution_count": 10,
   "metadata": {},
   "outputs": [
    {
     "output_type": "execute_result",
     "data": {
      "text/plain": [
       "          date  year  week  r0_average  r0_conf_95_low  r0_conf_95_high  \\\n",
       "0    2/21/2020  2020     8        3.10            2.40             3.90   \n",
       "1    2/22/2020  2020     8        3.10            2.40             3.90   \n",
       "2    2/23/2020  2020     9        3.10            2.40             3.90   \n",
       "3    2/24/2020  2020     9        3.10            2.40             3.90   \n",
       "4    2/25/2020  2020     9        3.10            2.40             3.90   \n",
       "..         ...   ...   ...         ...             ...              ...   \n",
       "411   4/7/2021  2021    15        0.86            0.76             0.94   \n",
       "412   4/8/2021  2021    15        0.86            0.76             0.94   \n",
       "413   4/9/2021  2021    15        0.86            0.76             0.94   \n",
       "414  4/10/2021  2021    15        0.86            0.76             0.94   \n",
       "415  4/11/2021  2021    16        0.86            0.76             0.94   \n",
       "\n",
       "     H_cumulative  H_new  ICU_cummulative  ICU_new  ...  vaccine_supply_new  \\\n",
       "0               0      0                0        0  ...                   0   \n",
       "1               0      0                0        0  ...                   0   \n",
       "2               0      0                0        0  ...                   0   \n",
       "3               0      0                0        0  ...                   0   \n",
       "4               0      0                0        0  ...                   0   \n",
       "..            ...    ...              ...      ...  ...                 ...   \n",
       "411          3748     29              717        4  ...                   0   \n",
       "412          3776     28              721        4  ...                   0   \n",
       "413          3799     23              723        2  ...                   0   \n",
       "414          3805      6              725        2  ...                   0   \n",
       "415          3809      4              726        1  ...              114798   \n",
       "\n",
       "     alpha_s  alpha_e1  alpha_e2  alpha_a  alpha_i  w_c1  w_c2  w_c3  w_c4  \n",
       "0          1         1         1        1      0.1  0.31  0.24  0.16  0.29  \n",
       "1          1         1         1        1      0.1  0.31  0.24  0.16  0.29  \n",
       "2          1         1         1        1      0.1  0.31  0.24  0.16  0.29  \n",
       "3          1         1         1        1      0.1  0.31  0.24  0.16  0.29  \n",
       "4          1         1         1        1      0.1  0.31  0.24  0.16  0.29  \n",
       "..       ...       ...       ...      ...      ...   ...   ...   ...   ...  \n",
       "411        1         1         1        1      0.1  0.31  0.24  0.16  0.29  \n",
       "412        1         1         1        1      0.1  0.31  0.24  0.16  0.29  \n",
       "413        1         1         1        1      0.1  0.31  0.24  0.16  0.29  \n",
       "414        1         1         1        1      0.1  0.31  0.24  0.16  0.29  \n",
       "415        1         1         1        1      0.1  0.31  0.24  0.16  0.29  \n",
       "\n",
       "[416 rows x 28 columns]"
      ],
      "text/html": "<div>\n<style scoped>\n    .dataframe tbody tr th:only-of-type {\n        vertical-align: middle;\n    }\n\n    .dataframe tbody tr th {\n        vertical-align: top;\n    }\n\n    .dataframe thead th {\n        text-align: right;\n    }\n</style>\n<table border=\"1\" class=\"dataframe\">\n  <thead>\n    <tr style=\"text-align: right;\">\n      <th></th>\n      <th>date</th>\n      <th>year</th>\n      <th>week</th>\n      <th>r0_average</th>\n      <th>r0_conf_95_low</th>\n      <th>r0_conf_95_high</th>\n      <th>H_cumulative</th>\n      <th>H_new</th>\n      <th>ICU_cummulative</th>\n      <th>ICU_new</th>\n      <th>...</th>\n      <th>vaccine_supply_new</th>\n      <th>alpha_s</th>\n      <th>alpha_e1</th>\n      <th>alpha_e2</th>\n      <th>alpha_a</th>\n      <th>alpha_i</th>\n      <th>w_c1</th>\n      <th>w_c2</th>\n      <th>w_c3</th>\n      <th>w_c4</th>\n    </tr>\n  </thead>\n  <tbody>\n    <tr>\n      <th>0</th>\n      <td>2/21/2020</td>\n      <td>2020</td>\n      <td>8</td>\n      <td>3.10</td>\n      <td>2.40</td>\n      <td>3.90</td>\n      <td>0</td>\n      <td>0</td>\n      <td>0</td>\n      <td>0</td>\n      <td>...</td>\n      <td>0</td>\n      <td>1</td>\n      <td>1</td>\n      <td>1</td>\n      <td>1</td>\n      <td>0.1</td>\n      <td>0.31</td>\n      <td>0.24</td>\n      <td>0.16</td>\n      <td>0.29</td>\n    </tr>\n    <tr>\n      <th>1</th>\n      <td>2/22/2020</td>\n      <td>2020</td>\n      <td>8</td>\n      <td>3.10</td>\n      <td>2.40</td>\n      <td>3.90</td>\n      <td>0</td>\n      <td>0</td>\n      <td>0</td>\n      <td>0</td>\n      <td>...</td>\n      <td>0</td>\n      <td>1</td>\n      <td>1</td>\n      <td>1</td>\n      <td>1</td>\n      <td>0.1</td>\n      <td>0.31</td>\n      <td>0.24</td>\n      <td>0.16</td>\n      <td>0.29</td>\n    </tr>\n    <tr>\n      <th>2</th>\n      <td>2/23/2020</td>\n      <td>2020</td>\n      <td>9</td>\n      <td>3.10</td>\n      <td>2.40</td>\n      <td>3.90</td>\n      <td>0</td>\n      <td>0</td>\n      <td>0</td>\n      <td>0</td>\n      <td>...</td>\n      <td>0</td>\n      <td>1</td>\n      <td>1</td>\n      <td>1</td>\n      <td>1</td>\n      <td>0.1</td>\n      <td>0.31</td>\n      <td>0.24</td>\n      <td>0.16</td>\n      <td>0.29</td>\n    </tr>\n    <tr>\n      <th>3</th>\n      <td>2/24/2020</td>\n      <td>2020</td>\n      <td>9</td>\n      <td>3.10</td>\n      <td>2.40</td>\n      <td>3.90</td>\n      <td>0</td>\n      <td>0</td>\n      <td>0</td>\n      <td>0</td>\n      <td>...</td>\n      <td>0</td>\n      <td>1</td>\n      <td>1</td>\n      <td>1</td>\n      <td>1</td>\n      <td>0.1</td>\n      <td>0.31</td>\n      <td>0.24</td>\n      <td>0.16</td>\n      <td>0.29</td>\n    </tr>\n    <tr>\n      <th>4</th>\n      <td>2/25/2020</td>\n      <td>2020</td>\n      <td>9</td>\n      <td>3.10</td>\n      <td>2.40</td>\n      <td>3.90</td>\n      <td>0</td>\n      <td>0</td>\n      <td>0</td>\n      <td>0</td>\n      <td>...</td>\n      <td>0</td>\n      <td>1</td>\n      <td>1</td>\n      <td>1</td>\n      <td>1</td>\n      <td>0.1</td>\n      <td>0.31</td>\n      <td>0.24</td>\n      <td>0.16</td>\n      <td>0.29</td>\n    </tr>\n    <tr>\n      <th>...</th>\n      <td>...</td>\n      <td>...</td>\n      <td>...</td>\n      <td>...</td>\n      <td>...</td>\n      <td>...</td>\n      <td>...</td>\n      <td>...</td>\n      <td>...</td>\n      <td>...</td>\n      <td>...</td>\n      <td>...</td>\n      <td>...</td>\n      <td>...</td>\n      <td>...</td>\n      <td>...</td>\n      <td>...</td>\n      <td>...</td>\n      <td>...</td>\n      <td>...</td>\n      <td>...</td>\n    </tr>\n    <tr>\n      <th>411</th>\n      <td>4/7/2021</td>\n      <td>2021</td>\n      <td>15</td>\n      <td>0.86</td>\n      <td>0.76</td>\n      <td>0.94</td>\n      <td>3748</td>\n      <td>29</td>\n      <td>717</td>\n      <td>4</td>\n      <td>...</td>\n      <td>0</td>\n      <td>1</td>\n      <td>1</td>\n      <td>1</td>\n      <td>1</td>\n      <td>0.1</td>\n      <td>0.31</td>\n      <td>0.24</td>\n      <td>0.16</td>\n      <td>0.29</td>\n    </tr>\n    <tr>\n      <th>412</th>\n      <td>4/8/2021</td>\n      <td>2021</td>\n      <td>15</td>\n      <td>0.86</td>\n      <td>0.76</td>\n      <td>0.94</td>\n      <td>3776</td>\n      <td>28</td>\n      <td>721</td>\n      <td>4</td>\n      <td>...</td>\n      <td>0</td>\n      <td>1</td>\n      <td>1</td>\n      <td>1</td>\n      <td>1</td>\n      <td>0.1</td>\n      <td>0.31</td>\n      <td>0.24</td>\n      <td>0.16</td>\n      <td>0.29</td>\n    </tr>\n    <tr>\n      <th>413</th>\n      <td>4/9/2021</td>\n      <td>2021</td>\n      <td>15</td>\n      <td>0.86</td>\n      <td>0.76</td>\n      <td>0.94</td>\n      <td>3799</td>\n      <td>23</td>\n      <td>723</td>\n      <td>2</td>\n      <td>...</td>\n      <td>0</td>\n      <td>1</td>\n      <td>1</td>\n      <td>1</td>\n      <td>1</td>\n      <td>0.1</td>\n      <td>0.31</td>\n      <td>0.24</td>\n      <td>0.16</td>\n      <td>0.29</td>\n    </tr>\n    <tr>\n      <th>414</th>\n      <td>4/10/2021</td>\n      <td>2021</td>\n      <td>15</td>\n      <td>0.86</td>\n      <td>0.76</td>\n      <td>0.94</td>\n      <td>3805</td>\n      <td>6</td>\n      <td>725</td>\n      <td>2</td>\n      <td>...</td>\n      <td>0</td>\n      <td>1</td>\n      <td>1</td>\n      <td>1</td>\n      <td>1</td>\n      <td>0.1</td>\n      <td>0.31</td>\n      <td>0.24</td>\n      <td>0.16</td>\n      <td>0.29</td>\n    </tr>\n    <tr>\n      <th>415</th>\n      <td>4/11/2021</td>\n      <td>2021</td>\n      <td>16</td>\n      <td>0.86</td>\n      <td>0.76</td>\n      <td>0.94</td>\n      <td>3809</td>\n      <td>4</td>\n      <td>726</td>\n      <td>1</td>\n      <td>...</td>\n      <td>114798</td>\n      <td>1</td>\n      <td>1</td>\n      <td>1</td>\n      <td>1</td>\n      <td>0.1</td>\n      <td>0.31</td>\n      <td>0.24</td>\n      <td>0.16</td>\n      <td>0.29</td>\n    </tr>\n  </tbody>\n</table>\n<p>416 rows × 28 columns</p>\n</div>"
     },
     "metadata": {},
     "execution_count": 10
    }
   ],
   "source": [
    "import pandas as pd\n",
    "df = pd.read_csv('data/fhi_data_daily.csv')\n",
    "df"
   ]
  },
  {
   "cell_type": "code",
   "execution_count": 11,
   "metadata": {},
   "outputs": [
    {
     "output_type": "execute_result",
     "data": {
      "text/plain": [
       "array([0.31, 0.5 , 2.  ])"
      ]
     },
     "metadata": {},
     "execution_count": 11
    }
   ],
   "source": [
    "df.w_c1.unique()"
   ]
  },
  {
   "cell_type": "code",
   "execution_count": 12,
   "metadata": {},
   "outputs": [],
   "source": [
    "mapping = {0.31: 0.5, 0.5: 0.1, 2.0: 1.0}\n",
    "df.w_c1 = df.w_c1.map(mapping)"
   ]
  }
 ]
}