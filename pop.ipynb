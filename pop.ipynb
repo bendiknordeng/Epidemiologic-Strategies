{
 "metadata": {
  "language_info": {
   "codemirror_mode": {
    "name": "ipython",
    "version": 3
   },
   "file_extension": ".py",
   "mimetype": "text/x-python",
   "name": "python",
   "nbconvert_exporter": "python",
   "pygments_lexer": "ipython3",
   "version": "3.8.0"
  },
  "orig_nbformat": 2,
  "kernelspec": {
   "name": "python380jvsc74a57bd0a27ded30c4e4b14185924a683e747b76bdd4cf7542fb7281cb88661d123cb6fe",
   "display_name": "Python 3.8.0 64-bit ('epidemics': conda)"
  }
 },
 "nbformat": 4,
 "nbformat_minor": 2,
 "cells": [
  {
   "cell_type": "code",
   "execution_count": 2,
   "metadata": {},
   "outputs": [],
   "source": [
    "import pandas as pd\n",
    "import numpy as np\n",
    "from covid import utils\n",
    "\n",
    "paths = utils.create_named_tuple('filepaths.txt')\n",
    "config = utils.create_named_tuple(paths.config)\n",
    "labels = utils.generate_labels_from_bins(config.age_bins)\n",
    "bins = config.age_bins\n",
    "population = pd.read_csv('data/temp_pop.csv')"
   ]
  },
  {
   "cell_type": "code",
   "execution_count": 2,
   "metadata": {},
   "outputs": [
    {
     "output_type": "execute_result",
     "data": {
      "text/plain": [
       "     region_id        region    0-6   7-15  16-20   21-40   41-66    67+  \\\n",
       "0          301          OSLO  55837  64036  33296  257985  207877  77749   \n",
       "1         1101     EIGERSUND   1132   1719    955    3642    4898   2439   \n",
       "2         1103     STAVANGER  11735  16218   8511   41917   47283  18451   \n",
       "3         1106     HAUGESUND   2636   3996   2314    9836   12823   5707   \n",
       "4         1108       SANDNES   7589  10110   5042   22845   25653   9206   \n",
       "..         ...           ...    ...    ...    ...     ...     ...    ...   \n",
       "351       5440      BERLEVÅG     47     61     46     219     341    214   \n",
       "352       5441          TANA    166    232    154     624    1052    600   \n",
       "353       5442       NESSEBY     33     86     40     197     295    229   \n",
       "354       5443     BÅTSFJORD    150    197    124     622     761    346   \n",
       "355       5444  SØR-VARANGER    639    967    627    2707    3499   1662   \n",
       "\n",
       "     population  \n",
       "0        696780  \n",
       "1         14785  \n",
       "2        144115  \n",
       "3         37312  \n",
       "4         80445  \n",
       "..          ...  \n",
       "351         928  \n",
       "352        2828  \n",
       "353         880  \n",
       "354        2200  \n",
       "355       10101  \n",
       "\n",
       "[356 rows x 9 columns]"
      ],
      "text/html": "<div>\n<style scoped>\n    .dataframe tbody tr th:only-of-type {\n        vertical-align: middle;\n    }\n\n    .dataframe tbody tr th {\n        vertical-align: top;\n    }\n\n    .dataframe thead th {\n        text-align: right;\n    }\n</style>\n<table border=\"1\" class=\"dataframe\">\n  <thead>\n    <tr style=\"text-align: right;\">\n      <th></th>\n      <th>region_id</th>\n      <th>region</th>\n      <th>0-6</th>\n      <th>7-15</th>\n      <th>16-20</th>\n      <th>21-40</th>\n      <th>41-66</th>\n      <th>67+</th>\n      <th>population</th>\n    </tr>\n  </thead>\n  <tbody>\n    <tr>\n      <th>0</th>\n      <td>301</td>\n      <td>OSLO</td>\n      <td>55837</td>\n      <td>64036</td>\n      <td>33296</td>\n      <td>257985</td>\n      <td>207877</td>\n      <td>77749</td>\n      <td>696780</td>\n    </tr>\n    <tr>\n      <th>1</th>\n      <td>1101</td>\n      <td>EIGERSUND</td>\n      <td>1132</td>\n      <td>1719</td>\n      <td>955</td>\n      <td>3642</td>\n      <td>4898</td>\n      <td>2439</td>\n      <td>14785</td>\n    </tr>\n    <tr>\n      <th>2</th>\n      <td>1103</td>\n      <td>STAVANGER</td>\n      <td>11735</td>\n      <td>16218</td>\n      <td>8511</td>\n      <td>41917</td>\n      <td>47283</td>\n      <td>18451</td>\n      <td>144115</td>\n    </tr>\n    <tr>\n      <th>3</th>\n      <td>1106</td>\n      <td>HAUGESUND</td>\n      <td>2636</td>\n      <td>3996</td>\n      <td>2314</td>\n      <td>9836</td>\n      <td>12823</td>\n      <td>5707</td>\n      <td>37312</td>\n    </tr>\n    <tr>\n      <th>4</th>\n      <td>1108</td>\n      <td>SANDNES</td>\n      <td>7589</td>\n      <td>10110</td>\n      <td>5042</td>\n      <td>22845</td>\n      <td>25653</td>\n      <td>9206</td>\n      <td>80445</td>\n    </tr>\n    <tr>\n      <th>...</th>\n      <td>...</td>\n      <td>...</td>\n      <td>...</td>\n      <td>...</td>\n      <td>...</td>\n      <td>...</td>\n      <td>...</td>\n      <td>...</td>\n      <td>...</td>\n    </tr>\n    <tr>\n      <th>351</th>\n      <td>5440</td>\n      <td>BERLEVÅG</td>\n      <td>47</td>\n      <td>61</td>\n      <td>46</td>\n      <td>219</td>\n      <td>341</td>\n      <td>214</td>\n      <td>928</td>\n    </tr>\n    <tr>\n      <th>352</th>\n      <td>5441</td>\n      <td>TANA</td>\n      <td>166</td>\n      <td>232</td>\n      <td>154</td>\n      <td>624</td>\n      <td>1052</td>\n      <td>600</td>\n      <td>2828</td>\n    </tr>\n    <tr>\n      <th>353</th>\n      <td>5442</td>\n      <td>NESSEBY</td>\n      <td>33</td>\n      <td>86</td>\n      <td>40</td>\n      <td>197</td>\n      <td>295</td>\n      <td>229</td>\n      <td>880</td>\n    </tr>\n    <tr>\n      <th>354</th>\n      <td>5443</td>\n      <td>BÅTSFJORD</td>\n      <td>150</td>\n      <td>197</td>\n      <td>124</td>\n      <td>622</td>\n      <td>761</td>\n      <td>346</td>\n      <td>2200</td>\n    </tr>\n    <tr>\n      <th>355</th>\n      <td>5444</td>\n      <td>SØR-VARANGER</td>\n      <td>639</td>\n      <td>967</td>\n      <td>627</td>\n      <td>2707</td>\n      <td>3499</td>\n      <td>1662</td>\n      <td>10101</td>\n    </tr>\n  </tbody>\n</table>\n<p>356 rows × 9 columns</p>\n</div>"
     },
     "metadata": {},
     "execution_count": 2
    }
   ],
   "source": [
    "population"
   ]
  },
  {
   "cell_type": "code",
   "execution_count": 16,
   "metadata": {},
   "outputs": [],
   "source": [
    "df = pd.read_csv('data/contact_data.csv')\n",
    "df.contact_age_0 = pd.cut(df['contact_age_0'], bins=bins+[110], labels=labels, include_lowest=True)\n",
    "df.contact_age_1 = pd.cut(df['contact_age_1'], bins=bins+[110], labels=labels, include_lowest=True)\n",
    "df_mat = pd.DataFrame(df[df.columns[:-2]].groupby(['contact_age_0', 'contact_age_1']).mean()).reset_index()\n",
    "df_mat['total'] = (df_mat.home + df_mat.work + df_mat.school + df_mat.transport + df_mat.leisure)/5\n",
    "N = population[population.columns[2:-1]].sum().to_numpy()\n",
    "matrices = []\n",
    "# for col in ['home', 'work', 'school', 'transport', 'leisure']:\n",
    "#     matrix = pd.pivot_table(df_mat, values=col, index='contact_age_0', columns='contact_age_1').to_numpy()\n",
    "#     symmetric_matrix = np.zeros((matrix.shape))\n",
    "#     for i in range(len(N)):\n",
    "#         for j in range(len(N)):\n",
    "#             symmetric_matrix[i][j] = 1/(N[i]+N[j]) * (matrix[i][j] * N[i] + matrix[j][i] * N[j])\n",
    "#     matrices.append(symmetric_matrix)"
   ]
  },
  {
   "cell_type": "code",
   "execution_count": 17,
   "metadata": {},
   "outputs": [
    {
     "output_type": "execute_result",
     "data": {
      "text/plain": [
       "   contact_age_0 contact_age_1      home      work    school  transport  \\\n",
       "0            0-6           0-6  0.177576  0.000626  0.618854   0.045099   \n",
       "1            0-6          7-15  0.498718  0.001282  0.189744   0.079487   \n",
       "2            0-6         16-20  0.366667  0.206667  0.093333   0.026667   \n",
       "3            0-6         21-40  0.574581  0.146880  0.111872   0.078387   \n",
       "4            0-6         41-66  0.430010  0.131923  0.277946   0.040282   \n",
       "5            0-6           67+  0.705128  0.012821  0.000000   0.012821   \n",
       "6           7-15           0-6  0.451693  0.001652  0.216350   0.067713   \n",
       "7           7-15          7-15  0.108252  0.002700  0.686129   0.066909   \n",
       "8           7-15         16-20  0.320812  0.021320  0.298477   0.094416   \n",
       "9           7-15         21-40  0.468691  0.194813  0.149905   0.059456   \n",
       "10          7-15         41-66  0.457671  0.190867  0.218061   0.064649   \n",
       "11          7-15           67+  0.683099  0.014085  0.049296   0.014085   \n",
       "12         16-20           0-6  0.566116  0.000000  0.099174   0.086777   \n",
       "13         16-20          7-15  0.267831  0.004367  0.356623   0.081514   \n",
       "14         16-20         16-20  0.082624  0.028233  0.577330   0.080340   \n",
       "15         16-20         21-40  0.233888  0.319334  0.086894   0.051412   \n",
       "16         16-20         41-66  0.391202  0.209971  0.188856   0.053959   \n",
       "17         16-20           67+  0.438095  0.057143  0.009524   0.019048   \n",
       "18         21-40           0-6  0.546086  0.004835  0.144455   0.075854   \n",
       "19         21-40          7-15  0.426729  0.004982  0.236811   0.068875   \n",
       "20         21-40         16-20  0.192960  0.114504  0.178541   0.067854   \n",
       "21         21-40         21-40  0.178066  0.366020  0.070029   0.047533   \n",
       "22         21-40         41-66  0.208934  0.372755  0.026047   0.040568   \n",
       "23         21-40           67+  0.351767  0.086022  0.007680   0.030722   \n",
       "24         41-66           0-6  0.438878  0.012024  0.124248   0.057114   \n",
       "25         41-66          7-15  0.474359  0.004579  0.228632   0.065934   \n",
       "26         41-66         16-20  0.479853  0.092098  0.171638   0.067504   \n",
       "27         41-66         21-40  0.213563  0.425640  0.029149   0.042534   \n",
       "28         41-66         41-66  0.234271  0.354858  0.024904   0.045876   \n",
       "29         41-66           67+  0.342061  0.044764  0.009291   0.036318   \n",
       "30           67+           0-6  0.453521  0.002817  0.025352   0.033803   \n",
       "31           67+          7-15  0.495868  0.004132  0.020661   0.057851   \n",
       "32           67+         16-20  0.401130  0.141243  0.011299   0.033898   \n",
       "33           67+         21-40  0.311688  0.259740  0.015348   0.028335   \n",
       "34           67+         41-66  0.293214  0.187221  0.007429   0.037642   \n",
       "35           67+           67+  0.404762  0.021008  0.007003   0.026611   \n",
       "\n",
       "     leisure     total  \n",
       "0   0.247416  0.217914  \n",
       "1   0.348718  0.223590  \n",
       "2   0.353333  0.209333  \n",
       "3   0.255708  0.233486  \n",
       "4   0.228600  0.221752  \n",
       "5   0.346154  0.215385  \n",
       "6   0.374897  0.222461  \n",
       "7   0.247638  0.222325  \n",
       "8   0.363452  0.219695  \n",
       "9   0.263757  0.227324  \n",
       "10  0.223704  0.230990  \n",
       "11  0.316901  0.215493  \n",
       "12  0.330579  0.216529  \n",
       "13  0.385735  0.219214  \n",
       "14  0.333818  0.220469  \n",
       "15  0.385228  0.215351  \n",
       "16  0.229912  0.214780  \n",
       "17  0.514286  0.207619  \n",
       "18  0.361439  0.226534  \n",
       "19  0.342321  0.215944  \n",
       "20  0.485157  0.207803  \n",
       "21  0.397859  0.211901  \n",
       "22  0.389936  0.207648  \n",
       "23  0.569892  0.209217  \n",
       "24  0.455912  0.217635  \n",
       "25  0.302808  0.215263  \n",
       "26  0.248561  0.211931  \n",
       "27  0.328376  0.207852  \n",
       "28  0.387539  0.209490  \n",
       "29  0.607264  0.207939  \n",
       "30  0.546479  0.212394  \n",
       "31  0.462810  0.208264  \n",
       "32  0.451977  0.207910  \n",
       "33  0.410862  0.205195  \n",
       "34  0.513125  0.207727  \n",
       "35  0.588235  0.209524  "
      ],
      "text/html": "<div>\n<style scoped>\n    .dataframe tbody tr th:only-of-type {\n        vertical-align: middle;\n    }\n\n    .dataframe tbody tr th {\n        vertical-align: top;\n    }\n\n    .dataframe thead th {\n        text-align: right;\n    }\n</style>\n<table border=\"1\" class=\"dataframe\">\n  <thead>\n    <tr style=\"text-align: right;\">\n      <th></th>\n      <th>contact_age_0</th>\n      <th>contact_age_1</th>\n      <th>home</th>\n      <th>work</th>\n      <th>school</th>\n      <th>transport</th>\n      <th>leisure</th>\n      <th>total</th>\n    </tr>\n  </thead>\n  <tbody>\n    <tr>\n      <th>0</th>\n      <td>0-6</td>\n      <td>0-6</td>\n      <td>0.177576</td>\n      <td>0.000626</td>\n      <td>0.618854</td>\n      <td>0.045099</td>\n      <td>0.247416</td>\n      <td>0.217914</td>\n    </tr>\n    <tr>\n      <th>1</th>\n      <td>0-6</td>\n      <td>7-15</td>\n      <td>0.498718</td>\n      <td>0.001282</td>\n      <td>0.189744</td>\n      <td>0.079487</td>\n      <td>0.348718</td>\n      <td>0.223590</td>\n    </tr>\n    <tr>\n      <th>2</th>\n      <td>0-6</td>\n      <td>16-20</td>\n      <td>0.366667</td>\n      <td>0.206667</td>\n      <td>0.093333</td>\n      <td>0.026667</td>\n      <td>0.353333</td>\n      <td>0.209333</td>\n    </tr>\n    <tr>\n      <th>3</th>\n      <td>0-6</td>\n      <td>21-40</td>\n      <td>0.574581</td>\n      <td>0.146880</td>\n      <td>0.111872</td>\n      <td>0.078387</td>\n      <td>0.255708</td>\n      <td>0.233486</td>\n    </tr>\n    <tr>\n      <th>4</th>\n      <td>0-6</td>\n      <td>41-66</td>\n      <td>0.430010</td>\n      <td>0.131923</td>\n      <td>0.277946</td>\n      <td>0.040282</td>\n      <td>0.228600</td>\n      <td>0.221752</td>\n    </tr>\n    <tr>\n      <th>5</th>\n      <td>0-6</td>\n      <td>67+</td>\n      <td>0.705128</td>\n      <td>0.012821</td>\n      <td>0.000000</td>\n      <td>0.012821</td>\n      <td>0.346154</td>\n      <td>0.215385</td>\n    </tr>\n    <tr>\n      <th>6</th>\n      <td>7-15</td>\n      <td>0-6</td>\n      <td>0.451693</td>\n      <td>0.001652</td>\n      <td>0.216350</td>\n      <td>0.067713</td>\n      <td>0.374897</td>\n      <td>0.222461</td>\n    </tr>\n    <tr>\n      <th>7</th>\n      <td>7-15</td>\n      <td>7-15</td>\n      <td>0.108252</td>\n      <td>0.002700</td>\n      <td>0.686129</td>\n      <td>0.066909</td>\n      <td>0.247638</td>\n      <td>0.222325</td>\n    </tr>\n    <tr>\n      <th>8</th>\n      <td>7-15</td>\n      <td>16-20</td>\n      <td>0.320812</td>\n      <td>0.021320</td>\n      <td>0.298477</td>\n      <td>0.094416</td>\n      <td>0.363452</td>\n      <td>0.219695</td>\n    </tr>\n    <tr>\n      <th>9</th>\n      <td>7-15</td>\n      <td>21-40</td>\n      <td>0.468691</td>\n      <td>0.194813</td>\n      <td>0.149905</td>\n      <td>0.059456</td>\n      <td>0.263757</td>\n      <td>0.227324</td>\n    </tr>\n    <tr>\n      <th>10</th>\n      <td>7-15</td>\n      <td>41-66</td>\n      <td>0.457671</td>\n      <td>0.190867</td>\n      <td>0.218061</td>\n      <td>0.064649</td>\n      <td>0.223704</td>\n      <td>0.230990</td>\n    </tr>\n    <tr>\n      <th>11</th>\n      <td>7-15</td>\n      <td>67+</td>\n      <td>0.683099</td>\n      <td>0.014085</td>\n      <td>0.049296</td>\n      <td>0.014085</td>\n      <td>0.316901</td>\n      <td>0.215493</td>\n    </tr>\n    <tr>\n      <th>12</th>\n      <td>16-20</td>\n      <td>0-6</td>\n      <td>0.566116</td>\n      <td>0.000000</td>\n      <td>0.099174</td>\n      <td>0.086777</td>\n      <td>0.330579</td>\n      <td>0.216529</td>\n    </tr>\n    <tr>\n      <th>13</th>\n      <td>16-20</td>\n      <td>7-15</td>\n      <td>0.267831</td>\n      <td>0.004367</td>\n      <td>0.356623</td>\n      <td>0.081514</td>\n      <td>0.385735</td>\n      <td>0.219214</td>\n    </tr>\n    <tr>\n      <th>14</th>\n      <td>16-20</td>\n      <td>16-20</td>\n      <td>0.082624</td>\n      <td>0.028233</td>\n      <td>0.577330</td>\n      <td>0.080340</td>\n      <td>0.333818</td>\n      <td>0.220469</td>\n    </tr>\n    <tr>\n      <th>15</th>\n      <td>16-20</td>\n      <td>21-40</td>\n      <td>0.233888</td>\n      <td>0.319334</td>\n      <td>0.086894</td>\n      <td>0.051412</td>\n      <td>0.385228</td>\n      <td>0.215351</td>\n    </tr>\n    <tr>\n      <th>16</th>\n      <td>16-20</td>\n      <td>41-66</td>\n      <td>0.391202</td>\n      <td>0.209971</td>\n      <td>0.188856</td>\n      <td>0.053959</td>\n      <td>0.229912</td>\n      <td>0.214780</td>\n    </tr>\n    <tr>\n      <th>17</th>\n      <td>16-20</td>\n      <td>67+</td>\n      <td>0.438095</td>\n      <td>0.057143</td>\n      <td>0.009524</td>\n      <td>0.019048</td>\n      <td>0.514286</td>\n      <td>0.207619</td>\n    </tr>\n    <tr>\n      <th>18</th>\n      <td>21-40</td>\n      <td>0-6</td>\n      <td>0.546086</td>\n      <td>0.004835</td>\n      <td>0.144455</td>\n      <td>0.075854</td>\n      <td>0.361439</td>\n      <td>0.226534</td>\n    </tr>\n    <tr>\n      <th>19</th>\n      <td>21-40</td>\n      <td>7-15</td>\n      <td>0.426729</td>\n      <td>0.004982</td>\n      <td>0.236811</td>\n      <td>0.068875</td>\n      <td>0.342321</td>\n      <td>0.215944</td>\n    </tr>\n    <tr>\n      <th>20</th>\n      <td>21-40</td>\n      <td>16-20</td>\n      <td>0.192960</td>\n      <td>0.114504</td>\n      <td>0.178541</td>\n      <td>0.067854</td>\n      <td>0.485157</td>\n      <td>0.207803</td>\n    </tr>\n    <tr>\n      <th>21</th>\n      <td>21-40</td>\n      <td>21-40</td>\n      <td>0.178066</td>\n      <td>0.366020</td>\n      <td>0.070029</td>\n      <td>0.047533</td>\n      <td>0.397859</td>\n      <td>0.211901</td>\n    </tr>\n    <tr>\n      <th>22</th>\n      <td>21-40</td>\n      <td>41-66</td>\n      <td>0.208934</td>\n      <td>0.372755</td>\n      <td>0.026047</td>\n      <td>0.040568</td>\n      <td>0.389936</td>\n      <td>0.207648</td>\n    </tr>\n    <tr>\n      <th>23</th>\n      <td>21-40</td>\n      <td>67+</td>\n      <td>0.351767</td>\n      <td>0.086022</td>\n      <td>0.007680</td>\n      <td>0.030722</td>\n      <td>0.569892</td>\n      <td>0.209217</td>\n    </tr>\n    <tr>\n      <th>24</th>\n      <td>41-66</td>\n      <td>0-6</td>\n      <td>0.438878</td>\n      <td>0.012024</td>\n      <td>0.124248</td>\n      <td>0.057114</td>\n      <td>0.455912</td>\n      <td>0.217635</td>\n    </tr>\n    <tr>\n      <th>25</th>\n      <td>41-66</td>\n      <td>7-15</td>\n      <td>0.474359</td>\n      <td>0.004579</td>\n      <td>0.228632</td>\n      <td>0.065934</td>\n      <td>0.302808</td>\n      <td>0.215263</td>\n    </tr>\n    <tr>\n      <th>26</th>\n      <td>41-66</td>\n      <td>16-20</td>\n      <td>0.479853</td>\n      <td>0.092098</td>\n      <td>0.171638</td>\n      <td>0.067504</td>\n      <td>0.248561</td>\n      <td>0.211931</td>\n    </tr>\n    <tr>\n      <th>27</th>\n      <td>41-66</td>\n      <td>21-40</td>\n      <td>0.213563</td>\n      <td>0.425640</td>\n      <td>0.029149</td>\n      <td>0.042534</td>\n      <td>0.328376</td>\n      <td>0.207852</td>\n    </tr>\n    <tr>\n      <th>28</th>\n      <td>41-66</td>\n      <td>41-66</td>\n      <td>0.234271</td>\n      <td>0.354858</td>\n      <td>0.024904</td>\n      <td>0.045876</td>\n      <td>0.387539</td>\n      <td>0.209490</td>\n    </tr>\n    <tr>\n      <th>29</th>\n      <td>41-66</td>\n      <td>67+</td>\n      <td>0.342061</td>\n      <td>0.044764</td>\n      <td>0.009291</td>\n      <td>0.036318</td>\n      <td>0.607264</td>\n      <td>0.207939</td>\n    </tr>\n    <tr>\n      <th>30</th>\n      <td>67+</td>\n      <td>0-6</td>\n      <td>0.453521</td>\n      <td>0.002817</td>\n      <td>0.025352</td>\n      <td>0.033803</td>\n      <td>0.546479</td>\n      <td>0.212394</td>\n    </tr>\n    <tr>\n      <th>31</th>\n      <td>67+</td>\n      <td>7-15</td>\n      <td>0.495868</td>\n      <td>0.004132</td>\n      <td>0.020661</td>\n      <td>0.057851</td>\n      <td>0.462810</td>\n      <td>0.208264</td>\n    </tr>\n    <tr>\n      <th>32</th>\n      <td>67+</td>\n      <td>16-20</td>\n      <td>0.401130</td>\n      <td>0.141243</td>\n      <td>0.011299</td>\n      <td>0.033898</td>\n      <td>0.451977</td>\n      <td>0.207910</td>\n    </tr>\n    <tr>\n      <th>33</th>\n      <td>67+</td>\n      <td>21-40</td>\n      <td>0.311688</td>\n      <td>0.259740</td>\n      <td>0.015348</td>\n      <td>0.028335</td>\n      <td>0.410862</td>\n      <td>0.205195</td>\n    </tr>\n    <tr>\n      <th>34</th>\n      <td>67+</td>\n      <td>41-66</td>\n      <td>0.293214</td>\n      <td>0.187221</td>\n      <td>0.007429</td>\n      <td>0.037642</td>\n      <td>0.513125</td>\n      <td>0.207727</td>\n    </tr>\n    <tr>\n      <th>35</th>\n      <td>67+</td>\n      <td>67+</td>\n      <td>0.404762</td>\n      <td>0.021008</td>\n      <td>0.007003</td>\n      <td>0.026611</td>\n      <td>0.588235</td>\n      <td>0.209524</td>\n    </tr>\n  </tbody>\n</table>\n</div>"
     },
     "metadata": {},
     "execution_count": 17
    }
   ],
   "source": [
    "df_mat"
   ]
  },
  {
   "cell_type": "code",
   "execution_count": 18,
   "metadata": {},
   "outputs": [
    {
     "output_type": "stream",
     "name": "stdout",
     "text": [
      "contact_age_1       0-6      7-15     16-20     21-40     41-66       67+\ncontact_age_0                                                            \n0-6            0.217914  0.223590  0.209333  0.233486  0.221752  0.215385\n7-15           0.222461  0.222325  0.219695  0.227324  0.230990  0.215493\n16-20          0.216529  0.219214  0.220469  0.215351  0.214780  0.207619\n21-40          0.226534  0.215944  0.207803  0.211901  0.207648  0.209217\n41-66          0.217635  0.215263  0.211931  0.207852  0.209490  0.207939\n67+            0.212394  0.208264  0.207910  0.205195  0.207727  0.209524\n"
     ]
    }
   ],
   "source": [
    "matrix = pd.pivot_table(df_mat, values='total', index='contact_age_0', columns='contact_age_1')\n",
    "print(matrix)"
   ]
  }
 ]
}