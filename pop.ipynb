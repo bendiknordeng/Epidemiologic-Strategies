{
 "metadata": {
  "language_info": {
   "codemirror_mode": {
    "name": "ipython",
    "version": 3
   },
   "file_extension": ".py",
   "mimetype": "text/x-python",
   "name": "python",
   "nbconvert_exporter": "python",
   "pygments_lexer": "ipython3",
   "version": "3.8.0-final"
  },
  "orig_nbformat": 2,
  "kernelspec": {
   "name": "python3",
   "display_name": "Python 3.8.0 64-bit ('epidemics': conda)",
   "metadata": {
    "interpreter": {
     "hash": "a27ded30c4e4b14185924a683e747b76bdd4cf7542fb7281cb88661d123cb6fe"
    }
   }
  }
 },
 "nbformat": 4,
 "nbformat_minor": 2,
 "cells": [
  {
   "cell_type": "code",
   "execution_count": 24,
   "metadata": {},
   "outputs": [
    {
     "output_type": "execute_result",
     "data": {
      "text/plain": [
       "   region_id     region    0-5   6-15  16-19   20-66    67+  population\n",
       "0        301       OSLO  48242  71631  25672  473486  77979      697010\n",
       "1       1101  EIGERSUND    957   1894    739    8756   2441       14787\n",
       "2       1103  STAVANGER  10034  17919   6740   90971  18483      144147\n",
       "3       1106  HAUGESUND   2252   4380   1831   23142   5718       37323\n",
       "4       1108    SANDNES   6462  11237   4057   49483   9211       80450"
      ],
      "text/html": "<div>\n<style scoped>\n    .dataframe tbody tr th:only-of-type {\n        vertical-align: middle;\n    }\n\n    .dataframe tbody tr th {\n        vertical-align: top;\n    }\n\n    .dataframe thead th {\n        text-align: right;\n    }\n</style>\n<table border=\"1\" class=\"dataframe\">\n  <thead>\n    <tr style=\"text-align: right;\">\n      <th></th>\n      <th>region_id</th>\n      <th>region</th>\n      <th>0-5</th>\n      <th>6-15</th>\n      <th>16-19</th>\n      <th>20-66</th>\n      <th>67+</th>\n      <th>population</th>\n    </tr>\n  </thead>\n  <tbody>\n    <tr>\n      <th>0</th>\n      <td>301</td>\n      <td>OSLO</td>\n      <td>48242</td>\n      <td>71631</td>\n      <td>25672</td>\n      <td>473486</td>\n      <td>77979</td>\n      <td>697010</td>\n    </tr>\n    <tr>\n      <th>1</th>\n      <td>1101</td>\n      <td>EIGERSUND</td>\n      <td>957</td>\n      <td>1894</td>\n      <td>739</td>\n      <td>8756</td>\n      <td>2441</td>\n      <td>14787</td>\n    </tr>\n    <tr>\n      <th>2</th>\n      <td>1103</td>\n      <td>STAVANGER</td>\n      <td>10034</td>\n      <td>17919</td>\n      <td>6740</td>\n      <td>90971</td>\n      <td>18483</td>\n      <td>144147</td>\n    </tr>\n    <tr>\n      <th>3</th>\n      <td>1106</td>\n      <td>HAUGESUND</td>\n      <td>2252</td>\n      <td>4380</td>\n      <td>1831</td>\n      <td>23142</td>\n      <td>5718</td>\n      <td>37323</td>\n    </tr>\n    <tr>\n      <th>4</th>\n      <td>1108</td>\n      <td>SANDNES</td>\n      <td>6462</td>\n      <td>11237</td>\n      <td>4057</td>\n      <td>49483</td>\n      <td>9211</td>\n      <td>80450</td>\n    </tr>\n  </tbody>\n</table>\n</div>"
     },
     "metadata": {},
     "execution_count": 24
    }
   ],
   "source": [
    "import pandas as pd\n",
    "import numpy as np\n",
    "\n",
    "age_divided_pop = pd.read_csv('data/municipalities/age_divided_population.csv', delimiter=\";\")\n",
    "column_names = [\"region\", \"0-5\", \"6-15\", \"16-19\", \"20-66\", \"67+\"]\n",
    "age_divided_pop.columns = column_names\n",
    "age_divided_pop['region_id'] = age_divided_pop.region.apply(lambda x: x.split(\" \")[0])\n",
    "age_divided_pop.region_id = age_divided_pop.region_id.apply(lambda x: x.split(\"-\")[1])\n",
    "age_divided_pop.drop(columns=[\"region\"], inplace=True)\n",
    "region_names_id = pd.read_csv(\"data/municipalities/Kommunenummer_navn_2020.csv\", delimiter=\",\").drop_duplicates()\n",
    "age_divided_pop.region_id = age_divided_pop.region_id.astype(\"int64\")\n",
    "df = pd.merge(region_names_id, age_divided_pop, on=\"region_id\", sort=True)\n",
    "df[\"population\"] = df[\"0-5\"] + df[\"6-15\"] + df[\"16-19\"] + df[\"20-66\"] + df[\"67+\"]\n",
    "df.head()"
   ]
  },
  {
   "cell_type": "code",
   "execution_count": 38,
   "metadata": {},
   "outputs": [],
   "source": [
    "pop = df[df.columns[2:7]].to_numpy()"
   ]
  },
  {
   "cell_type": "code",
   "execution_count": 40,
   "metadata": {},
   "outputs": [
    {
     "output_type": "execute_result",
     "data": {
      "text/plain": [
       "5"
      ]
     },
     "metadata": {},
     "execution_count": 40
    }
   ],
   "source": [
    "pop.shape[1]"
   ]
  },
  {
   "cell_type": "code",
   "execution_count": 80,
   "metadata": {},
   "outputs": [],
   "source": [
    "c = np.array([[[0.005, 0.02, 0.01, 0.02, 0.08, 0.04, 0.01],\n",
    "    [0.02,  0.05, 0.04, 0.03, 0.2,  0.1,  0.05],\n",
    "    [0.01,  0.04, 0.04, 0.02, 0.1,  0.1,  0.05],\n",
    "    [0.02,  0.03, 0.02, 0.02, 0.1,  0.09, 0.03],\n",
    "    [0.08,  0.2,  0.1,  0.1,  0.5,  0.4,  0.2 ],\n",
    "    [0.04,  0.1,  0.1,  0.09, 0.4,  0.3,  0.1 ],\n",
    "    [0.01,  0.05, 0.05, 0.03, 0.2,  0.1,  0.1 ]],\n",
    "    [[0.4,   0,    0,     0,   0,    0,    0],\n",
    "    [0,     0.9,  0.09,  0,   0,    0,    0],\n",
    "    [0,     0.09, 0.5,   0,   0,    0,    0],\n",
    "    [0,     0,    0,     1,   0,    0,    0],\n",
    "    [0,     0,    0,     0,   0,    0,    0],\n",
    "    [0,     0,    0,     0,   0,    0,    0],\n",
    "    [0,     0,    0,     0,   0,    0,    0]],\n",
    "    [[0,     0,    0,     0,   0,    0,    0],\n",
    "    [0,     0,    0,     0,   0,    0,    0],\n",
    "    [0,     0,    0.1,   0.2, 0.2,  0.06, 0],\n",
    "    [0,     0,    0.2,   0.4, 0.4,  0.1,  0],\n",
    "    [0,     0,    0.2,   0.4, 0.5,  0.1,  0],\n",
    "    [0,     0,    0.06,  0.1, 0.1,  0.03, 0],\n",
    "    [0,     0,    0,     0,   0,    0,    0]],\n",
    "    [[0.06,  0.08, 0.1,   0.1,  0.1,  0.1,  0.03],\n",
    "    [0.08,  0.1,  0.1,   0.1,  0.2,  0.1,  0.04],\n",
    "    [0.1,   0.1,  0.2,   0.2,  0.2,  0.2,  0.05],\n",
    "    [0.1,   0.1,  0.2,   0.2,  0.2,  0.2,  0.05],\n",
    "    [0.1,   0.2,  0.2,   0.2,  0.3,  0.2,  0.07],\n",
    "    [0.1,   0.1,  0.2,   0.2,  0.2,  0.2,  0.05],\n",
    "    [0.03,  0.04, 0.05,  0.05, 0.07, 0.05, 0.01]]])"
   ]
  },
  {
   "cell_type": "code",
   "execution_count": 81,
   "metadata": {},
   "outputs": [],
   "source": [
    "temp = np.zeros(shape=(4,7,7))\n",
    "for i, mat in enumerate(c):\n",
    "    for j, row in enumerate(mat):\n",
    "        for k, col in enumerate(row):\n",
    "            if k == 2 or k == 4:\n",
    "                temp[i][j][k] = (c[i][j][k] + c[i][j][k+1]) / 2\n",
    "            elif j == 2 or j == 4:\n",
    "                temp[i][j][k] = (c[i][j][k] + c[i][j+1][k]) / 2\n",
    "            else:\n",
    "                temp[i][j][k] = col\n",
    "final = []\n",
    "for mat in temp:\n",
    "    t_mat = np.delete(mat, 5, 0)\n",
    "    t_mat = np.delete(t_mat, 5, 1)\n",
    "    t_mat = np.delete(t_mat, 3, 0)\n",
    "    t_mat = np.delete(t_mat, 3, 1)\n",
    "    final.append(t_mat)"
   ]
  },
  {
   "cell_type": "code",
   "execution_count": 85,
   "metadata": {},
   "outputs": [
    {
     "output_type": "execute_result",
     "data": {
      "text/plain": [
       "[array([[0.005, 0.02 , 0.015, 0.06 , 0.01 ],\n",
       "        [0.02 , 0.05 , 0.035, 0.15 , 0.05 ],\n",
       "        [0.015, 0.035, 0.03 , 0.1  , 0.04 ],\n",
       "        [0.06 , 0.15 , 0.1  , 0.45 , 0.15 ],\n",
       "        [0.01 , 0.05 , 0.04 , 0.15 , 0.1  ]]),\n",
       " array([[0.4  , 0.   , 0.   , 0.   , 0.   ],\n",
       "        [0.   , 0.9  , 0.045, 0.   , 0.   ],\n",
       "        [0.   , 0.045, 0.25 , 0.   , 0.   ],\n",
       "        [0.   , 0.   , 0.   , 0.   , 0.   ],\n",
       "        [0.   , 0.   , 0.   , 0.   , 0.   ]]),\n",
       " array([[0.  , 0.  , 0.  , 0.  , 0.  ],\n",
       "        [0.  , 0.  , 0.  , 0.  , 0.  ],\n",
       "        [0.  , 0.  , 0.15, 0.13, 0.  ],\n",
       "        [0.  , 0.  , 0.3 , 0.3 , 0.  ],\n",
       "        [0.  , 0.  , 0.  , 0.  , 0.  ]]),\n",
       " array([[0.06, 0.08, 0.1 , 0.1 , 0.03],\n",
       "        [0.08, 0.1 , 0.1 , 0.15, 0.04],\n",
       "        [0.1 , 0.1 , 0.2 , 0.2 , 0.05],\n",
       "        [0.1 , 0.15, 0.2 , 0.25, 0.06],\n",
       "        [0.03, 0.04, 0.05, 0.06, 0.01]])]"
      ]
     },
     "metadata": {},
     "execution_count": 85
    }
   ],
   "source": [
    "final"
   ]
  }
 ]
}