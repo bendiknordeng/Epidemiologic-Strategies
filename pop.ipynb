{
 "metadata": {
  "language_info": {
   "codemirror_mode": {
    "name": "ipython",
    "version": 3
   },
   "file_extension": ".py",
   "mimetype": "text/x-python",
   "name": "python",
   "nbconvert_exporter": "python",
   "pygments_lexer": "ipython3",
   "version": "3.8.0"
  },
  "orig_nbformat": 2,
  "kernelspec": {
   "name": "python380jvsc74a57bd0a27ded30c4e4b14185924a683e747b76bdd4cf7542fb7281cb88661d123cb6fe",
   "display_name": "Python 3.8.0 64-bit ('epidemics': conda)"
  }
 },
 "nbformat": 4,
 "nbformat_minor": 2,
 "cells": [
  {
   "cell_type": "code",
   "execution_count": 7,
   "metadata": {},
   "outputs": [],
   "source": [
    "import pandas as pd\n",
    "import numpy as np\n",
    "from covid import utils\n",
    "\n",
    "paths = utils.create_named_tuple('filepaths.txt')\n",
    "config = utils.create_named_tuple(paths.config)\n",
    "labels = utils.generate_labels_from_bins(config.age_bins)\n",
    "bins = config.age_bins\n",
    "population = pd.read_csv('data/temp_pop.csv')"
   ]
  },
  {
   "cell_type": "code",
   "execution_count": 2,
   "metadata": {},
   "outputs": [
    {
     "output_type": "execute_result",
     "data": {
      "text/plain": [
       "     region_id        region    0-6   7-15  16-20   21-40   41-66    67+  \\\n",
       "0          301          OSLO  55837  64036  33296  257985  207877  77749   \n",
       "1         1101     EIGERSUND   1132   1719    955    3642    4898   2439   \n",
       "2         1103     STAVANGER  11735  16218   8511   41917   47283  18451   \n",
       "3         1106     HAUGESUND   2636   3996   2314    9836   12823   5707   \n",
       "4         1108       SANDNES   7589  10110   5042   22845   25653   9206   \n",
       "..         ...           ...    ...    ...    ...     ...     ...    ...   \n",
       "351       5440      BERLEVÅG     47     61     46     219     341    214   \n",
       "352       5441          TANA    166    232    154     624    1052    600   \n",
       "353       5442       NESSEBY     33     86     40     197     295    229   \n",
       "354       5443     BÅTSFJORD    150    197    124     622     761    346   \n",
       "355       5444  SØR-VARANGER    639    967    627    2707    3499   1662   \n",
       "\n",
       "     population  \n",
       "0        696780  \n",
       "1         14785  \n",
       "2        144115  \n",
       "3         37312  \n",
       "4         80445  \n",
       "..          ...  \n",
       "351         928  \n",
       "352        2828  \n",
       "353         880  \n",
       "354        2200  \n",
       "355       10101  \n",
       "\n",
       "[356 rows x 9 columns]"
      ],
      "text/html": "<div>\n<style scoped>\n    .dataframe tbody tr th:only-of-type {\n        vertical-align: middle;\n    }\n\n    .dataframe tbody tr th {\n        vertical-align: top;\n    }\n\n    .dataframe thead th {\n        text-align: right;\n    }\n</style>\n<table border=\"1\" class=\"dataframe\">\n  <thead>\n    <tr style=\"text-align: right;\">\n      <th></th>\n      <th>region_id</th>\n      <th>region</th>\n      <th>0-6</th>\n      <th>7-15</th>\n      <th>16-20</th>\n      <th>21-40</th>\n      <th>41-66</th>\n      <th>67+</th>\n      <th>population</th>\n    </tr>\n  </thead>\n  <tbody>\n    <tr>\n      <th>0</th>\n      <td>301</td>\n      <td>OSLO</td>\n      <td>55837</td>\n      <td>64036</td>\n      <td>33296</td>\n      <td>257985</td>\n      <td>207877</td>\n      <td>77749</td>\n      <td>696780</td>\n    </tr>\n    <tr>\n      <th>1</th>\n      <td>1101</td>\n      <td>EIGERSUND</td>\n      <td>1132</td>\n      <td>1719</td>\n      <td>955</td>\n      <td>3642</td>\n      <td>4898</td>\n      <td>2439</td>\n      <td>14785</td>\n    </tr>\n    <tr>\n      <th>2</th>\n      <td>1103</td>\n      <td>STAVANGER</td>\n      <td>11735</td>\n      <td>16218</td>\n      <td>8511</td>\n      <td>41917</td>\n      <td>47283</td>\n      <td>18451</td>\n      <td>144115</td>\n    </tr>\n    <tr>\n      <th>3</th>\n      <td>1106</td>\n      <td>HAUGESUND</td>\n      <td>2636</td>\n      <td>3996</td>\n      <td>2314</td>\n      <td>9836</td>\n      <td>12823</td>\n      <td>5707</td>\n      <td>37312</td>\n    </tr>\n    <tr>\n      <th>4</th>\n      <td>1108</td>\n      <td>SANDNES</td>\n      <td>7589</td>\n      <td>10110</td>\n      <td>5042</td>\n      <td>22845</td>\n      <td>25653</td>\n      <td>9206</td>\n      <td>80445</td>\n    </tr>\n    <tr>\n      <th>...</th>\n      <td>...</td>\n      <td>...</td>\n      <td>...</td>\n      <td>...</td>\n      <td>...</td>\n      <td>...</td>\n      <td>...</td>\n      <td>...</td>\n      <td>...</td>\n    </tr>\n    <tr>\n      <th>351</th>\n      <td>5440</td>\n      <td>BERLEVÅG</td>\n      <td>47</td>\n      <td>61</td>\n      <td>46</td>\n      <td>219</td>\n      <td>341</td>\n      <td>214</td>\n      <td>928</td>\n    </tr>\n    <tr>\n      <th>352</th>\n      <td>5441</td>\n      <td>TANA</td>\n      <td>166</td>\n      <td>232</td>\n      <td>154</td>\n      <td>624</td>\n      <td>1052</td>\n      <td>600</td>\n      <td>2828</td>\n    </tr>\n    <tr>\n      <th>353</th>\n      <td>5442</td>\n      <td>NESSEBY</td>\n      <td>33</td>\n      <td>86</td>\n      <td>40</td>\n      <td>197</td>\n      <td>295</td>\n      <td>229</td>\n      <td>880</td>\n    </tr>\n    <tr>\n      <th>354</th>\n      <td>5443</td>\n      <td>BÅTSFJORD</td>\n      <td>150</td>\n      <td>197</td>\n      <td>124</td>\n      <td>622</td>\n      <td>761</td>\n      <td>346</td>\n      <td>2200</td>\n    </tr>\n    <tr>\n      <th>355</th>\n      <td>5444</td>\n      <td>SØR-VARANGER</td>\n      <td>639</td>\n      <td>967</td>\n      <td>627</td>\n      <td>2707</td>\n      <td>3499</td>\n      <td>1662</td>\n      <td>10101</td>\n    </tr>\n  </tbody>\n</table>\n<p>356 rows × 9 columns</p>\n</div>"
     },
     "metadata": {},
     "execution_count": 2
    }
   ],
   "source": [
    "population"
   ]
  },
  {
   "cell_type": "code",
   "execution_count": 96,
   "metadata": {},
   "outputs": [],
   "source": [
    "df = pd.read_csv('data/contact_data.csv')\n",
    "df.contact_age_0 = pd.cut(df['contact_age_0'], bins=bins+[110], labels=labels, include_lowest=True)\n",
    "df.contact_age_1 = pd.cut(df['contact_age_1'], bins=bins+[110], labels=labels, include_lowest=True)\n",
    "df_mat = pd.DataFrame(df[df.columns[:-2]].groupby(['contact_age_0', 'contact_age_1']).mean()).reset_index()\n",
    "N = population[population.columns[2:-1]].sum().to_numpy()\n",
    "matrices = []\n",
    "for col in ['home', 'work', 'school', 'transport', 'leisure']:\n",
    "    matrix = pd.pivot_table(df_mat, values=col, index='contact_age_0', columns='contact_age_1').to_numpy()\n",
    "    for i in range(len(labels)):\n",
    "        for j in range(len(labels)):\n",
    "            matrix[i][j] = 1/(2*N_norway[i]) * (matrix[i][j] * N_norway[i] + matrix[j][i] * N_norway[j])\n",
    "    matrices.append(matrix)"
   ]
  },
  {
   "cell_type": "code",
   "execution_count": 99,
   "metadata": {},
   "outputs": [
    {
     "output_type": "stream",
     "name": "stdout",
     "text": [
      "[[0.17757595 0.57297936 0.40674975 1.26469302 1.18443428 0.8278129 ]\n [0.42578024 0.10825177 0.23417074 0.76736307 0.96007033 0.70418178]\n [0.54072403 0.34647748 0.08262404 0.55450634 1.53849391 0.75160783]\n [0.44969302 0.36695059 0.15761289 0.17806604 0.23624923 0.26712678]\n [0.35349246 0.39288113 0.37736357 0.20249664 0.23427123 0.24058188]\n [0.42425219 0.48866042 0.3420947  0.38397074 0.40016794 0.4047619 ]]\n"
     ]
    }
   ],
   "source": [
    "print(matrices[0])"
   ]
  },
  {
   "cell_type": "code",
   "execution_count": 83,
   "metadata": {},
   "outputs": [
    {
     "output_type": "stream",
     "name": "stdout",
     "text": [
      "[[0.61885374 0.18974359 0.09333333 0.11187215 0.27794562 0.        ]\n [0.21635012 0.68612892 0.29847716 0.14990512 0.21806054 0.04929577]\n [0.09917355 0.356623   0.57733029 0.08689356 0.1888563  0.00952381]\n [0.14445452 0.23681125 0.17854114 0.07002903 0.02604744 0.00768049]\n [0.1242485  0.22863248 0.17163789 0.02914932 0.02490388 0.00929054]\n [0.02535211 0.02066116 0.01129944 0.01534829 0.00742942 0.0070028 ]]\n"
     ]
    }
   ],
   "source": [
    "matrix = pd.pivot_table(df_mat, values='school', index='contact_age_0', columns='contact_age_1').to_numpy()\n",
    "print(matrix)"
   ]
  },
  {
   "cell_type": "code",
   "execution_count": 90,
   "metadata": {},
   "outputs": [
    {
     "output_type": "stream",
     "name": "stdout",
     "text": [
      "[[0.61885374 0.24987827 0.08580531 0.31448522 0.4134231  0.0265667 ]\n [0.1953669  0.68612892 0.24745781 0.37074811 0.46147238 0.03975757]\n [0.10394238 0.40293437 0.57733029 0.44831193 0.57476492 0.0197636 ]\n [0.11615393 0.19261003 0.13869574 0.07002903 0.03101073 0.0083333 ]\n [0.10891523 0.1891566  0.13716388 0.02713847 0.02490388 0.00640755]\n [0.01901408 0.02392182 0.00937126 0.01479079 0.01046794 0.0070028 ]]\n"
     ]
    }
   ],
   "source": [
    "for i in range(len(labels)):\n",
    "    for j in range(len(labels)):\n",
    "        matrix[i][j] = 1/(2*N_norway[i]) * (matrix[i][j] * N_norway[i] + matrix[j][i] * N_norway[j])\n",
    "print(matrix)"
   ]
  },
  {
   "cell_type": "code",
   "execution_count": null,
   "metadata": {},
   "outputs": [],
   "source": [
    "matrix = pd.pivot_table(df_mat, values='school', index='contact_age_0', columns='contact_age_1')\n",
    "matrix += matrix.T\n",
    "matrix.values[tuple([np.arange(matrix.shape[0])]*2)] = matrix.values[tuple([np.arange(matrix.shape[0])]*2)]/2\n",
    "matrix = np.array([[np.round(matrix[i][j]/(age_pop[i]+age_pop[j]),2) for i in labels] for j in labels])"
   ]
  },
  {
   "cell_type": "code",
   "execution_count": 63,
   "metadata": {},
   "outputs": [
    {
     "output_type": "stream",
     "name": "stdout",
     "text": [
      "[[1.         0.80969661 0.83141599 1.07162259 1.19204809 2.85870673]\n [1.30724163 1.         1.03506558 1.42287511 1.61730006 4.30809255]\n [1.25433897 0.96723245 1.         1.3623944  1.54407768 4.05852882]\n [0.9373515  0.77089256 0.78989057 1.         1.10533654 2.56316786]\n [0.86124657 0.72375368 0.73944578 0.91299341 1.         2.20414945]\n [0.60599029 0.56564966 0.57025375 0.62117288 0.64670075 1.        ]]\n"
     ]
    }
   ],
   "source": [
    "print(scaling_factors)"
   ]
  },
  {
   "cell_type": "code",
   "execution_count": 18,
   "metadata": {},
   "outputs": [
    {
     "output_type": "execute_result",
     "data": {
      "text/plain": [
       "array([[0.12, 0.01, 0.  , 0.02, 0.01, 0.  ],\n",
       "       [0.01, 0.21, 0.03, 0.02, 0.03, 0.  ],\n",
       "       [0.  , 0.03, 0.14, 0.01, 0.02, 0.  ],\n",
       "       [0.02, 0.02, 0.01, 0.01, 0.01, 0.  ],\n",
       "       [0.01, 0.03, 0.02, 0.01, 0.01, 0.  ],\n",
       "       [0.  , 0.  , 0.  , 0.  , 0.  , 0.  ]])"
      ]
     },
     "metadata": {},
     "execution_count": 18
    }
   ],
   "source": [
    "matrix"
   ]
  },
  {
   "cell_type": "code",
   "execution_count": 16,
   "metadata": {},
   "outputs": [
    {
     "output_type": "execute_result",
     "data": {
      "text/plain": [
       "   contact_age_0 contact_age_1  home  work  school  transport  leisure\n",
       "0            0-6           0-6   567     2    1976        144      790\n",
       "1            0-6          7-15   389     1     148         62      272\n",
       "2            0-6         16-20    55    31      14          4       53\n",
       "3            0-6         21-40   755   193     147        103      336\n",
       "4            0-6         41-66   427   131     276         40      227\n",
       "5            0-6           67+    55     1       0          1       27\n",
       "6           7-15           0-6   547     2     262         82      454\n",
       "7           7-15          7-15  1283    32    8132        793     2935\n",
       "8           7-15         16-20   316    21     294         93      358\n",
       "9           7-15         21-40   741   308     237         94      417\n",
       "10          7-15         41-66   892   372     425        126      436\n",
       "11          7-15           67+    97     2       7          2       45\n",
       "12         16-20           0-6   137     0      24         21       80\n",
       "13         16-20          7-15   368     6     490        112      530\n",
       "14         16-20         16-20   398   136    2781        387     1608\n",
       "15         16-20         21-40   323   441     120         71      532\n",
       "16         16-20         41-66   667   358     322         92      392\n",
       "17         16-20           67+    46     6       1          2       54\n",
       "18         21-40           0-6  1807    16     478        251     1196\n",
       "19         21-40          7-15  1456    17     808        235     1168\n",
       "20         21-40         16-20   455   270     421        160     1144\n",
       "21         21-40         21-40  1963  4035     772        524     4386\n",
       "22         21-40         41-66  1885  3363     235        366     3518\n",
       "23         21-40           67+   229    56       5         20      371\n",
       "24         41-66           0-6   876    24     248        114      910\n",
       "25         41-66          7-15  1554    15     749        216      992\n",
       "26         41-66         16-20   917   176     328        129      475\n",
       "27         41-66         21-40  1436  2862     196        286     2208\n",
       "28         41-66         41-66  2681  4061     285        525     4435\n",
       "29         41-66           67+   405    53      11         43      719\n",
       "30           67+           0-6   161     1       9         12      194\n",
       "31           67+          7-15   240     2      10         28      224\n",
       "32           67+         16-20    71    25       2          6       80\n",
       "33           67+         21-40   264   220      13         24      348\n",
       "34           67+         41-66   592   378      15         76     1036\n",
       "35           67+           67+   289    15       5         19      420"
      ],
      "text/html": "<div>\n<style scoped>\n    .dataframe tbody tr th:only-of-type {\n        vertical-align: middle;\n    }\n\n    .dataframe tbody tr th {\n        vertical-align: top;\n    }\n\n    .dataframe thead th {\n        text-align: right;\n    }\n</style>\n<table border=\"1\" class=\"dataframe\">\n  <thead>\n    <tr style=\"text-align: right;\">\n      <th></th>\n      <th>contact_age_0</th>\n      <th>contact_age_1</th>\n      <th>home</th>\n      <th>work</th>\n      <th>school</th>\n      <th>transport</th>\n      <th>leisure</th>\n    </tr>\n  </thead>\n  <tbody>\n    <tr>\n      <th>0</th>\n      <td>0-6</td>\n      <td>0-6</td>\n      <td>567</td>\n      <td>2</td>\n      <td>1976</td>\n      <td>144</td>\n      <td>790</td>\n    </tr>\n    <tr>\n      <th>1</th>\n      <td>0-6</td>\n      <td>7-15</td>\n      <td>389</td>\n      <td>1</td>\n      <td>148</td>\n      <td>62</td>\n      <td>272</td>\n    </tr>\n    <tr>\n      <th>2</th>\n      <td>0-6</td>\n      <td>16-20</td>\n      <td>55</td>\n      <td>31</td>\n      <td>14</td>\n      <td>4</td>\n      <td>53</td>\n    </tr>\n    <tr>\n      <th>3</th>\n      <td>0-6</td>\n      <td>21-40</td>\n      <td>755</td>\n      <td>193</td>\n      <td>147</td>\n      <td>103</td>\n      <td>336</td>\n    </tr>\n    <tr>\n      <th>4</th>\n      <td>0-6</td>\n      <td>41-66</td>\n      <td>427</td>\n      <td>131</td>\n      <td>276</td>\n      <td>40</td>\n      <td>227</td>\n    </tr>\n    <tr>\n      <th>5</th>\n      <td>0-6</td>\n      <td>67+</td>\n      <td>55</td>\n      <td>1</td>\n      <td>0</td>\n      <td>1</td>\n      <td>27</td>\n    </tr>\n    <tr>\n      <th>6</th>\n      <td>7-15</td>\n      <td>0-6</td>\n      <td>547</td>\n      <td>2</td>\n      <td>262</td>\n      <td>82</td>\n      <td>454</td>\n    </tr>\n    <tr>\n      <th>7</th>\n      <td>7-15</td>\n      <td>7-15</td>\n      <td>1283</td>\n      <td>32</td>\n      <td>8132</td>\n      <td>793</td>\n      <td>2935</td>\n    </tr>\n    <tr>\n      <th>8</th>\n      <td>7-15</td>\n      <td>16-20</td>\n      <td>316</td>\n      <td>21</td>\n      <td>294</td>\n      <td>93</td>\n      <td>358</td>\n    </tr>\n    <tr>\n      <th>9</th>\n      <td>7-15</td>\n      <td>21-40</td>\n      <td>741</td>\n      <td>308</td>\n      <td>237</td>\n      <td>94</td>\n      <td>417</td>\n    </tr>\n    <tr>\n      <th>10</th>\n      <td>7-15</td>\n      <td>41-66</td>\n      <td>892</td>\n      <td>372</td>\n      <td>425</td>\n      <td>126</td>\n      <td>436</td>\n    </tr>\n    <tr>\n      <th>11</th>\n      <td>7-15</td>\n      <td>67+</td>\n      <td>97</td>\n      <td>2</td>\n      <td>7</td>\n      <td>2</td>\n      <td>45</td>\n    </tr>\n    <tr>\n      <th>12</th>\n      <td>16-20</td>\n      <td>0-6</td>\n      <td>137</td>\n      <td>0</td>\n      <td>24</td>\n      <td>21</td>\n      <td>80</td>\n    </tr>\n    <tr>\n      <th>13</th>\n      <td>16-20</td>\n      <td>7-15</td>\n      <td>368</td>\n      <td>6</td>\n      <td>490</td>\n      <td>112</td>\n      <td>530</td>\n    </tr>\n    <tr>\n      <th>14</th>\n      <td>16-20</td>\n      <td>16-20</td>\n      <td>398</td>\n      <td>136</td>\n      <td>2781</td>\n      <td>387</td>\n      <td>1608</td>\n    </tr>\n    <tr>\n      <th>15</th>\n      <td>16-20</td>\n      <td>21-40</td>\n      <td>323</td>\n      <td>441</td>\n      <td>120</td>\n      <td>71</td>\n      <td>532</td>\n    </tr>\n    <tr>\n      <th>16</th>\n      <td>16-20</td>\n      <td>41-66</td>\n      <td>667</td>\n      <td>358</td>\n      <td>322</td>\n      <td>92</td>\n      <td>392</td>\n    </tr>\n    <tr>\n      <th>17</th>\n      <td>16-20</td>\n      <td>67+</td>\n      <td>46</td>\n      <td>6</td>\n      <td>1</td>\n      <td>2</td>\n      <td>54</td>\n    </tr>\n    <tr>\n      <th>18</th>\n      <td>21-40</td>\n      <td>0-6</td>\n      <td>1807</td>\n      <td>16</td>\n      <td>478</td>\n      <td>251</td>\n      <td>1196</td>\n    </tr>\n    <tr>\n      <th>19</th>\n      <td>21-40</td>\n      <td>7-15</td>\n      <td>1456</td>\n      <td>17</td>\n      <td>808</td>\n      <td>235</td>\n      <td>1168</td>\n    </tr>\n    <tr>\n      <th>20</th>\n      <td>21-40</td>\n      <td>16-20</td>\n      <td>455</td>\n      <td>270</td>\n      <td>421</td>\n      <td>160</td>\n      <td>1144</td>\n    </tr>\n    <tr>\n      <th>21</th>\n      <td>21-40</td>\n      <td>21-40</td>\n      <td>1963</td>\n      <td>4035</td>\n      <td>772</td>\n      <td>524</td>\n      <td>4386</td>\n    </tr>\n    <tr>\n      <th>22</th>\n      <td>21-40</td>\n      <td>41-66</td>\n      <td>1885</td>\n      <td>3363</td>\n      <td>235</td>\n      <td>366</td>\n      <td>3518</td>\n    </tr>\n    <tr>\n      <th>23</th>\n      <td>21-40</td>\n      <td>67+</td>\n      <td>229</td>\n      <td>56</td>\n      <td>5</td>\n      <td>20</td>\n      <td>371</td>\n    </tr>\n    <tr>\n      <th>24</th>\n      <td>41-66</td>\n      <td>0-6</td>\n      <td>876</td>\n      <td>24</td>\n      <td>248</td>\n      <td>114</td>\n      <td>910</td>\n    </tr>\n    <tr>\n      <th>25</th>\n      <td>41-66</td>\n      <td>7-15</td>\n      <td>1554</td>\n      <td>15</td>\n      <td>749</td>\n      <td>216</td>\n      <td>992</td>\n    </tr>\n    <tr>\n      <th>26</th>\n      <td>41-66</td>\n      <td>16-20</td>\n      <td>917</td>\n      <td>176</td>\n      <td>328</td>\n      <td>129</td>\n      <td>475</td>\n    </tr>\n    <tr>\n      <th>27</th>\n      <td>41-66</td>\n      <td>21-40</td>\n      <td>1436</td>\n      <td>2862</td>\n      <td>196</td>\n      <td>286</td>\n      <td>2208</td>\n    </tr>\n    <tr>\n      <th>28</th>\n      <td>41-66</td>\n      <td>41-66</td>\n      <td>2681</td>\n      <td>4061</td>\n      <td>285</td>\n      <td>525</td>\n      <td>4435</td>\n    </tr>\n    <tr>\n      <th>29</th>\n      <td>41-66</td>\n      <td>67+</td>\n      <td>405</td>\n      <td>53</td>\n      <td>11</td>\n      <td>43</td>\n      <td>719</td>\n    </tr>\n    <tr>\n      <th>30</th>\n      <td>67+</td>\n      <td>0-6</td>\n      <td>161</td>\n      <td>1</td>\n      <td>9</td>\n      <td>12</td>\n      <td>194</td>\n    </tr>\n    <tr>\n      <th>31</th>\n      <td>67+</td>\n      <td>7-15</td>\n      <td>240</td>\n      <td>2</td>\n      <td>10</td>\n      <td>28</td>\n      <td>224</td>\n    </tr>\n    <tr>\n      <th>32</th>\n      <td>67+</td>\n      <td>16-20</td>\n      <td>71</td>\n      <td>25</td>\n      <td>2</td>\n      <td>6</td>\n      <td>80</td>\n    </tr>\n    <tr>\n      <th>33</th>\n      <td>67+</td>\n      <td>21-40</td>\n      <td>264</td>\n      <td>220</td>\n      <td>13</td>\n      <td>24</td>\n      <td>348</td>\n    </tr>\n    <tr>\n      <th>34</th>\n      <td>67+</td>\n      <td>41-66</td>\n      <td>592</td>\n      <td>378</td>\n      <td>15</td>\n      <td>76</td>\n      <td>1036</td>\n    </tr>\n    <tr>\n      <th>35</th>\n      <td>67+</td>\n      <td>67+</td>\n      <td>289</td>\n      <td>15</td>\n      <td>5</td>\n      <td>19</td>\n      <td>420</td>\n    </tr>\n  </tbody>\n</table>\n</div>"
     },
     "metadata": {},
     "execution_count": 16
    }
   ],
   "source": [
    "df_mat"
   ]
  },
  {
   "cell_type": "code",
   "execution_count": 19,
   "metadata": {},
   "outputs": [
    {
     "output_type": "execute_result",
     "data": {
      "text/plain": [
       "0-6       8407.0\n",
       "7-15     19449.0\n",
       "16-20    10011.0\n",
       "21-40    26323.5\n",
       "41-66    26833.5\n",
       "67+       3735.0\n",
       "dtype: float64"
      ]
     },
     "metadata": {},
     "execution_count": 19
    }
   ],
   "source": [
    "age_pop"
   ]
  }
 ]
}