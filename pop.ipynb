{
 "metadata": {
  "language_info": {
   "codemirror_mode": {
    "name": "ipython",
    "version": 3
   },
   "file_extension": ".py",
   "mimetype": "text/x-python",
   "name": "python",
   "nbconvert_exporter": "python",
   "pygments_lexer": "ipython3",
   "version": "3.7.7-final"
  },
  "orig_nbformat": 2,
  "kernelspec": {
   "name": "python3",
   "display_name": "Python 3",
   "language": "python"
  }
 },
 "nbformat": 4,
 "nbformat_minor": 2,
 "cells": [
  {
   "cell_type": "code",
   "execution_count": 17,
   "metadata": {},
   "outputs": [],
   "source": [
    "import pandas as pd\n",
    "import numpy as np\n",
    "from covid import utils\n",
    "\n",
    "config = utils.create_named_tuple(paths.config)\n",
    "age_labels = utils.generate_labels_from_bins(config.age_bins)\n",
    "population = pd.read_csv('data/temp_pop.csv')"
   ]
  },
  {
   "cell_type": "code",
   "execution_count": 18,
   "metadata": {},
   "outputs": [
    {
     "output_type": "execute_result",
     "data": {
      "text/plain": [
       "     region_id        region    0-6   7-15  16-20   21-40   41-66    67+  \\\n",
       "0          301          OSLO  55837  64036  33296  257985  207877  77749   \n",
       "1         1101     EIGERSUND   1132   1719    955    3642    4898   2439   \n",
       "2         1103     STAVANGER  11735  16218   8511   41917   47283  18451   \n",
       "3         1106     HAUGESUND   2636   3996   2314    9836   12823   5707   \n",
       "4         1108       SANDNES   7589  10110   5042   22845   25653   9206   \n",
       "..         ...           ...    ...    ...    ...     ...     ...    ...   \n",
       "351       5440      BERLEVÅG     47     61     46     219     341    214   \n",
       "352       5441          TANA    166    232    154     624    1052    600   \n",
       "353       5442       NESSEBY     33     86     40     197     295    229   \n",
       "354       5443     BÅTSFJORD    150    197    124     622     761    346   \n",
       "355       5444  SØR-VARANGER    639    967    627    2707    3499   1662   \n",
       "\n",
       "     population  \n",
       "0        696780  \n",
       "1         14785  \n",
       "2        144115  \n",
       "3         37312  \n",
       "4         80445  \n",
       "..          ...  \n",
       "351         928  \n",
       "352        2828  \n",
       "353         880  \n",
       "354        2200  \n",
       "355       10101  \n",
       "\n",
       "[356 rows x 9 columns]"
      ],
      "text/html": "<div>\n<style scoped>\n    .dataframe tbody tr th:only-of-type {\n        vertical-align: middle;\n    }\n\n    .dataframe tbody tr th {\n        vertical-align: top;\n    }\n\n    .dataframe thead th {\n        text-align: right;\n    }\n</style>\n<table border=\"1\" class=\"dataframe\">\n  <thead>\n    <tr style=\"text-align: right;\">\n      <th></th>\n      <th>region_id</th>\n      <th>region</th>\n      <th>0-6</th>\n      <th>7-15</th>\n      <th>16-20</th>\n      <th>21-40</th>\n      <th>41-66</th>\n      <th>67+</th>\n      <th>population</th>\n    </tr>\n  </thead>\n  <tbody>\n    <tr>\n      <th>0</th>\n      <td>301</td>\n      <td>OSLO</td>\n      <td>55837</td>\n      <td>64036</td>\n      <td>33296</td>\n      <td>257985</td>\n      <td>207877</td>\n      <td>77749</td>\n      <td>696780</td>\n    </tr>\n    <tr>\n      <th>1</th>\n      <td>1101</td>\n      <td>EIGERSUND</td>\n      <td>1132</td>\n      <td>1719</td>\n      <td>955</td>\n      <td>3642</td>\n      <td>4898</td>\n      <td>2439</td>\n      <td>14785</td>\n    </tr>\n    <tr>\n      <th>2</th>\n      <td>1103</td>\n      <td>STAVANGER</td>\n      <td>11735</td>\n      <td>16218</td>\n      <td>8511</td>\n      <td>41917</td>\n      <td>47283</td>\n      <td>18451</td>\n      <td>144115</td>\n    </tr>\n    <tr>\n      <th>3</th>\n      <td>1106</td>\n      <td>HAUGESUND</td>\n      <td>2636</td>\n      <td>3996</td>\n      <td>2314</td>\n      <td>9836</td>\n      <td>12823</td>\n      <td>5707</td>\n      <td>37312</td>\n    </tr>\n    <tr>\n      <th>4</th>\n      <td>1108</td>\n      <td>SANDNES</td>\n      <td>7589</td>\n      <td>10110</td>\n      <td>5042</td>\n      <td>22845</td>\n      <td>25653</td>\n      <td>9206</td>\n      <td>80445</td>\n    </tr>\n    <tr>\n      <th>...</th>\n      <td>...</td>\n      <td>...</td>\n      <td>...</td>\n      <td>...</td>\n      <td>...</td>\n      <td>...</td>\n      <td>...</td>\n      <td>...</td>\n      <td>...</td>\n    </tr>\n    <tr>\n      <th>351</th>\n      <td>5440</td>\n      <td>BERLEVÅG</td>\n      <td>47</td>\n      <td>61</td>\n      <td>46</td>\n      <td>219</td>\n      <td>341</td>\n      <td>214</td>\n      <td>928</td>\n    </tr>\n    <tr>\n      <th>352</th>\n      <td>5441</td>\n      <td>TANA</td>\n      <td>166</td>\n      <td>232</td>\n      <td>154</td>\n      <td>624</td>\n      <td>1052</td>\n      <td>600</td>\n      <td>2828</td>\n    </tr>\n    <tr>\n      <th>353</th>\n      <td>5442</td>\n      <td>NESSEBY</td>\n      <td>33</td>\n      <td>86</td>\n      <td>40</td>\n      <td>197</td>\n      <td>295</td>\n      <td>229</td>\n      <td>880</td>\n    </tr>\n    <tr>\n      <th>354</th>\n      <td>5443</td>\n      <td>BÅTSFJORD</td>\n      <td>150</td>\n      <td>197</td>\n      <td>124</td>\n      <td>622</td>\n      <td>761</td>\n      <td>346</td>\n      <td>2200</td>\n    </tr>\n    <tr>\n      <th>355</th>\n      <td>5444</td>\n      <td>SØR-VARANGER</td>\n      <td>639</td>\n      <td>967</td>\n      <td>627</td>\n      <td>2707</td>\n      <td>3499</td>\n      <td>1662</td>\n      <td>10101</td>\n    </tr>\n  </tbody>\n</table>\n<p>356 rows × 9 columns</p>\n</div>"
     },
     "metadata": {},
     "execution_count": 18
    }
   ],
   "source": [
    "population"
   ]
  },
  {
   "cell_type": "code",
   "execution_count": 51,
   "metadata": {},
   "outputs": [],
   "source": [
    "df = pd.read_csv('data/Sysselsatte.csv')\n",
    "df['age_low'] = df.alder.apply(lambda x: str(x).split(\"-\")[0]).astype(int)\n",
    "df['age_high'] = df.alder.apply(lambda x: str(x).split(\"-\")[1][:2]).astype(int)\n",
    "df.drop(columns=[\"alder\"], inplace=True)\n",
    "df.rename({\"Sysselsatte personer\": \"employed\"}, axis=1, inplace=True)"
   ]
  },
  {
   "cell_type": "code",
   "execution_count": 82,
   "metadata": {},
   "outputs": [],
   "source": [
    "percent_commuters = 0.36\n",
    "bins = config.age_bins\n",
    "df = pd.read_csv('data/employed_per_age.csv')\n",
    "df.age = pd.cut(df['age'], bins=bins+[110], labels=age_labels, include_lowest=True)\n",
    "commuters = df.groupby('age').sum()['employed'].to_numpy() * percent_commuters\n",
    "sum_age_groups = population[population.columns[2:-1]].sum().to_numpy()\n",
    "age_group_commuter_percent = commuters/sum_age_groups\n",
    "age_group_flow_scaling = age_group_commuter_percent/age_group_commuter_percent.sum()"
   ]
  },
  {
   "cell_type": "code",
   "execution_count": 95,
   "metadata": {},
   "outputs": [
    {
     "output_type": "execute_result",
     "data": {
      "text/plain": [
       "['0-6', '7-15', '16-20', '21-40', '41-66', '67+']"
      ]
     },
     "metadata": {},
     "execution_count": 95
    }
   ],
   "source": [
    "age_labels"
   ]
  }
 ]
}