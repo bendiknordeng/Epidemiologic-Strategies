{
 "metadata": {
  "language_info": {
   "codemirror_mode": {
    "name": "ipython",
    "version": 3
   },
   "file_extension": ".py",
   "mimetype": "text/x-python",
   "name": "python",
   "nbconvert_exporter": "python",
   "pygments_lexer": "ipython3",
   "version": "3.8.0-final"
  },
  "orig_nbformat": 2,
  "kernelspec": {
   "name": "python3",
   "display_name": "Python 3.8.0 64-bit ('epidemics': conda)",
   "metadata": {
    "interpreter": {
     "hash": "612cff4a0ac5e6c37db1b07ee7abafa0758340b75711202652ee82ea5fa6d12e"
    }
   }
  }
 },
 "nbformat": 4,
 "nbformat_minor": 2,
 "cells": [
  {
   "cell_type": "code",
   "execution_count": 16,
   "metadata": {},
   "outputs": [],
   "source": [
    "import pandas as pd\n",
    "import numpy as np\n",
    "from covid.simulation import create_population\n",
    "from covid.utils import create_named_tuple\n",
    "\n",
    "# read filepaths \n",
    "paths = create_named_tuple('filepaths.txt')\n",
    "population = create_population(paths.muncipalities_names, paths.muncipalities_pop)"
   ]
  },
  {
   "cell_type": "code",
   "execution_count": 45,
   "metadata": {},
   "outputs": [],
   "source": [
    "def generate_ssb_od_matrix(num_time_steps, population, fpath_muncipalities_commute):\n",
    "    \"\"\" generate an OD-matrix used for illustrative purposes only\n",
    "\n",
    "    Parameters\n",
    "        num_regions: int indicating number of regions e.g 356\n",
    "        num_time_steps: int indicating number of time periods e.g 28\n",
    "    Returns\n",
    "        An OD-matrix with dimensions (num_time_steps, num_regions, num_regions) with 0.8 on its                 diagonal and 0.1 on cells next to diagonal \n",
    "    \"\"\"\n",
    "\n",
    "    df = pd.read_csv(fpath_muncipalities_commute, usecols=[1,2,3])\n",
    "    df['from'] = df['from'].str.lstrip(\"municip municip0\").astype(int)\n",
    "    df['to'] = df['to'].str.lstrip(\"municip municip0\").astype(int)\n",
    "    decision_period = 28\n",
    "    region_id = population.region_id.to_numpy()\n",
    "    od = np.zeros((decision_period, len(region_id), len(region_id)))\n",
    "\n",
    "    morning_travel = np.zeros((len(region_id), len(region_id)))\n",
    "    for id in region_id:\n",
    "        i = np.where(region_id == id)\n",
    "        filtered = df.where(df[\"from\"] == id).dropna()\n",
    "        to, n = filtered['to'].to_numpy(int), filtered['n'].to_numpy()\n",
    "        for k in range(len(to)):\n",
    "            j = np.where(region_id == to[k])\n",
    "            morning_travel[i,j] = n[k]\n",
    "\n",
    "    for i in range(morning_travel.shape[0]):\n",
    "        sum_travel = morning_travel[i].sum()\n",
    "        pop_i = population.iloc[i].population\n",
    "        morning_travel[i,i] = pop_i - sum_travel\n",
    "    \n",
    "    afternoon_travel = morning_travel.T\n",
    "    \n",
    "    morning_stay = np.zeros((len(region_id), len(region_id)))\n",
    "    np.fill_diagonal(morning_stay, \n",
    "    afternoon_stay = np.zeros((len(region_id), len(region_id)))\n",
    "\n",
    "    for i in range(num_time_steps):\n",
    "        if (i)%4 == 0: #0000-0600\n",
    "            od[i] = morning_travel\n",
    "        elif (i-1)%4 == 0: #0600-1200\n",
    "            od[i] = morning_travel\n",
    "        elif (i-2)%4 == 0: #1200-1800\n",
    "            od[i] = afternoon_travel\n",
    "        elif (i-3)%4 == 0: #1800-0000\n",
    "            od[i] = afternoon_travel\n",
    "    return od, morning_travel, afternoon_travel"
   ]
  },
  {
   "cell_type": "code",
   "execution_count": 46,
   "metadata": {},
   "outputs": [],
   "source": [
    "od, m, a = generate_ssb_od_matrix(28, population, paths.municipalities_commute)\n"
   ]
  },
  {
   "cell_type": "code",
   "execution_count": 60,
   "metadata": {},
   "outputs": [
    {
     "output_type": "stream",
     "name": "stdout",
     "text": [
      "582395.0\n[[5.19882e+05 7.10000e+01 1.42300e+03 ... 2.00000e+00 5.00000e+00\n  5.40000e+01]\n [1.30000e+01 1.36920e+04 5.80000e+01 ... 0.00000e+00 0.00000e+00\n  0.00000e+00]\n [7.50000e+02 4.10000e+02 1.12863e+05 ... 0.00000e+00 2.00000e+00\n  3.00000e+00]\n ...\n [0.00000e+00 0.00000e+00 0.00000e+00 ... 8.56000e+02 0.00000e+00\n  8.00000e+00]\n [4.00000e+00 0.00000e+00 0.00000e+00 ... 3.00000e+00 2.16300e+03\n  3.00000e+00]\n [1.80000e+01 0.00000e+00 1.00000e+00 ... 1.20000e+01 8.00000e+00\n  9.81900e+03]]\n"
     ]
    }
   ],
   "source": [
    "\n",
    "print(m[:,0].sum())\n",
    "print(m)"
   ]
  },
  {
   "source": [],
   "cell_type": "markdown",
   "metadata": {}
  }
 ]
}